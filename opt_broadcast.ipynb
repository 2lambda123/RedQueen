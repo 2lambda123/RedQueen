{
 "cells": [
  {
   "cell_type": "code",
   "execution_count": 1,
   "metadata": {
    "collapsed": false
   },
   "outputs": [
    {
     "name": "stderr",
     "output_type": "stream",
     "text": [
      "/home/utkarshu/miniconda3/envs/py35/lib/python3.5/site-packages/matplotlib/__init__.py:872: UserWarning: axes.color_cycle is deprecated and replaced with axes.prop_cycle; please use the latter.\n",
      "  warnings.warn(self.msg_depr % (key, alt_key))\n"
     ]
    },
    {
     "data": {
      "text/plain": [
       "<matplotlib.figure.Figure at 0x7fc8390090f0>"
      ]
     },
     "metadata": {},
     "output_type": "display_data"
    }
   ],
   "source": [
    "%matplotlib inline\n",
    "from matplotlib import pyplot as plt\n",
    "import seaborn as sns\n",
    "import numpy as np\n",
    "\n",
    "np.set_printoptions(suppress=True, precision=3)\n",
    "\n",
    "sns.set(style='ticks', palette='Set2')\n",
    "sns.despine()"
   ]
  },
  {
   "cell_type": "code",
   "execution_count": 2,
   "metadata": {
    "collapsed": false
   },
   "outputs": [],
   "source": [
    "%run -i options.py\n",
    "%run -i utils.py\n",
    "%run -i opt_model.py"
   ]
  },
  {
   "cell_type": "code",
   "execution_count": 398,
   "metadata": {
    "collapsed": true
   },
   "outputs": [],
   "source": [
    "from IPython.lib import deepreload"
   ]
  },
  {
   "cell_type": "code",
   "execution_count": 100,
   "metadata": {
    "collapsed": false
   },
   "outputs": [
    {
     "data": {
      "text/plain": [
       "24.2522515977514"
      ]
     },
     "execution_count": 100,
     "metadata": {},
     "output_type": "execute_result"
    }
   ],
   "source": [
    "sim_opts = SimOpts.std_poisson(world_seed=42, world_rate=1000.0)\n",
    "mgr = sim_opts.create_manager_with_opt(1)\n",
    "mgr.run()\n",
    "df = mgr.state.get_dataframe()\n",
    "u_int_opt(df, sim_opts=sim_opts)"
   ]
  },
  {
   "cell_type": "code",
   "execution_count": 102,
   "metadata": {
    "collapsed": false
   },
   "outputs": [
    {
     "data": {
      "image/png": "[encoded data removed]",
      "text/plain": [
       "<matplotlib.figure.Figure at 0x7fe76d91cc50>"
      ]
     },
     "metadata": {},
     "output_type": "display_data"
    }
   ],
   "source": [
    "rank_count = rank_of_src_in_df(df, 1)\n",
    "plt.step(rank_count.index, rank_count.mean(1), where='post')\n",
    "plt.xlabel('Time')\n",
    "plt.ylabel('r(t)')\n",
    "plt.tight_layout()\n",
    "format_axes(plt.gca())\n",
    "latexify(fig_width=3.16, largeFonts=True)"
   ]
  },
  {
   "cell_type": "code",
   "execution_count": 103,
   "metadata": {
    "collapsed": false
   },
   "outputs": [
    {
     "data": {
      "text/plain": [
       "[0.25177123510846161, 1.0]"
      ]
     },
     "execution_count": 103,
     "metadata": {},
     "output_type": "execute_result"
    }
   ],
   "source": [
    "[time_in_top_k(df, src_id=x, K=10, sim_opts=sim_opts) for x in sorted(df.src_id.unique())]"
   ]
  },
  {
   "cell_type": "code",
   "execution_count": 104,
   "metadata": {
    "collapsed": false
   },
   "outputs": [],
   "source": [
    "poisson_loss = calc_loss_poisson(df, u_const=u_int_opt(df, sim_opts=sim_opts), src_id=1, sim_opts=sim_opts)"
   ]
  },
  {
   "cell_type": "code",
   "execution_count": 105,
   "metadata": {
    "collapsed": false
   },
   "outputs": [
    {
     "data": {
      "image/png": "[encoded data removed]",
      "text/plain": [
       "<matplotlib.figure.Figure at 0x7fe76ece3828>"
      ]
     },
     "metadata": {},
     "output_type": "display_data"
    }
   ],
   "source": [
    "calc_loss_opt(df, sim_opts).plot()\n",
    "plt.tight_layout()\n",
    "format_axes(plt.gca())\n",
    "latexify(columns=1, largeFonts=True)"
   ]
  },
  {
   "cell_type": "markdown",
   "metadata": {
    "collapsed": true
   },
   "source": [
    "## Synthetic experiments"
   ]
  },
  {
   "cell_type": "code",
   "execution_count": 106,
   "metadata": {
    "collapsed": false
   },
   "outputs": [],
   "source": [
    "%run -i options.py\n",
    "%run -i utils.py\n",
    "%run -i opt_model.py"
   ]
  },
  {
   "cell_type": "code",
   "execution_count": 18,
   "metadata": {
    "collapsed": false
   },
   "outputs": [
    {
     "name": "stdout",
     "output_type": "stream",
     "text": [
      "Done within 75 iterations!\n",
      "Done within 696 iterations!\n",
      "Done within 5306 iterations!\n",
      "Done within 21661 iterations!\n",
      "Done within 27250 iterations!\n",
      "CPU times: user 15min 24s, sys: 323 ms, total: 15min 24s\n",
      "Wall time: 15min 25s\n"
     ]
    }
   ],
   "source": [
    "%%time\n",
    "sim_opts = SimOpts.std_poisson(world_seed=1 + 42, world_rate=10.0).update({ 'end_time': 100.0 })\n",
    "tmp_kdd = worker_kdd((1, 567.0, 10, sim_opts, None, None))\n",
    "tmp_poisson = worker_poisson((1, 567.0, sim_opts, None))\n",
    "# tmp_oracle = worker_oracle((1, 567.0, 956, sim_opts, None))\n",
    "# tmp_opt = worker_opt((1, sim_opts, None))"
   ]
  },
  {
   "cell_type": "code",
   "execution_count": 19,
   "metadata": {
    "collapsed": false
   },
   "outputs": [
    {
     "data": {
      "text/plain": [
       "({'avg_rank': 176.38844684318963,\n",
       "  'avg_rank_1': 176.38844684318963,\n",
       "  'avg_rank_10': 389.75229548803804,\n",
       "  'avg_rank_20': 507.64598083127174,\n",
       "  'avg_rank_3': 176.55325728560175,\n",
       "  'avg_rank_5': 196.41099276621941,\n",
       "  'avg_rank_k': 1,\n",
       "  'kdd_opt_1': array([ 59.018,  56.62 ,  52.781,  55.315,  58.454,  56.869,  56.126,\n",
       "          56.104,  57.528,  58.184]),\n",
       "  'kdd_opt_10': array([ 356.95 ,   22.968,   21.108,   22.511,   24.842,   23.662,\n",
       "           23.102,   23.094,   24.163,   24.6  ]),\n",
       "  'kdd_opt_20': array([ 389.351,   19.739,   19.739,   19.739,   19.739,   19.739,\n",
       "           19.739,   19.739,   19.739,   19.739]),\n",
       "  'kdd_opt_3': array([ 84.664,  53.613,  47.729,  51.747,  56.906,  54.218,  53.014,\n",
       "          52.99 ,  55.346,  56.773]),\n",
       "  'kdd_opt_5': array([ 189.601,   41.73 ,   36.784,   40.307,   44.932,   42.517,\n",
       "           41.442,   41.416,   43.527,   44.744]),\n",
       "  'kdd_opt_iters_1': 75,\n",
       "  'kdd_opt_iters_10': 21661,\n",
       "  'kdd_opt_iters_20': 27250,\n",
       "  'kdd_opt_iters_3': 696,\n",
       "  'kdd_opt_iters_5': 5306,\n",
       "  'r_2': 722.87337440728993,\n",
       "  'r_2_1': 748.50579538134525,\n",
       "  'r_2_10': 4294.3394270394074,\n",
       "  'r_2_20': 7137.6233119790941,\n",
       "  'r_2_3': 722.87337440728993,\n",
       "  'r_2_5': 1004.6718156649362,\n",
       "  'r_2_k': 3,\n",
       "  's': 1.0,\n",
       "  'seed': 1,\n",
       "  'sim_opts': <__main__.SimOpts at 0x7fe775e555f8>,\n",
       "  'top_1': 34.307971256013381,\n",
       "  'top_10': 89.724665133750477,\n",
       "  'top_20': 95.048165390569523,\n",
       "  'top_3': 73.773763976060792,\n",
       "  'top_5': 86.834869640083326,\n",
       "  'type': 'kdd',\n",
       "  'world_events': 956},\n",
       " {'avg_rank': 177.94207704246287,\n",
       "  'r_2': 768.1022992053629,\n",
       "  's': 1.0,\n",
       "  'seed': 1,\n",
       "  'sim_opts': <__main__.SimOpts at 0x7fe775e555f8>,\n",
       "  'top_1': 34.411709657316877,\n",
       "  'top_10': 99.261823776234095,\n",
       "  'top_20': 99.98856251826551,\n",
       "  'top_3': 73.664247189343456,\n",
       "  'top_5': 88.048477179031551,\n",
       "  'type': 'Poisson',\n",
       "  'world_events': 956})"
      ]
     },
     "execution_count": 19,
     "metadata": {},
     "output_type": "execute_result"
    }
   ],
   "source": [
    "tmp_kdd, tmp_poisson #, tmp_oracle, tmp_opt"
   ]
  },
  {
   "cell_type": "code",
   "execution_count": 5,
   "metadata": {
    "collapsed": false
   },
   "outputs": [
    {
     "ename": "KeyboardInterrupt",
     "evalue": "",
     "output_type": "error",
     "traceback": [
      "\u001b[1;31m---------------------------------------------------------------------------\u001b[0m",
      "\u001b[1;31mKeyboardInterrupt\u001b[0m                         Traceback (most recent call last)",
      "\u001b[1;32m/NL/stackexchange/work/prog/broadcast-online/opt_model.py\u001b[0m in \u001b[0;36m<module>\u001b[1;34m()\u001b[0m\n\u001b[1;32m----> 1\u001b[1;33m \u001b[0mget_ipython\u001b[0m\u001b[1;33m(\u001b[0m\u001b[1;33m)\u001b[0m\u001b[1;33m.\u001b[0m\u001b[0mrun_cell_magic\u001b[0m\u001b[1;33m(\u001b[0m\u001b[1;34m'time'\u001b[0m\u001b[1;33m,\u001b[0m \u001b[1;34m''\u001b[0m\u001b[1;33m,\u001b[0m \u001b[1;34m\"sim_opts = SimOpts.std_piecewise_const(world_seed=1 + 42, \\n                                       world_rates=np.arange(10) * 1.0,\\n                                       world_change_times=np.arange(10) * 10.0\\n                                      ).update({ 'end_time': 100.0 })\\ntmp_kdd = worker_kdd((1, 567.0, 9, sim_opts, None, None))\\ntmp_poisson = worker_poisson((1, 567.0, sim_opts, None))\\ntmp_oracle = worker_oracle((1, 567.0, 956, sim_opts, None))\\ntmp_opt = worker_opt((1, sim_opts, None))\"\u001b[0m\u001b[1;33m)\u001b[0m\u001b[1;33m\u001b[0m\u001b[0m\n\u001b[0m",
      "\u001b[1;32m/home/utkarshu/miniconda3/envs/py35/lib/python3.5/site-packages/IPython/core/interactiveshell.py\u001b[0m in \u001b[0;36mrun_cell_magic\u001b[1;34m(self, magic_name, line, cell)\u001b[0m\n\u001b[0;32m   2118\u001b[0m             \u001b[0mmagic_arg_s\u001b[0m \u001b[1;33m=\u001b[0m \u001b[0mself\u001b[0m\u001b[1;33m.\u001b[0m\u001b[0mvar_expand\u001b[0m\u001b[1;33m(\u001b[0m\u001b[0mline\u001b[0m\u001b[1;33m,\u001b[0m \u001b[0mstack_depth\u001b[0m\u001b[1;33m)\u001b[0m\u001b[1;33m\u001b[0m\u001b[0m\n\u001b[0;32m   2119\u001b[0m             \u001b[1;32mwith\u001b[0m \u001b[0mself\u001b[0m\u001b[1;33m.\u001b[0m\u001b[0mbuiltin_trap\u001b[0m\u001b[1;33m:\u001b[0m\u001b[1;33m\u001b[0m\u001b[0m\n\u001b[1;32m-> 2120\u001b[1;33m                 \u001b[0mresult\u001b[0m \u001b[1;33m=\u001b[0m \u001b[0mfn\u001b[0m\u001b[1;33m(\u001b[0m\u001b[0mmagic_arg_s\u001b[0m\u001b[1;33m,\u001b[0m \u001b[0mcell\u001b[0m\u001b[1;33m)\u001b[0m\u001b[1;33m\u001b[0m\u001b[0m\n\u001b[0m\u001b[0;32m   2121\u001b[0m             \u001b[1;32mreturn\u001b[0m \u001b[0mresult\u001b[0m\u001b[1;33m\u001b[0m\u001b[0m\n\u001b[0;32m   2122\u001b[0m \u001b[1;33m\u001b[0m\u001b[0m\n",
      "\u001b[1;32m<decorator-gen-60>\u001b[0m in \u001b[0;36mtime\u001b[1;34m(self, line, cell, local_ns)\u001b[0m\n",
      "\u001b[1;32m/home/utkarshu/miniconda3/envs/py35/lib/python3.5/site-packages/IPython/core/magic.py\u001b[0m in \u001b[0;36m<lambda>\u001b[1;34m(f, *a, **k)\u001b[0m\n\u001b[0;32m    191\u001b[0m     \u001b[1;31m# but it's overkill for just that one bit of state.\u001b[0m\u001b[1;33m\u001b[0m\u001b[1;33m\u001b[0m\u001b[0m\n\u001b[0;32m    192\u001b[0m     \u001b[1;32mdef\u001b[0m \u001b[0mmagic_deco\u001b[0m\u001b[1;33m(\u001b[0m\u001b[0marg\u001b[0m\u001b[1;33m)\u001b[0m\u001b[1;33m:\u001b[0m\u001b[1;33m\u001b[0m\u001b[0m\n\u001b[1;32m--> 193\u001b[1;33m         \u001b[0mcall\u001b[0m \u001b[1;33m=\u001b[0m \u001b[1;32mlambda\u001b[0m \u001b[0mf\u001b[0m\u001b[1;33m,\u001b[0m \u001b[1;33m*\u001b[0m\u001b[0ma\u001b[0m\u001b[1;33m,\u001b[0m \u001b[1;33m**\u001b[0m\u001b[0mk\u001b[0m\u001b[1;33m:\u001b[0m \u001b[0mf\u001b[0m\u001b[1;33m(\u001b[0m\u001b[1;33m*\u001b[0m\u001b[0ma\u001b[0m\u001b[1;33m,\u001b[0m \u001b[1;33m**\u001b[0m\u001b[0mk\u001b[0m\u001b[1;33m)\u001b[0m\u001b[1;33m\u001b[0m\u001b[0m\n\u001b[0m\u001b[0;32m    194\u001b[0m \u001b[1;33m\u001b[0m\u001b[0m\n\u001b[0;32m    195\u001b[0m         \u001b[1;32mif\u001b[0m \u001b[0mcallable\u001b[0m\u001b[1;33m(\u001b[0m\u001b[0marg\u001b[0m\u001b[1;33m)\u001b[0m\u001b[1;33m:\u001b[0m\u001b[1;33m\u001b[0m\u001b[0m\n",
      "\u001b[1;32m/home/utkarshu/miniconda3/envs/py35/lib/python3.5/site-packages/IPython/core/magics/execution.py\u001b[0m in \u001b[0;36mtime\u001b[1;34m(self, line, cell, local_ns)\u001b[0m\n\u001b[0;32m   1175\u001b[0m         \u001b[1;32melse\u001b[0m\u001b[1;33m:\u001b[0m\u001b[1;33m\u001b[0m\u001b[0m\n\u001b[0;32m   1176\u001b[0m             \u001b[0mst\u001b[0m \u001b[1;33m=\u001b[0m \u001b[0mclock2\u001b[0m\u001b[1;33m(\u001b[0m\u001b[1;33m)\u001b[0m\u001b[1;33m\u001b[0m\u001b[0m\n\u001b[1;32m-> 1177\u001b[1;33m             \u001b[0mexec\u001b[0m\u001b[1;33m(\u001b[0m\u001b[0mcode\u001b[0m\u001b[1;33m,\u001b[0m \u001b[0mglob\u001b[0m\u001b[1;33m,\u001b[0m \u001b[0mlocal_ns\u001b[0m\u001b[1;33m)\u001b[0m\u001b[1;33m\u001b[0m\u001b[0m\n\u001b[0m\u001b[0;32m   1178\u001b[0m             \u001b[0mend\u001b[0m \u001b[1;33m=\u001b[0m \u001b[0mclock2\u001b[0m\u001b[1;33m(\u001b[0m\u001b[1;33m)\u001b[0m\u001b[1;33m\u001b[0m\u001b[0m\n\u001b[0;32m   1179\u001b[0m             \u001b[0mout\u001b[0m \u001b[1;33m=\u001b[0m \u001b[1;32mNone\u001b[0m\u001b[1;33m\u001b[0m\u001b[0m\n",
      "\u001b[1;32m/NL/stackexchange/work/prog/broadcast-online/opt_model.py\u001b[0m in \u001b[0;36m<module>\u001b[1;34m()\u001b[0m\n",
      "\u001b[1;32m/NL/stackexchange/work/prog/broadcast-online/opt_model.py\u001b[0m in \u001b[0;36mworker_kdd\u001b[1;34m(params)\u001b[0m\n\u001b[0;32m    679\u001b[0m \u001b[1;33m\u001b[0m\u001b[0m\n\u001b[0;32m    680\u001b[0m         kdd_opt, iters = Bopt.optimize(util=_util,\n\u001b[1;32m--> 681\u001b[1;33m                                 \u001b[0mutil_grad\u001b[0m\u001b[1;33m=\u001b[0m\u001b[0m_util_grad\u001b[0m\u001b[1;33m,\u001b[0m\u001b[1;33m\u001b[0m\u001b[0m\n\u001b[0m\u001b[0;32m    682\u001b[0m                                 \u001b[0mbudget\u001b[0m\u001b[1;33m=\u001b[0m\u001b[0mcapacity\u001b[0m\u001b[1;33m,\u001b[0m\u001b[1;33m\u001b[0m\u001b[0m\n\u001b[0;32m    683\u001b[0m                                 \u001b[0mupper_bounds\u001b[0m\u001b[1;33m=\u001b[0m\u001b[0mupper_bounds\u001b[0m\u001b[1;33m,\u001b[0m\u001b[1;33m\u001b[0m\u001b[0m\n",
      "\u001b[1;32m/NL/stackexchange/work/prog/broadcast_ref/broadcast/opt/optimizer.py\u001b[0m in \u001b[0;36moptimize\u001b[1;34m(util, util_grad, budget, upper_bounds, threshold, x0, verbose, with_iter)\u001b[0m\n\u001b[0;32m     99\u001b[0m             \u001b[1;32mreturn\u001b[0m \u001b[0mupper_bounds\u001b[0m\u001b[1;33m\u001b[0m\u001b[0m\n\u001b[0;32m    100\u001b[0m \u001b[1;33m\u001b[0m\u001b[0m\n\u001b[1;32m--> 101\u001b[1;33m     \u001b[0mopt_rates\u001b[0m \u001b[1;33m=\u001b[0m \u001b[0moptimize_base\u001b[0m\u001b[1;33m(\u001b[0m\u001b[0mutil\u001b[0m\u001b[1;33m,\u001b[0m \u001b[0mutil_grad\u001b[0m\u001b[1;33m,\u001b[0m \u001b[0mproj\u001b[0m\u001b[1;33m,\u001b[0m \u001b[0mx0\u001b[0m\u001b[1;33m,\u001b[0m \u001b[0mthreshold\u001b[0m\u001b[1;33m,\u001b[0m \u001b[0mverbose\u001b[0m\u001b[1;33m=\u001b[0m\u001b[0mverbose\u001b[0m\u001b[1;33m,\u001b[0m \u001b[0mwith_iter\u001b[0m\u001b[1;33m=\u001b[0m\u001b[0mwith_iter\u001b[0m\u001b[1;33m)\u001b[0m\u001b[1;33m\u001b[0m\u001b[0m\n\u001b[0m\u001b[0;32m    102\u001b[0m     \u001b[1;31m# delta = int(round(time.time() * 1000)) - start\u001b[0m\u001b[1;33m\u001b[0m\u001b[1;33m\u001b[0m\u001b[0m\n\u001b[0;32m    103\u001b[0m     \u001b[1;31m# sys.stderr.write('Total time: %d' % delta)\u001b[0m\u001b[1;33m\u001b[0m\u001b[1;33m\u001b[0m\u001b[0m\n",
      "\u001b[1;32m/NL/stackexchange/work/prog/broadcast_ref/broadcast/opt/optimizer.py\u001b[0m in \u001b[0;36moptimize_base\u001b[1;34m(util, grad, proj, x0, threshold, gamma, c, verbose, with_iter)\u001b[0m\n\u001b[0;32m     58\u001b[0m         \u001b[1;31m# if i % 10 == 0:\u001b[0m\u001b[1;33m\u001b[0m\u001b[1;33m\u001b[0m\u001b[0m\n\u001b[0;32m     59\u001b[0m         \u001b[1;31m#     print(x)\u001b[0m\u001b[1;33m\u001b[0m\u001b[1;33m\u001b[0m\u001b[0m\n\u001b[1;32m---> 60\u001b[1;33m         \u001b[0mg\u001b[0m \u001b[1;33m=\u001b[0m \u001b[0mgrad\u001b[0m\u001b[1;33m(\u001b[0m\u001b[0mx\u001b[0m\u001b[1;33m)\u001b[0m\u001b[1;33m\u001b[0m\u001b[0m\n\u001b[0m\u001b[0;32m     61\u001b[0m \u001b[1;33m\u001b[0m\u001b[0m\n\u001b[0;32m     62\u001b[0m         \u001b[0md\u001b[0m \u001b[1;33m=\u001b[0m \u001b[0mproj\u001b[0m\u001b[1;33m(\u001b[0m\u001b[0mx\u001b[0m \u001b[1;33m+\u001b[0m \u001b[0mg\u001b[0m \u001b[1;33m*\u001b[0m \u001b[1;36m1000.\u001b[0m\u001b[1;33m)\u001b[0m \u001b[1;33m-\u001b[0m \u001b[0mx\u001b[0m\u001b[1;33m\u001b[0m\u001b[0m\n",
      "\u001b[1;32m/NL/stackexchange/work/prog/broadcast-online/opt_model.py\u001b[0m in \u001b[0;36m_util_grad\u001b[1;34m(x)\u001b[0m\n\u001b[0;32m    667\u001b[0m                                              \u001b[0mfollower_conn_prob\u001b[0m\u001b[1;33m,\u001b[0m\u001b[1;33m\u001b[0m\u001b[0m\n\u001b[0;32m    668\u001b[0m                                              \u001b[0mfollower_weights\u001b[0m\u001b[1;33m,\u001b[0m\u001b[1;33m\u001b[0m\u001b[0m\n\u001b[1;32m--> 669\u001b[1;33m                                              k)\n\u001b[0m\u001b[0;32m    670\u001b[0m         \u001b[1;32mdef\u001b[0m \u001b[0m_util_grad\u001b[0m\u001b[1;33m(\u001b[0m\u001b[0mx\u001b[0m\u001b[1;33m)\u001b[0m\u001b[1;33m:\u001b[0m\u001b[1;33m\u001b[0m\u001b[0m\n\u001b[0;32m    671\u001b[0m             return Bopt.utils.weighted_top_k_grad(x,\n",
      "\u001b[1;31mKeyboardInterrupt\u001b[0m: "
     ]
    }
   ],
   "source": [
    "%%time\n",
    "sim_opts = SimOpts.std_piecewise_const(world_seed=1 + 42, \n",
    "                                       world_rates=np.arange(10) * 1.0,\n",
    "                                       world_change_times=np.arange(10) * 10.0\n",
    "                                      ).update({ 'end_time': 100.0 })\n",
    "tmp_kdd = worker_kdd((1, 567.0, 9, sim_opts, None, None))\n",
    "tmp_poisson = worker_poisson((1, 567.0, sim_opts, None))\n",
    "tmp_oracle = worker_oracle((1, 567.0, 956, sim_opts, None))\n",
    "tmp_opt = worker_opt((1, sim_opts, None))"
   ]
  },
  {
   "cell_type": "code",
   "execution_count": 22,
   "metadata": {
    "collapsed": false
   },
   "outputs": [
    {
     "data": {
      "text/plain": [
       "({'avg_rank': 71.168424997482049,\n",
       "  'avg_rank_1': 71.168424997482049,\n",
       "  'avg_rank_10': 203.34746746143995,\n",
       "  'avg_rank_20': 208.60555404195742,\n",
       "  'avg_rank_3': 88.882515078230256,\n",
       "  'avg_rank_5': 138.87975916174446,\n",
       "  'avg_rank_k': 1,\n",
       "  'kdd_opt_1': array([ 35.553,  33.872,  41.65 ,  58.911,  61.168,  76.685,  78.884,\n",
       "          84.785,  95.492]),\n",
       "  'kdd_opt_10': array([ 385.379,   22.145,   22.145,   22.147,   22.151,   22.296,\n",
       "           22.42 ,   22.99 ,   25.327]),\n",
       "  'kdd_opt_20': array([ 388.172,   22.353,   22.353,   22.353,   22.353,   22.353,\n",
       "           22.353,   22.353,   22.353]),\n",
       "  'kdd_opt_3': array([ 163.163,   16.859,   23.384,   39.962,   42.334,   60.521,\n",
       "           63.277,   71.067,   86.432]),\n",
       "  'kdd_opt_5': array([ 306.464,   10.498,   13.798,   24.602,   26.293,   39.132,\n",
       "           41.16 ,   46.851,   58.203]),\n",
       "  'kdd_opt_iters_1': 284,\n",
       "  'kdd_opt_iters_10': 26815,\n",
       "  'kdd_opt_iters_20': 27311,\n",
       "  'kdd_opt_iters_3': 3988,\n",
       "  'kdd_opt_iters_5': 15615,\n",
       "  'r_2': 201.78194930382151,\n",
       "  'r_2_1': 201.78194930382151,\n",
       "  'r_2_10': 1330.3693220039302,\n",
       "  'r_2_20': 1441.6335398706383,\n",
       "  'r_2_3': 245.34967949082721,\n",
       "  'r_2_5': 576.60030859138988,\n",
       "  'r_2_k': 1,\n",
       "  's': 1.0,\n",
       "  'seed': 1,\n",
       "  'sim_opts': <__main__.SimOpts at 0x7fe7755d07f0>,\n",
       "  'top_1': 62.335189719601985,\n",
       "  'top_10': 96.902015904165268,\n",
       "  'top_20': 99.748343217878954,\n",
       "  'top_3': 88.712696911894994,\n",
       "  'top_5': 91.90263489170313,\n",
       "  'type': 'kdd',\n",
       "  'world_events': 430},\n",
       " {'avg_rank': 82.235780221212281,\n",
       "  'r_2': 267.71218956210504,\n",
       "  's': 1.0,\n",
       "  'seed': 1,\n",
       "  'sim_opts': <__main__.SimOpts at 0x7fe7755d07f0>,\n",
       "  'top_1': 61.408857339715361,\n",
       "  'top_10': 99.98856251826551,\n",
       "  'top_20': 99.98856251826551,\n",
       "  'top_3': 90.149622475671947,\n",
       "  'top_5': 96.651918261482578,\n",
       "  'type': 'Poisson',\n",
       "  'world_events': 430})"
      ]
     },
     "execution_count": 22,
     "metadata": {},
     "output_type": "execute_result"
    }
   ],
   "source": [
    "tmp_kdd, tmp_poisson #, tmp_oracle, tmp_opt"
   ]
  },
  {
   "cell_type": "code",
   "execution_count": 56,
   "metadata": {
    "collapsed": false
   },
   "outputs": [
    {
     "name": "stdout",
     "output_type": "stream",
     "text": [
      "CPU times: user 747 ms, sys: 0 ns, total: 747 ms\n",
      "Wall time: 745 ms\n"
     ]
    }
   ],
   "source": [
    "%%time\n",
    "sim_opts= SimOpts.std_hawkes(world_seed=1 + 42, world_lambda_0=1000.0, world_alpha=1.0, world_beta=10.0)\n",
    "mgr = sim_opts.create_manager_for_wall()\n",
    "mgr.run()"
   ]
  },
  {
   "cell_type": "code",
   "execution_count": 46,
   "metadata": {
    "collapsed": false
   },
   "outputs": [
    {
     "name": "stdout",
     "output_type": "stream",
     "text": [
      "CPU times: user 5.59 s, sys: 0 ns, total: 5.59 s\n",
      "Wall time: 5.59 s\n"
     ]
    }
   ],
   "source": [
    "%%time\n",
    "sim_opts = SimOpts.std_hawkes(world_seed=1 + 42, world_lambda_0=1000.0, world_alpha=1.0, world_beta=10.0)\n",
    "worker_top_k_kdd((1, 3, 100.0, 10, sim_opts, None, None))"
   ]
  },
  {
   "cell_type": "code",
   "execution_count": 3,
   "metadata": {
    "collapsed": true
   },
   "outputs": [
    {
     "ename": "NameError",
     "evalue": "name 'seed' is not defined",
     "output_type": "error",
     "traceback": [
      "\u001b[1;31m---------------------------------------------------------------------------\u001b[0m",
      "\u001b[1;31mNameError\u001b[0m                                 Traceback (most recent call last)",
      "\u001b[1;32m/NL/stackexchange/work/prog/broadcast-online/opt_model.py\u001b[0m in \u001b[0;36m<module>\u001b[1;34m()\u001b[0m\n\u001b[1;32m----> 1\u001b[1;33m \u001b[0mget_ipython\u001b[0m\u001b[1;33m(\u001b[0m\u001b[1;33m)\u001b[0m\u001b[1;33m.\u001b[0m\u001b[0mrun_cell_magic\u001b[0m\u001b[1;33m(\u001b[0m\u001b[1;34m'time'\u001b[0m\u001b[1;33m,\u001b[0m \u001b[1;34m''\u001b[0m\u001b[1;33m,\u001b[0m \u001b[1;34m\"import itertools as I\\nsim_opts = SimOpts(other_sources=[Poisson2(src_id=2, seed=seed, rate=1000.0)], \\n                   end_time=100.0, \\n                   src_id=1,\\n                   q_vec=q_vec,\\n                   s=s,\\n                   sink_ids=[1001],\\n                   edge_list=[(1, 1001), (2, 1001)])\\n\\nnum_cpus = mp.cpu_count()\\nwith mp.Pool(num_cpus - 2) as pool:\\n    N = 10\\n    K = 10\\n    seeds = range(0, N)\\n    seed_capacity = [None] * N\\n    opt_top_k_perf = [None] * N\\n    for idx, opt_dict in enumerate(pool.map(worker_top_k_opt,\\n                                            [(s, K, SimOpts.std_poisson(world_seed=s, world_rate=1000.0), None)\\n                                            for s in seeds])):\\n        seed_capacity[idx] = opt_dict['capacity']\\n        opt_top_k_perf[idx] = opt_dict['perf']\\n    \\n    poisson_top_k_perf = [None] * N\\n    for idx, poisson_dict in enumerate(pool.map(worker_top_k_poisson,\\n                                                [(s, K, seed_capacity[idx], \\n                                                  SimOpts.std_poisson(world_seed=s, world_rate=1000.0), None)\\n                                                 for idx, s in enumerate(seeds)])):\\n        poisson_top_k_perf[idx] = poisson_dict['perf']\"\u001b[0m\u001b[1;33m)\u001b[0m\u001b[1;33m\u001b[0m\u001b[0m\n\u001b[0m",
      "\u001b[1;32m/home/utkarshu/miniconda3/envs/py35/lib/python3.5/site-packages/IPython/core/interactiveshell.py\u001b[0m in \u001b[0;36mrun_cell_magic\u001b[1;34m(self, magic_name, line, cell)\u001b[0m\n\u001b[0;32m   2118\u001b[0m             \u001b[0mmagic_arg_s\u001b[0m \u001b[1;33m=\u001b[0m \u001b[0mself\u001b[0m\u001b[1;33m.\u001b[0m\u001b[0mvar_expand\u001b[0m\u001b[1;33m(\u001b[0m\u001b[0mline\u001b[0m\u001b[1;33m,\u001b[0m \u001b[0mstack_depth\u001b[0m\u001b[1;33m)\u001b[0m\u001b[1;33m\u001b[0m\u001b[0m\n\u001b[0;32m   2119\u001b[0m             \u001b[1;32mwith\u001b[0m \u001b[0mself\u001b[0m\u001b[1;33m.\u001b[0m\u001b[0mbuiltin_trap\u001b[0m\u001b[1;33m:\u001b[0m\u001b[1;33m\u001b[0m\u001b[0m\n\u001b[1;32m-> 2120\u001b[1;33m                 \u001b[0mresult\u001b[0m \u001b[1;33m=\u001b[0m \u001b[0mfn\u001b[0m\u001b[1;33m(\u001b[0m\u001b[0mmagic_arg_s\u001b[0m\u001b[1;33m,\u001b[0m \u001b[0mcell\u001b[0m\u001b[1;33m)\u001b[0m\u001b[1;33m\u001b[0m\u001b[0m\n\u001b[0m\u001b[0;32m   2121\u001b[0m             \u001b[1;32mreturn\u001b[0m \u001b[0mresult\u001b[0m\u001b[1;33m\u001b[0m\u001b[0m\n\u001b[0;32m   2122\u001b[0m \u001b[1;33m\u001b[0m\u001b[0m\n",
      "\u001b[1;32m<decorator-gen-60>\u001b[0m in \u001b[0;36mtime\u001b[1;34m(self, line, cell, local_ns)\u001b[0m\n",
      "\u001b[1;32m/home/utkarshu/miniconda3/envs/py35/lib/python3.5/site-packages/IPython/core/magic.py\u001b[0m in \u001b[0;36m<lambda>\u001b[1;34m(f, *a, **k)\u001b[0m\n\u001b[0;32m    191\u001b[0m     \u001b[1;31m# but it's overkill for just that one bit of state.\u001b[0m\u001b[1;33m\u001b[0m\u001b[1;33m\u001b[0m\u001b[0m\n\u001b[0;32m    192\u001b[0m     \u001b[1;32mdef\u001b[0m \u001b[0mmagic_deco\u001b[0m\u001b[1;33m(\u001b[0m\u001b[0marg\u001b[0m\u001b[1;33m)\u001b[0m\u001b[1;33m:\u001b[0m\u001b[1;33m\u001b[0m\u001b[0m\n\u001b[1;32m--> 193\u001b[1;33m         \u001b[0mcall\u001b[0m \u001b[1;33m=\u001b[0m \u001b[1;32mlambda\u001b[0m \u001b[0mf\u001b[0m\u001b[1;33m,\u001b[0m \u001b[1;33m*\u001b[0m\u001b[0ma\u001b[0m\u001b[1;33m,\u001b[0m \u001b[1;33m**\u001b[0m\u001b[0mk\u001b[0m\u001b[1;33m:\u001b[0m \u001b[0mf\u001b[0m\u001b[1;33m(\u001b[0m\u001b[1;33m*\u001b[0m\u001b[0ma\u001b[0m\u001b[1;33m,\u001b[0m \u001b[1;33m**\u001b[0m\u001b[0mk\u001b[0m\u001b[1;33m)\u001b[0m\u001b[1;33m\u001b[0m\u001b[0m\n\u001b[0m\u001b[0;32m    194\u001b[0m \u001b[1;33m\u001b[0m\u001b[0m\n\u001b[0;32m    195\u001b[0m         \u001b[1;32mif\u001b[0m \u001b[0mcallable\u001b[0m\u001b[1;33m(\u001b[0m\u001b[0marg\u001b[0m\u001b[1;33m)\u001b[0m\u001b[1;33m:\u001b[0m\u001b[1;33m\u001b[0m\u001b[0m\n",
      "\u001b[1;32m/home/utkarshu/miniconda3/envs/py35/lib/python3.5/site-packages/IPython/core/magics/execution.py\u001b[0m in \u001b[0;36mtime\u001b[1;34m(self, line, cell, local_ns)\u001b[0m\n\u001b[0;32m   1175\u001b[0m         \u001b[1;32melse\u001b[0m\u001b[1;33m:\u001b[0m\u001b[1;33m\u001b[0m\u001b[0m\n\u001b[0;32m   1176\u001b[0m             \u001b[0mst\u001b[0m \u001b[1;33m=\u001b[0m \u001b[0mclock2\u001b[0m\u001b[1;33m(\u001b[0m\u001b[1;33m)\u001b[0m\u001b[1;33m\u001b[0m\u001b[0m\n\u001b[1;32m-> 1177\u001b[1;33m             \u001b[0mexec\u001b[0m\u001b[1;33m(\u001b[0m\u001b[0mcode\u001b[0m\u001b[1;33m,\u001b[0m \u001b[0mglob\u001b[0m\u001b[1;33m,\u001b[0m \u001b[0mlocal_ns\u001b[0m\u001b[1;33m)\u001b[0m\u001b[1;33m\u001b[0m\u001b[0m\n\u001b[0m\u001b[0;32m   1178\u001b[0m             \u001b[0mend\u001b[0m \u001b[1;33m=\u001b[0m \u001b[0mclock2\u001b[0m\u001b[1;33m(\u001b[0m\u001b[1;33m)\u001b[0m\u001b[1;33m\u001b[0m\u001b[0m\n\u001b[0;32m   1179\u001b[0m             \u001b[0mout\u001b[0m \u001b[1;33m=\u001b[0m \u001b[1;32mNone\u001b[0m\u001b[1;33m\u001b[0m\u001b[0m\n",
      "\u001b[1;32m/NL/stackexchange/work/prog/broadcast-online/opt_model.py\u001b[0m in \u001b[0;36m<module>\u001b[1;34m()\u001b[0m\n",
      "\u001b[1;31mNameError\u001b[0m: name 'seed' is not defined"
     ]
    }
   ],
   "source": [
    "%%time\n",
    "import itertools as I\n",
    "sim_opts = SimOpts(other_sources=[Poisson2(src_id=2, seed=seed, rate=1000.0)], \n",
    "                   end_time=100.0, \n",
    "                   src_id=1,\n",
    "                   q_vec=q_vec,\n",
    "                   s=s,\n",
    "                   sink_ids=[1001],\n",
    "                   edge_list=[(1, 1001), (2, 1001)])\n",
    "\n",
    "with mp.Pool() as pool:\n",
    "    N = 10\n",
    "    K = 10\n",
    "    seeds = range(0, N)\n",
    "    seed_capacity = [None] * N\n",
    "    opt_top_k_perf = [None] * N\n",
    "    for idx, opt_dict in enumerate(pool.map(worker_top_k_opt,\n",
    "                                            [(s, K, SimOpts.std_poisson(world_seed=s, world_rate=1000.0), None)\n",
    "                                            for s in seeds])):\n",
    "        seed_capacity[idx] = opt_dict['capacity']\n",
    "        opt_top_k_perf[idx] = opt_dict['perf']\n",
    "    \n",
    "    poisson_top_k_perf = [None] * N\n",
    "    for idx, poisson_dict in enumerate(pool.map(worker_top_k_poisson,\n",
    "                                                [(s, K, seed_capacity[idx], \n",
    "                                                  SimOpts.std_poisson(world_seed=s, world_rate=1000.0), None)\n",
    "                                                 for idx, s in enumerate(seeds)])):\n",
    "        poisson_top_k_perf[idx] = poisson_dict['perf']"
   ]
  },
  {
   "cell_type": "code",
   "execution_count": 18,
   "metadata": {
    "collapsed": true
   },
   "outputs": [],
   "source": [
    "%run -i opt_model.py"
   ]
  },
  {
   "cell_type": "code",
   "execution_count": 23,
   "metadata": {
    "collapsed": true
   },
   "outputs": [],
   "source": [
    "%run -i utils.py"
   ]
  },
  {
   "cell_type": "code",
   "execution_count": 24,
   "metadata": {
    "collapsed": false
   },
   "outputs": [
    {
     "name": "stdout",
     "output_type": "stream",
     "text": [
      "*** \u001b[31m2016-05-09 02:17:19.731944\u001b[0m Checkpoint: active_procs = 210, procs = [('Opt', 43), ('Oracle', 56), ('kdd', 56), ('Poisson', 55)]\n",
      "*** \u001b[31m2016-05-09 02:17:19.832959\u001b[0m Checkpoint: active_procs = 220, procs = [('Opt', 38), ('Oracle', 61), ('kdd', 61), ('Poisson', 60)]\n",
      "*** \u001b[31m2016-05-09 02:17:20.029171\u001b[0m Checkpoint: active_procs = 240, procs = [('Opt', 26), ('Oracle', 73), ('kdd', 73), ('Poisson', 68)]\n",
      "*** \u001b[31m2016-05-09 02:17:20.069093\u001b[0m Checkpoint: active_procs = 250, procs = [('Opt', 21), ('Oracle', 78), ('kdd', 78), ('Poisson', 73)]\n",
      "*** \u001b[31m2016-05-09 02:17:20.112595\u001b[0m Checkpoint: active_procs = 260, procs = [('Opt', 15), ('Oracle', 84), ('kdd', 84), ('Poisson', 77)]\n",
      "*** \u001b[31m2016-05-09 02:17:20.135915\u001b[0m Checkpoint: active_procs = 270, procs = [('Opt', 10), ('Oracle', 89), ('kdd', 89), ('Poisson', 82)]\n",
      "*** \u001b[31m2016-05-09 02:17:20.157778\u001b[0m Checkpoint: active_procs = 280, procs = [('Opt', 6), ('Oracle', 94), ('kdd', 94), ('Poisson', 86)]\n",
      "*** \u001b[31m2016-05-09 02:17:20.175654\u001b[0m Checkpoint: active_procs = 280, procs = [('Opt', 5), ('Oracle', 95), ('kdd', 95), ('Poisson', 85)]\n",
      "*** \u001b[31m2016-05-09 02:17:20.181511\u001b[0m Checkpoint: active_procs = 280, procs = [('Opt', 3), ('Oracle', 96), ('kdd', 96), ('Poisson', 85)]\n",
      "*** \u001b[31m2016-05-09 02:17:20.202090\u001b[0m Checkpoint: active_procs = 280, procs = [('Opt', 3), ('Oracle', 97), ('kdd', 97), ('Poisson', 83)]\n",
      "*** \u001b[31m2016-05-09 02:17:20.233304\u001b[0m Checkpoint: active_procs = 280, procs = [('Opt', 1), ('Oracle', 99), ('kdd', 99), ('Poisson', 81)]\n",
      "*** \u001b[31m2016-05-09 02:17:20.259715\u001b[0m Checkpoint: active_procs = 280, procs = [('Opt', 0), ('Oracle', 100), ('kdd', 100), ('Poisson', 80)]\n",
      "*** \u001b[31m2016-05-09 02:18:06.765415\u001b[0m Checkpoint: active_procs = 270, procs = [('Opt', 0), ('Oracle', 96), ('kdd', 100), ('Poisson', 74)]\n",
      "*** \u001b[31m2016-05-09 02:18:18.003674\u001b[0m Checkpoint: active_procs = 260, procs = [('Opt', 0), ('Oracle', 89), ('kdd', 100), ('Poisson', 71)]\n",
      "*** \u001b[31m2016-05-09 02:18:22.664268\u001b[0m Checkpoint: active_procs = 250, procs = [('Opt', 0), ('Oracle', 82), ('kdd', 100), ('Poisson', 68)]\n",
      "*** \u001b[31m2016-05-09 02:18:34.940085\u001b[0m Checkpoint: active_procs = 240, procs = [('Opt', 0), ('Oracle', 76), ('kdd', 100), ('Poisson', 64)]\n",
      "*** \u001b[31m2016-05-09 02:19:17.506918\u001b[0m Checkpoint: active_procs = 230, procs = [('Opt', 0), ('Oracle', 69), ('kdd', 100), ('Poisson', 61)]\n",
      "*** \u001b[31m2016-05-09 02:20:22.044147\u001b[0m Checkpoint: active_procs = 220, procs = [('Opt', 0), ('Oracle', 62), ('kdd', 100), ('Poisson', 58)]\n",
      "*** \u001b[31m2016-05-09 02:21:28.652823\u001b[0m Checkpoint: active_procs = 210, procs = [('Opt', 0), ('Oracle', 56), ('kdd', 100), ('Poisson', 54)]\n",
      "*** \u001b[31m2016-05-09 02:35:30.837049\u001b[0m Checkpoint: active_procs = 200, procs = [('Opt', 0), ('Oracle', 52), ('kdd', 97), ('Poisson', 51)]\n",
      "*** \u001b[31m2016-05-09 02:36:57.541165\u001b[0m Checkpoint: active_procs = 190, procs = [('Opt', 0), ('Oracle', 49), ('kdd', 93), ('Poisson', 48)]\n",
      "*** \u001b[31m2016-05-09 02:37:19.153148\u001b[0m Checkpoint: active_procs = 180, procs = [('Opt', 0), ('Oracle', 48), ('kdd', 88), ('Poisson', 44)]\n",
      "*** \u001b[31m2016-05-09 02:37:54.976121\u001b[0m Checkpoint: active_procs = 170, procs = [('Opt', 0), ('Oracle', 45), ('kdd', 84), ('Poisson', 41)]\n",
      "*** \u001b[31m2016-05-09 02:38:23.376538\u001b[0m Checkpoint: active_procs = 160, procs = [('Opt', 0), ('Oracle', 42), ('kdd', 80), ('Poisson', 38)]\n",
      "*** \u001b[31m2016-05-09 02:38:40.036848\u001b[0m Checkpoint: active_procs = 150, procs = [('Opt', 0), ('Oracle', 40), ('kdd', 76), ('Poisson', 34)]\n",
      "*** \u001b[31m2016-05-09 02:38:48.170155\u001b[0m Checkpoint: active_procs = 140, procs = [('Opt', 0), ('Oracle', 37), ('kdd', 72), ('Poisson', 31)]\n",
      "*** \u001b[31m2016-05-09 02:39:06.513739\u001b[0m Checkpoint: active_procs = 130, procs = [('Opt', 0), ('Oracle', 35), ('kdd', 67), ('Poisson', 28)]\n",
      "*** \u001b[31m2016-05-09 02:39:16.736534\u001b[0m Checkpoint: active_procs = 120, procs = [('Opt', 0), ('Oracle', 35), ('kdd', 61), ('Poisson', 24)]\n",
      "*** \u001b[31m2016-05-09 02:39:26.768278\u001b[0m Checkpoint: active_procs = 110, procs = [('Opt', 0), ('Oracle', 33), ('kdd', 56), ('Poisson', 21)]\n",
      "*** \u001b[31m2016-05-09 02:39:45.829559\u001b[0m Checkpoint: active_procs = 100, procs = [('Opt', 0), ('Oracle', 32), ('kdd', 50), ('Poisson', 18)]\n",
      "*** \u001b[31m2016-05-09 02:39:52.817796\u001b[0m Checkpoint: active_procs = 90, procs = [('Opt', 0), ('Oracle', 30), ('kdd', 46), ('Poisson', 14)]\n",
      "*** \u001b[31m2016-05-09 02:39:55.300004\u001b[0m Checkpoint: active_procs = 80, procs = [('Opt', 0), ('Oracle', 28), ('kdd', 41), ('Poisson', 11)]\n",
      "*** \u001b[31m2016-05-09 02:39:59.518108\u001b[0m Checkpoint: active_procs = 70, procs = [('Opt', 0), ('Oracle', 26), ('kdd', 36), ('Poisson', 8)]\n",
      "*** \u001b[31m2016-05-09 02:40:08.879523\u001b[0m Checkpoint: active_procs = 60, procs = [('Opt', 0), ('Oracle', 25), ('kdd', 31), ('Poisson', 4)]\n",
      "*** \u001b[31m2016-05-09 02:40:28.216591\u001b[0m Checkpoint: active_procs = 50, procs = [('Opt', 0), ('Oracle', 21), ('kdd', 28), ('Poisson', 1)]\n",
      "*** \u001b[31m2016-05-09 02:40:47.244196\u001b[0m Checkpoint: active_procs = 40, procs = [('Opt', 0), ('Oracle', 16), ('kdd', 24), ('Poisson', 0)]\n",
      "*** \u001b[31m2016-05-09 02:41:10.421798\u001b[0m Checkpoint: active_procs = 30, procs = [('Opt', 0), ('Oracle', 8), ('kdd', 22), ('Poisson', 0)]\n",
      "*** \u001b[31m2016-05-09 02:41:50.975848\u001b[0m Checkpoint: active_procs = 20, procs = [('Opt', 0), ('Oracle', 1), ('kdd', 19), ('Poisson', 0)]\n",
      "*** \u001b[31m2016-05-09 02:44:44.032971\u001b[0m Checkpoint: active_procs = 10, procs = [('Opt', 0), ('Oracle', 0), ('kdd', 10), ('Poisson', 0)]\n",
      "*** \u001b[31m2016-05-09 02:53:22.198266\u001b[0m Checkpoint: active_procs = 0, procs = [('Opt', 0), ('Oracle', 0), ('kdd', 0), ('Poisson', 0)]\n",
      "Cleaning up 47 processes\n",
      "CPU times: user 277 ms, sys: 223 ms, total: 500 ms\n",
      "Wall time: 36min 3s\n"
     ]
    }
   ],
   "source": [
    "%%time\n",
    "poisson_res_2 = run_inference_queue(opts=poisson_inf_opts)"
   ]
  },
  {
   "cell_type": "code",
   "execution_count": 25,
   "metadata": {
    "collapsed": false
   },
   "outputs": [
    {
     "name": "stdout",
     "output_type": "stream",
     "text": [
      "*** \u001b[31m2016-05-09 02:53:25.702697\u001b[0m Checkpoint: active_procs = 280, procs = [('Opt', 8), ('Oracle', 91), ('kdd', 91), ('Poisson', 90)]\n",
      "*** \u001b[31m2016-05-09 02:53:25.864846\u001b[0m Checkpoint: active_procs = 290, procs = [('Opt', 2), ('Oracle', 97), ('kdd', 97), ('Poisson', 94)]\n",
      "*** \u001b[31m2016-05-09 02:53:26.253226\u001b[0m Checkpoint: active_procs = 290, procs = [('Opt', 0), ('Oracle', 100), ('kdd', 100), ('Poisson', 90)]\n",
      "*** \u001b[31m2016-05-09 02:53:27.269697\u001b[0m Checkpoint: active_procs = 280, procs = [('Opt', 0), ('Oracle', 100), ('kdd', 100), ('Poisson', 80)]\n",
      "*** \u001b[31m2016-05-09 02:54:31.303634\u001b[0m Checkpoint: active_procs = 270, procs = [('Opt', 0), ('Oracle', 96), ('kdd', 100), ('Poisson', 74)]\n",
      "*** \u001b[31m2016-05-09 02:54:40.762927\u001b[0m Checkpoint: active_procs = 260, procs = [('Opt', 0), ('Oracle', 89), ('kdd', 100), ('Poisson', 71)]\n",
      "*** \u001b[31m2016-05-09 02:54:51.655396\u001b[0m Checkpoint: active_procs = 250, procs = [('Opt', 0), ('Oracle', 82), ('kdd', 100), ('Poisson', 68)]\n",
      "*** \u001b[31m2016-05-09 02:55:12.799603\u001b[0m Checkpoint: active_procs = 240, procs = [('Opt', 0), ('Oracle', 76), ('kdd', 100), ('Poisson', 64)]\n",
      "*** \u001b[31m2016-05-09 02:56:11.577822\u001b[0m Checkpoint: active_procs = 230, procs = [('Opt', 0), ('Oracle', 69), ('kdd', 100), ('Poisson', 61)]\n",
      "*** \u001b[31m2016-05-09 02:56:58.131303\u001b[0m Checkpoint: active_procs = 220, procs = [('Opt', 0), ('Oracle', 62), ('kdd', 100), ('Poisson', 58)]\n",
      "*** \u001b[31m2016-05-09 02:59:32.290174\u001b[0m Checkpoint: active_procs = 210, procs = [('Opt', 0), ('Oracle', 56), ('kdd', 100), ('Poisson', 54)]\n",
      "*** \u001b[31m2016-05-09 03:12:46.374243\u001b[0m Checkpoint: active_procs = 200, procs = [('Opt', 0), ('Oracle', 53), ('kdd', 96), ('Poisson', 51)]\n",
      "*** \u001b[31m2016-05-09 03:13:58.145903\u001b[0m Checkpoint: active_procs = 190, procs = [('Opt', 0), ('Oracle', 50), ('kdd', 92), ('Poisson', 48)]\n",
      "*** \u001b[31m2016-05-09 03:14:17.940201\u001b[0m Checkpoint: active_procs = 180, procs = [('Opt', 0), ('Oracle', 49), ('kdd', 87), ('Poisson', 44)]\n",
      "*** \u001b[31m2016-05-09 03:14:37.200363\u001b[0m Checkpoint: active_procs = 170, procs = [('Opt', 0), ('Oracle', 48), ('kdd', 81), ('Poisson', 41)]\n",
      "*** \u001b[31m2016-05-09 03:15:00.246337\u001b[0m Checkpoint: active_procs = 160, procs = [('Opt', 0), ('Oracle', 45), ('kdd', 77), ('Poisson', 38)]\n",
      "*** \u001b[31m2016-05-09 03:15:16.384058\u001b[0m Checkpoint: active_procs = 150, procs = [('Opt', 0), ('Oracle', 43), ('kdd', 73), ('Poisson', 34)]\n",
      "*** \u001b[31m2016-05-09 03:15:36.513559\u001b[0m Checkpoint: active_procs = 140, procs = [('Opt', 0), ('Oracle', 41), ('kdd', 68), ('Poisson', 31)]\n",
      "*** \u001b[31m2016-05-09 03:15:53.803573\u001b[0m Checkpoint: active_procs = 130, procs = [('Opt', 0), ('Oracle', 37), ('kdd', 65), ('Poisson', 28)]\n",
      "*** \u001b[31m2016-05-09 03:16:01.591150\u001b[0m Checkpoint: active_procs = 120, procs = [('Opt', 0), ('Oracle', 35), ('kdd', 61), ('Poisson', 24)]\n",
      "*** \u001b[31m2016-05-09 03:16:14.492754\u001b[0m Checkpoint: active_procs = 110, procs = [('Opt', 0), ('Oracle', 32), ('kdd', 57), ('Poisson', 21)]\n",
      "*** \u001b[31m2016-05-09 03:16:32.769986\u001b[0m Checkpoint: active_procs = 100, procs = [('Opt', 0), ('Oracle', 31), ('kdd', 51), ('Poisson', 18)]\n",
      "*** \u001b[31m2016-05-09 03:16:43.899089\u001b[0m Checkpoint: active_procs = 90, procs = [('Opt', 0), ('Oracle', 29), ('kdd', 46), ('Poisson', 15)]\n",
      "*** \u001b[31m2016-05-09 03:16:56.735626\u001b[0m Checkpoint: active_procs = 80, procs = [('Opt', 0), ('Oracle', 28), ('kdd', 40), ('Poisson', 12)]\n",
      "*** \u001b[31m2016-05-09 03:17:05.893004\u001b[0m Checkpoint: active_procs = 70, procs = [('Opt', 0), ('Oracle', 25), ('kdd', 37), ('Poisson', 8)]\n",
      "*** \u001b[31m2016-05-09 03:17:15.547970\u001b[0m Checkpoint: active_procs = 60, procs = [('Opt', 0), ('Oracle', 24), ('kdd', 32), ('Poisson', 4)]\n",
      "*** \u001b[31m2016-05-09 03:17:22.119231\u001b[0m Checkpoint: active_procs = 50, procs = [('Opt', 0), ('Oracle', 22), ('kdd', 27), ('Poisson', 1)]\n",
      "*** \u001b[31m2016-05-09 03:17:38.259686\u001b[0m Checkpoint: active_procs = 40, procs = [('Opt', 0), ('Oracle', 20), ('kdd', 20), ('Poisson', 0)]\n",
      "*** \u001b[31m2016-05-09 03:18:25.734934\u001b[0m Checkpoint: active_procs = 30, procs = [('Opt', 0), ('Oracle', 11), ('kdd', 19), ('Poisson', 0)]\n",
      "*** \u001b[31m2016-05-09 03:19:00.242544\u001b[0m Checkpoint: active_procs = 20, procs = [('Opt', 0), ('Oracle', 2), ('kdd', 18), ('Poisson', 0)]\n",
      "*** \u001b[31m2016-05-09 03:22:01.859274\u001b[0m Checkpoint: active_procs = 10, procs = [('Opt', 0), ('Oracle', 0), ('kdd', 10), ('Poisson', 0)]\n",
      "*** \u001b[31m2016-05-09 03:30:54.659957\u001b[0m Checkpoint: active_procs = 0, procs = [('Opt', 0), ('Oracle', 0), ('kdd', 0), ('Poisson', 0)]\n",
      "Cleaning up 47 processes\n",
      "CPU times: user 263 ms, sys: 300 ms, total: 563 ms\n",
      "Wall time: 37min 32s\n"
     ]
    }
   ],
   "source": [
    "%%time\n",
    "hawkes_res_2 = run_inference_queue(opts=hawkes_inf_opts)"
   ]
  },
  {
   "cell_type": "code",
   "execution_count": 3,
   "metadata": {
    "collapsed": false
   },
   "outputs": [],
   "source": [
    "%run -i utils.py\n",
    "%run -i opt_model.py"
   ]
  },
  {
   "cell_type": "code",
   "execution_count": null,
   "metadata": {
    "collapsed": false
   },
   "outputs": [
    {
     "name": "stdout",
     "output_type": "stream",
     "text": [
      "*** \u001b[31m2016-05-13 18:25:00.788538\u001b[0m Checkpoint: active_procs = 230, procs = [('Opt', 33), ('kdd', 66), ('Oracle', 66), ('Poisson', 65)]\n",
      "*** \u001b[31m2016-05-13 18:25:00.956455\u001b[0m Checkpoint: active_procs = 260, procs = [('Opt', 17), ('kdd', 83), ('Oracle', 83), ('Poisson', 77)]\n",
      "*** \u001b[31m2016-05-13 18:25:00.983079\u001b[0m Checkpoint: active_procs = 260, procs = [('Opt', 15), ('kdd', 84), ('Oracle', 84), ('Poisson', 77)]\n",
      "*** \u001b[31m2016-05-13 18:25:01.019179\u001b[0m Checkpoint: active_procs = 270, procs = [('Opt', 10), ('kdd', 90), ('Oracle', 90), ('Poisson', 80)]\n",
      "*** \u001b[31m2016-05-13 18:25:01.060818\u001b[0m Checkpoint: active_procs = 270, procs = [('Opt', 7), ('kdd', 92), ('Oracle', 92), ('Poisson', 79)]\n",
      "*** \u001b[31m2016-05-13 18:25:01.207756\u001b[0m Checkpoint: active_procs = 280, procs = [('Opt', 0), ('kdd', 100), ('Oracle', 100), ('Poisson', 80)]\n",
      "*** \u001b[31m2016-05-13 18:25:44.780673\u001b[0m Checkpoint: active_procs = 270, procs = [('Opt', 0), ('kdd', 100), ('Oracle', 96), ('Poisson', 74)]\n"
     ]
    }
   ],
   "source": [
    "%%time\n",
    "piecewise_res_2 = run_inference_queue(opts=piecewise_inf_opts)"
   ]
  },
  {
   "cell_type": "code",
   "execution_count": 65,
   "metadata": {
    "collapsed": false
   },
   "outputs": [],
   "source": [
    "sim_opts = piecewise_inf_opts.sim_opts_gen(9).update({ 's': 1e-5 })\n",
    "opt_mgr = sim_opts.create_manager_with_opt(9)"
   ]
  },
  {
   "cell_type": "code",
   "execution_count": 66,
   "metadata": {
    "collapsed": false
   },
   "outputs": [
    {
     "data": {
      "text/plain": [
       "<__main__.Manager at 0x7f131696c860>"
      ]
     },
     "execution_count": 66,
     "metadata": {},
     "output_type": "execute_result"
    }
   ],
   "source": [
    "opt_mgr.run()"
   ]
  },
  {
   "cell_type": "code",
   "execution_count": 67,
   "metadata": {
    "collapsed": false
   },
   "outputs": [
    {
     "data": {
      "text/plain": [
       "744.98424076630204"
      ]
     },
     "execution_count": 67,
     "metadata": {},
     "output_type": "execute_result"
    }
   ],
   "source": [
    "u_int_opt(opt_mgr.state.get_dataframe(), sim_opts=sim_opts)"
   ]
  },
  {
   "cell_type": "code",
   "execution_count": 68,
   "metadata": {
    "collapsed": false
   },
   "outputs": [
    {
     "data": {
      "text/plain": [
       "773"
      ]
     },
     "execution_count": 68,
     "metadata": {},
     "output_type": "execute_result"
    }
   ],
   "source": [
    "(opt_mgr.state.get_dataframe().src_id == sim_opts.src_id).sum()"
   ]
  },
  {
   "cell_type": "code",
   "execution_count": 69,
   "metadata": {
    "collapsed": false
   },
   "outputs": [
    {
     "data": {
      "text/plain": [
       "772"
      ]
     },
     "execution_count": 69,
     "metadata": {},
     "output_type": "execute_result"
    }
   ],
   "source": [
    "(opt_mgr.state.get_dataframe().src_id != sim_opts.src_id).sum()"
   ]
  },
  {
   "cell_type": "code",
   "execution_count": 70,
   "metadata": {
    "collapsed": false
   },
   "outputs": [
    {
     "data": {
      "text/plain": [
       "{'avg_rank': 889.93177510586111,\n",
       " 'avg_rank_1': 889.93177510586111,\n",
       " 'avg_rank_10': 889.93177510586111,\n",
       " 'avg_rank_20': 889.93177510586111,\n",
       " 'avg_rank_3': 889.93177510586111,\n",
       " 'avg_rank_5': 889.93177510586111,\n",
       " 'avg_rank_k': 1,\n",
       " 'r_2': 2262.7504577437326,\n",
       " 'r_2_1': 2262.7504577437326,\n",
       " 'r_2_10': 2262.7504577437326,\n",
       " 'r_2_20': 2262.7504577437326,\n",
       " 'r_2_3': 2262.7504577437326,\n",
       " 'r_2_5': 2262.7504577437326,\n",
       " 'r_2_k': 1,\n",
       " 's': 1e-05,\n",
       " 'seed': 9,\n",
       " 'sim_opts': <__main__.SimOpts at 0x7f131696c7b8>,\n",
       " 'top_1': 509.99635340502221,\n",
       " 'top_10': 999.93847991338043,\n",
       " 'top_20': 999.93847991338043,\n",
       " 'top_3': 896.03470421468114,\n",
       " 'top_5': 983.07415107445468,\n",
       " 'type': 'kdd',\n",
       " 'world_events': 772}"
      ]
     },
     "execution_count": 70,
     "metadata": {},
     "output_type": "execute_result"
    }
   ],
   "source": [
    "worker_kdd((9, (opt_mgr.state.get_dataframe().src_id == sim_opts.src_id).sum() * 1.0, 10, sim_opts, None, None))"
   ]
  },
  {
   "cell_type": "code",
   "execution_count": 71,
   "metadata": {
    "collapsed": false
   },
   "outputs": [
    {
     "data": {
      "text/plain": [
       "(1545, 5)"
      ]
     },
     "execution_count": 71,
     "metadata": {},
     "output_type": "execute_result"
    }
   ],
   "source": [
    "opt_mgr.state.get_dataframe().shape"
   ]
  },
  {
   "cell_type": "code",
   "execution_count": 72,
   "metadata": {
    "collapsed": false
   },
   "outputs": [
    {
     "data": {
      "text/plain": [
       "773"
      ]
     },
     "execution_count": 72,
     "metadata": {},
     "output_type": "execute_result"
    }
   ],
   "source": [
    "(opt_mgr.state.get_dataframe().src_id == sim_opts.src_id).sum()"
   ]
  },
  {
   "cell_type": "code",
   "execution_count": 73,
   "metadata": {
    "collapsed": true
   },
   "outputs": [
    {
     "name": "stdout",
     "output_type": "stream",
     "text": [
      "*** \u001b[31m2016-05-08 23:29:17.218660\u001b[0m Checkpoint: s_lo = 0.5, s_hi = 1.0, num_events = 581 \n",
      "*** \u001b[31m2016-05-08 23:29:20.205641\u001b[0m Checkpoint: s_lo = 0.25, s_hi = 0.5, num_events = 660 \n",
      "*** \u001b[31m2016-05-08 23:29:23.194900\u001b[0m Checkpoint: s_lo = 0.125, s_hi = 0.25, num_events = 712 \n",
      "*** \u001b[31m2016-05-08 23:29:26.264907\u001b[0m Checkpoint: s_lo = 0.0625, s_hi = 0.125, num_events = 743 \n",
      "*** \u001b[31m2016-05-08 23:29:29.231476\u001b[0m Checkpoint: s_lo = 0.03125, s_hi = 0.0625, num_events = 760 \n",
      "*** \u001b[31m2016-05-08 23:29:32.407908\u001b[0m Checkpoint: s_lo = 0.015625, s_hi = 0.03125, num_events = 767 \n",
      "*** \u001b[31m2016-05-08 23:29:35.561969\u001b[0m Checkpoint: s_lo = 0.0078125, s_hi = 0.015625, num_events = 768 \n",
      "*** \u001b[31m2016-05-08 23:29:38.570245\u001b[0m Checkpoint: s_lo = 0.00390625, s_hi = 0.0078125, num_events = 771 \n",
      "*** \u001b[31m2016-05-08 23:29:41.562581\u001b[0m Checkpoint: s_lo = 0.001953125, s_hi = 0.00390625, num_events = 772 \n",
      "*** \u001b[31m2016-05-08 23:29:44.524310\u001b[0m Checkpoint: s_lo = 0.0009765625, s_hi = 0.001953125, num_events = 772 \n",
      "*** \u001b[31m2016-05-08 23:29:47.509587\u001b[0m Checkpoint: s_lo = 0.00048828125, s_hi = 0.0009765625, num_events = 772 \n",
      "*** \u001b[31m2016-05-08 23:29:50.485225\u001b[0m Checkpoint: s_lo = 0.000244140625, s_hi = 0.00048828125, num_events = 772 \n",
      "*** \u001b[31m2016-05-08 23:29:53.470199\u001b[0m Checkpoint: s_lo = 0.0001220703125, s_hi = 0.000244140625, num_events = 772 \n"
     ]
    },
    {
     "ename": "KeyboardInterrupt",
     "evalue": "",
     "output_type": "error",
     "traceback": [
      "\u001b[1;31m---------------------------------------------------------------------------\u001b[0m",
      "\u001b[1;31mKeyboardInterrupt\u001b[0m                         Traceback (most recent call last)",
      "\u001b[1;32m/NL/stackexchange/work/prog/broadcast-online/opt_model.py\u001b[0m in \u001b[0;36m<module>\u001b[1;34m()\u001b[0m\n\u001b[1;32m----> 1\u001b[1;33m \u001b[0moracle_df\u001b[0m \u001b[1;33m=\u001b[0m \u001b[0mfind_opt_oracle\u001b[0m\u001b[1;33m(\u001b[0m\u001b[1;33m(\u001b[0m\u001b[0mopt_mgr\u001b[0m\u001b[1;33m.\u001b[0m\u001b[0mstate\u001b[0m\u001b[1;33m.\u001b[0m\u001b[0mget_dataframe\u001b[0m\u001b[1;33m(\u001b[0m\u001b[1;33m)\u001b[0m\u001b[1;33m.\u001b[0m\u001b[0msrc_id\u001b[0m \u001b[1;33m==\u001b[0m \u001b[0msim_opts\u001b[0m\u001b[1;33m.\u001b[0m\u001b[0msrc_id\u001b[0m\u001b[1;33m)\u001b[0m\u001b[1;33m.\u001b[0m\u001b[0msum\u001b[0m\u001b[1;33m(\u001b[0m\u001b[1;33m)\u001b[0m\u001b[1;33m,\u001b[0m \u001b[0msim_opts\u001b[0m\u001b[1;33m=\u001b[0m\u001b[0msim_opts\u001b[0m\u001b[1;33m,\u001b[0m \u001b[0mverbose\u001b[0m\u001b[1;33m=\u001b[0m\u001b[1;32mTrue\u001b[0m\u001b[1;33m)\u001b[0m\u001b[1;33m\u001b[0m\u001b[0m\n\u001b[0m",
      "\u001b[1;32m/NL/stackexchange/work/prog/broadcast-online/opt_model.py\u001b[0m in \u001b[0;36mfind_opt_oracle\u001b[1;34m(target_events, sim_opts, tol, verbose)\u001b[0m\n\u001b[0;32m    266\u001b[0m             \u001b[0ms_init\u001b[0m \u001b[1;33m/=\u001b[0m \u001b[1;36m2\u001b[0m\u001b[1;33m\u001b[0m\u001b[0m\n\u001b[0;32m    267\u001b[0m             \u001b[0ms_lo\u001b[0m \u001b[1;33m=\u001b[0m \u001b[0ms_init\u001b[0m\u001b[1;33m\u001b[0m\u001b[0m\n\u001b[1;32m--> 268\u001b[1;33m             \u001b[0mnum_events\u001b[0m \u001b[1;33m=\u001b[0m \u001b[0moracle_num_events\u001b[0m\u001b[1;33m(\u001b[0m\u001b[0ms_init\u001b[0m\u001b[1;33m)\u001b[0m\u001b[1;33m\u001b[0m\u001b[0m\n\u001b[0m\u001b[0;32m    269\u001b[0m             \u001b[1;32mif\u001b[0m \u001b[0mverbose\u001b[0m\u001b[1;33m:\u001b[0m\u001b[1;33m\u001b[0m\u001b[0m\n\u001b[0;32m    270\u001b[0m                 logTime('s_lo = {}, s_hi = {}, num_events = {} '\n",
      "\u001b[1;32m/NL/stackexchange/work/prog/broadcast-online/opt_model.py\u001b[0m in \u001b[0;36moracle_num_events\u001b[1;34m(s)\u001b[0m\n\u001b[0;32m    245\u001b[0m \u001b[1;33m\u001b[0m\u001b[0m\n\u001b[0;32m    246\u001b[0m     \u001b[1;32mdef\u001b[0m \u001b[0moracle_num_events\u001b[0m\u001b[1;33m(\u001b[0m\u001b[0ms\u001b[0m\u001b[1;33m)\u001b[0m\u001b[1;33m:\u001b[0m\u001b[1;33m\u001b[0m\u001b[0m\n\u001b[1;32m--> 247\u001b[1;33m         \u001b[0moracle_df\u001b[0m \u001b[1;33m=\u001b[0m \u001b[0mget_oracle_df\u001b[0m\u001b[1;33m(\u001b[0m\u001b[0msim_opts\u001b[0m\u001b[1;33m.\u001b[0m\u001b[0mupdate\u001b[0m\u001b[1;33m(\u001b[0m\u001b[1;33m{\u001b[0m \u001b[1;34m's'\u001b[0m\u001b[1;33m:\u001b[0m \u001b[0ms\u001b[0m \u001b[1;33m}\u001b[0m\u001b[1;33m)\u001b[0m\u001b[1;33m)\u001b[0m\u001b[1;33m\u001b[0m\u001b[0m\n\u001b[0m\u001b[0;32m    248\u001b[0m         \u001b[1;32mreturn\u001b[0m \u001b[0moracle_df\u001b[0m\u001b[1;33m.\u001b[0m\u001b[0mevents\u001b[0m\u001b[1;33m.\u001b[0m\u001b[0msum\u001b[0m\u001b[1;33m(\u001b[0m\u001b[1;33m)\u001b[0m\u001b[1;33m\u001b[0m\u001b[0m\n\u001b[0;32m    249\u001b[0m \u001b[1;33m\u001b[0m\u001b[0m\n",
      "\u001b[1;32m/NL/stackexchange/work/prog/broadcast-online/opt_model.py\u001b[0m in \u001b[0;36mget_oracle_df\u001b[1;34m(sim_opts, with_cost)\u001b[0m\n\u001b[0;32m    232\u001b[0m     \u001b[0mwall_mgr\u001b[0m\u001b[1;33m.\u001b[0m\u001b[0mrun\u001b[0m\u001b[1;33m(\u001b[0m\u001b[1;33m)\u001b[0m\u001b[1;33m\u001b[0m\u001b[0m\n\u001b[0;32m    233\u001b[0m     oracle_df, cost = oracle_ranking(df=wall_mgr.state.get_dataframe(),\n\u001b[1;32m--> 234\u001b[1;33m                                      sim_opts=sim_opts)\n\u001b[0m\u001b[0;32m    235\u001b[0m \u001b[1;33m\u001b[0m\u001b[0m\n\u001b[0;32m    236\u001b[0m     \u001b[1;32mif\u001b[0m \u001b[0mwith_cost\u001b[0m\u001b[1;33m:\u001b[0m\u001b[1;33m\u001b[0m\u001b[0m\n",
      "\u001b[1;32m/NL/stackexchange/work/prog/broadcast-online/opt_model.py\u001b[0m in \u001b[0;36moracle_ranking\u001b[1;34m(df, sim_opts, omit_src_ids, follower_ids)\u001b[0m\n\u001b[0;32m    202\u001b[0m         \u001b[1;32mfor\u001b[0m \u001b[0mr\u001b[0m \u001b[1;32min\u001b[0m \u001b[0mrange\u001b[0m\u001b[1;33m(\u001b[0m\u001b[0mmin\u001b[0m\u001b[1;33m(\u001b[0m\u001b[0mk\u001b[0m \u001b[1;33m+\u001b[0m \u001b[1;36m1\u001b[0m\u001b[1;33m,\u001b[0m \u001b[0mn\u001b[0m\u001b[1;33m)\u001b[0m\u001b[1;33m)\u001b[0m\u001b[1;33m:\u001b[0m\u001b[1;33m\u001b[0m\u001b[0m\n\u001b[0;32m    203\u001b[0m             J[r, k] = min(0.5 * s + J[0, k + 1],\n\u001b[1;32m--> 204\u001b[1;33m                           0.5 * q_vec * w[k + 1] * ((r + 1) ** 2) + J[r + 1, k + 1])\n\u001b[0m\u001b[0;32m    205\u001b[0m \u001b[1;33m\u001b[0m\u001b[0m\n\u001b[0;32m    206\u001b[0m     \u001b[1;31m# We are implicitly assuming that the oracle starts with rank 0\u001b[0m\u001b[1;33m\u001b[0m\u001b[1;33m\u001b[0m\u001b[0m\n",
      "\u001b[1;31mKeyboardInterrupt\u001b[0m: "
     ]
    }
   ],
   "source": [
    "oracle_df = find_opt_oracle((opt_mgr.state.get_dataframe().src_id == sim_opts.src_id).sum(), sim_opts=sim_opts, verbose=True)"
   ]
  },
  {
   "cell_type": "code",
   "execution_count": null,
   "metadata": {
    "collapsed": true
   },
   "outputs": [],
   "source": []
  },
  {
   "cell_type": "code",
   "execution_count": 37,
   "metadata": {
    "collapsed": false
   },
   "outputs": [
    {
     "name": "stdout",
     "output_type": "stream",
     "text": [
      "*** \u001b[31m2016-05-09 08:18:47.081529\u001b[0m Checkpoint: Started all processes: 100\n",
      "*** \u001b[31m2016-05-09 08:18:49.940184\u001b[0m Checkpoint: Active processes = 270\n",
      "*** \u001b[31m2016-05-09 08:18:50.777271\u001b[0m Checkpoint: Active processes = 290\n",
      "*** \u001b[31m2016-05-09 08:18:50.779849\u001b[0m Checkpoint: Active processes = 280\n",
      "*** \u001b[31m2016-05-09 08:18:50.792112\u001b[0m Checkpoint: Active processes = 270\n",
      "*** \u001b[31m2016-05-09 08:18:50.793241\u001b[0m Checkpoint: Active processes = 260\n",
      "*** \u001b[31m2016-05-09 08:18:50.794777\u001b[0m Checkpoint: Active processes = 250\n",
      "*** \u001b[31m2016-05-09 08:18:50.795902\u001b[0m Checkpoint: Active processes = 240\n",
      "*** \u001b[31m2016-05-09 08:18:50.817915\u001b[0m Checkpoint: Active processes = 230\n",
      "*** \u001b[31m2016-05-09 08:18:50.819779\u001b[0m Checkpoint: Active processes = 220\n",
      "*** \u001b[31m2016-05-09 08:18:50.820939\u001b[0m Checkpoint: Active processes = 210\n",
      "*** \u001b[31m2016-05-09 08:18:50.951663\u001b[0m Checkpoint: Active processes = 200\n",
      "*** \u001b[31m2016-05-09 08:18:54.382495\u001b[0m Checkpoint: Active processes = 190\n",
      "*** \u001b[31m2016-05-09 08:18:58.698906\u001b[0m Checkpoint: Active processes = 180\n",
      "*** \u001b[31m2016-05-09 08:19:48.095897\u001b[0m Checkpoint: Active processes = 170\n",
      "*** \u001b[31m2016-05-09 08:21:00.288157\u001b[0m Checkpoint: Active processes = 160\n",
      "*** \u001b[31m2016-05-09 08:21:16.088659\u001b[0m Checkpoint: Active processes = 150\n",
      "*** \u001b[31m2016-05-09 08:21:25.191589\u001b[0m Checkpoint: Active processes = 140\n",
      "*** \u001b[31m2016-05-09 08:21:42.358227\u001b[0m Checkpoint: Active processes = 130\n",
      "*** \u001b[31m2016-05-09 08:22:02.861292\u001b[0m Checkpoint: Active processes = 120\n",
      "*** \u001b[31m2016-05-09 08:22:10.594549\u001b[0m Checkpoint: Active processes = 110\n",
      "*** \u001b[31m2016-05-09 08:22:25.413377\u001b[0m Checkpoint: Active processes = 100\n",
      "*** \u001b[31m2016-05-09 08:22:34.432439\u001b[0m Checkpoint: Active processes = 90\n",
      "*** \u001b[31m2016-05-09 08:22:40.009428\u001b[0m Checkpoint: Active processes = 80\n",
      "*** \u001b[31m2016-05-09 08:22:53.509589\u001b[0m Checkpoint: Active processes = 70\n",
      "*** \u001b[31m2016-05-09 08:23:15.554000\u001b[0m Checkpoint: Active processes = 60\n",
      "*** \u001b[31m2016-05-09 08:30:13.049059\u001b[0m Checkpoint: Active processes = 50\n",
      "*** \u001b[31m2016-05-09 08:42:08.811865\u001b[0m Checkpoint: Active processes = 40\n",
      "*** \u001b[31m2016-05-09 08:44:46.072758\u001b[0m Checkpoint: Active processes = 30\n",
      "*** \u001b[31m2016-05-09 08:45:58.221376\u001b[0m Checkpoint: Active processes = 20\n",
      "*** \u001b[31m2016-05-09 08:47:32.190962\u001b[0m Checkpoint: Active processes = 10\n",
      "*** \u001b[31m2016-05-09 08:48:52.546494\u001b[0m Checkpoint: Active processes = 0\n",
      "Cleaning up 400 processes\n",
      "CPU times: user 463 ms, sys: 2.22 s, total: 2.69 s\n",
      "Wall time: 30min 6s\n"
     ]
    }
   ],
   "source": [
    "%%time\n",
    "poisson_res = run_inference(opts=poisson_inf_opts)"
   ]
  },
  {
   "cell_type": "code",
   "execution_count": null,
   "metadata": {
    "collapsed": false
   },
   "outputs": [
    {
     "name": "stdout",
     "output_type": "stream",
     "text": [
      "*** \u001b[31m2016-05-09 08:48:53.308927\u001b[0m Checkpoint: Started all processes: 100\n",
      "*** \u001b[31m2016-05-09 08:49:00.579532\u001b[0m Checkpoint: Active processes = 290\n",
      "*** \u001b[31m2016-05-09 08:49:00.618108\u001b[0m Checkpoint: Active processes = 290\n",
      "*** \u001b[31m2016-05-09 08:49:00.714166\u001b[0m Checkpoint: Active processes = 280\n",
      "*** \u001b[31m2016-05-09 08:49:00.716031\u001b[0m Checkpoint: Active processes = 270\n",
      "*** \u001b[31m2016-05-09 08:49:00.717039\u001b[0m Checkpoint: Active processes = 260\n",
      "*** \u001b[31m2016-05-09 08:49:00.932141\u001b[0m Checkpoint: Active processes = 250\n",
      "*** \u001b[31m2016-05-09 08:49:02.100976\u001b[0m Checkpoint: Active processes = 240\n",
      "*** \u001b[31m2016-05-09 08:49:03.077804\u001b[0m Checkpoint: Active processes = 230\n",
      "*** \u001b[31m2016-05-09 08:49:03.487425\u001b[0m Checkpoint: Active processes = 220\n",
      "*** \u001b[31m2016-05-09 08:49:04.199778\u001b[0m Checkpoint: Active processes = 210\n",
      "*** \u001b[31m2016-05-09 08:49:05.251493\u001b[0m Checkpoint: Active processes = 200\n",
      "*** \u001b[31m2016-05-09 08:49:30.222115\u001b[0m Checkpoint: Active processes = 190\n",
      "*** \u001b[31m2016-05-09 08:49:37.888044\u001b[0m Checkpoint: Active processes = 180\n",
      "*** \u001b[31m2016-05-09 08:50:41.227248\u001b[0m Checkpoint: Active processes = 170\n",
      "*** \u001b[31m2016-05-09 08:51:38.831205\u001b[0m Checkpoint: Active processes = 160\n",
      "*** \u001b[31m2016-05-09 08:52:18.391059\u001b[0m Checkpoint: Active processes = 150\n",
      "*** \u001b[31m2016-05-09 08:52:55.609800\u001b[0m Checkpoint: Active processes = 140\n",
      "*** \u001b[31m2016-05-09 08:53:15.056404\u001b[0m Checkpoint: Active processes = 130\n",
      "*** \u001b[31m2016-05-09 08:53:35.757450\u001b[0m Checkpoint: Active processes = 120\n",
      "*** \u001b[31m2016-05-09 08:53:51.015680\u001b[0m Checkpoint: Active processes = 110\n",
      "*** \u001b[31m2016-05-09 08:54:06.237367\u001b[0m Checkpoint: Active processes = 100\n",
      "*** \u001b[31m2016-05-09 08:54:17.249719\u001b[0m Checkpoint: Active processes = 90\n",
      "*** \u001b[31m2016-05-09 08:54:27.383728\u001b[0m Checkpoint: Active processes = 80\n",
      "*** \u001b[31m2016-05-09 08:54:47.845648\u001b[0m Checkpoint: Active processes = 70\n",
      "*** \u001b[31m2016-05-09 08:55:14.557469\u001b[0m Checkpoint: Active processes = 60\n",
      "*** \u001b[31m2016-05-09 09:05:33.842513\u001b[0m Checkpoint: Active processes = 50\n",
      "*** \u001b[31m2016-05-09 09:14:37.476446\u001b[0m Checkpoint: Active processes = 40\n",
      "*** \u001b[31m2016-05-09 09:15:55.922523\u001b[0m Checkpoint: Active processes = 30\n",
      "*** \u001b[31m2016-05-09 09:17:26.656363\u001b[0m Checkpoint: Active processes = 20\n",
      "*** \u001b[31m2016-05-09 09:18:43.570441\u001b[0m Checkpoint: Active processes = 10\n",
      "*** \u001b[31m2016-05-09 09:20:36.784842\u001b[0m Checkpoint: Active processes = 0\n",
      "Cleaning up 400 processes\n",
      "CPU times: user 660 ms, sys: 2.57 s, total: 3.23 s\n",
      "Wall time: 31min 44s\n"
     ]
    }
   ],
   "source": [
    "%%time\n",
    "hawkes_res = run_inference(opts=hawkes_inf_opts)"
   ]
  },
  {
   "cell_type": "code",
   "execution_count": null,
   "metadata": {
    "collapsed": false
   },
   "outputs": [
    {
     "name": "stdout",
     "output_type": "stream",
     "text": [
      "*** \u001b[31m2016-05-09 09:20:37.424398\u001b[0m Checkpoint: Started all processes: 100\n",
      "*** \u001b[31m2016-05-09 09:20:41.621777\u001b[0m Checkpoint: Active processes = 280\n",
      "*** \u001b[31m2016-05-09 09:20:42.392489\u001b[0m Checkpoint: Active processes = 290\n",
      "*** \u001b[31m2016-05-09 09:20:42.400050\u001b[0m Checkpoint: Active processes = 280\n",
      "*** \u001b[31m2016-05-09 09:20:42.413186\u001b[0m Checkpoint: Active processes = 270\n",
      "*** \u001b[31m2016-05-09 09:20:42.416593\u001b[0m Checkpoint: Active processes = 260\n",
      "*** \u001b[31m2016-05-09 09:20:42.419538\u001b[0m Checkpoint: Active processes = 250\n",
      "*** \u001b[31m2016-05-09 09:20:42.421017\u001b[0m Checkpoint: Active processes = 240\n",
      "*** \u001b[31m2016-05-09 09:20:42.422356\u001b[0m Checkpoint: Active processes = 230\n",
      "*** \u001b[31m2016-05-09 09:20:42.423535\u001b[0m Checkpoint: Active processes = 220\n",
      "*** \u001b[31m2016-05-09 09:20:42.424613\u001b[0m Checkpoint: Active processes = 210\n",
      "*** \u001b[31m2016-05-09 09:20:42.723693\u001b[0m Checkpoint: Active processes = 200\n",
      "*** \u001b[31m2016-05-09 09:20:49.065563\u001b[0m Checkpoint: Active processes = 190\n",
      "*** \u001b[31m2016-05-09 09:20:54.782507\u001b[0m Checkpoint: Active processes = 180\n",
      "*** \u001b[31m2016-05-09 09:21:22.801240\u001b[0m Checkpoint: Active processes = 170\n",
      "*** \u001b[31m2016-05-09 09:21:56.587634\u001b[0m Checkpoint: Active processes = 160\n"
     ]
    }
   ],
   "source": [
    "%%time\n",
    "piecewise_res = run_inference(opts=piecewise_inf_opts)"
   ]
  },
  {
   "cell_type": "code",
   "execution_count": 42,
   "metadata": {
    "collapsed": true
   },
   "outputs": [],
   "source": [
    "import pickle\n",
    "import seqfile"
   ]
  },
  {
   "cell_type": "code",
   "execution_count": 59,
   "metadata": {
    "collapsed": true
   },
   "outputs": [],
   "source": [
    "def strip_sim_opts_from_raw_results(d):\n",
    "    def rm_sim_opts(d_in):\n",
    "        return {k: v for k, v in d_in.items() if k != 'sim_opts'}\n",
    "    \n",
    "    return {k: (v if k != 'raw_results' else [rm_sim_opts(x) for x in v]) \n",
    "            for k, v in poisson_res._get_dict().items()}\n",
    "    "
   ]
  },
  {
   "cell_type": "code",
   "execution_count": 60,
   "metadata": {
    "collapsed": true
   },
   "outputs": [],
   "source": [
    "tmp = strip_sim_opts_from_raw_results(poisson_res._get_dict())"
   ]
  },
  {
   "cell_type": "code",
   "execution_count": 61,
   "metadata": {
    "collapsed": false
   },
   "outputs": [
    {
     "data": {
      "text/plain": [
       "dict_keys(['capacities', 'raw_results', 'df'])"
      ]
     },
     "execution_count": 61,
     "metadata": {},
     "output_type": "execute_result"
    }
   ],
   "source": [
    "tmp.keys()"
   ]
  },
  {
   "cell_type": "code",
   "execution_count": 62,
   "metadata": {
    "collapsed": false
   },
   "outputs": [
    {
     "data": {
      "text/plain": [
       "dict_keys(['world_events', 'capacity', 'seed', 'r_2', 'top_3', 'avg_rank', 'type', 's', 'num_events', 'top_5', 'top_1', 'top_20', 'top_10'])"
      ]
     },
     "execution_count": 62,
     "metadata": {},
     "output_type": "execute_result"
    }
   ],
   "source": [
    "tmp['raw_results'][1].keys()"
   ]
  },
  {
   "cell_type": "code",
   "execution_count": 63,
   "metadata": {
    "collapsed": false
   },
   "outputs": [
    {
     "name": "stdout",
     "output_type": "stream",
     "text": [
      "Wrote ./synthetic-3.pickle\n"
     ]
    }
   ],
   "source": [
    "with open(seqfile.findNextFile(prefix='synthetic-', suffix='.pickle'), 'wb') as pickle_file:\n",
    "    pickle.dump({'poisson': strip_sim_opts_from_raw_results(poisson_res._get_dict()), \n",
    "                 'hawkes': strip_sim_opts_from_raw_results(hawkes_res._get_dict()), \n",
    "                 'piecewise': strip_sim_opts_from_raw_results(piecewise_res._get_dict())}, pickle_file)\n",
    "    print('Wrote {}'.format(pickle_file.name))"
   ]
  },
  {
   "cell_type": "code",
   "execution_count": 49,
   "metadata": {
    "collapsed": false
   },
   "outputs": [
    {
     "ename": "PicklingError",
     "evalue": "Can't pickle <class '__main__.SimOpts'>: it's not the same object as __main__.SimOpts",
     "output_type": "error",
     "traceback": [
      "\u001b[1;31m---------------------------------------------------------------------------\u001b[0m",
      "\u001b[1;31mPicklingError\u001b[0m                             Traceback (most recent call last)",
      "\u001b[1;32m/NL/stackexchange/work/prog/broadcast-online/opt_model.py\u001b[0m in \u001b[0;36m<module>\u001b[1;34m()\u001b[0m\n\u001b[0;32m      2\u001b[0m     pickle.dump({'poisson': poisson_res._get_dict(), \n\u001b[0;32m      3\u001b[0m                  \u001b[1;34m'hawkes'\u001b[0m\u001b[1;33m:\u001b[0m \u001b[0mhawkes_res\u001b[0m\u001b[1;33m.\u001b[0m\u001b[0m_get_dict\u001b[0m\u001b[1;33m(\u001b[0m\u001b[1;33m)\u001b[0m\u001b[1;33m,\u001b[0m\u001b[1;33m\u001b[0m\u001b[0m\n\u001b[1;32m----> 4\u001b[1;33m                  'piecewise': piecewise_res._get_dict()}, pickle_file)\n\u001b[0m\u001b[0;32m      5\u001b[0m     \u001b[0mprint\u001b[0m\u001b[1;33m(\u001b[0m\u001b[1;34m'Wrote {}'\u001b[0m\u001b[1;33m.\u001b[0m\u001b[0mformat\u001b[0m\u001b[1;33m(\u001b[0m\u001b[0mpickle_file\u001b[0m\u001b[1;33m.\u001b[0m\u001b[0mname\u001b[0m\u001b[1;33m)\u001b[0m\u001b[1;33m)\u001b[0m\u001b[1;33m\u001b[0m\u001b[0m\n",
      "\u001b[1;31mPicklingError\u001b[0m: Can't pickle <class '__main__.SimOpts'>: it's not the same object as __main__.SimOpts"
     ]
    }
   ],
   "source": [
    "with open(seqfile.findNextFile(prefix='synthetic-', suffix='.pickle'), 'wb') as pickle_file:\n",
    "    pickle.dump({'poisson': poisson_res._get_dict(), \n",
    "                 'hawkes': hawkes_res._get_dict(), \n",
    "                 'piecewise': piecewise_res._get_dict()}, pickle_file)\n",
    "    print('Wrote {}'.format(pickle_file.name))"
   ]
  },
  {
   "cell_type": "code",
   "execution_count": 36,
   "metadata": {
    "collapsed": false
   },
   "outputs": [
    {
     "ename": "PicklingError",
     "evalue": "Can't pickle <class '__main__.SimOpts'>: it's not the same object as __main__.SimOpts",
     "output_type": "error",
     "traceback": [
      "\u001b[1;31m---------------------------------------------------------------------------\u001b[0m",
      "\u001b[1;31mPicklingError\u001b[0m                             Traceback (most recent call last)",
      "\u001b[1;32m/NL/stackexchange/work/prog/broadcast-online/opt_model.py\u001b[0m in \u001b[0;36m<module>\u001b[1;34m()\u001b[0m\n\u001b[0;32m      2\u001b[0m     pickle.dump({'poisson': poisson_res_2._get_dict(), \n\u001b[0;32m      3\u001b[0m                  \u001b[1;34m'hawkes'\u001b[0m\u001b[1;33m:\u001b[0m \u001b[0mhawkes_res_2\u001b[0m\u001b[1;33m.\u001b[0m\u001b[0m_get_dict\u001b[0m\u001b[1;33m(\u001b[0m\u001b[1;33m)\u001b[0m\u001b[1;33m,\u001b[0m\u001b[1;33m\u001b[0m\u001b[0m\n\u001b[1;32m----> 4\u001b[1;33m                  'piecewise': piecewise_res_2._get_dict()}, pickle_file)\n\u001b[0m",
      "\u001b[1;31mPicklingError\u001b[0m: Can't pickle <class '__main__.SimOpts'>: it's not the same object as __main__.SimOpts"
     ]
    }
   ],
   "source": [
    "with open(seqfile.findNextFile(prefix='synthetic-', suffix='.pickle'), 'wb') as pickle_file:\n",
    "    pickle.dump({'poisson': poisson_res_2._get_dict(), \n",
    "                 'hawkes': hawkes_res_2._get_dict(), \n",
    "                 'piecewise': piecewise_res_2._get_dict()}, pickle_file)\n",
    "    print('Wrote {}'.format(pickle_file.name))"
   ]
  },
  {
   "cell_type": "code",
   "execution_count": 65,
   "metadata": {
    "collapsed": false
   },
   "outputs": [
    {
     "name": "stdout",
     "output_type": "stream",
     "text": [
      "Some variables are already defined. Are you sure you want to clobber them? [Y/n]n\n",
      "Cloberring averted.\n"
     ]
    }
   ],
   "source": [
    "defined = False\n",
    "try:\n",
    "    poisson_res, hawkes_res, piecewise_res\n",
    "    defined = True\n",
    "except NameError:\n",
    "    pass\n",
    "\n",
    "if defined:\n",
    "     confirmation = input('Some variables are already defined. Are you sure you want to clobber them? [Y/n]')\n",
    "    \n",
    "if confirmation.lower().startswith('y'):\n",
    "    with open('synthetic-wrong.pickle', 'rb') as pickle_file:\n",
    "        reloaded = pickle.load(pickle_file)\n",
    "\n",
    "    poisson_res = Options(**reloaded['poisson'])\n",
    "    hawkes_res = Options(**reloaded['hawkes'])\n",
    "    piecewise_res = Options(**reloaded['piecewise'])\n",
    "else:\n",
    "    print('Cloberring averted.')"
   ]
  },
  {
   "cell_type": "code",
   "execution_count": 66,
   "metadata": {
    "collapsed": false
   },
   "outputs": [
    {
     "data": {
      "text/plain": [
       "0.0"
      ]
     },
     "execution_count": 66,
     "metadata": {},
     "output_type": "execute_result"
    }
   ],
   "source": [
    "tmp = [x for x in poisson_res.raw_results if x['type'] == 'Opt']\n",
    "tmp2 = pd.DataFrame.from_records(tmp)\n",
    "np.sum(tmp2.capacity < tmp2.num_events) / tmp2.shape[0]"
   ]
  },
  {
   "cell_type": "code",
   "execution_count": 134,
   "metadata": {
    "collapsed": false
   },
   "outputs": [
    {
     "data": {
      "text/plain": [
       "(31781.458986215268, 31989)"
      ]
     },
     "execution_count": 134,
     "metadata": {},
     "output_type": "execute_result"
    }
   ],
   "source": [
    "np.sum(tmp2.capacity), np.sum(tmp2.num_events)"
   ]
  },
  {
   "cell_type": "code",
   "execution_count": 45,
   "metadata": {
    "collapsed": true
   },
   "outputs": [
    {
     "data": {
      "text/html": [
       "<div>\n",
       "<table border=\"1\" class=\"dataframe\">\n",
       "  <thead>\n",
       "    <tr style=\"text-align: right;\">\n",
       "      <th></th>\n",
       "      <th>capacity</th>\n",
       "      <th>num_events</th>\n",
       "      <th>perf</th>\n",
       "      <th>seed</th>\n",
       "      <th>sim_opts</th>\n",
       "      <th>type</th>\n",
       "    </tr>\n",
       "  </thead>\n",
       "  <tbody>\n",
       "    <tr>\n",
       "      <th>250</th>\n",
       "      <td>11.386027</td>\n",
       "      <td>15</td>\n",
       "      <td>0.057064</td>\n",
       "      <td>3</td>\n",
       "      <td>&lt;__main__.SimOpts object at 0x7fdd4ed00c18&gt;</td>\n",
       "      <td>Opt</td>\n",
       "    </tr>\n",
       "    <tr>\n",
       "      <th>156</th>\n",
       "      <td>12.239445</td>\n",
       "      <td>16</td>\n",
       "      <td>0.046731</td>\n",
       "      <td>7</td>\n",
       "      <td>&lt;__main__.SimOpts object at 0x7fdd53b8dda0&gt;</td>\n",
       "      <td>Opt</td>\n",
       "    </tr>\n",
       "    <tr>\n",
       "      <th>151</th>\n",
       "      <td>12.555923</td>\n",
       "      <td>15</td>\n",
       "      <td>0.039193</td>\n",
       "      <td>3</td>\n",
       "      <td>&lt;__main__.SimOpts object at 0x7fdd53b714e0&gt;</td>\n",
       "      <td>Opt</td>\n",
       "    </tr>\n",
       "    <tr>\n",
       "      <th>254</th>\n",
       "      <td>12.558445</td>\n",
       "      <td>16</td>\n",
       "      <td>0.057302</td>\n",
       "      <td>7</td>\n",
       "      <td>&lt;__main__.SimOpts object at 0x7fdd4ed24ba8&gt;</td>\n",
       "      <td>Opt</td>\n",
       "    </tr>\n",
       "    <tr>\n",
       "      <th>248</th>\n",
       "      <td>12.975326</td>\n",
       "      <td>16</td>\n",
       "      <td>0.040138</td>\n",
       "      <td>1</td>\n",
       "      <td>&lt;__main__.SimOpts object at 0x7fdd4ed00518&gt;</td>\n",
       "      <td>Opt</td>\n",
       "    </tr>\n",
       "    <tr>\n",
       "      <th>257</th>\n",
       "      <td>13.013955</td>\n",
       "      <td>16</td>\n",
       "      <td>0.047825</td>\n",
       "      <td>8</td>\n",
       "      <td>&lt;__main__.SimOpts object at 0x7fdd4ecc9668&gt;</td>\n",
       "      <td>Opt</td>\n",
       "    </tr>\n",
       "    <tr>\n",
       "      <th>29</th>\n",
       "      <td>13.038352</td>\n",
       "      <td>15</td>\n",
       "      <td>0.054903</td>\n",
       "      <td>2</td>\n",
       "      <td>&lt;__main__.SimOpts object at 0x7fdd56288358&gt;</td>\n",
       "      <td>Opt</td>\n",
       "    </tr>\n",
       "    <tr>\n",
       "      <th>57</th>\n",
       "      <td>13.038352</td>\n",
       "      <td>15</td>\n",
       "      <td>0.054903</td>\n",
       "      <td>2</td>\n",
       "      <td>&lt;__main__.SimOpts object at 0x7fdd540e2630&gt;</td>\n",
       "      <td>Opt</td>\n",
       "    </tr>\n",
       "    <tr>\n",
       "      <th>150</th>\n",
       "      <td>13.038352</td>\n",
       "      <td>15</td>\n",
       "      <td>0.054903</td>\n",
       "      <td>2</td>\n",
       "      <td>&lt;__main__.SimOpts object at 0x7fdd53bccda0&gt;</td>\n",
       "      <td>Opt</td>\n",
       "    </tr>\n",
       "    <tr>\n",
       "      <th>158</th>\n",
       "      <td>13.122530</td>\n",
       "      <td>17</td>\n",
       "      <td>0.052711</td>\n",
       "      <td>8</td>\n",
       "      <td>&lt;__main__.SimOpts object at 0x7fdd53b2b828&gt;</td>\n",
       "      <td>Opt</td>\n",
       "    </tr>\n",
       "  </tbody>\n",
       "</table>\n",
       "</div>"
      ],
      "text/plain": [
       "      capacity  num_events      perf  seed  \\\n",
       "250  11.386027          15  0.057064     3   \n",
       "156  12.239445          16  0.046731     7   \n",
       "151  12.555923          15  0.039193     3   \n",
       "254  12.558445          16  0.057302     7   \n",
       "248  12.975326          16  0.040138     1   \n",
       "257  13.013955          16  0.047825     8   \n",
       "29   13.038352          15  0.054903     2   \n",
       "57   13.038352          15  0.054903     2   \n",
       "150  13.038352          15  0.054903     2   \n",
       "158  13.122530          17  0.052711     8   \n",
       "\n",
       "                                        sim_opts type  \n",
       "250  <__main__.SimOpts object at 0x7fdd4ed00c18>  Opt  \n",
       "156  <__main__.SimOpts object at 0x7fdd53b8dda0>  Opt  \n",
       "151  <__main__.SimOpts object at 0x7fdd53b714e0>  Opt  \n",
       "254  <__main__.SimOpts object at 0x7fdd4ed24ba8>  Opt  \n",
       "248  <__main__.SimOpts object at 0x7fdd4ed00518>  Opt  \n",
       "257  <__main__.SimOpts object at 0x7fdd4ecc9668>  Opt  \n",
       "29   <__main__.SimOpts object at 0x7fdd56288358>  Opt  \n",
       "57   <__main__.SimOpts object at 0x7fdd540e2630>  Opt  \n",
       "150  <__main__.SimOpts object at 0x7fdd53bccda0>  Opt  \n",
       "158  <__main__.SimOpts object at 0x7fdd53b2b828>  Opt  "
      ]
     },
     "execution_count": 45,
     "metadata": {},
     "output_type": "execute_result"
    }
   ],
   "source": [
    "tmp2.sort_values('capacity').head(10)"
   ]
  },
  {
   "cell_type": "code",
   "execution_count": 135,
   "metadata": {
    "collapsed": false
   },
   "outputs": [
    {
     "data": {
      "text/html": [
       "<div>\n",
       "<table border=\"1\" class=\"dataframe\">\n",
       "  <thead>\n",
       "    <tr style=\"text-align: right;\">\n",
       "      <th>type</th>\n",
       "      <th>Opt</th>\n",
       "      <th>Oracle</th>\n",
       "      <th>Poisson</th>\n",
       "      <th>kdd</th>\n",
       "    </tr>\n",
       "    <tr>\n",
       "      <th>s</th>\n",
       "      <th></th>\n",
       "      <th></th>\n",
       "      <th></th>\n",
       "      <th></th>\n",
       "    </tr>\n",
       "  </thead>\n",
       "  <tbody>\n",
       "    <tr>\n",
       "      <th>1.000000e-08</th>\n",
       "      <td>0.090412</td>\n",
       "      <td>0.006760</td>\n",
       "      <td>0.654660</td>\n",
       "      <td>0.648606</td>\n",
       "    </tr>\n",
       "    <tr>\n",
       "      <th>1.000000e-07</th>\n",
       "      <td>0.244710</td>\n",
       "      <td>0.034512</td>\n",
       "      <td>0.915437</td>\n",
       "      <td>0.891291</td>\n",
       "    </tr>\n",
       "    <tr>\n",
       "      <th>1.000000e-06</th>\n",
       "      <td>0.583460</td>\n",
       "      <td>0.139707</td>\n",
       "      <td>1.438317</td>\n",
       "      <td>1.422112</td>\n",
       "    </tr>\n",
       "    <tr>\n",
       "      <th>1.000000e-05</th>\n",
       "      <td>1.202326</td>\n",
       "      <td>0.450119</td>\n",
       "      <td>2.422836</td>\n",
       "      <td>2.417164</td>\n",
       "    </tr>\n",
       "    <tr>\n",
       "      <th>1.000000e-04</th>\n",
       "      <td>2.338507</td>\n",
       "      <td>1.046241</td>\n",
       "      <td>4.199136</td>\n",
       "      <td>4.173143</td>\n",
       "    </tr>\n",
       "    <tr>\n",
       "      <th>1.000000e-03</th>\n",
       "      <td>4.300681</td>\n",
       "      <td>2.257866</td>\n",
       "      <td>7.412770</td>\n",
       "      <td>7.692488</td>\n",
       "    </tr>\n",
       "    <tr>\n",
       "      <th>1.000000e-02</th>\n",
       "      <td>8.017202</td>\n",
       "      <td>4.435845</td>\n",
       "      <td>11.901853</td>\n",
       "      <td>15.350546</td>\n",
       "    </tr>\n",
       "    <tr>\n",
       "      <th>1.000000e-01</th>\n",
       "      <td>14.450662</td>\n",
       "      <td>8.537676</td>\n",
       "      <td>20.859410</td>\n",
       "      <td>37.574811</td>\n",
       "    </tr>\n",
       "    <tr>\n",
       "      <th>1.000000e+00</th>\n",
       "      <td>26.563222</td>\n",
       "      <td>15.643510</td>\n",
       "      <td>34.116893</td>\n",
       "      <td>75.086694</td>\n",
       "    </tr>\n",
       "    <tr>\n",
       "      <th>1.000000e+01</th>\n",
       "      <td>45.019257</td>\n",
       "      <td>30.995632</td>\n",
       "      <td>57.797322</td>\n",
       "      <td>130.043738</td>\n",
       "    </tr>\n",
       "  </tbody>\n",
       "</table>\n",
       "</div>"
      ],
      "text/plain": [
       "type                Opt     Oracle    Poisson         kdd\n",
       "s                                                        \n",
       "1.000000e-08   0.090412   0.006760   0.654660    0.648606\n",
       "1.000000e-07   0.244710   0.034512   0.915437    0.891291\n",
       "1.000000e-06   0.583460   0.139707   1.438317    1.422112\n",
       "1.000000e-05   1.202326   0.450119   2.422836    2.417164\n",
       "1.000000e-04   2.338507   1.046241   4.199136    4.173143\n",
       "1.000000e-03   4.300681   2.257866   7.412770    7.692488\n",
       "1.000000e-02   8.017202   4.435845  11.901853   15.350546\n",
       "1.000000e-01  14.450662   8.537676  20.859410   37.574811\n",
       "1.000000e+00  26.563222  15.643510  34.116893   75.086694\n",
       "1.000000e+01  45.019257  30.995632  57.797322  130.043738"
      ]
     },
     "execution_count": 135,
     "metadata": {},
     "output_type": "execute_result"
    }
   ],
   "source": [
    "poisson_res.df.pivot_table(index='s', columns='type', values='avg_rank', aggfunc=np.mean)"
   ]
  },
  {
   "cell_type": "code",
   "execution_count": 136,
   "metadata": {
    "collapsed": false
   },
   "outputs": [
    {
     "data": {
      "text/html": [
       "<div>\n",
       "<table border=\"1\" class=\"dataframe\">\n",
       "  <thead>\n",
       "    <tr style=\"text-align: right;\">\n",
       "      <th>type</th>\n",
       "      <th>Opt</th>\n",
       "      <th>Oracle</th>\n",
       "      <th>Poisson</th>\n",
       "      <th>kdd</th>\n",
       "    </tr>\n",
       "    <tr>\n",
       "      <th>s</th>\n",
       "      <th></th>\n",
       "      <th></th>\n",
       "      <th></th>\n",
       "      <th></th>\n",
       "    </tr>\n",
       "  </thead>\n",
       "  <tbody>\n",
       "    <tr>\n",
       "      <th>1.000000e-08</th>\n",
       "      <td>0.123128</td>\n",
       "      <td>0.006988</td>\n",
       "      <td>1.087908</td>\n",
       "      <td>1.072701</td>\n",
       "    </tr>\n",
       "    <tr>\n",
       "      <th>1.000000e-07</th>\n",
       "      <td>0.321212</td>\n",
       "      <td>0.046374</td>\n",
       "      <td>1.332405</td>\n",
       "      <td>1.325758</td>\n",
       "    </tr>\n",
       "    <tr>\n",
       "      <th>1.000000e-06</th>\n",
       "      <td>0.716194</td>\n",
       "      <td>0.207395</td>\n",
       "      <td>1.908376</td>\n",
       "      <td>1.908991</td>\n",
       "    </tr>\n",
       "    <tr>\n",
       "      <th>1.000000e-05</th>\n",
       "      <td>1.450049</td>\n",
       "      <td>0.576339</td>\n",
       "      <td>3.005475</td>\n",
       "      <td>3.082026</td>\n",
       "    </tr>\n",
       "    <tr>\n",
       "      <th>1.000000e-04</th>\n",
       "      <td>2.755102</td>\n",
       "      <td>1.316454</td>\n",
       "      <td>5.067406</td>\n",
       "      <td>5.388839</td>\n",
       "    </tr>\n",
       "    <tr>\n",
       "      <th>1.000000e-03</th>\n",
       "      <td>5.051341</td>\n",
       "      <td>2.783289</td>\n",
       "      <td>8.832398</td>\n",
       "      <td>14.466720</td>\n",
       "    </tr>\n",
       "    <tr>\n",
       "      <th>1.000000e-02</th>\n",
       "      <td>9.327012</td>\n",
       "      <td>5.421695</td>\n",
       "      <td>14.380520</td>\n",
       "      <td>63.403558</td>\n",
       "    </tr>\n",
       "    <tr>\n",
       "      <th>1.000000e-01</th>\n",
       "      <td>16.535054</td>\n",
       "      <td>10.502141</td>\n",
       "      <td>24.577961</td>\n",
       "      <td>161.990842</td>\n",
       "    </tr>\n",
       "    <tr>\n",
       "      <th>1.000000e+00</th>\n",
       "      <td>30.111638</td>\n",
       "      <td>19.479566</td>\n",
       "      <td>42.614478</td>\n",
       "      <td>235.682156</td>\n",
       "    </tr>\n",
       "    <tr>\n",
       "      <th>1.000000e+01</th>\n",
       "      <td>53.618210</td>\n",
       "      <td>36.477362</td>\n",
       "      <td>69.020165</td>\n",
       "      <td>370.319904</td>\n",
       "    </tr>\n",
       "  </tbody>\n",
       "</table>\n",
       "</div>"
      ],
      "text/plain": [
       "type                Opt     Oracle    Poisson         kdd\n",
       "s                                                        \n",
       "1.000000e-08   0.123128   0.006988   1.087908    1.072701\n",
       "1.000000e-07   0.321212   0.046374   1.332405    1.325758\n",
       "1.000000e-06   0.716194   0.207395   1.908376    1.908991\n",
       "1.000000e-05   1.450049   0.576339   3.005475    3.082026\n",
       "1.000000e-04   2.755102   1.316454   5.067406    5.388839\n",
       "1.000000e-03   5.051341   2.783289   8.832398   14.466720\n",
       "1.000000e-02   9.327012   5.421695  14.380520   63.403558\n",
       "1.000000e-01  16.535054  10.502141  24.577961  161.990842\n",
       "1.000000e+00  30.111638  19.479566  42.614478  235.682156\n",
       "1.000000e+01  53.618210  36.477362  69.020165  370.319904"
      ]
     },
     "execution_count": 136,
     "metadata": {},
     "output_type": "execute_result"
    }
   ],
   "source": [
    "hawkes_res.df.pivot_table(index='s', columns='type', values='avg_rank', aggfunc=np.mean)"
   ]
  },
  {
   "cell_type": "code",
   "execution_count": 94,
   "metadata": {
    "collapsed": true
   },
   "outputs": [],
   "source": [
    "tmp = [x for x in raw_results if x['type'] == 'kdd']"
   ]
  },
  {
   "cell_type": "code",
   "execution_count": 123,
   "metadata": {
    "collapsed": false
   },
   "outputs": [
    {
     "data": {
      "text/plain": [
       "{'kdd_opt': array([  64.382,   78.114,  101.586,  114.336,   76.14 ,   99.839,\n",
       "          85.668,  127.037,   64.294,   94.166]),\n",
       " 'perf': 0.84974391184022691,\n",
       " 's': 1e-08,\n",
       " 'seed': 9,\n",
       " 'type': 'kdd'}"
      ]
     },
     "execution_count": 123,
     "metadata": {},
     "output_type": "execute_result"
    }
   ],
   "source": [
    "idx = len(tmp) - 1\n",
    "tmp[idx]"
   ]
  },
  {
   "cell_type": "code",
   "execution_count": 124,
   "metadata": {
    "collapsed": false
   },
   "outputs": [
    {
     "data": {
      "text/plain": [
       "905.5634469866709"
      ]
     },
     "execution_count": 124,
     "metadata": {},
     "output_type": "execute_result"
    }
   ],
   "source": [
    "np.sum(tmp[idx]['kdd_opt'])"
   ]
  },
  {
   "cell_type": "code",
   "execution_count": 125,
   "metadata": {
    "collapsed": false
   },
   "outputs": [
    {
     "data": {
      "text/plain": [
       "<__main__.Manager at 0x7fe65fb089b0>"
      ]
     },
     "execution_count": 125,
     "metadata": {},
     "output_type": "execute_result"
    }
   ],
   "source": [
    "sim_opts = SimOpts.std_poisson(world_seed=tmp[idx]['seed'], world_rate=world_rate)\n",
    "mgr = sim_opts.create_manager_for_piecewise_const(tmp[idx]['seed'], np.arange(num_segments) * (T / num_segments), \n",
    "                                                  tmp[idx]['kdd_opt'] / (T / num_segments))\n",
    "mgr.run()"
   ]
  },
  {
   "cell_type": "code",
   "execution_count": 126,
   "metadata": {
    "collapsed": true
   },
   "outputs": [],
   "source": [
    "df = mgr.state.get_dataframe()"
   ]
  },
  {
   "cell_type": "code",
   "execution_count": 127,
   "metadata": {
    "collapsed": false
   },
   "outputs": [
    {
     "data": {
      "text/plain": [
       "(933, 5)"
      ]
     },
     "execution_count": 127,
     "metadata": {},
     "output_type": "execute_result"
    }
   ],
   "source": [
    "df[df.src_id == 1].shape"
   ]
  },
  {
   "cell_type": "code",
   "execution_count": 60,
   "metadata": {
    "collapsed": false
   },
   "outputs": [
    {
     "data": {
      "text/plain": [
       "array([ 6872.701,  9753.572,  8659.97 ,  7993.292,  5780.093,  5779.973,\n",
       "        5290.418,  9330.881,  8005.575,  8540.363])"
      ]
     },
     "execution_count": 60,
     "metadata": {},
     "output_type": "execute_result"
    }
   ],
   "source": [
    "world_changing_rates"
   ]
  },
  {
   "cell_type": "code",
   "execution_count": 137,
   "metadata": {
    "collapsed": true
   },
   "outputs": [],
   "source": [
    "%run -i utils.py\n",
    "%run -i opt_model.py"
   ]
  },
  {
   "cell_type": "code",
   "execution_count": 78,
   "metadata": {
    "collapsed": false
   },
   "outputs": [
    {
     "name": "stdout",
     "output_type": "stream",
     "text": [
      "*** \u001b[31m2016-05-06 23:17:36.775776\u001b[0m Checkpoint: s_lo = 0.5, s_hi = 1.0, num_events = 16 \n",
      "*** \u001b[31m2016-05-06 23:17:36.822124\u001b[0m Checkpoint: s_lo = 0.25, s_hi = 0.5, num_events = 19 \n",
      "*** \u001b[31m2016-05-06 23:17:36.865436\u001b[0m Checkpoint: s_lo = 0.125, s_hi = 0.25, num_events = 23 \n",
      "*** \u001b[31m2016-05-06 23:17:36.908808\u001b[0m Checkpoint: s_lo = 0.0625, s_hi = 0.125, num_events = 29 \n",
      "*** \u001b[31m2016-05-06 23:17:36.952059\u001b[0m Checkpoint: s_lo = 0.03125, s_hi = 0.0625, num_events = 38 \n",
      "*** \u001b[31m2016-05-06 23:17:36.995332\u001b[0m Checkpoint: s_lo = 0.015625, s_hi = 0.03125, num_events = 44 \n",
      "*** \u001b[31m2016-05-06 23:17:37.038704\u001b[0m Checkpoint: s_lo = 0.0078125, s_hi = 0.015625, num_events = 51 \n",
      "*** \u001b[31m2016-05-06 23:17:37.038984\u001b[0m Checkpoint: s_lo = 0.0078125, s_hi = 0.015625\n",
      "*** \u001b[31m2016-05-06 23:17:37.082146\u001b[0m Checkpoint: s_try = 0.01171875, events = 47, cost = 0.34094464338074343\n",
      "*** \u001b[31m2016-05-06 23:17:37.125737\u001b[0m Checkpoint: s_try = 0.009765625, events = 51, cost = 0.29237130465832506\n",
      "*** \u001b[31m2016-05-06 23:17:37.169080\u001b[0m Checkpoint: s_try = 0.0107421875, events = 48, cost = 0.31704464211326533\n",
      "*** \u001b[31m2016-05-06 23:17:37.212191\u001b[0m Checkpoint: s_try = 0.01025390625, events = 49, cost = 0.30502268182881753\n",
      "*** \u001b[31m2016-05-06 23:17:37.255744\u001b[0m Checkpoint: s_try = 0.010009765625, events = 51, cost = 0.29871896090832506\n",
      "*** \u001b[31m2016-05-06 23:17:37.299163\u001b[0m Checkpoint: s_try = 0.0101318359375, events = 51, cost = 0.30189278903332506\n",
      "*** \u001b[31m2016-05-06 23:17:37.342207\u001b[0m Checkpoint: s_try = 0.01019287109375, events = 51, cost = 0.30347970309582506\n",
      "*** \u001b[31m2016-05-06 23:17:37.385159\u001b[0m Checkpoint: s_try = 0.010223388671875, events = 49, cost = 0.30425974237569253\n",
      "*** \u001b[31m2016-05-06 23:17:37.428481\u001b[0m Checkpoint: s_try = 0.0102081298828125, events = 51, cost = 0.30387643161145006\n",
      "*** \u001b[31m2016-05-06 23:17:37.472165\u001b[0m Checkpoint: s_try = 0.01021575927734375, events = 49, cost = 0.3040690075124113\n",
      "*** \u001b[31m2016-05-06 23:17:37.515546\u001b[0m Checkpoint: s_try = 0.010211944580078125, events = 49, cost = 0.30397364008077066\n",
      "*** \u001b[31m2016-05-06 23:17:37.559016\u001b[0m Checkpoint: s_try = 0.010210037231445312, events = 50, cost = 0.30392549448428646\n",
      "CPU times: user 923 ms, sys: 0 ns, total: 923 ms\n",
      "Wall time: 921 ms\n"
     ]
    }
   ],
   "source": [
    "%%time\n",
    "sim_opts = SimOpts.std_piecewise_const(world_seed=1, \n",
    "                                       world_change_times=world_change_times,\n",
    "                                       world_rates=world_changing_rates  / 10.0)"
   ]
  },
  {
   "cell_type": "code",
   "execution_count": 172,
   "metadata": {
    "collapsed": false
   },
   "outputs": [
    {
     "name": "stdout",
     "output_type": "stream",
     "text": [
      "*** \u001b[31m2016-05-07 01:47:38.712765\u001b[0m Checkpoint: s_lo = 1.0, s_hi = 2.0, num_events = 59 \n",
      "*** \u001b[31m2016-05-07 01:47:43.295365\u001b[0m Checkpoint: s_lo = 2.0, s_hi = 4.0, num_events = 50 \n",
      "*** \u001b[31m2016-05-07 01:47:47.877662\u001b[0m Checkpoint: s_lo = 4.0, s_hi = 8.0, num_events = 38 \n",
      "*** \u001b[31m2016-05-07 01:47:47.877921\u001b[0m Checkpoint: s_lo = 4.0, s_hi = 8.0\n",
      "*** \u001b[31m2016-05-07 01:47:52.475038\u001b[0m Checkpoint: s_try = 6.0, events = 43, cost = 190.24351658547735\n",
      "*** \u001b[31m2016-05-07 01:47:57.100385\u001b[0m Checkpoint: s_try = 5.0, events = 44, cost = 167.86559770034106\n",
      "*** \u001b[31m2016-05-07 01:48:01.686475\u001b[0m Checkpoint: s_try = 4.5, events = 47, cost = 156.45216699162305\n",
      "*** \u001b[31m2016-05-07 01:48:06.268635\u001b[0m Checkpoint: s_try = 4.25, events = 48, cost = 150.4490239466958\n",
      "*** \u001b[31m2016-05-07 01:48:10.907890\u001b[0m Checkpoint: s_try = 4.125, events = 49, cost = 147.34170023154488\n",
      "*** \u001b[31m2016-05-07 01:48:15.692948\u001b[0m Checkpoint: s_try = 4.0625, events = 50, cost = 145.75934253252828\n"
     ]
    }
   ],
   "source": [
    "opt_oracle=find_opt_oracle(50.0, sim_opts, verbose=True)"
   ]
  },
  {
   "cell_type": "code",
   "execution_count": 159,
   "metadata": {
    "collapsed": false
   },
   "outputs": [
    {
     "name": "stdout",
     "output_type": "stream",
     "text": [
      "*** \u001b[31m2016-05-07 01:33:01.357070\u001b[0m Checkpoint: s_lo = 1.0, s_hi = 2.0, num_events = 59 \n",
      "*** \u001b[31m2016-05-07 01:33:06.003020\u001b[0m Checkpoint: s_lo = 2.0, s_hi = 4.0, num_events = 50 \n",
      "*** \u001b[31m2016-05-07 01:33:10.599267\u001b[0m Checkpoint: s_lo = 4.0, s_hi = 8.0, num_events = 38 \n",
      "*** \u001b[31m2016-05-07 01:33:10.599564\u001b[0m Checkpoint: s_lo = 4.0, s_hi = 8.0\n",
      "*** \u001b[31m2016-05-07 01:33:15.257199\u001b[0m Checkpoint: s_try = 6.0, events = 43, cost = 190.24351658547735\n",
      "*** \u001b[31m2016-05-07 01:33:19.922371\u001b[0m Checkpoint: s_try = 5.0, events = 44, cost = 167.86559770034106\n",
      "*** \u001b[31m2016-05-07 01:33:24.563932\u001b[0m Checkpoint: s_try = 4.5, events = 47, cost = 156.45216699162305\n",
      "*** \u001b[31m2016-05-07 01:33:29.190108\u001b[0m Checkpoint: s_try = 4.25, events = 48, cost = 150.4490239466958\n",
      "*** \u001b[31m2016-05-07 01:33:33.795787\u001b[0m Checkpoint: s_try = 4.125, events = 49, cost = 147.34170023154488\n",
      "*** \u001b[31m2016-05-07 01:33:38.633058\u001b[0m Checkpoint: s_try = 4.0625, events = 50, cost = 145.75934253252828\n"
     ]
    },
    {
     "data": {
      "text/plain": [
       "0.18739408117276624"
      ]
     },
     "execution_count": 159,
     "metadata": {},
     "output_type": "execute_result"
    }
   ],
   "source": [
    "find_opt_oracle_time_top_k(50.0, sim_opts=sim_opts, K=3, tol=1e-2, verbose=True)"
   ]
  },
  {
   "cell_type": "code",
   "execution_count": 193,
   "metadata": {
    "collapsed": false
   },
   "outputs": [
    {
     "data": {
      "text/plain": [
       "0.24397405812513501"
      ]
     },
     "execution_count": 193,
     "metadata": {},
     "output_type": "execute_result"
    }
   ],
   "source": [
    "oracle_df = opt_oracle['df']\n",
    "rb_mgr = sim_opts.create_manager_with_times(oracle_df.t[oracle_df.events == 1] + 1e-10)\n",
    "rb_mgr.run()\n",
    "df = rb_mgr.state.get_dataframe()\n",
    "time_in_top_k(rb_mgr.state.get_dataframe(), K=3, sim_opts=sim_opts) "
   ]
  },
  {
   "cell_type": "code",
   "execution_count": 205,
   "metadata": {
    "collapsed": false
   },
   "outputs": [
    {
     "data": {
      "text/html": [
       "<div>\n",
       "<table border=\"1\" class=\"dataframe\">\n",
       "  <thead>\n",
       "    <tr style=\"text-align: right;\">\n",
       "      <th></th>\n",
       "      <th>event_id</th>\n",
       "      <th>sink_id</th>\n",
       "      <th>src_id</th>\n",
       "      <th>t</th>\n",
       "      <th>time_delta</th>\n",
       "    </tr>\n",
       "  </thead>\n",
       "  <tbody>\n",
       "    <tr>\n",
       "      <th>0</th>\n",
       "      <td>100</td>\n",
       "      <td>1001</td>\n",
       "      <td>2</td>\n",
       "      <td>0.002240</td>\n",
       "      <td>2.239577e-03</td>\n",
       "    </tr>\n",
       "    <tr>\n",
       "      <th>1</th>\n",
       "      <td>101</td>\n",
       "      <td>1001</td>\n",
       "      <td>2</td>\n",
       "      <td>0.005083</td>\n",
       "      <td>2.843708e-03</td>\n",
       "    </tr>\n",
       "    <tr>\n",
       "      <th>2</th>\n",
       "      <td>102</td>\n",
       "      <td>1001</td>\n",
       "      <td>2</td>\n",
       "      <td>0.005130</td>\n",
       "      <td>4.626437e-05</td>\n",
       "    </tr>\n",
       "    <tr>\n",
       "      <th>3</th>\n",
       "      <td>103</td>\n",
       "      <td>1001</td>\n",
       "      <td>2</td>\n",
       "      <td>0.005431</td>\n",
       "      <td>3.017573e-04</td>\n",
       "    </tr>\n",
       "    <tr>\n",
       "      <th>4</th>\n",
       "      <td>104</td>\n",
       "      <td>1001</td>\n",
       "      <td>2</td>\n",
       "      <td>0.005629</td>\n",
       "      <td>1.981867e-04</td>\n",
       "    </tr>\n",
       "    <tr>\n",
       "      <th>5</th>\n",
       "      <td>105</td>\n",
       "      <td>1001</td>\n",
       "      <td>2</td>\n",
       "      <td>0.007309</td>\n",
       "      <td>1.680001e-03</td>\n",
       "    </tr>\n",
       "    <tr>\n",
       "      <th>6</th>\n",
       "      <td>106</td>\n",
       "      <td>1001</td>\n",
       "      <td>2</td>\n",
       "      <td>0.008166</td>\n",
       "      <td>8.565372e-04</td>\n",
       "    </tr>\n",
       "    <tr>\n",
       "      <th>7</th>\n",
       "      <td>107</td>\n",
       "      <td>1001</td>\n",
       "      <td>2</td>\n",
       "      <td>0.008866</td>\n",
       "      <td>6.998788e-04</td>\n",
       "    </tr>\n",
       "    <tr>\n",
       "      <th>8</th>\n",
       "      <td>108</td>\n",
       "      <td>1001</td>\n",
       "      <td>2</td>\n",
       "      <td>0.009067</td>\n",
       "      <td>2.012035e-04</td>\n",
       "    </tr>\n",
       "    <tr>\n",
       "      <th>9</th>\n",
       "      <td>109</td>\n",
       "      <td>1001</td>\n",
       "      <td>2</td>\n",
       "      <td>0.009440</td>\n",
       "      <td>3.727114e-04</td>\n",
       "    </tr>\n",
       "    <tr>\n",
       "      <th>10</th>\n",
       "      <td>110</td>\n",
       "      <td>1001</td>\n",
       "      <td>2</td>\n",
       "      <td>0.010946</td>\n",
       "      <td>1.506319e-03</td>\n",
       "    </tr>\n",
       "    <tr>\n",
       "      <th>11</th>\n",
       "      <td>111</td>\n",
       "      <td>1001</td>\n",
       "      <td>2</td>\n",
       "      <td>0.013038</td>\n",
       "      <td>2.091514e-03</td>\n",
       "    </tr>\n",
       "    <tr>\n",
       "      <th>12</th>\n",
       "      <td>112</td>\n",
       "      <td>1001</td>\n",
       "      <td>2</td>\n",
       "      <td>0.014062</td>\n",
       "      <td>1.024256e-03</td>\n",
       "    </tr>\n",
       "    <tr>\n",
       "      <th>13</th>\n",
       "      <td>113</td>\n",
       "      <td>1001</td>\n",
       "      <td>2</td>\n",
       "      <td>0.014571</td>\n",
       "      <td>5.086680e-04</td>\n",
       "    </tr>\n",
       "    <tr>\n",
       "      <th>14</th>\n",
       "      <td>114</td>\n",
       "      <td>1001</td>\n",
       "      <td>2</td>\n",
       "      <td>0.015439</td>\n",
       "      <td>8.683737e-04</td>\n",
       "    </tr>\n",
       "    <tr>\n",
       "      <th>15</th>\n",
       "      <td>115</td>\n",
       "      <td>1001</td>\n",
       "      <td>2</td>\n",
       "      <td>0.016026</td>\n",
       "      <td>5.869632e-04</td>\n",
       "    </tr>\n",
       "    <tr>\n",
       "      <th>16</th>\n",
       "      <td>116</td>\n",
       "      <td>1001</td>\n",
       "      <td>1</td>\n",
       "      <td>0.016026</td>\n",
       "      <td>1.000000e-10</td>\n",
       "    </tr>\n",
       "    <tr>\n",
       "      <th>17</th>\n",
       "      <td>117</td>\n",
       "      <td>1001</td>\n",
       "      <td>2</td>\n",
       "      <td>0.017898</td>\n",
       "      <td>1.871661e-03</td>\n",
       "    </tr>\n",
       "    <tr>\n",
       "      <th>18</th>\n",
       "      <td>118</td>\n",
       "      <td>1001</td>\n",
       "      <td>2</td>\n",
       "      <td>0.022270</td>\n",
       "      <td>4.372169e-03</td>\n",
       "    </tr>\n",
       "    <tr>\n",
       "      <th>19</th>\n",
       "      <td>119</td>\n",
       "      <td>1001</td>\n",
       "      <td>2</td>\n",
       "      <td>0.023602</td>\n",
       "      <td>1.332445e-03</td>\n",
       "    </tr>\n",
       "  </tbody>\n",
       "</table>\n",
       "</div>"
      ],
      "text/plain": [
       "    event_id  sink_id  src_id         t    time_delta\n",
       "0        100     1001       2  0.002240  2.239577e-03\n",
       "1        101     1001       2  0.005083  2.843708e-03\n",
       "2        102     1001       2  0.005130  4.626437e-05\n",
       "3        103     1001       2  0.005431  3.017573e-04\n",
       "4        104     1001       2  0.005629  1.981867e-04\n",
       "5        105     1001       2  0.007309  1.680001e-03\n",
       "6        106     1001       2  0.008166  8.565372e-04\n",
       "7        107     1001       2  0.008866  6.998788e-04\n",
       "8        108     1001       2  0.009067  2.012035e-04\n",
       "9        109     1001       2  0.009440  3.727114e-04\n",
       "10       110     1001       2  0.010946  1.506319e-03\n",
       "11       111     1001       2  0.013038  2.091514e-03\n",
       "12       112     1001       2  0.014062  1.024256e-03\n",
       "13       113     1001       2  0.014571  5.086680e-04\n",
       "14       114     1001       2  0.015439  8.683737e-04\n",
       "15       115     1001       2  0.016026  5.869632e-04\n",
       "16       116     1001       1  0.016026  1.000000e-10\n",
       "17       117     1001       2  0.017898  1.871661e-03\n",
       "18       118     1001       2  0.022270  4.372169e-03\n",
       "19       119     1001       2  0.023602  1.332445e-03"
      ]
     },
     "execution_count": 205,
     "metadata": {},
     "output_type": "execute_result"
    }
   ],
   "source": [
    "df.head(20)"
   ]
  },
  {
   "cell_type": "code",
   "execution_count": 206,
   "metadata": {
    "collapsed": false
   },
   "outputs": [
    {
     "data": {
      "text/html": [
       "<div>\n",
       "<table border=\"1\" class=\"dataframe\">\n",
       "  <thead>\n",
       "    <tr style=\"text-align: right;\">\n",
       "      <th></th>\n",
       "      <th>at</th>\n",
       "      <th>events</th>\n",
       "      <th>ranks</th>\n",
       "      <th>t</th>\n",
       "      <th>t_delta</th>\n",
       "    </tr>\n",
       "  </thead>\n",
       "  <tbody>\n",
       "    <tr>\n",
       "      <th>0</th>\n",
       "      <td>0.000000</td>\n",
       "      <td>0</td>\n",
       "      <td>0</td>\n",
       "      <td>0.000000</td>\n",
       "      <td>0.002240</td>\n",
       "    </tr>\n",
       "    <tr>\n",
       "      <th>1</th>\n",
       "      <td>0.002240</td>\n",
       "      <td>0</td>\n",
       "      <td>1</td>\n",
       "      <td>0.002240</td>\n",
       "      <td>0.002844</td>\n",
       "    </tr>\n",
       "    <tr>\n",
       "      <th>2</th>\n",
       "      <td>0.005083</td>\n",
       "      <td>0</td>\n",
       "      <td>2</td>\n",
       "      <td>0.005083</td>\n",
       "      <td>0.000046</td>\n",
       "    </tr>\n",
       "    <tr>\n",
       "      <th>3</th>\n",
       "      <td>0.005130</td>\n",
       "      <td>0</td>\n",
       "      <td>3</td>\n",
       "      <td>0.005130</td>\n",
       "      <td>0.000302</td>\n",
       "    </tr>\n",
       "    <tr>\n",
       "      <th>4</th>\n",
       "      <td>0.005431</td>\n",
       "      <td>0</td>\n",
       "      <td>4</td>\n",
       "      <td>0.005431</td>\n",
       "      <td>0.000198</td>\n",
       "    </tr>\n",
       "    <tr>\n",
       "      <th>5</th>\n",
       "      <td>0.005629</td>\n",
       "      <td>0</td>\n",
       "      <td>5</td>\n",
       "      <td>0.005629</td>\n",
       "      <td>0.001680</td>\n",
       "    </tr>\n",
       "    <tr>\n",
       "      <th>6</th>\n",
       "      <td>0.007309</td>\n",
       "      <td>0</td>\n",
       "      <td>6</td>\n",
       "      <td>0.007309</td>\n",
       "      <td>0.000857</td>\n",
       "    </tr>\n",
       "    <tr>\n",
       "      <th>7</th>\n",
       "      <td>0.008166</td>\n",
       "      <td>0</td>\n",
       "      <td>7</td>\n",
       "      <td>0.008166</td>\n",
       "      <td>0.000700</td>\n",
       "    </tr>\n",
       "    <tr>\n",
       "      <th>8</th>\n",
       "      <td>0.008866</td>\n",
       "      <td>0</td>\n",
       "      <td>8</td>\n",
       "      <td>0.008866</td>\n",
       "      <td>0.000201</td>\n",
       "    </tr>\n",
       "    <tr>\n",
       "      <th>9</th>\n",
       "      <td>0.009067</td>\n",
       "      <td>0</td>\n",
       "      <td>9</td>\n",
       "      <td>0.009067</td>\n",
       "      <td>0.000373</td>\n",
       "    </tr>\n",
       "    <tr>\n",
       "      <th>10</th>\n",
       "      <td>0.009440</td>\n",
       "      <td>0</td>\n",
       "      <td>10</td>\n",
       "      <td>0.009440</td>\n",
       "      <td>0.001506</td>\n",
       "    </tr>\n",
       "    <tr>\n",
       "      <th>11</th>\n",
       "      <td>0.010946</td>\n",
       "      <td>0</td>\n",
       "      <td>11</td>\n",
       "      <td>0.010946</td>\n",
       "      <td>0.002092</td>\n",
       "    </tr>\n",
       "    <tr>\n",
       "      <th>12</th>\n",
       "      <td>0.013038</td>\n",
       "      <td>0</td>\n",
       "      <td>12</td>\n",
       "      <td>0.013038</td>\n",
       "      <td>0.001024</td>\n",
       "    </tr>\n",
       "    <tr>\n",
       "      <th>13</th>\n",
       "      <td>0.014062</td>\n",
       "      <td>0</td>\n",
       "      <td>13</td>\n",
       "      <td>0.014062</td>\n",
       "      <td>0.000509</td>\n",
       "    </tr>\n",
       "    <tr>\n",
       "      <th>14</th>\n",
       "      <td>0.014571</td>\n",
       "      <td>0</td>\n",
       "      <td>14</td>\n",
       "      <td>0.014571</td>\n",
       "      <td>0.000868</td>\n",
       "    </tr>\n",
       "    <tr>\n",
       "      <th>15</th>\n",
       "      <td>0.015439</td>\n",
       "      <td>0</td>\n",
       "      <td>15</td>\n",
       "      <td>0.015439</td>\n",
       "      <td>0.000587</td>\n",
       "    </tr>\n",
       "    <tr>\n",
       "      <th>16</th>\n",
       "      <td>0.016026</td>\n",
       "      <td>1</td>\n",
       "      <td>16</td>\n",
       "      <td>0.016026</td>\n",
       "      <td>0.001872</td>\n",
       "    </tr>\n",
       "    <tr>\n",
       "      <th>17</th>\n",
       "      <td>0.017898</td>\n",
       "      <td>0</td>\n",
       "      <td>0</td>\n",
       "      <td>0.017898</td>\n",
       "      <td>0.004372</td>\n",
       "    </tr>\n",
       "    <tr>\n",
       "      <th>18</th>\n",
       "      <td>0.022270</td>\n",
       "      <td>0</td>\n",
       "      <td>1</td>\n",
       "      <td>0.022270</td>\n",
       "      <td>0.001332</td>\n",
       "    </tr>\n",
       "    <tr>\n",
       "      <th>19</th>\n",
       "      <td>0.023602</td>\n",
       "      <td>0</td>\n",
       "      <td>2</td>\n",
       "      <td>0.023602</td>\n",
       "      <td>0.000566</td>\n",
       "    </tr>\n",
       "  </tbody>\n",
       "</table>\n",
       "</div>"
      ],
      "text/plain": [
       "          at  events  ranks         t   t_delta\n",
       "0   0.000000       0      0  0.000000  0.002240\n",
       "1   0.002240       0      1  0.002240  0.002844\n",
       "2   0.005083       0      2  0.005083  0.000046\n",
       "3   0.005130       0      3  0.005130  0.000302\n",
       "4   0.005431       0      4  0.005431  0.000198\n",
       "5   0.005629       0      5  0.005629  0.001680\n",
       "6   0.007309       0      6  0.007309  0.000857\n",
       "7   0.008166       0      7  0.008166  0.000700\n",
       "8   0.008866       0      8  0.008866  0.000201\n",
       "9   0.009067       0      9  0.009067  0.000373\n",
       "10  0.009440       0     10  0.009440  0.001506\n",
       "11  0.010946       0     11  0.010946  0.002092\n",
       "12  0.013038       0     12  0.013038  0.001024\n",
       "13  0.014062       0     13  0.014062  0.000509\n",
       "14  0.014571       0     14  0.014571  0.000868\n",
       "15  0.015439       0     15  0.015439  0.000587\n",
       "16  0.016026       1     16  0.016026  0.001872\n",
       "17  0.017898       0      0  0.017898  0.004372\n",
       "18  0.022270       0      1  0.022270  0.001332\n",
       "19  0.023602       0      2  0.023602  0.000566"
      ]
     },
     "execution_count": 206,
     "metadata": {},
     "output_type": "execute_result"
    }
   ],
   "source": [
    "oracle_df.head(20)"
   ]
  },
  {
   "cell_type": "code",
   "execution_count": 197,
   "metadata": {
    "collapsed": false
   },
   "outputs": [],
   "source": [
    "oracle_rank_calc = rank_of_src_in_df(df=df, src_id=1)"
   ]
  },
  {
   "cell_type": "code",
   "execution_count": 203,
   "metadata": {
    "collapsed": false
   },
   "outputs": [
    {
     "data": {
      "text/html": [
       "<div>\n",
       "<table border=\"1\" class=\"dataframe\">\n",
       "  <thead>\n",
       "    <tr style=\"text-align: right;\">\n",
       "      <th>sink_id</th>\n",
       "      <th>1001</th>\n",
       "    </tr>\n",
       "    <tr>\n",
       "      <th>t</th>\n",
       "      <th></th>\n",
       "    </tr>\n",
       "  </thead>\n",
       "  <tbody>\n",
       "    <tr>\n",
       "      <th>0.002240</th>\n",
       "      <td>1</td>\n",
       "    </tr>\n",
       "    <tr>\n",
       "      <th>0.005083</th>\n",
       "      <td>2</td>\n",
       "    </tr>\n",
       "    <tr>\n",
       "      <th>0.005130</th>\n",
       "      <td>3</td>\n",
       "    </tr>\n",
       "    <tr>\n",
       "      <th>0.005431</th>\n",
       "      <td>4</td>\n",
       "    </tr>\n",
       "    <tr>\n",
       "      <th>0.005629</th>\n",
       "      <td>5</td>\n",
       "    </tr>\n",
       "    <tr>\n",
       "      <th>0.007309</th>\n",
       "      <td>6</td>\n",
       "    </tr>\n",
       "    <tr>\n",
       "      <th>0.008166</th>\n",
       "      <td>7</td>\n",
       "    </tr>\n",
       "    <tr>\n",
       "      <th>0.008866</th>\n",
       "      <td>8</td>\n",
       "    </tr>\n",
       "    <tr>\n",
       "      <th>0.009067</th>\n",
       "      <td>9</td>\n",
       "    </tr>\n",
       "    <tr>\n",
       "      <th>0.009440</th>\n",
       "      <td>10</td>\n",
       "    </tr>\n",
       "    <tr>\n",
       "      <th>0.010946</th>\n",
       "      <td>11</td>\n",
       "    </tr>\n",
       "    <tr>\n",
       "      <th>0.013038</th>\n",
       "      <td>12</td>\n",
       "    </tr>\n",
       "    <tr>\n",
       "      <th>0.014062</th>\n",
       "      <td>13</td>\n",
       "    </tr>\n",
       "    <tr>\n",
       "      <th>0.014571</th>\n",
       "      <td>14</td>\n",
       "    </tr>\n",
       "    <tr>\n",
       "      <th>0.015439</th>\n",
       "      <td>15</td>\n",
       "    </tr>\n",
       "    <tr>\n",
       "      <th>0.016026</th>\n",
       "      <td>16</td>\n",
       "    </tr>\n",
       "    <tr>\n",
       "      <th>0.016026</th>\n",
       "      <td>0</td>\n",
       "    </tr>\n",
       "    <tr>\n",
       "      <th>0.017898</th>\n",
       "      <td>1</td>\n",
       "    </tr>\n",
       "    <tr>\n",
       "      <th>0.022270</th>\n",
       "      <td>2</td>\n",
       "    </tr>\n",
       "    <tr>\n",
       "      <th>0.023602</th>\n",
       "      <td>3</td>\n",
       "    </tr>\n",
       "  </tbody>\n",
       "</table>\n",
       "</div>"
      ],
      "text/plain": [
       "sink_id   1001\n",
       "t             \n",
       "0.002240     1\n",
       "0.005083     2\n",
       "0.005130     3\n",
       "0.005431     4\n",
       "0.005629     5\n",
       "0.007309     6\n",
       "0.008166     7\n",
       "0.008866     8\n",
       "0.009067     9\n",
       "0.009440    10\n",
       "0.010946    11\n",
       "0.013038    12\n",
       "0.014062    13\n",
       "0.014571    14\n",
       "0.015439    15\n",
       "0.016026    16\n",
       "0.016026     0\n",
       "0.017898     1\n",
       "0.022270     2\n",
       "0.023602     3"
      ]
     },
     "execution_count": 203,
     "metadata": {},
     "output_type": "execute_result"
    }
   ],
   "source": [
    "oracle_rank_calc.head(20)"
   ]
  },
  {
   "cell_type": "code",
   "execution_count": 166,
   "metadata": {
    "collapsed": false
   },
   "outputs": [
    {
     "data": {
      "text/plain": [
       "50"
      ]
     },
     "execution_count": 166,
     "metadata": {},
     "output_type": "execute_result"
    }
   ],
   "source": [
    "(df.src_id == 1).sum()"
   ]
  },
  {
   "cell_type": "code",
   "execution_count": 86,
   "metadata": {
    "collapsed": false
   },
   "outputs": [
    {
     "data": {
      "text/html": [
       "<div>\n",
       "<table border=\"1\" class=\"dataframe\">\n",
       "  <thead>\n",
       "    <tr style=\"text-align: right;\">\n",
       "      <th></th>\n",
       "      <th>event_id</th>\n",
       "      <th>sink_id</th>\n",
       "      <th>src_id</th>\n",
       "      <th>t</th>\n",
       "      <th>time_delta</th>\n",
       "    </tr>\n",
       "  </thead>\n",
       "  <tbody>\n",
       "    <tr>\n",
       "      <th>0</th>\n",
       "      <td>100</td>\n",
       "      <td>1001</td>\n",
       "      <td>2</td>\n",
       "      <td>0.000114</td>\n",
       "      <td>1.143748e-04</td>\n",
       "    </tr>\n",
       "    <tr>\n",
       "      <th>1</th>\n",
       "      <td>101</td>\n",
       "      <td>1001</td>\n",
       "      <td>1</td>\n",
       "      <td>0.000114</td>\n",
       "      <td>1.000000e-07</td>\n",
       "    </tr>\n",
       "    <tr>\n",
       "      <th>2</th>\n",
       "      <td>102</td>\n",
       "      <td>1001</td>\n",
       "      <td>2</td>\n",
       "      <td>0.018288</td>\n",
       "      <td>1.817380e-02</td>\n",
       "    </tr>\n",
       "    <tr>\n",
       "      <th>3</th>\n",
       "      <td>103</td>\n",
       "      <td>1001</td>\n",
       "      <td>2</td>\n",
       "      <td>0.019367</td>\n",
       "      <td>1.078681e-03</td>\n",
       "    </tr>\n",
       "    <tr>\n",
       "      <th>4</th>\n",
       "      <td>104</td>\n",
       "      <td>1001</td>\n",
       "      <td>1</td>\n",
       "      <td>0.019367</td>\n",
       "      <td>1.000000e-07</td>\n",
       "    </tr>\n",
       "  </tbody>\n",
       "</table>\n",
       "</div>"
      ],
      "text/plain": [
       "   event_id  sink_id  src_id         t    time_delta\n",
       "0       100     1001       2  0.000114  1.143748e-04\n",
       "1       101     1001       1  0.000114  1.000000e-07\n",
       "2       102     1001       2  0.018288  1.817380e-02\n",
       "3       103     1001       2  0.019367  1.078681e-03\n",
       "4       104     1001       1  0.019367  1.000000e-07"
      ]
     },
     "execution_count": 86,
     "metadata": {},
     "output_type": "execute_result"
    }
   ],
   "source": [
    "df.head()"
   ]
  },
  {
   "cell_type": "code",
   "execution_count": 85,
   "metadata": {
    "collapsed": false
   },
   "outputs": [
    {
     "data": {
      "text/html": [
       "<div>\n",
       "<table border=\"1\" class=\"dataframe\">\n",
       "  <thead>\n",
       "    <tr style=\"text-align: right;\">\n",
       "      <th></th>\n",
       "      <th>event_id</th>\n",
       "      <th>sink_id</th>\n",
       "      <th>src_id</th>\n",
       "      <th>t</th>\n",
       "      <th>time_delta</th>\n",
       "    </tr>\n",
       "  </thead>\n",
       "  <tbody>\n",
       "    <tr>\n",
       "      <th>19</th>\n",
       "      <td>119</td>\n",
       "      <td>1001</td>\n",
       "      <td>2</td>\n",
       "      <td>0.130029</td>\n",
       "      <td>1.528250e-02</td>\n",
       "    </tr>\n",
       "    <tr>\n",
       "      <th>20</th>\n",
       "      <td>120</td>\n",
       "      <td>1001</td>\n",
       "      <td>1</td>\n",
       "      <td>0.130029</td>\n",
       "      <td>1.000000e-07</td>\n",
       "    </tr>\n",
       "    <tr>\n",
       "      <th>21</th>\n",
       "      <td>121</td>\n",
       "      <td>1001</td>\n",
       "      <td>2</td>\n",
       "      <td>0.137475</td>\n",
       "      <td>7.446032e-03</td>\n",
       "    </tr>\n",
       "    <tr>\n",
       "      <th>22</th>\n",
       "      <td>122</td>\n",
       "      <td>1001</td>\n",
       "      <td>2</td>\n",
       "      <td>0.139276</td>\n",
       "      <td>1.801643e-03</td>\n",
       "    </tr>\n",
       "    <tr>\n",
       "      <th>23</th>\n",
       "      <td>123</td>\n",
       "      <td>1001</td>\n",
       "      <td>2</td>\n",
       "      <td>0.140387</td>\n",
       "      <td>1.110591e-03</td>\n",
       "    </tr>\n",
       "    <tr>\n",
       "      <th>24</th>\n",
       "      <td>124</td>\n",
       "      <td>1001</td>\n",
       "      <td>1</td>\n",
       "      <td>0.140387</td>\n",
       "      <td>1.000000e-07</td>\n",
       "    </tr>\n",
       "  </tbody>\n",
       "</table>\n",
       "</div>"
      ],
      "text/plain": [
       "    event_id  sink_id  src_id         t    time_delta\n",
       "19       119     1001       2  0.130029  1.528250e-02\n",
       "20       120     1001       1  0.130029  1.000000e-07\n",
       "21       121     1001       2  0.137475  7.446032e-03\n",
       "22       122     1001       2  0.139276  1.801643e-03\n",
       "23       123     1001       2  0.140387  1.110591e-03\n",
       "24       124     1001       1  0.140387  1.000000e-07"
      ]
     },
     "execution_count": 85,
     "metadata": {},
     "output_type": "execute_result"
    }
   ],
   "source": [
    "df[(0.12 < df.t) & (df.t < 0.141)]"
   ]
  },
  {
   "cell_type": "code",
   "execution_count": 74,
   "metadata": {
    "collapsed": false
   },
   "outputs": [
    {
     "data": {
      "text/html": [
       "<div>\n",
       "<table border=\"1\" class=\"dataframe\">\n",
       "  <thead>\n",
       "    <tr style=\"text-align: right;\">\n",
       "      <th></th>\n",
       "      <th>at</th>\n",
       "      <th>events</th>\n",
       "      <th>ranks</th>\n",
       "      <th>t_delta</th>\n",
       "    </tr>\n",
       "  </thead>\n",
       "  <tbody>\n",
       "    <tr>\n",
       "      <th>12</th>\n",
       "      <td>0.130029</td>\n",
       "      <td>1</td>\n",
       "      <td>0</td>\n",
       "      <td>0.007446</td>\n",
       "    </tr>\n",
       "    <tr>\n",
       "      <th>13</th>\n",
       "      <td>0.137475</td>\n",
       "      <td>0</td>\n",
       "      <td>0</td>\n",
       "      <td>0.001802</td>\n",
       "    </tr>\n",
       "    <tr>\n",
       "      <th>14</th>\n",
       "      <td>0.139276</td>\n",
       "      <td>0</td>\n",
       "      <td>1</td>\n",
       "      <td>0.001111</td>\n",
       "    </tr>\n",
       "    <tr>\n",
       "      <th>15</th>\n",
       "      <td>0.140387</td>\n",
       "      <td>1</td>\n",
       "      <td>2</td>\n",
       "      <td>0.006342</td>\n",
       "    </tr>\n",
       "  </tbody>\n",
       "</table>\n",
       "</div>"
      ],
      "text/plain": [
       "          at  events  ranks   t_delta\n",
       "12  0.130029       1      0  0.007446\n",
       "13  0.137475       0      0  0.001802\n",
       "14  0.139276       0      1  0.001111\n",
       "15  0.140387       1      2  0.006342"
      ]
     },
     "execution_count": 74,
     "metadata": {},
     "output_type": "execute_result"
    }
   ],
   "source": [
    "oracle_df[(0.12 < oracle_df['at']) & (oracle_df['at'] < 0.141)]"
   ]
  },
  {
   "cell_type": "code",
   "execution_count": 65,
   "metadata": {
    "collapsed": false
   },
   "outputs": [
    {
     "data": {
      "text/html": [
       "<div>\n",
       "<table border=\"1\" class=\"dataframe\">\n",
       "  <thead>\n",
       "    <tr style=\"text-align: right;\">\n",
       "      <th></th>\n",
       "      <th>event_id</th>\n",
       "      <th>sink_id</th>\n",
       "      <th>src_id</th>\n",
       "      <th>t</th>\n",
       "      <th>time_delta</th>\n",
       "    </tr>\n",
       "  </thead>\n",
       "  <tbody>\n",
       "    <tr>\n",
       "      <th>27</th>\n",
       "      <td>127</td>\n",
       "      <td>1001</td>\n",
       "      <td>2</td>\n",
       "      <td>0.165354</td>\n",
       "      <td>0.018598</td>\n",
       "    </tr>\n",
       "    <tr>\n",
       "      <th>28</th>\n",
       "      <td>128</td>\n",
       "      <td>1001</td>\n",
       "      <td>1</td>\n",
       "      <td>0.169716</td>\n",
       "      <td>0.004362</td>\n",
       "    </tr>\n",
       "    <tr>\n",
       "      <th>29</th>\n",
       "      <td>129</td>\n",
       "      <td>1001</td>\n",
       "      <td>2</td>\n",
       "      <td>0.169830</td>\n",
       "      <td>0.000114</td>\n",
       "    </tr>\n",
       "  </tbody>\n",
       "</table>\n",
       "</div>"
      ],
      "text/plain": [
       "    event_id  sink_id  src_id         t  time_delta\n",
       "27       127     1001       2  0.165354    0.018598\n",
       "28       128     1001       1  0.169716    0.004362\n",
       "29       129     1001       2  0.169830    0.000114"
      ]
     },
     "execution_count": 65,
     "metadata": {},
     "output_type": "execute_result"
    }
   ],
   "source": [
    "df[(0.16 < df.t) & (df.t < 0.17)]"
   ]
  },
  {
   "cell_type": "code",
   "execution_count": 66,
   "metadata": {
    "collapsed": false
   },
   "outputs": [
    {
     "data": {
      "text/html": [
       "<div>\n",
       "<table border=\"1\" class=\"dataframe\">\n",
       "  <thead>\n",
       "    <tr style=\"text-align: right;\">\n",
       "      <th></th>\n",
       "      <th>at</th>\n",
       "      <th>events</th>\n",
       "      <th>ranks</th>\n",
       "      <th>t_delta</th>\n",
       "    </tr>\n",
       "  </thead>\n",
       "  <tbody>\n",
       "    <tr>\n",
       "      <th>18</th>\n",
       "      <td>0.165354</td>\n",
       "      <td>0</td>\n",
       "      <td>0</td>\n",
       "      <td>0.004476</td>\n",
       "    </tr>\n",
       "    <tr>\n",
       "      <th>19</th>\n",
       "      <td>0.169830</td>\n",
       "      <td>1</td>\n",
       "      <td>1</td>\n",
       "      <td>0.016430</td>\n",
       "    </tr>\n",
       "  </tbody>\n",
       "</table>\n",
       "</div>"
      ],
      "text/plain": [
       "          at  events  ranks   t_delta\n",
       "18  0.165354       0      0  0.004476\n",
       "19  0.169830       1      1  0.016430"
      ]
     },
     "execution_count": 66,
     "metadata": {},
     "output_type": "execute_result"
    }
   ],
   "source": [
    "oracle_df[(0.16 < oracle_df['at']) & (oracle_df['at'] < 0.17)]"
   ]
  },
  {
   "cell_type": "code",
   "execution_count": 18,
   "metadata": {
    "collapsed": true
   },
   "outputs": [],
   "source": [
    "%run -i opt_model.py"
   ]
  },
  {
   "cell_type": "code",
   "execution_count": 39,
   "metadata": {
    "collapsed": false
   },
   "outputs": [
    {
     "name": "stdout",
     "output_type": "stream",
     "text": [
      "*** \u001b[31m2016-05-06 00:18:23.087473\u001b[0m Checkpoint: s_lo = 0.5, s_hi = 1.0, num_events = 94 \n",
      "*** \u001b[31m2016-05-06 00:18:28.610656\u001b[0m Checkpoint: s_lo = 0.25, s_hi = 0.5, num_events = 118 \n",
      "*** \u001b[31m2016-05-06 00:18:28.611289\u001b[0m Checkpoint: s_lo = 0.25, s_hi = 0.5\n",
      "*** \u001b[31m2016-05-06 00:18:34.356899\u001b[0m Checkpoint: s_try = 0.375, events = 104, cost = 28.115635566719792\n",
      "CPU times: user 23.5 s, sys: 43.3 ms, total: 23.5 s\n",
      "Wall time: 23.5 s\n"
     ]
    }
   ],
   "source": [
    "%%time\n",
    "s_opt = find_opt_oracle_s(100, sim_opt_gen(0).update({ 'end_time': 1.0 }), verbose=True)"
   ]
  },
  {
   "cell_type": "code",
   "execution_count": 164,
   "metadata": {
    "collapsed": false
   },
   "outputs": [
    {
     "name": "stdout",
     "output_type": "stream",
     "text": [
      "CPU times: user 4.97 s, sys: 0 ns, total: 4.97 s\n",
      "Wall time: 4.97 s\n"
     ]
    }
   ],
   "source": [
    "%%time\n",
    "oracle_df = get_oracle_df(sim_opt_gen(0).update({'end_time': 1.0, 's': s_opt}))"
   ]
  },
  {
   "cell_type": "code",
   "execution_count": 183,
   "metadata": {
    "collapsed": false
   },
   "outputs": [
    {
     "data": {
      "text/html": [
       "<div>\n",
       "<table border=\"1\" class=\"dataframe\">\n",
       "  <thead>\n",
       "    <tr style=\"text-align: right;\">\n",
       "      <th></th>\n",
       "      <th>at</th>\n",
       "      <th>events</th>\n",
       "      <th>ranks</th>\n",
       "      <th>t_delta</th>\n",
       "    </tr>\n",
       "  </thead>\n",
       "  <tbody>\n",
       "    <tr>\n",
       "      <th>0</th>\n",
       "      <td>0.000000</td>\n",
       "      <td>0</td>\n",
       "      <td>0</td>\n",
       "      <td>0.000546</td>\n",
       "    </tr>\n",
       "    <tr>\n",
       "      <th>1</th>\n",
       "      <td>0.000546</td>\n",
       "      <td>0</td>\n",
       "      <td>1</td>\n",
       "      <td>0.000837</td>\n",
       "    </tr>\n",
       "    <tr>\n",
       "      <th>2</th>\n",
       "      <td>0.001383</td>\n",
       "      <td>0</td>\n",
       "      <td>2</td>\n",
       "      <td>0.001320</td>\n",
       "    </tr>\n",
       "    <tr>\n",
       "      <th>3</th>\n",
       "      <td>0.002703</td>\n",
       "      <td>0</td>\n",
       "      <td>3</td>\n",
       "      <td>0.001157</td>\n",
       "    </tr>\n",
       "    <tr>\n",
       "      <th>4</th>\n",
       "      <td>0.003860</td>\n",
       "      <td>0</td>\n",
       "      <td>4</td>\n",
       "      <td>0.000835</td>\n",
       "    </tr>\n",
       "    <tr>\n",
       "      <th>5</th>\n",
       "      <td>0.004695</td>\n",
       "      <td>0</td>\n",
       "      <td>5</td>\n",
       "      <td>0.000457</td>\n",
       "    </tr>\n",
       "    <tr>\n",
       "      <th>6</th>\n",
       "      <td>0.005153</td>\n",
       "      <td>1</td>\n",
       "      <td>6</td>\n",
       "      <td>0.002731</td>\n",
       "    </tr>\n",
       "    <tr>\n",
       "      <th>7</th>\n",
       "      <td>0.007884</td>\n",
       "      <td>0</td>\n",
       "      <td>0</td>\n",
       "      <td>0.002180</td>\n",
       "    </tr>\n",
       "    <tr>\n",
       "      <th>8</th>\n",
       "      <td>0.010064</td>\n",
       "      <td>0</td>\n",
       "      <td>1</td>\n",
       "      <td>0.001364</td>\n",
       "    </tr>\n",
       "    <tr>\n",
       "      <th>9</th>\n",
       "      <td>0.011427</td>\n",
       "      <td>0</td>\n",
       "      <td>2</td>\n",
       "      <td>0.000287</td>\n",
       "    </tr>\n",
       "  </tbody>\n",
       "</table>\n",
       "</div>"
      ],
      "text/plain": [
       "         at  events  ranks   t_delta\n",
       "0  0.000000       0      0  0.000546\n",
       "1  0.000546       0      1  0.000837\n",
       "2  0.001383       0      2  0.001320\n",
       "3  0.002703       0      3  0.001157\n",
       "4  0.003860       0      4  0.000835\n",
       "5  0.004695       0      5  0.000457\n",
       "6  0.005153       1      6  0.002731\n",
       "7  0.007884       0      0  0.002180\n",
       "8  0.010064       0      1  0.001364\n",
       "9  0.011427       0      2  0.000287"
      ]
     },
     "execution_count": 183,
     "metadata": {},
     "output_type": "execute_result"
    }
   ],
   "source": [
    "oracle_df.head(10)"
   ]
  },
  {
   "cell_type": "code",
   "execution_count": 173,
   "metadata": {
    "collapsed": false
   },
   "outputs": [
    {
     "name": "stdout",
     "output_type": "stream",
     "text": [
      "*** \u001b[31m2016-05-04 22:40:15.523984\u001b[0m Checkpoint: s_lo = 0.5, s_hi = 1.0, num_events = 95 \n",
      "*** \u001b[31m2016-05-04 22:40:19.970286\u001b[0m Checkpoint: s_lo = 0.25, s_hi = 0.5, num_events = 120 \n",
      "*** \u001b[31m2016-05-04 22:40:19.970578\u001b[0m Checkpoint: s_lo = 0.25, s_hi = 0.5\n",
      "*** \u001b[31m2016-05-04 22:40:24.360491\u001b[0m Checkpoint: s_try = 0.375, events = 109, cost = 28.447623149728294\n"
     ]
    },
    {
     "data": {
      "text/plain": [
       "0.37156877786354015"
      ]
     },
     "execution_count": 173,
     "metadata": {},
     "output_type": "execute_result"
    }
   ],
   "source": [
    "find_opt_oracle_time_top_k(100, 3, lambda: sim_opt_gen(0).update({'s': s_opt, 'end_time': 1.0}), verbose=True)"
   ]
  },
  {
   "cell_type": "code",
   "execution_count": 129,
   "metadata": {
    "collapsed": false
   },
   "outputs": [
    {
     "name": "stdout",
     "output_type": "stream",
     "text": [
      "CPU times: user 0 ns, sys: 0 ns, total: 0 ns\n",
      "Wall time: 22.9 µs\n"
     ]
    },
    {
     "data": {
      "text/plain": [
       "582"
      ]
     },
     "execution_count": 129,
     "metadata": {},
     "output_type": "execute_result"
    }
   ],
   "source": [
    "%time\n",
    "o, _ = (sim_opt_gen(0).update({ 's': 1e-3, 'end_time': 1.0 }))\n",
    "o.events.sum()"
   ]
  },
  {
   "cell_type": "code",
   "execution_count": 130,
   "metadata": {
    "collapsed": false
   },
   "outputs": [
    {
     "name": "stdout",
     "output_type": "stream",
     "text": [
      "CPU times: user 0 ns, sys: 0 ns, total: 0 ns\n",
      "Wall time: 8.11 µs\n"
     ]
    },
    {
     "data": {
      "text/plain": [
       "17"
      ]
     },
     "execution_count": 130,
     "metadata": {},
     "output_type": "execute_result"
    }
   ],
   "source": [
    "%time\n",
    "o, _ = worker_s(sim_opt_gen(0).update({ 's': 100, 'end_time': 1.0 }))\n",
    "o.events.sum()"
   ]
  },
  {
   "cell_type": "code",
   "execution_count": 133,
   "metadata": {
    "collapsed": false
   },
   "outputs": [
    {
     "name": "stdout",
     "output_type": "stream",
     "text": [
      "*** \u001b[31m2016-05-04 20:05:22.158060\u001b[0m Checkpoint: s_lo = 0.5, s_hi = 1.0, num_tweets = 95 \n",
      "*** \u001b[31m2016-05-04 20:05:30.702477\u001b[0m Checkpoint: s_lo = 0.25, s_hi = 0.5, num_tweets = 120 \n",
      "*** \u001b[31m2016-05-04 20:05:30.702862\u001b[0m Checkpoint: s_lo = 0.25, s_hi = 0.5\n",
      "*** \u001b[31m2016-05-04 20:05:39.416810\u001b[0m Checkpoint: s_try = 0.375, events = 109, cost = 28.447623149728294\n",
      "CPU times: user 34.8 s, sys: 13.3 ms, total: 34.8 s\n",
      "Wall time: 34.9 s\n"
     ]
    }
   ],
   "source": [
    "%%time\n",
    "sim_opts_generator = lambda : sim_opt_gen(0).update({ 'end_time': 1.0 })\n",
    "s_try = find_ideal_s(100, sim_opts_generator)"
   ]
  },
  {
   "cell_type": "code",
   "execution_count": 19,
   "metadata": {
    "collapsed": true
   },
   "outputs": [
    {
     "ename": "KeyboardInterrupt",
     "evalue": "",
     "output_type": "error",
     "traceback": [
      "\u001b[1;31m---------------------------------------------------------------------------\u001b[0m",
      "\u001b[1;31mKeyboardInterrupt\u001b[0m                         Traceback (most recent call last)",
      "\u001b[1;32m/NL/stackexchange/work/prog/broadcast-online/opt_model.py\u001b[0m in \u001b[0;36m<module>\u001b[1;34m()\u001b[0m\n\u001b[1;32m----> 1\u001b[1;33m \u001b[0mget_ipython\u001b[0m\u001b[1;33m(\u001b[0m\u001b[1;33m)\u001b[0m\u001b[1;33m.\u001b[0m\u001b[0mrun_cell_magic\u001b[0m\u001b[1;33m(\u001b[0m\u001b[1;34m'time'\u001b[0m\u001b[1;33m,\u001b[0m \u001b[1;34m''\u001b[0m\u001b[1;33m,\u001b[0m \u001b[1;34m'sim_opts = sim_opt_gen(0)\\nwall_mgr = sim_opts.create_manager_for_wall()\\nwall_mgr.run()\\noracle_df = oracle_ranking(df=wall_mgr.state.get_dataframe(), \\n                           sim_opts=sim_opt_gen(1))'\u001b[0m\u001b[1;33m)\u001b[0m\u001b[1;33m\u001b[0m\u001b[0m\n\u001b[0m",
      "\u001b[1;32m/home/utkarshu/miniconda3/envs/py35/lib/python3.5/site-packages/IPython/core/interactiveshell.py\u001b[0m in \u001b[0;36mrun_cell_magic\u001b[1;34m(self, magic_name, line, cell)\u001b[0m\n\u001b[0;32m   2118\u001b[0m             \u001b[0mmagic_arg_s\u001b[0m \u001b[1;33m=\u001b[0m \u001b[0mself\u001b[0m\u001b[1;33m.\u001b[0m\u001b[0mvar_expand\u001b[0m\u001b[1;33m(\u001b[0m\u001b[0mline\u001b[0m\u001b[1;33m,\u001b[0m \u001b[0mstack_depth\u001b[0m\u001b[1;33m)\u001b[0m\u001b[1;33m\u001b[0m\u001b[0m\n\u001b[0;32m   2119\u001b[0m             \u001b[1;32mwith\u001b[0m \u001b[0mself\u001b[0m\u001b[1;33m.\u001b[0m\u001b[0mbuiltin_trap\u001b[0m\u001b[1;33m:\u001b[0m\u001b[1;33m\u001b[0m\u001b[0m\n\u001b[1;32m-> 2120\u001b[1;33m                 \u001b[0mresult\u001b[0m \u001b[1;33m=\u001b[0m \u001b[0mfn\u001b[0m\u001b[1;33m(\u001b[0m\u001b[0mmagic_arg_s\u001b[0m\u001b[1;33m,\u001b[0m \u001b[0mcell\u001b[0m\u001b[1;33m)\u001b[0m\u001b[1;33m\u001b[0m\u001b[0m\n\u001b[0m\u001b[0;32m   2121\u001b[0m             \u001b[1;32mreturn\u001b[0m \u001b[0mresult\u001b[0m\u001b[1;33m\u001b[0m\u001b[0m\n\u001b[0;32m   2122\u001b[0m \u001b[1;33m\u001b[0m\u001b[0m\n",
      "\u001b[1;32m<decorator-gen-60>\u001b[0m in \u001b[0;36mtime\u001b[1;34m(self, line, cell, local_ns)\u001b[0m\n",
      "\u001b[1;32m/home/utkarshu/miniconda3/envs/py35/lib/python3.5/site-packages/IPython/core/magic.py\u001b[0m in \u001b[0;36m<lambda>\u001b[1;34m(f, *a, **k)\u001b[0m\n\u001b[0;32m    191\u001b[0m     \u001b[1;31m# but it's overkill for just that one bit of state.\u001b[0m\u001b[1;33m\u001b[0m\u001b[1;33m\u001b[0m\u001b[0m\n\u001b[0;32m    192\u001b[0m     \u001b[1;32mdef\u001b[0m \u001b[0mmagic_deco\u001b[0m\u001b[1;33m(\u001b[0m\u001b[0marg\u001b[0m\u001b[1;33m)\u001b[0m\u001b[1;33m:\u001b[0m\u001b[1;33m\u001b[0m\u001b[0m\n\u001b[1;32m--> 193\u001b[1;33m         \u001b[0mcall\u001b[0m \u001b[1;33m=\u001b[0m \u001b[1;32mlambda\u001b[0m \u001b[0mf\u001b[0m\u001b[1;33m,\u001b[0m \u001b[1;33m*\u001b[0m\u001b[0ma\u001b[0m\u001b[1;33m,\u001b[0m \u001b[1;33m**\u001b[0m\u001b[0mk\u001b[0m\u001b[1;33m:\u001b[0m \u001b[0mf\u001b[0m\u001b[1;33m(\u001b[0m\u001b[1;33m*\u001b[0m\u001b[0ma\u001b[0m\u001b[1;33m,\u001b[0m \u001b[1;33m**\u001b[0m\u001b[0mk\u001b[0m\u001b[1;33m)\u001b[0m\u001b[1;33m\u001b[0m\u001b[0m\n\u001b[0m\u001b[0;32m    194\u001b[0m \u001b[1;33m\u001b[0m\u001b[0m\n\u001b[0;32m    195\u001b[0m         \u001b[1;32mif\u001b[0m \u001b[0mcallable\u001b[0m\u001b[1;33m(\u001b[0m\u001b[0marg\u001b[0m\u001b[1;33m)\u001b[0m\u001b[1;33m:\u001b[0m\u001b[1;33m\u001b[0m\u001b[0m\n",
      "\u001b[1;32m/home/utkarshu/miniconda3/envs/py35/lib/python3.5/site-packages/IPython/core/magics/execution.py\u001b[0m in \u001b[0;36mtime\u001b[1;34m(self, line, cell, local_ns)\u001b[0m\n\u001b[0;32m   1175\u001b[0m         \u001b[1;32melse\u001b[0m\u001b[1;33m:\u001b[0m\u001b[1;33m\u001b[0m\u001b[0m\n\u001b[0;32m   1176\u001b[0m             \u001b[0mst\u001b[0m \u001b[1;33m=\u001b[0m \u001b[0mclock2\u001b[0m\u001b[1;33m(\u001b[0m\u001b[1;33m)\u001b[0m\u001b[1;33m\u001b[0m\u001b[0m\n\u001b[1;32m-> 1177\u001b[1;33m             \u001b[0mexec\u001b[0m\u001b[1;33m(\u001b[0m\u001b[0mcode\u001b[0m\u001b[1;33m,\u001b[0m \u001b[0mglob\u001b[0m\u001b[1;33m,\u001b[0m \u001b[0mlocal_ns\u001b[0m\u001b[1;33m)\u001b[0m\u001b[1;33m\u001b[0m\u001b[0m\n\u001b[0m\u001b[0;32m   1178\u001b[0m             \u001b[0mend\u001b[0m \u001b[1;33m=\u001b[0m \u001b[0mclock2\u001b[0m\u001b[1;33m(\u001b[0m\u001b[1;33m)\u001b[0m\u001b[1;33m\u001b[0m\u001b[0m\n\u001b[0;32m   1179\u001b[0m             \u001b[0mout\u001b[0m \u001b[1;33m=\u001b[0m \u001b[1;32mNone\u001b[0m\u001b[1;33m\u001b[0m\u001b[0m\n",
      "\u001b[1;32m/NL/stackexchange/work/prog/broadcast-online/opt_model.py\u001b[0m in \u001b[0;36m<module>\u001b[1;34m()\u001b[0m\n",
      "\u001b[1;32m/NL/stackexchange/work/prog/broadcast-online/opt_model.py\u001b[0m in \u001b[0;36moracle_ranking\u001b[1;34m(df, sim_opts, omit_src_ids, follower_ids)\u001b[0m\n\u001b[0;32m    188\u001b[0m         \u001b[1;31m# This can be made parallel and vectorized\u001b[0m\u001b[1;33m\u001b[0m\u001b[1;33m\u001b[0m\u001b[0m\n\u001b[0;32m    189\u001b[0m         \u001b[1;32mfor\u001b[0m \u001b[0mr\u001b[0m \u001b[1;32min\u001b[0m \u001b[0mrange\u001b[0m\u001b[1;33m(\u001b[0m\u001b[0mn\u001b[0m \u001b[1;33m-\u001b[0m \u001b[1;36m1\u001b[0m\u001b[1;33m)\u001b[0m\u001b[1;33m:\u001b[0m\u001b[1;33m\u001b[0m\u001b[0m\n\u001b[1;32m--> 190\u001b[1;33m             J[r, k] = q_vec * w[k] * r ** 2 / 2 + min(J[0, k + 1] + s / 2.0,\n\u001b[0m\u001b[0;32m    191\u001b[0m                                                       J[r + 1, k + 1])\n\u001b[0;32m    192\u001b[0m \u001b[1;33m\u001b[0m\u001b[0m\n",
      "\u001b[1;31mKeyboardInterrupt\u001b[0m: "
     ]
    }
   ],
   "source": [
    "%%time\n",
    "sim_opts = sim_opt_gen(0)\n",
    "wall_mgr = sim_opts.create_manager_for_wall()\n",
    "wall_mgr.run()\n",
    "oracle_df = oracle_ranking(df=wall_mgr.state.get_dataframe(), \n",
    "                           sim_opts=sim_opt_gen(1))"
   ]
  },
  {
   "cell_type": "code",
   "execution_count": 19,
   "metadata": {
    "collapsed": true
   },
   "outputs": [
    {
     "ename": "KeyboardInterrupt",
     "evalue": "",
     "output_type": "error",
     "traceback": [
      "\u001b[1;31m---------------------------------------------------------------------------\u001b[0m",
      "\u001b[1;31mKeyboardInterrupt\u001b[0m                         Traceback (most recent call last)",
      "\u001b[1;32m/NL/stackexchange/work/prog/broadcast-online/opt_model.py\u001b[0m in \u001b[0;36m<module>\u001b[1;34m()\u001b[0m\n\u001b[1;32m----> 1\u001b[1;33m \u001b[0mget_ipython\u001b[0m\u001b[1;33m(\u001b[0m\u001b[1;33m)\u001b[0m\u001b[1;33m.\u001b[0m\u001b[0mrun_cell_magic\u001b[0m\u001b[1;33m(\u001b[0m\u001b[1;34m'time'\u001b[0m\u001b[1;33m,\u001b[0m \u001b[1;34m''\u001b[0m\u001b[1;33m,\u001b[0m \u001b[1;34m'sim_opts = sim_opt_gen(0)\\nwall_mgr = sim_opts.create_manager_for_wall()\\nwall_mgr.run()\\noracle_df = oracle_ranking(df=wall_mgr.state.get_dataframe(), \\n                           sim_opts=sim_opt_gen(1))'\u001b[0m\u001b[1;33m)\u001b[0m\u001b[1;33m\u001b[0m\u001b[0m\n\u001b[0m",
      "\u001b[1;32m/home/utkarshu/miniconda3/envs/py35/lib/python3.5/site-packages/IPython/core/interactiveshell.py\u001b[0m in \u001b[0;36mrun_cell_magic\u001b[1;34m(self, magic_name, line, cell)\u001b[0m\n\u001b[0;32m   2118\u001b[0m             \u001b[0mmagic_arg_s\u001b[0m \u001b[1;33m=\u001b[0m \u001b[0mself\u001b[0m\u001b[1;33m.\u001b[0m\u001b[0mvar_expand\u001b[0m\u001b[1;33m(\u001b[0m\u001b[0mline\u001b[0m\u001b[1;33m,\u001b[0m \u001b[0mstack_depth\u001b[0m\u001b[1;33m)\u001b[0m\u001b[1;33m\u001b[0m\u001b[0m\n\u001b[0;32m   2119\u001b[0m             \u001b[1;32mwith\u001b[0m \u001b[0mself\u001b[0m\u001b[1;33m.\u001b[0m\u001b[0mbuiltin_trap\u001b[0m\u001b[1;33m:\u001b[0m\u001b[1;33m\u001b[0m\u001b[0m\n\u001b[1;32m-> 2120\u001b[1;33m                 \u001b[0mresult\u001b[0m \u001b[1;33m=\u001b[0m \u001b[0mfn\u001b[0m\u001b[1;33m(\u001b[0m\u001b[0mmagic_arg_s\u001b[0m\u001b[1;33m,\u001b[0m \u001b[0mcell\u001b[0m\u001b[1;33m)\u001b[0m\u001b[1;33m\u001b[0m\u001b[0m\n\u001b[0m\u001b[0;32m   2121\u001b[0m             \u001b[1;32mreturn\u001b[0m \u001b[0mresult\u001b[0m\u001b[1;33m\u001b[0m\u001b[0m\n\u001b[0;32m   2122\u001b[0m \u001b[1;33m\u001b[0m\u001b[0m\n",
      "\u001b[1;32m<decorator-gen-60>\u001b[0m in \u001b[0;36mtime\u001b[1;34m(self, line, cell, local_ns)\u001b[0m\n",
      "\u001b[1;32m/home/utkarshu/miniconda3/envs/py35/lib/python3.5/site-packages/IPython/core/magic.py\u001b[0m in \u001b[0;36m<lambda>\u001b[1;34m(f, *a, **k)\u001b[0m\n\u001b[0;32m    191\u001b[0m     \u001b[1;31m# but it's overkill for just that one bit of state.\u001b[0m\u001b[1;33m\u001b[0m\u001b[1;33m\u001b[0m\u001b[0m\n\u001b[0;32m    192\u001b[0m     \u001b[1;32mdef\u001b[0m \u001b[0mmagic_deco\u001b[0m\u001b[1;33m(\u001b[0m\u001b[0marg\u001b[0m\u001b[1;33m)\u001b[0m\u001b[1;33m:\u001b[0m\u001b[1;33m\u001b[0m\u001b[0m\n\u001b[1;32m--> 193\u001b[1;33m         \u001b[0mcall\u001b[0m \u001b[1;33m=\u001b[0m \u001b[1;32mlambda\u001b[0m \u001b[0mf\u001b[0m\u001b[1;33m,\u001b[0m \u001b[1;33m*\u001b[0m\u001b[0ma\u001b[0m\u001b[1;33m,\u001b[0m \u001b[1;33m**\u001b[0m\u001b[0mk\u001b[0m\u001b[1;33m:\u001b[0m \u001b[0mf\u001b[0m\u001b[1;33m(\u001b[0m\u001b[1;33m*\u001b[0m\u001b[0ma\u001b[0m\u001b[1;33m,\u001b[0m \u001b[1;33m**\u001b[0m\u001b[0mk\u001b[0m\u001b[1;33m)\u001b[0m\u001b[1;33m\u001b[0m\u001b[0m\n\u001b[0m\u001b[0;32m    194\u001b[0m \u001b[1;33m\u001b[0m\u001b[0m\n\u001b[0;32m    195\u001b[0m         \u001b[1;32mif\u001b[0m \u001b[0mcallable\u001b[0m\u001b[1;33m(\u001b[0m\u001b[0marg\u001b[0m\u001b[1;33m)\u001b[0m\u001b[1;33m:\u001b[0m\u001b[1;33m\u001b[0m\u001b[0m\n",
      "\u001b[1;32m/home/utkarshu/miniconda3/envs/py35/lib/python3.5/site-packages/IPython/core/magics/execution.py\u001b[0m in \u001b[0;36mtime\u001b[1;34m(self, line, cell, local_ns)\u001b[0m\n\u001b[0;32m   1175\u001b[0m         \u001b[1;32melse\u001b[0m\u001b[1;33m:\u001b[0m\u001b[1;33m\u001b[0m\u001b[0m\n\u001b[0;32m   1176\u001b[0m             \u001b[0mst\u001b[0m \u001b[1;33m=\u001b[0m \u001b[0mclock2\u001b[0m\u001b[1;33m(\u001b[0m\u001b[1;33m)\u001b[0m\u001b[1;33m\u001b[0m\u001b[0m\n\u001b[1;32m-> 1177\u001b[1;33m             \u001b[0mexec\u001b[0m\u001b[1;33m(\u001b[0m\u001b[0mcode\u001b[0m\u001b[1;33m,\u001b[0m \u001b[0mglob\u001b[0m\u001b[1;33m,\u001b[0m \u001b[0mlocal_ns\u001b[0m\u001b[1;33m)\u001b[0m\u001b[1;33m\u001b[0m\u001b[0m\n\u001b[0m\u001b[0;32m   1178\u001b[0m             \u001b[0mend\u001b[0m \u001b[1;33m=\u001b[0m \u001b[0mclock2\u001b[0m\u001b[1;33m(\u001b[0m\u001b[1;33m)\u001b[0m\u001b[1;33m\u001b[0m\u001b[0m\n\u001b[0;32m   1179\u001b[0m             \u001b[0mout\u001b[0m \u001b[1;33m=\u001b[0m \u001b[1;32mNone\u001b[0m\u001b[1;33m\u001b[0m\u001b[0m\n",
      "\u001b[1;32m/NL/stackexchange/work/prog/broadcast-online/opt_model.py\u001b[0m in \u001b[0;36m<module>\u001b[1;34m()\u001b[0m\n",
      "\u001b[1;32m/NL/stackexchange/work/prog/broadcast-online/opt_model.py\u001b[0m in \u001b[0;36moracle_ranking\u001b[1;34m(df, sim_opts, omit_src_ids, follower_ids)\u001b[0m\n\u001b[0;32m    188\u001b[0m         \u001b[1;31m# This can be made parallel and vectorized\u001b[0m\u001b[1;33m\u001b[0m\u001b[1;33m\u001b[0m\u001b[0m\n\u001b[0;32m    189\u001b[0m         \u001b[1;32mfor\u001b[0m \u001b[0mr\u001b[0m \u001b[1;32min\u001b[0m \u001b[0mrange\u001b[0m\u001b[1;33m(\u001b[0m\u001b[0mn\u001b[0m \u001b[1;33m-\u001b[0m \u001b[1;36m1\u001b[0m\u001b[1;33m)\u001b[0m\u001b[1;33m:\u001b[0m\u001b[1;33m\u001b[0m\u001b[0m\n\u001b[1;32m--> 190\u001b[1;33m             J[r, k] = q_vec * w[k] * r ** 2 / 2 + min(J[0, k + 1] + s / 2.0,\n\u001b[0m\u001b[0;32m    191\u001b[0m                                                       J[r + 1, k + 1])\n\u001b[0;32m    192\u001b[0m \u001b[1;33m\u001b[0m\u001b[0m\n",
      "\u001b[1;31mKeyboardInterrupt\u001b[0m: "
     ]
    }
   ],
   "source": [
    "%%time\n",
    "sim_opts = sim_opt_gen(0)\n",
    "wall_mgr = sim_opts.create_manager_for_wall()\n",
    "wall_mgr.run()\n",
    "oracle_df = oracle_ranking(df=wall_mgr.state.get_dataframe(), \n",
    "                           sim_opts=sim_opt_gen(1))"
   ]
  },
  {
   "cell_type": "code",
   "execution_count": 68,
   "metadata": {
    "collapsed": false
   },
   "outputs": [],
   "source": [
    "@optioned(option_arg='opts')\n",
    "def rank_plot(res, field, file_name, title=None, with_std=True, save=False, log_y=True):\n",
    "    vals = res.df.pivot_table(index='s', columns='type', values=field, aggfunc=np.mean)\n",
    "    std  = res.df.pivot_table(index='s', columns='type', values=field, aggfunc=np.std)\n",
    "    \n",
    "    if title is None:\n",
    "        if field == 'avg_rank':\n",
    "            title = 'Average rank'\n",
    "        elif field == 'r_2':\n",
    "            title = r'$\\int r^2$dt'\n",
    "        else:\n",
    "            title = 'Unknown axis'\n",
    "            \n",
    "\n",
    "    latexify(columns=2, largeFonts=True)\n",
    "    c1, c2, c3, c4 = sns.mpl_palette('Set2', 4)\n",
    "\n",
    "    X = [np.mean(res.capacities[s]) for s in vals.index]\n",
    "    plt.errorbar(X, vals.Opt, fmt='s-', yerr=std.Opt.values, label='Optimal',  color=c1, markersize=5)\n",
    "    plt.errorbar(X, vals.Poisson, fmt='o-', yerr=std.Poisson.values, label='Poisson', color=c2, markersize=5)\n",
    "    plt.errorbar(X, vals.Oracle, fmt='d-', yerr=std.Oracle.values, label='Oracle', color=c3, markersize=5)\n",
    "    plt.errorbar(X, vals.kdd, fmt='^-', yerr=std.kdd.values, label='KDD', color=c4, markersize=5)\n",
    "    \n",
    "    plt.xscale('log')\n",
    "    \n",
    "    if log_y:\n",
    "        plt.yscale('log')\n",
    "        \n",
    "    plt.legend(loc=\"upper right\")\n",
    "    plt.ylabel(title)\n",
    "    plt.xlabel(r'Budget (\\# events)')\n",
    "    # plt.ylim(None, 105)\n",
    "    # plt.xlim(None, 15)\n",
    "    plt.tight_layout()\n",
    "    format_axes(plt.gca())\n",
    "    \n",
    "    if save:\n",
    "        plt.savefig(file_name)\n",
    "        \n",
    "    # plt.savefig('/NL/stackexchange/work/prog/papers/online-twitter-broadcast/nips2016/figures/capacity-poisson-oracle-opt.pdf')\n",
    "    # plt.savefig('/NL/stackexchange/work/prog/papers/online-twitter-broadcast/nips2016/figures/capacity-poisson-oracle-opt-kdd.pdf')"
   ]
  },
  {
   "cell_type": "code",
   "execution_count": 22,
   "metadata": {
    "collapsed": false
   },
   "outputs": [
    {
     "data": {
      "text/plain": [
       "Float64Index([1e-08, 1e-07, 1e-06, 1e-05, 0.0001, 0.001, 0.01, 0.1, 1.0, 10.0], dtype='float64', name='s')"
      ]
     },
     "execution_count": 22,
     "metadata": {},
     "output_type": "execute_result"
    }
   ],
   "source": [
    "hawkes_res.df.pivot_table(index='s', columns='type', values='r_2').index"
   ]
  },
  {
   "cell_type": "code",
   "execution_count": 168,
   "metadata": {
    "collapsed": false
   },
   "outputs": [
    {
     "data": {
      "text/html": [
       "<div>\n",
       "<table border=\"1\" class=\"dataframe\">\n",
       "  <thead>\n",
       "    <tr style=\"text-align: right;\">\n",
       "      <th>type</th>\n",
       "      <th>Opt</th>\n",
       "      <th>Oracle</th>\n",
       "      <th>Poisson</th>\n",
       "      <th>kdd</th>\n",
       "    </tr>\n",
       "    <tr>\n",
       "      <th>s</th>\n",
       "      <th></th>\n",
       "      <th></th>\n",
       "      <th></th>\n",
       "      <th></th>\n",
       "    </tr>\n",
       "  </thead>\n",
       "  <tbody>\n",
       "    <tr>\n",
       "      <th>1.000000e-08</th>\n",
       "      <td>0.004255</td>\n",
       "      <td>0.002257</td>\n",
       "      <td>0.377543</td>\n",
       "      <td>0.228007</td>\n",
       "    </tr>\n",
       "    <tr>\n",
       "      <th>1.000000e-07</th>\n",
       "      <td>0.013699</td>\n",
       "      <td>0.006435</td>\n",
       "      <td>0.708564</td>\n",
       "      <td>0.571351</td>\n",
       "    </tr>\n",
       "    <tr>\n",
       "      <th>1.000000e-06</th>\n",
       "      <td>0.058041</td>\n",
       "      <td>0.013762</td>\n",
       "      <td>1.468919</td>\n",
       "      <td>1.378015</td>\n",
       "    </tr>\n",
       "    <tr>\n",
       "      <th>1.000000e-05</th>\n",
       "      <td>0.229522</td>\n",
       "      <td>0.074677</td>\n",
       "      <td>4.076188</td>\n",
       "      <td>4.230126</td>\n",
       "    </tr>\n",
       "    <tr>\n",
       "      <th>1.000000e-04</th>\n",
       "      <td>0.866249</td>\n",
       "      <td>0.287207</td>\n",
       "      <td>9.320475</td>\n",
       "      <td>16.104886</td>\n",
       "    </tr>\n",
       "    <tr>\n",
       "      <th>1.000000e-03</th>\n",
       "      <td>3.766542</td>\n",
       "      <td>0.898753</td>\n",
       "      <td>25.476946</td>\n",
       "      <td>281.915090</td>\n",
       "    </tr>\n",
       "    <tr>\n",
       "      <th>1.000000e-02</th>\n",
       "      <td>16.224040</td>\n",
       "      <td>4.240223</td>\n",
       "      <td>87.953591</td>\n",
       "      <td>1259.529470</td>\n",
       "    </tr>\n",
       "    <tr>\n",
       "      <th>1.000000e-01</th>\n",
       "      <td>55.644573</td>\n",
       "      <td>20.417019</td>\n",
       "      <td>232.210492</td>\n",
       "      <td>2758.889224</td>\n",
       "    </tr>\n",
       "    <tr>\n",
       "      <th>1.000000e+00</th>\n",
       "      <td>218.081889</td>\n",
       "      <td>93.121546</td>\n",
       "      <td>1806.676547</td>\n",
       "      <td>10281.882413</td>\n",
       "    </tr>\n",
       "    <tr>\n",
       "      <th>1.000000e+01</th>\n",
       "      <td>430.028635</td>\n",
       "      <td>315.280360</td>\n",
       "      <td>2342.076609</td>\n",
       "      <td>60039.330064</td>\n",
       "    </tr>\n",
       "  </tbody>\n",
       "</table>\n",
       "</div>"
      ],
      "text/plain": [
       "type                 Opt      Oracle      Poisson           kdd\n",
       "s                                                              \n",
       "1.000000e-08    0.004255    0.002257     0.377543      0.228007\n",
       "1.000000e-07    0.013699    0.006435     0.708564      0.571351\n",
       "1.000000e-06    0.058041    0.013762     1.468919      1.378015\n",
       "1.000000e-05    0.229522    0.074677     4.076188      4.230126\n",
       "1.000000e-04    0.866249    0.287207     9.320475     16.104886\n",
       "1.000000e-03    3.766542    0.898753    25.476946    281.915090\n",
       "1.000000e-02   16.224040    4.240223    87.953591   1259.529470\n",
       "1.000000e-01   55.644573   20.417019   232.210492   2758.889224\n",
       "1.000000e+00  218.081889   93.121546  1806.676547  10281.882413\n",
       "1.000000e+01  430.028635  315.280360  2342.076609  60039.330064"
      ]
     },
     "execution_count": 168,
     "metadata": {},
     "output_type": "execute_result"
    }
   ],
   "source": [
    "hawkes_res_higher_beta.df.pivot_table(index='s', columns='type', values='r_2', aggfunc=np.std)"
   ]
  },
  {
   "cell_type": "code",
   "execution_count": 69,
   "metadata": {
    "collapsed": false
   },
   "outputs": [
    {
     "data": {
      "image/png": "[encoded data removed]",
      "text/plain": [
       "<matplotlib.figure.Figure at 0x7fe777554978>"
      ]
     },
     "metadata": {},
     "output_type": "display_data"
    }
   ],
   "source": [
    "rank_plot(hawkes_res, 'r_2', None, log_y=False)"
   ]
  },
  {
   "cell_type": "code",
   "execution_count": 71,
   "metadata": {
    "collapsed": false
   },
   "outputs": [
    {
     "data": {
      "image/png": "[encoded data removed]",
      "text/plain": [
       "<matplotlib.figure.Figure at 0x7fe774634ef0>"
      ]
     },
     "metadata": {},
     "output_type": "display_data"
    }
   ],
   "source": [
    "rank_plot(hawkes_res, 'r_2', None)"
   ]
  },
  {
   "cell_type": "code",
   "execution_count": 87,
   "metadata": {
    "collapsed": false
   },
   "outputs": [],
   "source": [
    "@optioned(option_arg='opts')\n",
    "def top_k_plot(res, field, file_name, K=None, with_std=True, save=False):\n",
    "    vals = res.df.pivot_table(index='s', columns='type', values=field, aggfunc='mean')\n",
    "    std  = res.df.pivot_table(index='s', columns='type', values=field, aggfunc=np.std)\n",
    "    \n",
    "    if K is None:\n",
    "        assert field.startswith('top_')\n",
    "        K = int(field[len('top_'):])\n",
    "\n",
    "    latexify(columns=2, largeFonts=True)\n",
    "    c1, c2, c3, c4 = sns.mpl_palette('Set2', 4)\n",
    "\n",
    "    X = [np.mean(res.capacities[s]) for s in vals.index]\n",
    "    plt.errorbar(X, vals.Opt, fmt='s-', yerr=std.Opt.values, label='Optimal',  color=c1, markersize=5)\n",
    "    plt.errorbar(X, vals.Poisson, fmt='o-', yerr=std.Poisson.values, label='Poisson', color=c2, markersize=5)\n",
    "    plt.errorbar(X, vals.Oracle, fmt='d-', yerr=std.Oracle.values, label='Oracle', color=c3, markersize=5)\n",
    "    plt.errorbar(X, vals.kdd, fmt='^-', yerr=std.kdd.values, label='KDD', color=c4, markersize=5)\n",
    "    plt.xscale('log')\n",
    "    plt.legend(loc=\"upper left\")\n",
    "    plt.ylabel(r'time r(t) $<$ {}'.format(K))\n",
    "    plt.xlabel(r'Budget (\\# events)')\n",
    "    # plt.ylim(None, 105)\n",
    "    # plt.xlim(None, 15)\n",
    "    plt.tight_layout()\n",
    "    format_axes(plt.gca())\n",
    "    if save:\n",
    "        plt.savefig(file_name)\n",
    "    # plt.savefig('/NL/stackexchange/work/prog/papers/online-twitter-broadcast/nips2016/figures/capacity-poisson-oracle-opt.pdf')\n",
    "    # plt.savefig('/NL/stackexchange/work/prog/papers/online-twitter-broadcast/nips2016/figures/capacity-poisson-oracle-opt-kdd.pdf')"
   ]
  },
  {
   "cell_type": "code",
   "execution_count": 88,
   "metadata": {
    "collapsed": false
   },
   "outputs": [
    {
     "data": {
      "text/html": [
       "<div>\n",
       "<table border=\"1\" class=\"dataframe\">\n",
       "  <thead>\n",
       "    <tr style=\"text-align: right;\">\n",
       "      <th>type</th>\n",
       "      <th>Opt</th>\n",
       "      <th>Oracle</th>\n",
       "      <th>Poisson</th>\n",
       "      <th>kdd</th>\n",
       "    </tr>\n",
       "    <tr>\n",
       "      <th>s</th>\n",
       "      <th></th>\n",
       "      <th></th>\n",
       "      <th></th>\n",
       "      <th></th>\n",
       "    </tr>\n",
       "  </thead>\n",
       "  <tbody>\n",
       "    <tr>\n",
       "      <th>0.000001</th>\n",
       "      <td>99.265603</td>\n",
       "      <td>99.890646</td>\n",
       "      <td>49.569384</td>\n",
       "      <td>49.657234</td>\n",
       "    </tr>\n",
       "    <tr>\n",
       "      <th>0.000010</th>\n",
       "      <td>97.735429</td>\n",
       "      <td>99.868902</td>\n",
       "      <td>49.208997</td>\n",
       "      <td>49.522198</td>\n",
       "    </tr>\n",
       "    <tr>\n",
       "      <th>0.000100</th>\n",
       "      <td>93.345349</td>\n",
       "      <td>99.635692</td>\n",
       "      <td>47.966030</td>\n",
       "      <td>48.225349</td>\n",
       "    </tr>\n",
       "    <tr>\n",
       "      <th>0.001000</th>\n",
       "      <td>82.502168</td>\n",
       "      <td>98.228637</td>\n",
       "      <td>44.832798</td>\n",
       "      <td>44.247906</td>\n",
       "    </tr>\n",
       "    <tr>\n",
       "      <th>0.010000</th>\n",
       "      <td>63.741640</td>\n",
       "      <td>90.497193</td>\n",
       "      <td>38.301633</td>\n",
       "      <td>38.372511</td>\n",
       "    </tr>\n",
       "    <tr>\n",
       "      <th>0.100000</th>\n",
       "      <td>42.604444</td>\n",
       "      <td>69.574702</td>\n",
       "      <td>29.793909</td>\n",
       "      <td>29.594842</td>\n",
       "    </tr>\n",
       "    <tr>\n",
       "      <th>1.000000</th>\n",
       "      <td>26.399126</td>\n",
       "      <td>45.711829</td>\n",
       "      <td>20.522375</td>\n",
       "      <td>20.358731</td>\n",
       "    </tr>\n",
       "    <tr>\n",
       "      <th>10.000000</th>\n",
       "      <td>15.394732</td>\n",
       "      <td>29.061835</td>\n",
       "      <td>13.122382</td>\n",
       "      <td>13.004313</td>\n",
       "    </tr>\n",
       "    <tr>\n",
       "      <th>100.000000</th>\n",
       "      <td>8.592110</td>\n",
       "      <td>17.542691</td>\n",
       "      <td>8.255395</td>\n",
       "      <td>8.126404</td>\n",
       "    </tr>\n",
       "    <tr>\n",
       "      <th>1000.000000</th>\n",
       "      <td>5.210287</td>\n",
       "      <td>10.969606</td>\n",
       "      <td>5.399266</td>\n",
       "      <td>5.557425</td>\n",
       "    </tr>\n",
       "  </tbody>\n",
       "</table>\n",
       "</div>"
      ],
      "text/plain": [
       "type               Opt     Oracle    Poisson        kdd\n",
       "s                                                      \n",
       "0.000001     99.265603  99.890646  49.569384  49.657234\n",
       "0.000010     97.735429  99.868902  49.208997  49.522198\n",
       "0.000100     93.345349  99.635692  47.966030  48.225349\n",
       "0.001000     82.502168  98.228637  44.832798  44.247906\n",
       "0.010000     63.741640  90.497193  38.301633  38.372511\n",
       "0.100000     42.604444  69.574702  29.793909  29.594842\n",
       "1.000000     26.399126  45.711829  20.522375  20.358731\n",
       "10.000000    15.394732  29.061835  13.122382  13.004313\n",
       "100.000000    8.592110  17.542691   8.255395   8.126404\n",
       "1000.000000   5.210287  10.969606   5.399266   5.557425"
      ]
     },
     "execution_count": 88,
     "metadata": {},
     "output_type": "execute_result"
    }
   ],
   "source": [
    "piecewise_res.df.pivot_table(index='s', columns='type', values='top_1')"
   ]
  },
  {
   "cell_type": "code",
   "execution_count": 77,
   "metadata": {
    "collapsed": false
   },
   "outputs": [
    {
     "data": {
      "image/png": "[encoded data removed]",
      "text/plain": [
       "<matplotlib.figure.Figure at 0x7fe774118ba8>"
      ]
     },
     "metadata": {},
     "output_type": "display_data"
    }
   ],
   "source": [
    "top_k_plot(piecewise_res, 'top_10', '/tmp/test.pdf', save=False)"
   ]
  },
  {
   "cell_type": "code",
   "execution_count": 86,
   "metadata": {
    "collapsed": false
   },
   "outputs": [
    {
     "data": {
      "image/png": "[encoded data removed]",
      "text/plain": [
       "<matplotlib.figure.Figure at 0x7fe7742c7438>"
      ]
     },
     "metadata": {},
     "output_type": "display_data"
    }
   ],
   "source": [
    "top_k_plot(piecewise_res_2, 'top_1', '/tmp/test.pdf', save=False)"
   ]
  },
  {
   "cell_type": "markdown",
   "metadata": {
    "collapsed": true
   },
   "source": [
    "## Plots"
   ]
  },
  {
   "cell_type": "code",
   "execution_count": 89,
   "metadata": {
    "collapsed": true
   },
   "outputs": [],
   "source": [
    "import os\n",
    "base = '/NL/stackexchange/work/prog/papers/online-twitter-broadcast/nips2016/figures/'"
   ]
  },
  {
   "cell_type": "code",
   "execution_count": 90,
   "metadata": {
    "collapsed": false
   },
   "outputs": [
    {
     "name": "stdout",
     "output_type": "stream",
     "text": [
      "CPU times: user 30.7 s, sys: 2.88 s, total: 33.6 s\n",
      "Wall time: 53.7 s\n"
     ]
    }
   ],
   "source": [
    "%%time\n",
    "for name, res in [('poisson', poisson_res), ('hawkes', hawkes_res), ('piecewise', piecewise_res)]:\n",
    "    file_name = os.path.join(base, 'avg-rank-{}-wall.pdf'.format(name))\n",
    "    rank_plot(res, 'avg_rank', file_name, save=True)\n",
    "    plt.close()\n",
    "    \n",
    "    file_name = os.path.join(base, 'r2-{}-wall.pdf'.format(name))\n",
    "    rank_plot(res, 'r_2', file_name, save=True)\n",
    "    plt.close()\n",
    "    \n",
    "    file_name = os.path.join(base, 'r2-{}-wall-linear.pdf'.format(name))\n",
    "    rank_plot(res, 'r_2', file_name, save=True, log_y=False)\n",
    "    plt.close()\n",
    "    \n",
    "    file_name = os.path.join(base, 'avg-rank-{}-wall-linear.pdf'.format(name))\n",
    "    rank_plot(res, 'avg_rank', file_name, save=True, log_y=False)\n",
    "    plt.close()\n",
    "    \n",
    "    for k in perf_opts.Ks:\n",
    "        file_name = os.path.join(base, 'top-{}-{}-wall.pdf'.format(k, name))\n",
    "        top_k_plot(res, 'top_{}'.format(k), file_name, save=True)\n",
    "        plt.close()"
   ]
  },
  {
   "cell_type": "code",
   "execution_count": 146,
   "metadata": {
    "collapsed": false
   },
   "outputs": [
    {
     "data": {
      "text/plain": [
       "2.0"
      ]
     },
     "execution_count": 146,
     "metadata": {},
     "output_type": "execute_result"
    }
   ],
   "source": [
    "simulation_opts.world_beta"
   ]
  },
  {
   "cell_type": "code",
   "execution_count": 79,
   "metadata": {
    "collapsed": true
   },
   "outputs": [],
   "source": [
    "%run -i opt_model.py"
   ]
  },
  {
   "cell_type": "code",
   "execution_count": 91,
   "metadata": {
    "collapsed": false
   },
   "outputs": [
    {
     "name": "stdout",
     "output_type": "stream",
     "text": [
      "CPU times: user 0 ns, sys: 0 ns, total: 0 ns\n",
      "Wall time: 20.7 µs\n"
     ]
    }
   ],
   "source": [
    "%%time\n",
    "def plot_intensity(sim_opts, name):\n",
    "    wall_mgr = sim_opts.create_manager_for_wall()\n",
    "    wall_mgr.run()\n",
    "    assert len(wall_mgr.sources) == 1\n",
    "    broadcaster = wall_mgr.sources[0]\n",
    "    X = np.linspace(start=0, stop=sim_opts.end_time, num=100)\n",
    "    Y = [broadcaster.get_rate(t) for t in X]\n",
    "    latexify(columns=2, largeFonts=True)\n",
    "    plt.plot(X, Y)\n",
    "    plt.xlabel('Time')\n",
    "    plt.ylabel(r'$\\lambda(t)$')\n",
    "    plt.title('Sample intensity of {} wall'.format(name))\n",
    "    plt.tight_layout()\n",
    "    format_axes(plt.gca())"
   ]
  },
  {
   "cell_type": "code",
   "execution_count": 164,
   "metadata": {
    "collapsed": false
   },
   "outputs": [
    {
     "name": "stdout",
     "output_type": "stream",
     "text": [
      "CPU times: user 3.17 s, sys: 10 ms, total: 3.18 s\n",
      "Wall time: 3.23 s\n"
     ]
    },
    {
     "data": {
      "image/png": "[encoded data removed]",
      "text/plain": [
       "<matplotlib.figure.Figure at 0x7f2d3c6cc390>"
      ]
     },
     "metadata": {},
     "output_type": "display_data"
    }
   ],
   "source": [
    "%%time\n",
    "plot_intensity(SimOpts.std_hawkes(world_seed=1, \n",
    "                                  world_beta=10, \n",
    "                                  world_alpha=1, \n",
    "                                  world_lambda_0=1000).update({'end_time': 2}),\n",
    "               'Hawkes')"
   ]
  },
  {
   "cell_type": "code",
   "execution_count": 92,
   "metadata": {
    "collapsed": false
   },
   "outputs": [
    {
     "data": {
      "image/png": "[encoded data removed]",
      "text/plain": [
       "<matplotlib.figure.Figure at 0x7fe76daccbe0>"
      ]
     },
     "metadata": {},
     "output_type": "display_data"
    }
   ],
   "source": [
    "plot_intensity(hawkes_inf_opts.sim_opts_gen(5), 'Hawkes')\n",
    "plt.savefig(os.path.join(base, 'hawkes_intensity.pdf'))"
   ]
  },
  {
   "cell_type": "code",
   "execution_count": 93,
   "metadata": {
    "collapsed": false
   },
   "outputs": [
    {
     "data": {
      "image/png": "[encoded data removed]",
      "text/plain": [
       "<matplotlib.figure.Figure at 0x7fe76caaddd8>"
      ]
     },
     "metadata": {},
     "output_type": "display_data"
    }
   ],
   "source": [
    "plot_intensity(piecewise_inf_opts.sim_opts_gen(5), 'Piecewise constant')\n",
    "plt.savefig(os.path.join(base, 'piecewise_const_intenstiy.pdf'))"
   ]
  },
  {
   "cell_type": "code",
   "execution_count": null,
   "metadata": {
    "collapsed": true
   },
   "outputs": [],
   "source": []
  },
  {
   "cell_type": "code",
   "execution_count": null,
   "metadata": {
    "collapsed": true
   },
   "outputs": [],
   "source": []
  },
  {
   "cell_type": "code",
   "execution_count": null,
   "metadata": {
    "collapsed": true
   },
   "outputs": [],
   "source": []
  },
  {
   "cell_type": "code",
   "execution_count": null,
   "metadata": {
    "collapsed": true
   },
   "outputs": [],
   "source": []
  },
  {
   "cell_type": "code",
   "execution_count": null,
   "metadata": {
    "collapsed": true
   },
   "outputs": [],
   "source": []
  },
  {
   "cell_type": "code",
   "execution_count": null,
   "metadata": {
    "collapsed": true
   },
   "outputs": [],
   "source": []
  },
  {
   "cell_type": "code",
   "execution_count": null,
   "metadata": {
    "collapsed": true
   },
   "outputs": [],
   "source": []
  },
  {
   "cell_type": "code",
   "execution_count": null,
   "metadata": {
    "collapsed": true
   },
   "outputs": [],
   "source": []
  },
  {
   "cell_type": "code",
   "execution_count": null,
   "metadata": {
    "collapsed": true
   },
   "outputs": [],
   "source": []
  },
  {
   "cell_type": "code",
   "execution_count": null,
   "metadata": {
    "collapsed": true
   },
   "outputs": [],
   "source": []
  },
  {
   "cell_type": "code",
   "execution_count": null,
   "metadata": {
    "collapsed": true
   },
   "outputs": [],
   "source": []
  },
  {
   "cell_type": "code",
   "execution_count": 194,
   "metadata": {
    "collapsed": false
   },
   "outputs": [],
   "source": [
    "%run -i utils.py"
   ]
  },
  {
   "cell_type": "code",
   "execution_count": 195,
   "metadata": {
    "collapsed": false
   },
   "outputs": [],
   "source": [
    "sim_opts = SimOpts.std_hawkes(world_seed=101, world_lambda_0=0\n",
    "wall_mgr = sim_opts.create_manager_for_wall()\n",
    "wall_mgr.run()\n",
    "df = wall_mgr.state.get_dataframe()"
   ]
  },
  {
   "cell_type": "code",
   "execution_count": 196,
   "metadata": {
    "collapsed": false
   },
   "outputs": [
    {
     "name": "stdout",
     "output_type": "stream",
     "text": [
      "CPU times: user 5.42 s, sys: 3.33 ms, total: 5.42 s\n",
      "Wall time: 5.42 s\n"
     ]
    }
   ],
   "source": [
    "%time or_new, J_new = oracle_ranking_new(df=df, sim_opts=sim_opts)"
   ]
  },
  {
   "cell_type": "code",
   "execution_count": 197,
   "metadata": {
    "collapsed": false
   },
   "outputs": [
    {
     "name": "stdout",
     "output_type": "stream",
     "text": [
      "CPU times: user 4.91 s, sys: 3.33 ms, total: 4.91 s\n",
      "Wall time: 4.91 s\n"
     ]
    }
   ],
   "source": [
    "%time or_old, J_old = oracle_ranking(df=df, sim_opts=sim_opts)"
   ]
  },
  {
   "cell_type": "markdown",
   "metadata": {
    "collapsed": true
   },
   "source": [
    "## Compare against Mohammed's method"
   ]
  },
  {
   "cell_type": "code",
   "execution_count": null,
   "metadata": {
    "collapsed": true
   },
   "outputs": [],
   "source": []
  },
  {
   "cell_type": "code",
   "execution_count": 47,
   "metadata": {
    "collapsed": false
   },
   "outputs": [],
   "source": [
    "import broadcast.data as Bdata\n",
    "import broadcast.opt.optimizer as Bopt"
   ]
  },
  {
   "cell_type": "code",
   "execution_count": 127,
   "metadata": {
    "collapsed": false
   },
   "outputs": [
    {
     "data": {
      "text/plain": [
       "<module 'broadcast.opt.optimizer' from '/NL/stackexchange/work/prog/broadcast_ref/broadcast/opt/optimizer.py'>"
      ]
     },
     "execution_count": 127,
     "metadata": {},
     "output_type": "execute_result"
    }
   ],
   "source": [
    "reload(Bopt)"
   ]
  },
  {
   "cell_type": "code",
   "execution_count": 162,
   "metadata": {
    "collapsed": false
   },
   "outputs": [
    {
     "name": "stdout",
     "output_type": "stream",
     "text": [
      "Done within 5 iterations!\n"
     ]
    }
   ],
   "source": [
    "world_rate = 1.0\n",
    "num_segments = 10\n",
    "K = 1\n",
    "T = 1000.0\n",
    "\n",
    "rs = np.random.RandomState(42)\n",
    "low_high_ratio = 0.75\n",
    "world_rates = rs.uniform(low=world_rate * (1 - low_high_ratio),\n",
    "                         high=world_rate * (1 + low_high_ratio), \n",
    "                         size=num_segments)\n",
    "\n",
    "# wall_mgr = (SimOpts.std_poisson(world_rate=world_rate, world_seed=0)\n",
    "sim_opts = (SimOpts.std_piecewise_const(world_seed=1, world_rates=world_rates, \n",
    "                                        world_change_times=np.arange(num_segments) / num_segments * T)\n",
    "            .update({ 'end_time': T }))\n",
    "wall_mgr = sim_opts.create_manager_for_wall()\n",
    "wall_mgr.run()\n",
    "\n",
    "wall_df = wall_mgr.state.get_dataframe()\n",
    "wall_intensities = wall_df.groupby((wall_df.t.values / T * num_segments).astype(int)).size() / (T / num_segments)\n",
    "# wall_intensities = np.asarray([1000] * num_segments)\n",
    "# wall_intensities = world_rates\n",
    "\n",
    "follower_wall_intensities = np.array([wall_intensities])\n",
    "follower_conn_prob = np.array([[1.0] * num_segments])\n",
    "follower_weights = np.array([1.0])\n",
    "\n",
    "def _util(x):\n",
    "    return Bopt.utils.weighted_top_k(x, follower_wall_intensities, follower_conn_prob, follower_weights, K)\n",
    "\n",
    "def _util_grad(x):\n",
    "    return Bopt.utils.weighted_top_k_grad(x, follower_wall_intensities, follower_conn_prob, follower_weights, K)\n",
    "\n",
    "x0 = np.ones(num_segments)\n",
    "budget = 100.0\n",
    "upper_bounds = np.array([1e6] * num_segments)\n",
    "threshold=0.005 # Relative tolerance for convergence\n",
    "\n",
    "kdd_opt = Bopt.optimize(util=_util, \n",
    "                        util_grad=_util_grad, \n",
    "                        budget=budget, \n",
    "                        upper_bounds=upper_bounds, \n",
    "                        threshold=threshold, \n",
    "                        x0=x0, verbose=True)"
   ]
  },
  {
   "cell_type": "code",
   "execution_count": 154,
   "metadata": {
    "collapsed": false
   },
   "outputs": [
    {
     "data": {
      "text/plain": [
       "array([ 0.812,  1.676,  1.348,  1.148,  0.484,  0.484,  0.337,  1.549,\n",
       "        1.152,  1.312])"
      ]
     },
     "execution_count": 154,
     "metadata": {},
     "output_type": "execute_result"
    }
   ],
   "source": [
    "world_rates"
   ]
  },
  {
   "cell_type": "code",
   "execution_count": 147,
   "metadata": {
    "collapsed": false
   },
   "outputs": [
    {
     "data": {
      "text/plain": [
       "array([ 53.055,   6.363,   6.315,   5.989,   3.975,   3.839,   2.812,\n",
       "         6.408,   5.859,   5.384])"
      ]
     },
     "execution_count": 147,
     "metadata": {},
     "output_type": "execute_result"
    }
   ],
   "source": [
    "kdd_opt"
   ]
  },
  {
   "cell_type": "code",
   "execution_count": 142,
   "metadata": {
    "collapsed": false
   },
   "outputs": [
    {
     "data": {
      "text/plain": [
       "9.0479951229125444"
      ]
     },
     "execution_count": 142,
     "metadata": {},
     "output_type": "execute_result"
    }
   ],
   "source": [
    "Bopt.utils.weighted_top_k(kdd_opt, follower_wall_intensities, follower_conn_prob, follower_weights, K)"
   ]
  },
  {
   "cell_type": "code",
   "execution_count": 137,
   "metadata": {
    "collapsed": false
   },
   "outputs": [
    {
     "data": {
      "text/plain": [
       "{'avg_rank': 10491.437269802806,\n",
       " 'avg_rank_1': 10491.437269802806,\n",
       " 'avg_rank_10': 61242.581748687509,\n",
       " 'avg_rank_20': 226590.96318318188,\n",
       " 'avg_rank_3': 13302.994162979969,\n",
       " 'avg_rank_5': 22690.897577060408,\n",
       " 'avg_rank_k': 1,\n",
       " 'kdd_opt_1': array([ 13.507,  11.172,  10.674,  10.245,   8.124,   8.024,   7.241,\n",
       "         10.954,  10.151,   9.908]),\n",
       " 'kdd_opt_10': array([ 87.022,   0.006,   2.713,   2.477,   1.292,   0.941,   0.945,\n",
       "          2.587,   2.014,   0.004]),\n",
       " 'kdd_opt_20': array([ 97.737,   0.007,   0.198,   0.394,   0.415,   0.416,   0.409,\n",
       "          0.371,   0.049,   0.005]),\n",
       " 'kdd_opt_3': array([ 36.915,   8.616,   8.249,   7.699,   5.296,   5.278,   4.345,\n",
       "          8.673,   7.624,   7.307]),\n",
       " 'kdd_opt_5': array([ 62.766,   4.773,   5.279,   4.714,   3.126,   3.145,   2.251,\n",
       "          5.331,   4.932,   3.682]),\n",
       " 'kdd_opt_iters_1': 5,\n",
       " 'kdd_opt_iters_10': 400,\n",
       " 'kdd_opt_iters_20': 480,\n",
       " 'kdd_opt_iters_3': 89,\n",
       " 'kdd_opt_iters_5': 234,\n",
       " 'r_2': 232479.11339480593,\n",
       " 'r_2_1': 232479.11339480593,\n",
       " 'r_2_10': 7446676.3657229822,\n",
       " 'r_2_20': 82912814.738168776,\n",
       " 'r_2_3': 443281.06305695965,\n",
       " 'r_2_5': 1063048.2991718631,\n",
       " 'r_2_k': 1,\n",
       " 's': 1.0,\n",
       " 'seed': 0,\n",
       " 'sim_opts': <__main__.SimOpts at 0x7fe7745dfac8>,\n",
       " 'top_1': 42.41191174800305,\n",
       " 'top_10': 208.8323772962332,\n",
       " 'top_20': 155.10799609149058,\n",
       " 'top_3': 211.93002047798115,\n",
       " 'top_5': 239.45177094304819,\n",
       " 'type': 'kdd',\n",
       " 'world_events': 1020}"
      ]
     },
     "execution_count": 137,
     "metadata": {},
     "output_type": "execute_result"
    }
   ],
   "source": [
    "worker_kdd((0, 100.0, 10, sim_opts, world_rates, None))"
   ]
  },
  {
   "cell_type": "code",
   "execution_count": 155,
   "metadata": {
    "collapsed": false
   },
   "outputs": [
    {
     "data": {
      "text/plain": [
       "array([ 0.812,  1.676,  1.348,  1.148,  0.484,  0.484,  0.337,  1.549,\n",
       "        1.152,  1.312])"
      ]
     },
     "execution_count": 155,
     "metadata": {},
     "output_type": "execute_result"
    }
   ],
   "source": [
    "wall_intensities"
   ]
  },
  {
   "cell_type": "code",
   "execution_count": 150,
   "metadata": {
    "collapsed": false
   },
   "outputs": [
    {
     "data": {
      "text/plain": [
       "0    0.70\n",
       "1    1.68\n",
       "2    1.43\n",
       "3    1.11\n",
       "4    0.55\n",
       "5    0.59\n",
       "6    0.42\n",
       "7    1.38\n",
       "8    1.10\n",
       "9    1.39\n",
       "dtype: float64"
      ]
     },
     "execution_count": 150,
     "metadata": {},
     "output_type": "execute_result"
    }
   ],
   "source": [
    "wall_intensities"
   ]
  },
  {
   "cell_type": "code",
   "execution_count": 120,
   "metadata": {
    "collapsed": false
   },
   "outputs": [
    {
     "data": {
      "text/plain": [
       "100.0"
      ]
     },
     "execution_count": 120,
     "metadata": {},
     "output_type": "execute_result"
    }
   ],
   "source": [
    "kdd_opt"
   ]
  },
  {
   "cell_type": "code",
   "execution_count": 78,
   "metadata": {
    "collapsed": false
   },
   "outputs": [
    {
     "data": {
      "text/plain": [
       "100.0"
      ]
     },
     "execution_count": 78,
     "metadata": {},
     "output_type": "execute_result"
    }
   ],
   "source": [
    "sum(kdd_opt)"
   ]
  },
  {
   "cell_type": "code",
   "execution_count": 79,
   "metadata": {
    "collapsed": true
   },
   "outputs": [],
   "source": [
    "sim_opts = SimOpts.std_piecewise_const(world_seed=0, world_change_times=np.arange(num_segments) * (T / num_segments), \n",
    "                                       world_rates=kdd_opt * 10)"
   ]
  },
  {
   "cell_type": "code",
   "execution_count": 80,
   "metadata": {
    "collapsed": true
   },
   "outputs": [],
   "source": [
    "wall_mgr = sim_opts.create_manager_for_wall()"
   ]
  },
  {
   "cell_type": "code",
   "execution_count": 81,
   "metadata": {
    "collapsed": false
   },
   "outputs": [
    {
     "data": {
      "text/plain": [
       "<__main__.Manager at 0x7fe65f8f4518>"
      ]
     },
     "execution_count": 81,
     "metadata": {},
     "output_type": "execute_result"
    }
   ],
   "source": [
    "wall_mgr.run()"
   ]
  },
  {
   "cell_type": "code",
   "execution_count": 82,
   "metadata": {
    "collapsed": true
   },
   "outputs": [],
   "source": [
    "df = wall_mgr.state.get_dataframe()"
   ]
  },
  {
   "cell_type": "code",
   "execution_count": null,
   "metadata": {
    "collapsed": true
   },
   "outputs": [],
   "source": []
  },
  {
   "cell_type": "code",
   "execution_count": 74,
   "metadata": {
    "collapsed": false
   },
   "outputs": [
    {
     "data": {
      "text/plain": [
       "array([ 5.218,  5.289,  5.68 ,  6.028,  6.668,  6.818,  7.742,  7.782,\n",
       "        7.805,  7.917,  7.992,  8.7  ])"
      ]
     },
     "execution_count": 74,
     "metadata": {},
     "output_type": "execute_result"
    }
   ],
   "source": [
    "df.t.values * 10"
   ]
  },
  {
   "cell_type": "code",
   "execution_count": 85,
   "metadata": {
    "collapsed": false
   },
   "outputs": [
    {
     "data": {
      "text/plain": [
       "0     2\n",
       "5    33\n",
       "6     7\n",
       "7    38\n",
       "8    14\n",
       "dtype: int64"
      ]
     },
     "execution_count": 85,
     "metadata": {},
     "output_type": "execute_result"
    }
   ],
   "source": [
    "df.t.groupby((df.t.values * 10).astype(int)).size()"
   ]
  },
  {
   "cell_type": "code",
   "execution_count": 161,
   "metadata": {
    "collapsed": false
   },
   "outputs": [
    {
     "data": {
      "text/plain": [
       "1030.2051039290122"
      ]
     },
     "execution_count": 161,
     "metadata": {},
     "output_type": "execute_result"
    }
   ],
   "source": [
    "np.sum(world_rates * (T / num_segments))"
   ]
  },
  {
   "cell_type": "code",
   "execution_count": 163,
   "metadata": {
    "collapsed": false
   },
   "outputs": [
    {
     "data": {
      "text/plain": [
       "1035.0"
      ]
     },
     "execution_count": 163,
     "metadata": {},
     "output_type": "execute_result"
    }
   ],
   "source": [
    "np.sum(wall_intensities * (T / num_segments))"
   ]
  },
  {
   "cell_type": "code",
   "execution_count": null,
   "metadata": {
    "collapsed": true
   },
   "outputs": [],
   "source": [
    "#pc_wall_mgr = SimOpts.std_piecewise_const(world_seed=1, world_change_times)"
   ]
  },
  {
   "cell_type": "code",
   "execution_count": null,
   "metadata": {
    "collapsed": true
   },
   "outputs": [],
   "source": []
  },
  {
   "cell_type": "code",
   "execution_count": null,
   "metadata": {
    "collapsed": true
   },
   "outputs": [],
   "source": []
  },
  {
   "cell_type": "code",
   "execution_count": null,
   "metadata": {
    "collapsed": true
   },
   "outputs": [],
   "source": []
  },
  {
   "cell_type": "code",
   "execution_count": null,
   "metadata": {
    "collapsed": true
   },
   "outputs": [],
   "source": []
  },
  {
   "cell_type": "code",
   "execution_count": null,
   "metadata": {
    "collapsed": true
   },
   "outputs": [],
   "source": []
  },
  {
   "cell_type": "code",
   "execution_count": null,
   "metadata": {
    "collapsed": true
   },
   "outputs": [],
   "source": []
  },
  {
   "cell_type": "code",
   "execution_count": null,
   "metadata": {
    "collapsed": true
   },
   "outputs": [],
   "source": []
  },
  {
   "cell_type": "code",
   "execution_count": null,
   "metadata": {
    "collapsed": true
   },
   "outputs": [],
   "source": []
  },
  {
   "cell_type": "code",
   "execution_count": null,
   "metadata": {
    "collapsed": true
   },
   "outputs": [],
   "source": []
  },
  {
   "cell_type": "code",
   "execution_count": null,
   "metadata": {
    "collapsed": true
   },
   "outputs": [],
   "source": []
  },
  {
   "cell_type": "code",
   "execution_count": null,
   "metadata": {
    "collapsed": true
   },
   "outputs": [],
   "source": []
  },
  {
   "cell_type": "code",
   "execution_count": null,
   "metadata": {
    "collapsed": true
   },
   "outputs": [],
   "source": []
  },
  {
   "cell_type": "code",
   "execution_count": null,
   "metadata": {
    "collapsed": true
   },
   "outputs": [],
   "source": []
  },
  {
   "cell_type": "markdown",
   "metadata": {
    "collapsed": true
   },
   "source": [
    "## Find the q_vec which provides a certain capacity"
   ]
  },
  {
   "cell_type": "code",
   "execution_count": 134,
   "metadata": {
    "collapsed": true
   },
   "outputs": [],
   "source": [
    "%run -i opt_model.py"
   ]
  },
  {
   "cell_type": "code",
   "execution_count": 227,
   "metadata": {
    "collapsed": false
   },
   "outputs": [
    {
     "name": "stdout",
     "output_type": "stream",
     "text": [
      "CPU times: user 110 ms, sys: 157 ms, total: 267 ms\n",
      "Wall time: 2min 48s\n"
     ]
    }
   ],
   "source": [
    "%%time\n",
    "sim_opts = SimOpts(**{ \n",
    "        'src_id': 1,\n",
    "        'end_time': 100.0,\n",
    "        'q_vec': np.asarray([1.0]),\n",
    "        'other_sources': [Poisson(src_id=2, seed=1, rate=10000.0)],\n",
    "        's': 1.0,\n",
    "        'sink_ids': [1001],\n",
    "        'edge_list': [(1, 1001), (2, 1001)]\n",
    "    })\n",
    "# tmp = calc_q_capacity_iter(sim_opts)\n",
    "tmp3_poisson_1 = calc_q_capacity_iter(sim_opts)"
   ]
  },
  {
   "cell_type": "code",
   "execution_count": 228,
   "metadata": {
    "collapsed": false
   },
   "outputs": [
    {
     "data": {
      "text/plain": [
       "7967.1629870452907"
      ]
     },
     "execution_count": 228,
     "metadata": {},
     "output_type": "execute_result"
    }
   ],
   "source": [
    "tmp3_poisson_1.mean()"
   ]
  },
  {
   "cell_type": "code",
   "execution_count": 229,
   "metadata": {
    "collapsed": true
   },
   "outputs": [],
   "source": [
    "%run -i opt_model.py"
   ]
  },
  {
   "cell_type": "code",
   "execution_count": 230,
   "metadata": {
    "collapsed": false
   },
   "outputs": [
    {
     "name": "stdout",
     "output_type": "stream",
     "text": [
      "CPU times: user 83.3 ms, sys: 113 ms, total: 197 ms\n",
      "Wall time: 2min 7s\n"
     ]
    }
   ],
   "source": [
    "%%time\n",
    "sim_opts = SimOpts(**{ \n",
    "        'src_id': 1,\n",
    "        'end_time': 100.0,\n",
    "        'q_vec': np.asarray([1.0]),\n",
    "        'other_sources': [Poisson2(src_id=2, seed=1, rate=10000.0)],\n",
    "        's': 1.0,\n",
    "        'sink_ids': [1001],\n",
    "        'edge_list': [(1, 1001), (2, 1001)]\n",
    "    })\n",
    "# tmp = calc_q_capacity_iter(sim_opts)\n",
    "tmp3_poisson_2 = calc_q_capacity_iter(sim_opts)"
   ]
  },
  {
   "cell_type": "code",
   "execution_count": 231,
   "metadata": {
    "collapsed": false
   },
   "outputs": [
    {
     "data": {
      "text/plain": [
       "7960.4575864000271"
      ]
     },
     "execution_count": 231,
     "metadata": {},
     "output_type": "execute_result"
    }
   ],
   "source": [
    "tmp3_poisson_2.mean()"
   ]
  },
  {
   "cell_type": "code",
   "execution_count": 174,
   "metadata": {
    "collapsed": false
   },
   "outputs": [
    {
     "data": {
      "text/plain": [
       "1.4617278497435535"
      ]
     },
     "execution_count": 174,
     "metadata": {},
     "output_type": "execute_result"
    }
   ],
   "source": [
    "np.random.uniform(10)"
   ]
  },
  {
   "cell_type": "code",
   "execution_count": 153,
   "metadata": {
    "collapsed": false
   },
   "outputs": [
    {
     "data": {
      "text/plain": [
       "0.99971767328613059"
      ]
     },
     "execution_count": 153,
     "metadata": {},
     "output_type": "execute_result"
    }
   ],
   "source": [
    "tmp2"
   ]
  },
  {
   "cell_type": "code",
   "execution_count": 97,
   "metadata": {
    "collapsed": false
   },
   "outputs": [
    {
     "name": "stdout",
     "output_type": "stream",
     "text": [
      "CPU times: user 40 ms, sys: 367 ms, total: 407 ms\n",
      "Wall time: 16.7 s\n"
     ]
    }
   ],
   "source": [
    "%%time\n",
    "tmp2 = calc_q_capacity_iter(sim_opts, parallel=True)"
   ]
  },
  {
   "cell_type": "code",
   "execution_count": 98,
   "metadata": {
    "collapsed": false
   },
   "outputs": [
    {
     "data": {
      "text/plain": [
       "array([ 2511.25097053,  2496.03117259,  2485.56253613,  2491.14835052,\n",
       "        2498.94430075,  2519.40042709,  2505.5330253 ,  2495.03242928,\n",
       "        2514.54890424,  2540.22786683])"
      ]
     },
     "execution_count": 98,
     "metadata": {},
     "output_type": "execute_result"
    }
   ],
   "source": [
    "tmp2"
   ]
  },
  {
   "cell_type": "code",
   "execution_count": 99,
   "metadata": {
    "collapsed": false
   },
   "outputs": [
    {
     "data": {
      "text/plain": [
       "array([ 2508.61413281,  2524.15419948,  2520.59906929,  2516.93533233,\n",
       "        2552.68473306,  2484.32193195,  2501.59290153,  2490.1465022 ,\n",
       "        2481.68386686,  2460.78773208])"
      ]
     },
     "execution_count": 99,
     "metadata": {},
     "output_type": "execute_result"
    }
   ],
   "source": [
    "tmp"
   ]
  },
  {
   "cell_type": "code",
   "execution_count": 102,
   "metadata": {
    "collapsed": false
   },
   "outputs": [
    {
     "data": {
      "text/plain": [
       "2504.1520401572761"
      ]
     },
     "execution_count": 102,
     "metadata": {},
     "output_type": "execute_result"
    }
   ],
   "source": [
    "tmp3.mean()"
   ]
  },
  {
   "cell_type": "code",
   "execution_count": 103,
   "metadata": {
    "collapsed": true
   },
   "outputs": [],
   "source": [
    "tmp4 = calc_q_capacity_iter(sim_opts.update({ 's': 2.0 }), parallel=True)"
   ]
  },
  {
   "cell_type": "code",
   "execution_count": 104,
   "metadata": {
    "collapsed": false
   },
   "outputs": [
    {
     "data": {
      "text/plain": [
       "2110.2250458304434"
      ]
     },
     "execution_count": 104,
     "metadata": {},
     "output_type": "execute_result"
    }
   ],
   "source": [
    "tmp4.mean()"
   ]
  },
  {
   "cell_type": "code",
   "execution_count": 145,
   "metadata": {
    "collapsed": false
   },
   "outputs": [],
   "source": [
    "%run -i utils.py"
   ]
  },
  {
   "cell_type": "code",
   "execution_count": 238,
   "metadata": {
    "collapsed": true
   },
   "outputs": [],
   "source": [
    "sim_opts = SimOpts(**{ \n",
    "        'src_id': 1,\n",
    "        'end_time': 100.0,\n",
    "        'q_vec': np.asarray([1.0]),\n",
    "        # 'other_sources': [Poisson2(src_id=2, seed=1, rate=10000.0)],\n",
    "        'other_sources': [Poisson(src_id=2, seed=1, rate=10000.0)],\n",
    "        's': 1.0,\n",
    "        'sink_ids': [1001],\n",
    "        'edge_list': [(1, 1001), (2, 1001)]\n",
    "    })"
   ]
  },
  {
   "cell_type": "code",
   "execution_count": 148,
   "metadata": {
    "collapsed": false
   },
   "outputs": [
    {
     "name": "stdout",
     "output_type": "stream",
     "text": [
      "*** \u001b[31m2016-05-04 21:59:44.864163\u001b[0m Checkpoint: Initial capacity = 769.0321811055888\n",
      "*** \u001b[31m2016-05-04 22:00:06.321337\u001b[0m Checkpoint: s_hi = 4096.0, s_lo = 2048.0\n",
      "*** \u001b[31m2016-05-04 22:00:07.986757\u001b[0m Checkpoint: new_capacity = 106.16027670602416, s = 3072.0\n",
      "*** \u001b[31m2016-05-04 22:00:09.666732\u001b[0m Checkpoint: new_capacity = 101.194622540465, s = 3584.0\n",
      "*** \u001b[31m2016-05-04 22:00:11.336612\u001b[0m Checkpoint: new_capacity = 99.42532014279948, s = 3840.0\n",
      "CPU times: user 210 ms, sys: 2.12 s, total: 2.33 s\n",
      "Wall time: 28.5 s\n"
     ]
    }
   ],
   "source": [
    "%%time\n",
    "s_opt = sweep_s(lambda: SimOpts.std_poisson(world_seed=1, world_rate=100.0), capacity_cap=100.0, verbose=True)"
   ]
  },
  {
   "cell_type": "code",
   "execution_count": 149,
   "metadata": {
    "collapsed": false
   },
   "outputs": [
    {
     "data": {
      "text/plain": [
       "3840.0"
      ]
     },
     "execution_count": 149,
     "metadata": {},
     "output_type": "execute_result"
    }
   ],
   "source": [
    "s_opt"
   ]
  },
  {
   "cell_type": "code",
   "execution_count": 239,
   "metadata": {
    "collapsed": false
   },
   "outputs": [
    {
     "name": "stdout",
     "output_type": "stream",
     "text": [
      "*** \u001b[31m2016-05-02 00:12:20.257822\u001b[0m Checkpoint: Initial capacity = 7967.162987045291\n",
      "*** \u001b[31m2016-05-02 00:44:22.309096\u001b[0m Checkpoint: s_hi = 0.0009765625, s_lo = 0.00048828125\n",
      "*** \u001b[31m2016-05-02 00:46:56.892996\u001b[0m Checkpoint: new_capacity = 47736.13035565209, s = 0.000732421875\n",
      "*** \u001b[31m2016-05-02 00:49:32.194914\u001b[0m Checkpoint: new_capacity = 49913.7414199194, s = 0.0006103515625\n",
      "*** \u001b[31m2016-05-02 00:52:06.251847\u001b[0m Checkpoint: new_capacity = 51218.96161754592, s = 0.00054931640625\n",
      "*** \u001b[31m2016-05-02 00:54:41.662719\u001b[0m Checkpoint: new_capacity = 50540.20193159806, s = 0.000579833984375\n",
      "*** \u001b[31m2016-05-02 00:57:16.650763\u001b[0m Checkpoint: new_capacity = 50224.656253556066, s = 0.0005950927734375\n",
      "CPU times: user 1.96 s, sys: 2.18 s, total: 4.14 s\n",
      "Wall time: 47min 44s\n"
     ]
    }
   ],
   "source": [
    "%%time\n",
    "# This is with Poisson: Took ~ 47min, 44s\n",
    "s_opt = sweep_s(sim_opts, 50000.0, verbose=True)"
   ]
  },
  {
   "cell_type": "code",
   "execution_count": 233,
   "metadata": {
    "collapsed": false
   },
   "outputs": [
    {
     "name": "stdout",
     "output_type": "stream",
     "text": [
      "*** \u001b[31m2016-05-01 22:57:44.982005\u001b[0m Checkpoint: Initial capacity = 7960.457586400027\n",
      "*** \u001b[31m2016-05-01 23:21:25.507846\u001b[0m Checkpoint: s_hi = 0.0009765625, s_lo = 0.00048828125\n",
      "*** \u001b[31m2016-05-01 23:23:19.044300\u001b[0m Checkpoint: new_capacity = 47686.2063074488, s = 0.000732421875\n",
      "*** \u001b[31m2016-05-01 23:25:12.821979\u001b[0m Checkpoint: new_capacity = 49871.05306762598, s = 0.0006103515625\n",
      "*** \u001b[31m2016-05-01 23:27:08.958602\u001b[0m Checkpoint: new_capacity = 51169.0749459018, s = 0.00054931640625\n",
      "*** \u001b[31m2016-05-01 23:29:03.197845\u001b[0m Checkpoint: new_capacity = 50501.14818392287, s = 0.000579833984375\n",
      "*** \u001b[31m2016-05-01 23:30:57.014591\u001b[0m Checkpoint: new_capacity = 50177.111303157675, s = 0.0005950927734375\n",
      "CPU times: user 1.58 s, sys: 2.26 s, total: 3.84 s\n",
      "Wall time: 35min 24s\n"
     ]
    }
   ],
   "source": [
    "%%time\n",
    "# This was with Poisson2: Took ~ 35min, 24s\n",
    "s_opt = sweep_s(sim_opts, 50000.0, verbose=True)"
   ]
  },
  {
   "cell_type": "code",
   "execution_count": 135,
   "metadata": {
    "collapsed": false
   },
   "outputs": [
    {
     "data": {
      "text/plain": [
       "2.5033950805664062e-06"
      ]
     },
     "execution_count": 135,
     "metadata": {},
     "output_type": "execute_result"
    }
   ],
   "source": [
    "s_opt"
   ]
  },
  {
   "cell_type": "code",
   "execution_count": 132,
   "metadata": {
    "collapsed": false
   },
   "outputs": [
    {
     "data": {
      "text/plain": [
       "2.503393943698029e-06"
      ]
     },
     "execution_count": 132,
     "metadata": {},
     "output_type": "execute_result"
    }
   ],
   "source": [
    "s_opt"
   ]
  },
  {
   "cell_type": "code",
   "execution_count": null,
   "metadata": {
    "collapsed": true
   },
   "outputs": [],
   "source": []
  },
  {
   "cell_type": "code",
   "execution_count": 201,
   "metadata": {
    "collapsed": false
   },
   "outputs": [],
   "source": [
    "def foo(T):\n",
    "    rs = np.random.RandomState(42)\n",
    "    t, dt = 0, 0\n",
    "    n = 0\n",
    "    while t + dt < T:\n",
    "        t = t + dt\n",
    "        n += 1\n",
    "        dt = rs.exponential(1 / 1000.0)\n",
    "    return t, n\n",
    "\n",
    "def bar(T):\n",
    "    rs = np.random.RandomState(42)\n",
    "    n = rs.poisson(1000.0 * T)\n",
    "    last_time = sorted(rs.uniform(high=T, size=n))[-1]\n",
    "    return last_time, n\n"
   ]
  },
  {
   "cell_type": "code",
   "execution_count": 204,
   "metadata": {
    "collapsed": false
   },
   "outputs": [
    {
     "name": "stdout",
     "output_type": "stream",
     "text": [
      "1 loop, best of 3: 394 ms per loop\n"
     ]
    }
   ],
   "source": [
    "%timeit tmp1 = foo(1000)"
   ]
  },
  {
   "cell_type": "code",
   "execution_count": 205,
   "metadata": {
    "collapsed": false
   },
   "outputs": [
    {
     "name": "stdout",
     "output_type": "stream",
     "text": [
      "1 loop, best of 3: 829 ms per loop\n"
     ]
    }
   ],
   "source": [
    "%timeit tmp2 = bar(1000)"
   ]
  },
  {
   "cell_type": "code",
   "execution_count": 206,
   "metadata": {
    "collapsed": false
   },
   "outputs": [
    {
     "data": {
      "text/plain": [
       "((999.999833196945, 998932), (999.99831486095445, 999640))"
      ]
     },
     "execution_count": 206,
     "metadata": {},
     "output_type": "execute_result"
    }
   ],
   "source": [
    "foo(1000), bar(1000)"
   ]
  },
  {
   "cell_type": "code",
   "execution_count": null,
   "metadata": {
    "collapsed": true
   },
   "outputs": [],
   "source": []
  },
  {
   "cell_type": "code",
   "execution_count": 245,
   "metadata": {
    "collapsed": true
   },
   "outputs": [
    {
     "ename": "KeyboardInterrupt",
     "evalue": "",
     "output_type": "error",
     "traceback": [
      "\u001b[1;31m---------------------------------------------------------------------------\u001b[0m",
      "\u001b[1;31mIndexError\u001b[0m                                Traceback (most recent call last)",
      "\u001b[1;32m/home/utkarshu/miniconda3/envs/py35/lib/python3.5/multiprocessing/pool.py\u001b[0m in \u001b[0;36mnext\u001b[1;34m(self, timeout)\u001b[0m\n\u001b[0;32m    679\u001b[0m             \u001b[1;32mtry\u001b[0m\u001b[1;33m:\u001b[0m\u001b[1;33m\u001b[0m\u001b[0m\n\u001b[1;32m--> 680\u001b[1;33m                 \u001b[0mitem\u001b[0m \u001b[1;33m=\u001b[0m \u001b[0mself\u001b[0m\u001b[1;33m.\u001b[0m\u001b[0m_items\u001b[0m\u001b[1;33m.\u001b[0m\u001b[0mpopleft\u001b[0m\u001b[1;33m(\u001b[0m\u001b[1;33m)\u001b[0m\u001b[1;33m\u001b[0m\u001b[0m\n\u001b[0m\u001b[0;32m    681\u001b[0m             \u001b[1;32mexcept\u001b[0m \u001b[0mIndexError\u001b[0m\u001b[1;33m:\u001b[0m\u001b[1;33m\u001b[0m\u001b[0m\n",
      "\u001b[1;31mIndexError\u001b[0m: pop from an empty deque",
      "\nDuring handling of the above exception, another exception occurred:\n",
      "\u001b[1;31mKeyboardInterrupt\u001b[0m                         Traceback (most recent call last)",
      "\u001b[1;32m/NL/stackexchange/work/prog/broadcast-online/opt_model.py\u001b[0m in \u001b[0;36m<module>\u001b[1;34m()\u001b[0m\n\u001b[1;32m----> 1\u001b[1;33m \u001b[0mget_ipython\u001b[0m\u001b[1;33m(\u001b[0m\u001b[1;33m)\u001b[0m\u001b[1;33m.\u001b[0m\u001b[0mrun_cell_magic\u001b[0m\u001b[1;33m(\u001b[0m\u001b[1;34m'time'\u001b[0m\u001b[1;33m,\u001b[0m \u001b[1;34m''\u001b[0m\u001b[1;33m,\u001b[0m \u001b[1;34m'import itertools as I\\n\\ndef worker(param):\\n    return np.sum(range(param * 10000000))\\n\\ndef foo(params):\\n    start, stop = params\\n    total = 0\\n    with mp.Pool() as pool:\\n        for s in pool.imap_unordered(worker, range(start, stop)):\\n            total += s\\n    return start, stop, total\\n\\n# Does not work with \\'Pool\\' class because \"daemonic processes are not allowed to have children\"\\nwith mp.pool.ThreadPool() as pool:\\n    for start, stop, t in pool.imap_unordered(foo, zip(range(1, 10), range(100, 110))):\\n        print(\\'start, stop, t = \\', start, stop, t)\\n        \\n        \\n        '\u001b[0m\u001b[1;33m)\u001b[0m\u001b[1;33m\u001b[0m\u001b[0m\n\u001b[0m",
      "\u001b[1;32m/home/utkarshu/miniconda3/envs/py35/lib/python3.5/site-packages/IPython/core/interactiveshell.py\u001b[0m in \u001b[0;36mrun_cell_magic\u001b[1;34m(self, magic_name, line, cell)\u001b[0m\n\u001b[0;32m   2118\u001b[0m             \u001b[0mmagic_arg_s\u001b[0m \u001b[1;33m=\u001b[0m \u001b[0mself\u001b[0m\u001b[1;33m.\u001b[0m\u001b[0mvar_expand\u001b[0m\u001b[1;33m(\u001b[0m\u001b[0mline\u001b[0m\u001b[1;33m,\u001b[0m \u001b[0mstack_depth\u001b[0m\u001b[1;33m)\u001b[0m\u001b[1;33m\u001b[0m\u001b[0m\n\u001b[0;32m   2119\u001b[0m             \u001b[1;32mwith\u001b[0m \u001b[0mself\u001b[0m\u001b[1;33m.\u001b[0m\u001b[0mbuiltin_trap\u001b[0m\u001b[1;33m:\u001b[0m\u001b[1;33m\u001b[0m\u001b[0m\n\u001b[1;32m-> 2120\u001b[1;33m                 \u001b[0mresult\u001b[0m \u001b[1;33m=\u001b[0m \u001b[0mfn\u001b[0m\u001b[1;33m(\u001b[0m\u001b[0mmagic_arg_s\u001b[0m\u001b[1;33m,\u001b[0m \u001b[0mcell\u001b[0m\u001b[1;33m)\u001b[0m\u001b[1;33m\u001b[0m\u001b[0m\n\u001b[0m\u001b[0;32m   2121\u001b[0m             \u001b[1;32mreturn\u001b[0m \u001b[0mresult\u001b[0m\u001b[1;33m\u001b[0m\u001b[0m\n\u001b[0;32m   2122\u001b[0m \u001b[1;33m\u001b[0m\u001b[0m\n",
      "\u001b[1;32m<decorator-gen-60>\u001b[0m in \u001b[0;36mtime\u001b[1;34m(self, line, cell, local_ns)\u001b[0m\n",
      "\u001b[1;32m/home/utkarshu/miniconda3/envs/py35/lib/python3.5/site-packages/IPython/core/magic.py\u001b[0m in \u001b[0;36m<lambda>\u001b[1;34m(f, *a, **k)\u001b[0m\n\u001b[0;32m    191\u001b[0m     \u001b[1;31m# but it's overkill for just that one bit of state.\u001b[0m\u001b[1;33m\u001b[0m\u001b[1;33m\u001b[0m\u001b[0m\n\u001b[0;32m    192\u001b[0m     \u001b[1;32mdef\u001b[0m \u001b[0mmagic_deco\u001b[0m\u001b[1;33m(\u001b[0m\u001b[0marg\u001b[0m\u001b[1;33m)\u001b[0m\u001b[1;33m:\u001b[0m\u001b[1;33m\u001b[0m\u001b[0m\n\u001b[1;32m--> 193\u001b[1;33m         \u001b[0mcall\u001b[0m \u001b[1;33m=\u001b[0m \u001b[1;32mlambda\u001b[0m \u001b[0mf\u001b[0m\u001b[1;33m,\u001b[0m \u001b[1;33m*\u001b[0m\u001b[0ma\u001b[0m\u001b[1;33m,\u001b[0m \u001b[1;33m**\u001b[0m\u001b[0mk\u001b[0m\u001b[1;33m:\u001b[0m \u001b[0mf\u001b[0m\u001b[1;33m(\u001b[0m\u001b[1;33m*\u001b[0m\u001b[0ma\u001b[0m\u001b[1;33m,\u001b[0m \u001b[1;33m**\u001b[0m\u001b[0mk\u001b[0m\u001b[1;33m)\u001b[0m\u001b[1;33m\u001b[0m\u001b[0m\n\u001b[0m\u001b[0;32m    194\u001b[0m \u001b[1;33m\u001b[0m\u001b[0m\n\u001b[0;32m    195\u001b[0m         \u001b[1;32mif\u001b[0m \u001b[0mcallable\u001b[0m\u001b[1;33m(\u001b[0m\u001b[0marg\u001b[0m\u001b[1;33m)\u001b[0m\u001b[1;33m:\u001b[0m\u001b[1;33m\u001b[0m\u001b[0m\n",
      "\u001b[1;32m/home/utkarshu/miniconda3/envs/py35/lib/python3.5/site-packages/IPython/core/magics/execution.py\u001b[0m in \u001b[0;36mtime\u001b[1;34m(self, line, cell, local_ns)\u001b[0m\n\u001b[0;32m   1175\u001b[0m         \u001b[1;32melse\u001b[0m\u001b[1;33m:\u001b[0m\u001b[1;33m\u001b[0m\u001b[0m\n\u001b[0;32m   1176\u001b[0m             \u001b[0mst\u001b[0m \u001b[1;33m=\u001b[0m \u001b[0mclock2\u001b[0m\u001b[1;33m(\u001b[0m\u001b[1;33m)\u001b[0m\u001b[1;33m\u001b[0m\u001b[0m\n\u001b[1;32m-> 1177\u001b[1;33m             \u001b[0mexec\u001b[0m\u001b[1;33m(\u001b[0m\u001b[0mcode\u001b[0m\u001b[1;33m,\u001b[0m \u001b[0mglob\u001b[0m\u001b[1;33m,\u001b[0m \u001b[0mlocal_ns\u001b[0m\u001b[1;33m)\u001b[0m\u001b[1;33m\u001b[0m\u001b[0m\n\u001b[0m\u001b[0;32m   1178\u001b[0m             \u001b[0mend\u001b[0m \u001b[1;33m=\u001b[0m \u001b[0mclock2\u001b[0m\u001b[1;33m(\u001b[0m\u001b[1;33m)\u001b[0m\u001b[1;33m\u001b[0m\u001b[0m\n\u001b[0;32m   1179\u001b[0m             \u001b[0mout\u001b[0m \u001b[1;33m=\u001b[0m \u001b[1;32mNone\u001b[0m\u001b[1;33m\u001b[0m\u001b[0m\n",
      "\u001b[1;32m/NL/stackexchange/work/prog/broadcast-online/opt_model.py\u001b[0m in \u001b[0;36m<module>\u001b[1;34m()\u001b[0m\n",
      "\u001b[1;32m/home/utkarshu/miniconda3/envs/py35/lib/python3.5/multiprocessing/pool.py\u001b[0m in \u001b[0;36mnext\u001b[1;34m(self, timeout)\u001b[0m\n\u001b[0;32m    682\u001b[0m                 \u001b[1;32mif\u001b[0m \u001b[0mself\u001b[0m\u001b[1;33m.\u001b[0m\u001b[0m_index\u001b[0m \u001b[1;33m==\u001b[0m \u001b[0mself\u001b[0m\u001b[1;33m.\u001b[0m\u001b[0m_length\u001b[0m\u001b[1;33m:\u001b[0m\u001b[1;33m\u001b[0m\u001b[0m\n\u001b[0;32m    683\u001b[0m                     \u001b[1;32mraise\u001b[0m \u001b[0mStopIteration\u001b[0m\u001b[1;33m\u001b[0m\u001b[0m\n\u001b[1;32m--> 684\u001b[1;33m                 \u001b[0mself\u001b[0m\u001b[1;33m.\u001b[0m\u001b[0m_cond\u001b[0m\u001b[1;33m.\u001b[0m\u001b[0mwait\u001b[0m\u001b[1;33m(\u001b[0m\u001b[0mtimeout\u001b[0m\u001b[1;33m)\u001b[0m\u001b[1;33m\u001b[0m\u001b[0m\n\u001b[0m\u001b[0;32m    685\u001b[0m                 \u001b[1;32mtry\u001b[0m\u001b[1;33m:\u001b[0m\u001b[1;33m\u001b[0m\u001b[0m\n\u001b[0;32m    686\u001b[0m                     \u001b[0mitem\u001b[0m \u001b[1;33m=\u001b[0m \u001b[0mself\u001b[0m\u001b[1;33m.\u001b[0m\u001b[0m_items\u001b[0m\u001b[1;33m.\u001b[0m\u001b[0mpopleft\u001b[0m\u001b[1;33m(\u001b[0m\u001b[1;33m)\u001b[0m\u001b[1;33m\u001b[0m\u001b[0m\n",
      "\u001b[1;32m/home/utkarshu/miniconda3/envs/py35/lib/python3.5/threading.py\u001b[0m in \u001b[0;36mwait\u001b[1;34m(self, timeout)\u001b[0m\n\u001b[0;32m    291\u001b[0m         \u001b[1;32mtry\u001b[0m\u001b[1;33m:\u001b[0m    \u001b[1;31m# restore state no matter what (e.g., KeyboardInterrupt)\u001b[0m\u001b[1;33m\u001b[0m\u001b[0m\n\u001b[0;32m    292\u001b[0m             \u001b[1;32mif\u001b[0m \u001b[0mtimeout\u001b[0m \u001b[1;32mis\u001b[0m \u001b[1;32mNone\u001b[0m\u001b[1;33m:\u001b[0m\u001b[1;33m\u001b[0m\u001b[0m\n\u001b[1;32m--> 293\u001b[1;33m                 \u001b[0mwaiter\u001b[0m\u001b[1;33m.\u001b[0m\u001b[0macquire\u001b[0m\u001b[1;33m(\u001b[0m\u001b[1;33m)\u001b[0m\u001b[1;33m\u001b[0m\u001b[0m\n\u001b[0m\u001b[0;32m    294\u001b[0m                 \u001b[0mgotit\u001b[0m \u001b[1;33m=\u001b[0m \u001b[1;32mTrue\u001b[0m\u001b[1;33m\u001b[0m\u001b[0m\n\u001b[0;32m    295\u001b[0m             \u001b[1;32melse\u001b[0m\u001b[1;33m:\u001b[0m\u001b[1;33m\u001b[0m\u001b[0m\n",
      "\u001b[1;31mKeyboardInterrupt\u001b[0m: "
     ]
    }
   ],
   "source": [
    "%%time\n",
    "import itertools as I\n",
    "\n",
    "def worker(param):\n",
    "    return np.sum(range(param * 10000000))\n",
    "\n",
    "def foo(params):\n",
    "    start, stop = params\n",
    "    total = 0\n",
    "    with mp.Pool() as pool:\n",
    "        for s in pool.imap_unordered(worker, range(start, stop)):\n",
    "            total += s\n",
    "    return start, stop, total\n",
    "\n",
    "# Does not work with 'Pool' class because \"daemonic processes are not allowed to have children\"\n",
    "with mp.pool.ThreadPool() as pool:\n",
    "    for start, stop, t in pool.imap_unordered(foo, zip(range(1, 10), range(100, 110))):\n",
    "        print('start, stop, t = ', start, stop, t)\n",
    "        \n",
    "        \n",
    "        "
   ]
  },
  {
   "cell_type": "code",
   "execution_count": null,
   "metadata": {
    "collapsed": true
   },
   "outputs": [],
   "source": []
  },
  {
   "cell_type": "code",
   "execution_count": null,
   "metadata": {
    "collapsed": true
   },
   "outputs": [],
   "source": []
  },
  {
   "cell_type": "code",
   "execution_count": null,
   "metadata": {
    "collapsed": true
   },
   "outputs": [],
   "source": []
  },
  {
   "cell_type": "code",
   "execution_count": null,
   "metadata": {
    "collapsed": true
   },
   "outputs": [],
   "source": []
  },
  {
   "cell_type": "markdown",
   "metadata": {
    "collapsed": true
   },
   "source": [
    "## Extracting data for Mohammad"
   ]
  },
  {
   "cell_type": "code",
   "execution_count": null,
   "metadata": {
    "collapsed": true
   },
   "outputs": [],
   "source": [
    "num_segments = 10\n"
   ]
  },
  {
   "cell_type": "code",
   "execution_count": null,
   "metadata": {
    "collapsed": true
   },
   "outputs": [],
   "source": []
  },
  {
   "cell_type": "code",
   "execution_count": null,
   "metadata": {
    "collapsed": true
   },
   "outputs": [],
   "source": []
  },
  {
   "cell_type": "code",
   "execution_count": null,
   "metadata": {
    "collapsed": true
   },
   "outputs": [],
   "source": []
  },
  {
   "cell_type": "code",
   "execution_count": null,
   "metadata": {
    "collapsed": true
   },
   "outputs": [],
   "source": []
  },
  {
   "cell_type": "code",
   "execution_count": null,
   "metadata": {
    "collapsed": true
   },
   "outputs": [],
   "source": []
  },
  {
   "cell_type": "code",
   "execution_count": null,
   "metadata": {
    "collapsed": true
   },
   "outputs": [],
   "source": []
  },
  {
   "cell_type": "code",
   "execution_count": null,
   "metadata": {
    "collapsed": true
   },
   "outputs": [],
   "source": []
  },
  {
   "cell_type": "code",
   "execution_count": null,
   "metadata": {
    "collapsed": true
   },
   "outputs": [],
   "source": []
  },
  {
   "cell_type": "code",
   "execution_count": null,
   "metadata": {
    "collapsed": true
   },
   "outputs": [],
   "source": []
  },
  {
   "cell_type": "code",
   "execution_count": null,
   "metadata": {
    "collapsed": true
   },
   "outputs": [],
   "source": []
  },
  {
   "cell_type": "code",
   "execution_count": null,
   "metadata": {
    "collapsed": true
   },
   "outputs": [],
   "source": []
  },
  {
   "cell_type": "markdown",
   "metadata": {
    "collapsed": true
   },
   "source": [
    "## `s_init` heuristic"
   ]
  },
  {
   "cell_type": "code",
   "execution_count": 187,
   "metadata": {
    "collapsed": true
   },
   "outputs": [],
   "source": [
    "%run -i utils.py\n",
    "%run -i opt_model.py"
   ]
  },
  {
   "cell_type": "code",
   "execution_count": 287,
   "metadata": {
    "collapsed": true
   },
   "outputs": [],
   "source": [
    "sim_opts = SimOpts.std_poisson(world_seed=1, world_rate=500)"
   ]
  },
  {
   "cell_type": "code",
   "execution_count": 288,
   "metadata": {
    "collapsed": false
   },
   "outputs": [
    {
     "name": "stdout",
     "output_type": "stream",
     "text": [
      "*** \u001b[31m2016-05-13 16:06:06.308683\u001b[0m Checkpoint: Initial capacity = 16.682815756349004, target capacity = 10\n",
      "*** \u001b[31m2016-05-13 16:06:06.515228\u001b[0m Checkpoint: s = 2.0, capcity = 14.461590479654564\n",
      "*** \u001b[31m2016-05-13 16:06:06.711105\u001b[0m Checkpoint: s = 4.0, capcity = 12.150333853228608\n",
      "*** \u001b[31m2016-05-13 16:06:06.903814\u001b[0m Checkpoint: s = 8.0, capcity = 10.439782962439807\n",
      "*** \u001b[31m2016-05-13 16:06:07.116908\u001b[0m Checkpoint: s = 16.0, capcity = 8.877513076274898\n",
      "*** \u001b[31m2016-05-13 16:06:07.118326\u001b[0m Checkpoint: s_hi = 16.0, s_lo = 8.0\n",
      "*** \u001b[31m2016-05-13 16:06:07.335871\u001b[0m Checkpoint: new_capacity = 9.554880390811231, s = 12.0\n"
     ]
    },
    {
     "data": {
      "text/plain": [
       "12.0"
      ]
     },
     "execution_count": 288,
     "metadata": {},
     "output_type": "execute_result"
    }
   ],
   "source": [
    "sweep_s(lambda: sim_opts, 10, verbose=True, dynamic=True)"
   ]
  },
  {
   "cell_type": "code",
   "execution_count": 289,
   "metadata": {
    "collapsed": false
   },
   "outputs": [
    {
     "data": {
      "text/plain": [
       "<__main__.Manager at 0x7fe76eb27780>"
      ]
     },
     "execution_count": 289,
     "metadata": {},
     "output_type": "execute_result"
    }
   ],
   "source": [
    "opt_mgr = sim_opts.update({ 's': 0.375 }).create_manager_with_opt(seed=1)\n",
    "opt_mgr.run_dynamic()"
   ]
  },
  {
   "cell_type": "code",
   "execution_count": 290,
   "metadata": {
    "collapsed": true
   },
   "outputs": [],
   "source": [
    "opt_df = opt_mgr.state.get_dataframe()"
   ]
  },
  {
   "cell_type": "code",
   "execution_count": 291,
   "metadata": {
    "collapsed": false
   },
   "outputs": [
    {
     "data": {
      "text/html": [
       "<div>\n",
       "<table border=\"1\" class=\"dataframe\">\n",
       "  <thead>\n",
       "    <tr style=\"text-align: right;\">\n",
       "      <th></th>\n",
       "      <th>event_id</th>\n",
       "      <th>sink_id</th>\n",
       "      <th>src_id</th>\n",
       "      <th>t</th>\n",
       "      <th>time_delta</th>\n",
       "    </tr>\n",
       "  </thead>\n",
       "  <tbody>\n",
       "    <tr>\n",
       "      <th>0</th>\n",
       "      <td>100</td>\n",
       "      <td>1001</td>\n",
       "      <td>1</td>\n",
       "      <td>0.000000</td>\n",
       "      <td>0.000000</td>\n",
       "    </tr>\n",
       "    <tr>\n",
       "      <th>4</th>\n",
       "      <td>104</td>\n",
       "      <td>1001</td>\n",
       "      <td>1</td>\n",
       "      <td>0.002940</td>\n",
       "      <td>0.000070</td>\n",
       "    </tr>\n",
       "    <tr>\n",
       "      <th>32</th>\n",
       "      <td>132</td>\n",
       "      <td>1001</td>\n",
       "      <td>1</td>\n",
       "      <td>0.035653</td>\n",
       "      <td>0.001081</td>\n",
       "    </tr>\n",
       "    <tr>\n",
       "      <th>49</th>\n",
       "      <td>149</td>\n",
       "      <td>1001</td>\n",
       "      <td>1</td>\n",
       "      <td>0.077264</td>\n",
       "      <td>0.005290</td>\n",
       "    </tr>\n",
       "    <tr>\n",
       "      <th>60</th>\n",
       "      <td>160</td>\n",
       "      <td>1001</td>\n",
       "      <td>1</td>\n",
       "      <td>0.104315</td>\n",
       "      <td>0.001089</td>\n",
       "    </tr>\n",
       "    <tr>\n",
       "      <th>89</th>\n",
       "      <td>189</td>\n",
       "      <td>1001</td>\n",
       "      <td>1</td>\n",
       "      <td>0.155652</td>\n",
       "      <td>0.002980</td>\n",
       "    </tr>\n",
       "    <tr>\n",
       "      <th>105</th>\n",
       "      <td>205</td>\n",
       "      <td>1001</td>\n",
       "      <td>1</td>\n",
       "      <td>0.190397</td>\n",
       "      <td>0.001760</td>\n",
       "    </tr>\n",
       "    <tr>\n",
       "      <th>118</th>\n",
       "      <td>218</td>\n",
       "      <td>1001</td>\n",
       "      <td>1</td>\n",
       "      <td>0.214218</td>\n",
       "      <td>0.002258</td>\n",
       "    </tr>\n",
       "    <tr>\n",
       "      <th>137</th>\n",
       "      <td>237</td>\n",
       "      <td>1001</td>\n",
       "      <td>1</td>\n",
       "      <td>0.258508</td>\n",
       "      <td>0.001389</td>\n",
       "    </tr>\n",
       "    <tr>\n",
       "      <th>149</th>\n",
       "      <td>249</td>\n",
       "      <td>1001</td>\n",
       "      <td>1</td>\n",
       "      <td>0.275824</td>\n",
       "      <td>0.005616</td>\n",
       "    </tr>\n",
       "    <tr>\n",
       "      <th>160</th>\n",
       "      <td>260</td>\n",
       "      <td>1001</td>\n",
       "      <td>1</td>\n",
       "      <td>0.310070</td>\n",
       "      <td>0.007738</td>\n",
       "    </tr>\n",
       "    <tr>\n",
       "      <th>184</th>\n",
       "      <td>284</td>\n",
       "      <td>1001</td>\n",
       "      <td>1</td>\n",
       "      <td>0.354171</td>\n",
       "      <td>0.005273</td>\n",
       "    </tr>\n",
       "    <tr>\n",
       "      <th>207</th>\n",
       "      <td>307</td>\n",
       "      <td>1001</td>\n",
       "      <td>1</td>\n",
       "      <td>0.413325</td>\n",
       "      <td>0.002514</td>\n",
       "    </tr>\n",
       "    <tr>\n",
       "      <th>215</th>\n",
       "      <td>315</td>\n",
       "      <td>1001</td>\n",
       "      <td>1</td>\n",
       "      <td>0.422783</td>\n",
       "      <td>0.001675</td>\n",
       "    </tr>\n",
       "    <tr>\n",
       "      <th>237</th>\n",
       "      <td>337</td>\n",
       "      <td>1001</td>\n",
       "      <td>1</td>\n",
       "      <td>0.465730</td>\n",
       "      <td>0.000020</td>\n",
       "    </tr>\n",
       "    <tr>\n",
       "      <th>257</th>\n",
       "      <td>357</td>\n",
       "      <td>1001</td>\n",
       "      <td>1</td>\n",
       "      <td>0.521879</td>\n",
       "      <td>0.002528</td>\n",
       "    </tr>\n",
       "    <tr>\n",
       "      <th>268</th>\n",
       "      <td>368</td>\n",
       "      <td>1001</td>\n",
       "      <td>1</td>\n",
       "      <td>0.538687</td>\n",
       "      <td>0.000060</td>\n",
       "    </tr>\n",
       "    <tr>\n",
       "      <th>335</th>\n",
       "      <td>435</td>\n",
       "      <td>1001</td>\n",
       "      <td>1</td>\n",
       "      <td>0.655294</td>\n",
       "      <td>0.001156</td>\n",
       "    </tr>\n",
       "    <tr>\n",
       "      <th>360</th>\n",
       "      <td>460</td>\n",
       "      <td>1001</td>\n",
       "      <td>1</td>\n",
       "      <td>0.706507</td>\n",
       "      <td>0.002990</td>\n",
       "    </tr>\n",
       "    <tr>\n",
       "      <th>386</th>\n",
       "      <td>486</td>\n",
       "      <td>1001</td>\n",
       "      <td>1</td>\n",
       "      <td>0.753274</td>\n",
       "      <td>0.000518</td>\n",
       "    </tr>\n",
       "    <tr>\n",
       "      <th>396</th>\n",
       "      <td>496</td>\n",
       "      <td>1001</td>\n",
       "      <td>1</td>\n",
       "      <td>0.782481</td>\n",
       "      <td>0.008607</td>\n",
       "    </tr>\n",
       "    <tr>\n",
       "      <th>422</th>\n",
       "      <td>522</td>\n",
       "      <td>1001</td>\n",
       "      <td>1</td>\n",
       "      <td>0.824248</td>\n",
       "      <td>0.000238</td>\n",
       "    </tr>\n",
       "    <tr>\n",
       "      <th>434</th>\n",
       "      <td>534</td>\n",
       "      <td>1001</td>\n",
       "      <td>1</td>\n",
       "      <td>0.847236</td>\n",
       "      <td>0.000407</td>\n",
       "    </tr>\n",
       "    <tr>\n",
       "      <th>453</th>\n",
       "      <td>553</td>\n",
       "      <td>1001</td>\n",
       "      <td>1</td>\n",
       "      <td>0.884253</td>\n",
       "      <td>0.000947</td>\n",
       "    </tr>\n",
       "    <tr>\n",
       "      <th>472</th>\n",
       "      <td>572</td>\n",
       "      <td>1001</td>\n",
       "      <td>1</td>\n",
       "      <td>0.909667</td>\n",
       "      <td>0.000031</td>\n",
       "    </tr>\n",
       "    <tr>\n",
       "      <th>511</th>\n",
       "      <td>611</td>\n",
       "      <td>1001</td>\n",
       "      <td>1</td>\n",
       "      <td>0.978686</td>\n",
       "      <td>0.001927</td>\n",
       "    </tr>\n",
       "    <tr>\n",
       "      <th>514</th>\n",
       "      <td>614</td>\n",
       "      <td>1001</td>\n",
       "      <td>1</td>\n",
       "      <td>0.988569</td>\n",
       "      <td>0.005752</td>\n",
       "    </tr>\n",
       "  </tbody>\n",
       "</table>\n",
       "</div>"
      ],
      "text/plain": [
       "     event_id  sink_id  src_id         t  time_delta\n",
       "0         100     1001       1  0.000000    0.000000\n",
       "4         104     1001       1  0.002940    0.000070\n",
       "32        132     1001       1  0.035653    0.001081\n",
       "49        149     1001       1  0.077264    0.005290\n",
       "60        160     1001       1  0.104315    0.001089\n",
       "89        189     1001       1  0.155652    0.002980\n",
       "105       205     1001       1  0.190397    0.001760\n",
       "118       218     1001       1  0.214218    0.002258\n",
       "137       237     1001       1  0.258508    0.001389\n",
       "149       249     1001       1  0.275824    0.005616\n",
       "160       260     1001       1  0.310070    0.007738\n",
       "184       284     1001       1  0.354171    0.005273\n",
       "207       307     1001       1  0.413325    0.002514\n",
       "215       315     1001       1  0.422783    0.001675\n",
       "237       337     1001       1  0.465730    0.000020\n",
       "257       357     1001       1  0.521879    0.002528\n",
       "268       368     1001       1  0.538687    0.000060\n",
       "335       435     1001       1  0.655294    0.001156\n",
       "360       460     1001       1  0.706507    0.002990\n",
       "386       486     1001       1  0.753274    0.000518\n",
       "396       496     1001       1  0.782481    0.008607\n",
       "422       522     1001       1  0.824248    0.000238\n",
       "434       534     1001       1  0.847236    0.000407\n",
       "453       553     1001       1  0.884253    0.000947\n",
       "472       572     1001       1  0.909667    0.000031\n",
       "511       611     1001       1  0.978686    0.001927\n",
       "514       614     1001       1  0.988569    0.005752"
      ]
     },
     "execution_count": 291,
     "metadata": {},
     "output_type": "execute_result"
    }
   ],
   "source": [
    "opt_df[opt_df.src_id == sim_opts.src_id]"
   ]
  },
  {
   "cell_type": "code",
   "execution_count": 292,
   "metadata": {
    "collapsed": true
   },
   "outputs": [],
   "source": [
    "wall_mgr = sim_opts.create_manager_for_wall()"
   ]
  },
  {
   "cell_type": "code",
   "execution_count": 293,
   "metadata": {
    "collapsed": false
   },
   "outputs": [
    {
     "data": {
      "text/plain": [
       "<__main__.Manager at 0x7fe76cf71898>"
      ]
     },
     "execution_count": 293,
     "metadata": {},
     "output_type": "execute_result"
    }
   ],
   "source": [
    "wall_mgr.run_dynamic()"
   ]
  },
  {
   "cell_type": "code",
   "execution_count": 294,
   "metadata": {
    "collapsed": true
   },
   "outputs": [],
   "source": [
    "df = wall_mgr.state.get_dataframe()"
   ]
  },
  {
   "cell_type": "code",
   "execution_count": 295,
   "metadata": {
    "collapsed": false
   },
   "outputs": [],
   "source": [
    "r_t = rank_of_src_in_df(df, src_id=-1)"
   ]
  },
  {
   "cell_type": "code",
   "execution_count": 296,
   "metadata": {
    "collapsed": false
   },
   "outputs": [
    {
     "data": {
      "text/plain": [
       "495.0"
      ]
     },
     "execution_count": 296,
     "metadata": {},
     "output_type": "execute_result"
    }
   ],
   "source": [
    "r_t.mean(1).iloc[-1]"
   ]
  },
  {
   "cell_type": "code",
   "execution_count": 297,
   "metadata": {
    "collapsed": false
   },
   "outputs": [
    {
     "data": {
      "text/plain": [
       "(495, 5)"
      ]
     },
     "execution_count": 297,
     "metadata": {},
     "output_type": "execute_result"
    }
   ],
   "source": [
    "df.shape"
   ]
  },
  {
   "cell_type": "code",
   "execution_count": 298,
   "metadata": {
    "collapsed": false
   },
   "outputs": [
    {
     "data": {
      "text/plain": [
       "6.7826577479581491"
      ]
     },
     "execution_count": 298,
     "metadata": {},
     "output_type": "execute_result"
    }
   ],
   "source": [
    "(4 * (r_t.iloc[-1].mean() ** 2) * (sim_opts.end_time) ** 2) / (np.pi * np.pi * (10 + 1) ** 4) "
   ]
  },
  {
   "cell_type": "code",
   "execution_count": null,
   "metadata": {
    "collapsed": true
   },
   "outputs": [],
   "source": []
  },
  {
   "cell_type": "code",
   "execution_count": null,
   "metadata": {
    "collapsed": true
   },
   "outputs": [],
   "source": []
  },
  {
   "cell_type": "code",
   "execution_count": null,
   "metadata": {
    "collapsed": true
   },
   "outputs": [],
   "source": []
  },
  {
   "cell_type": "code",
   "execution_count": null,
   "metadata": {
    "collapsed": true
   },
   "outputs": [],
   "source": []
  },
  {
   "cell_type": "code",
   "execution_count": null,
   "metadata": {
    "collapsed": true
   },
   "outputs": [],
   "source": []
  }
 ],
 "metadata": {
  "kernelspec": {
   "display_name": "Python 3",
   "language": "python",
   "name": "python3"
  },
  "language_info": {
   "codemirror_mode": {
    "name": "ipython",
    "version": 3
   },
   "file_extension": ".py",
   "mimetype": "text/x-python",
   "name": "python",
   "nbconvert_exporter": "python",
   "pygments_lexer": "ipython3",
   "version": "3.5.1"
  }
 },
 "nbformat": 4,
 "nbformat_minor": 0
}

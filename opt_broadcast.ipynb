{
 "cells": [
  {
   "cell_type": "code",
   "execution_count": 16,
   "metadata": {
    "collapsed": false
   },
   "outputs": [],
   "source": [
    "%run -i opt_model.py"
   ]
  },
  {
   "cell_type": "code",
   "execution_count": 17,
   "metadata": {
    "collapsed": false
   },
   "outputs": [],
   "source": [
    "m.run_till(100)"
   ]
  },
  {
   "cell_type": "code",
   "execution_count": 18,
   "metadata": {
    "collapsed": false
   },
   "outputs": [
    {
     "data": {
      "text/plain": [
       "102"
      ]
     },
     "execution_count": 18,
     "metadata": {},
     "output_type": "execute_result"
    }
   ],
   "source": [
    "sum(1 for ev in m.state.sinks[1000] if ev.src_id == 1)"
   ]
  },
  {
   "cell_type": "code",
   "execution_count": 19,
   "metadata": {
    "collapsed": false
   },
   "outputs": [
    {
     "data": {
      "text/plain": [
       "97"
      ]
     },
     "execution_count": 19,
     "metadata": {},
     "output_type": "execute_result"
    }
   ],
   "source": [
    "sum(1 for ev in m.state.sinks[1000] if ev.src_id == 2)"
   ]
  },
  {
   "cell_type": "code",
   "execution_count": 20,
   "metadata": {
    "collapsed": false
   },
   "outputs": [
    {
     "data": {
      "text/plain": [
       "93"
      ]
     },
     "execution_count": 20,
     "metadata": {},
     "output_type": "execute_result"
    }
   ],
   "source": [
    "sum(1 for ev in m.state.sinks[1000] if ev.src_id == 3)"
   ]
  },
  {
   "cell_type": "code",
   "execution_count": 9,
   "metadata": {
    "collapsed": false
   },
   "outputs": [
    {
     "data": {
      "text/plain": [
       "0.24773098950115746"
      ]
     },
     "execution_count": 9,
     "metadata": {},
     "output_type": "execute_result"
    }
   ],
   "source": [
    "np.random.rand()"
   ]
  },
  {
   "cell_type": "code",
   "execution_count": 10,
   "metadata": {
    "collapsed": true
   },
   "outputs": [],
   "source": [
    "m2 = Manager([1000], [Poisson(1), Hawkes(2), Opt(3)])"
   ]
  },
  {
   "cell_type": "code",
   "execution_count": 11,
   "metadata": {
    "collapsed": true
   },
   "outputs": [
    {
     "name": "stderr",
     "output_type": "stream",
     "text": [
      "returned t_delta = -0.703474937832 < 0, set to 0 instead.\n",
      "returned t_delta = -0.122131052459 < 0, set to 0 instead.\n",
      "returned t_delta = -0.338035290027 < 0, set to 0 instead.\n",
      "returned t_delta = -0.0360762024167 < 0, set to 0 instead.\n",
      "returned t_delta = -0.407882306085 < 0, set to 0 instead.\n",
      "returned t_delta = -1.27923728306 < 0, set to 0 instead.\n",
      "returned t_delta = -0.247048117809 < 0, set to 0 instead.\n",
      "returned t_delta = -0.219468451687 < 0, set to 0 instead.\n",
      "returned t_delta = -1.38029193537 < 0, set to 0 instead.\n",
      "returned t_delta = -0.565956971918 < 0, set to 0 instead.\n",
      "returned t_delta = -1.54725760098 < 0, set to 0 instead.\n",
      "returned t_delta = -0.0534457291079 < 0, set to 0 instead.\n",
      "returned t_delta = -0.00631823155866 < 0, set to 0 instead.\n",
      "returned t_delta = -0.135462399157 < 0, set to 0 instead.\n",
      "returned t_delta = -0.0708960209332 < 0, set to 0 instead.\n",
      "returned t_delta = -0.104765778455 < 0, set to 0 instead.\n",
      "returned t_delta = -0.71790091391 < 0, set to 0 instead.\n",
      "returned t_delta = -0.290600180067 < 0, set to 0 instead.\n",
      "returned t_delta = -0.14307276298 < 0, set to 0 instead.\n",
      "returned t_delta = -0.126205636274 < 0, set to 0 instead.\n",
      "returned t_delta = -0.0978349804357 < 0, set to 0 instead.\n",
      "returned t_delta = -0.247605755264 < 0, set to 0 instead.\n",
      "returned t_delta = -0.168839283524 < 0, set to 0 instead.\n",
      "returned t_delta = -0.217817938955 < 0, set to 0 instead.\n",
      "returned t_delta = -0.0363715042194 < 0, set to 0 instead.\n",
      "returned t_delta = -0.596440681916 < 0, set to 0 instead.\n",
      "returned t_delta = -0.560139314623 < 0, set to 0 instead.\n",
      "returned t_delta = -0.587195767793 < 0, set to 0 instead.\n",
      "returned t_delta = -0.53279742688 < 0, set to 0 instead.\n",
      "returned t_delta = -0.250596193524 < 0, set to 0 instead.\n",
      "returned t_delta = -0.519660655442 < 0, set to 0 instead.\n",
      "returned t_delta = -0.360559561047 < 0, set to 0 instead.\n",
      "returned t_delta = -0.338945196491 < 0, set to 0 instead.\n",
      "returned t_delta = -0.507976239935 < 0, set to 0 instead.\n",
      "returned t_delta = -0.210443417336 < 0, set to 0 instead.\n",
      "returned t_delta = -0.220570002505 < 0, set to 0 instead.\n",
      "returned t_delta = -0.0684684012356 < 0, set to 0 instead.\n",
      "returned t_delta = -0.255266163245 < 0, set to 0 instead.\n",
      "returned t_delta = -0.0119274485724 < 0, set to 0 instead.\n",
      "returned t_delta = -0.797596979016 < 0, set to 0 instead.\n",
      "returned t_delta = -0.884851317688 < 0, set to 0 instead.\n",
      "returned t_delta = -0.212114639863 < 0, set to 0 instead.\n",
      "returned t_delta = -0.11623853971 < 0, set to 0 instead.\n",
      "returned t_delta = -0.0677712894698 < 0, set to 0 instead.\n",
      "returned t_delta = -0.525724175199 < 0, set to 0 instead.\n",
      "returned t_delta = -0.846773623901 < 0, set to 0 instead.\n",
      "returned t_delta = -0.215614686278 < 0, set to 0 instead.\n",
      "returned t_delta = -0.182818257971 < 0, set to 0 instead.\n",
      "returned t_delta = -0.652801100049 < 0, set to 0 instead.\n",
      "returned t_delta = -0.344361966794 < 0, set to 0 instead.\n",
      "returned t_delta = -1.05861949716 < 0, set to 0 instead.\n",
      "returned t_delta = -0.103241233734 < 0, set to 0 instead.\n",
      "returned t_delta = -1.03059737175 < 0, set to 0 instead.\n",
      "returned t_delta = -0.495702675368 < 0, set to 0 instead.\n",
      "returned t_delta = -0.40491920792 < 0, set to 0 instead.\n",
      "returned t_delta = -0.444912050286 < 0, set to 0 instead.\n",
      "returned t_delta = -0.550111146909 < 0, set to 0 instead.\n",
      "returned t_delta = -0.0794714330203 < 0, set to 0 instead.\n",
      "returned t_delta = -0.272063759549 < 0, set to 0 instead.\n",
      "returned t_delta = -0.214853665191 < 0, set to 0 instead.\n",
      "returned t_delta = -0.278945233887 < 0, set to 0 instead.\n",
      "returned t_delta = -0.143378465424 < 0, set to 0 instead.\n",
      "returned t_delta = -0.368561176194 < 0, set to 0 instead.\n",
      "returned t_delta = -0.223385759631 < 0, set to 0 instead.\n",
      "returned t_delta = -0.894406159487 < 0, set to 0 instead.\n",
      "returned t_delta = -0.13204778418 < 0, set to 0 instead.\n",
      "returned t_delta = -0.257095473465 < 0, set to 0 instead.\n",
      "returned t_delta = -0.0373588027475 < 0, set to 0 instead.\n",
      "returned t_delta = -0.264192616399 < 0, set to 0 instead.\n",
      "returned t_delta = -0.506016342714 < 0, set to 0 instead.\n"
     ]
    }
   ],
   "source": [
    "m2.run_till(100);"
   ]
  },
  {
   "cell_type": "code",
   "execution_count": 12,
   "metadata": {
    "collapsed": false
   },
   "outputs": [],
   "source": [
    "df = m2.state.get_dataframe()"
   ]
  },
  {
   "cell_type": "code",
   "execution_count": 13,
   "metadata": {
    "collapsed": true
   },
   "outputs": [],
   "source": [
    "df['t'] = np.cumsum(df['time_delta'])"
   ]
  },
  {
   "cell_type": "code",
   "execution_count": 15,
   "metadata": {
    "collapsed": false
   },
   "outputs": [
    {
     "data": {
      "text/html": [
       "<div>\n",
       "<table border=\"1\" class=\"dataframe\">\n",
       "  <thead>\n",
       "    <tr style=\"text-align: right;\">\n",
       "      <th></th>\n",
       "      <th>event_id</th>\n",
       "      <th>sink_id</th>\n",
       "      <th>src_id</th>\n",
       "      <th>time_delta</th>\n",
       "      <th>t</th>\n",
       "    </tr>\n",
       "  </thead>\n",
       "  <tbody>\n",
       "    <tr>\n",
       "      <th>0</th>\n",
       "      <td>100</td>\n",
       "      <td>1000</td>\n",
       "      <td>3</td>\n",
       "      <td>0.000000</td>\n",
       "      <td>0.000000</td>\n",
       "    </tr>\n",
       "    <tr>\n",
       "      <th>2</th>\n",
       "      <td>102</td>\n",
       "      <td>1000</td>\n",
       "      <td>3</td>\n",
       "      <td>0.443674</td>\n",
       "      <td>0.912943</td>\n",
       "    </tr>\n",
       "    <tr>\n",
       "      <th>4</th>\n",
       "      <td>104</td>\n",
       "      <td>1000</td>\n",
       "      <td>3</td>\n",
       "      <td>0.000000</td>\n",
       "      <td>1.786014</td>\n",
       "    </tr>\n",
       "    <tr>\n",
       "      <th>7</th>\n",
       "      <td>107</td>\n",
       "      <td>1000</td>\n",
       "      <td>3</td>\n",
       "      <td>0.776152</td>\n",
       "      <td>2.791629</td>\n",
       "    </tr>\n",
       "    <tr>\n",
       "      <th>9</th>\n",
       "      <td>109</td>\n",
       "      <td>1000</td>\n",
       "      <td>3</td>\n",
       "      <td>0.000000</td>\n",
       "      <td>2.934560</td>\n",
       "    </tr>\n",
       "    <tr>\n",
       "      <th>12</th>\n",
       "      <td>112</td>\n",
       "      <td>1000</td>\n",
       "      <td>3</td>\n",
       "      <td>0.000000</td>\n",
       "      <td>4.165810</td>\n",
       "    </tr>\n",
       "    <tr>\n",
       "      <th>14</th>\n",
       "      <td>114</td>\n",
       "      <td>1000</td>\n",
       "      <td>3</td>\n",
       "      <td>0.000000</td>\n",
       "      <td>4.404497</td>\n",
       "    </tr>\n",
       "    <tr>\n",
       "      <th>17</th>\n",
       "      <td>117</td>\n",
       "      <td>1000</td>\n",
       "      <td>3</td>\n",
       "      <td>0.014561</td>\n",
       "      <td>4.776461</td>\n",
       "    </tr>\n",
       "    <tr>\n",
       "      <th>20</th>\n",
       "      <td>120</td>\n",
       "      <td>1000</td>\n",
       "      <td>3</td>\n",
       "      <td>0.025234</td>\n",
       "      <td>5.249647</td>\n",
       "    </tr>\n",
       "    <tr>\n",
       "      <th>23</th>\n",
       "      <td>123</td>\n",
       "      <td>1000</td>\n",
       "      <td>3</td>\n",
       "      <td>0.122600</td>\n",
       "      <td>5.477785</td>\n",
       "    </tr>\n",
       "    <tr>\n",
       "      <th>25</th>\n",
       "      <td>125</td>\n",
       "      <td>1000</td>\n",
       "      <td>3</td>\n",
       "      <td>0.042853</td>\n",
       "      <td>5.700521</td>\n",
       "    </tr>\n",
       "    <tr>\n",
       "      <th>28</th>\n",
       "      <td>128</td>\n",
       "      <td>1000</td>\n",
       "      <td>3</td>\n",
       "      <td>0.000000</td>\n",
       "      <td>6.557156</td>\n",
       "    </tr>\n",
       "    <tr>\n",
       "      <th>30</th>\n",
       "      <td>130</td>\n",
       "      <td>1000</td>\n",
       "      <td>3</td>\n",
       "      <td>0.141492</td>\n",
       "      <td>6.744117</td>\n",
       "    </tr>\n",
       "    <tr>\n",
       "      <th>34</th>\n",
       "      <td>134</td>\n",
       "      <td>1000</td>\n",
       "      <td>3</td>\n",
       "      <td>0.238035</td>\n",
       "      <td>7.735346</td>\n",
       "    </tr>\n",
       "    <tr>\n",
       "      <th>36</th>\n",
       "      <td>136</td>\n",
       "      <td>1000</td>\n",
       "      <td>3</td>\n",
       "      <td>0.000000</td>\n",
       "      <td>9.117361</td>\n",
       "    </tr>\n",
       "    <tr>\n",
       "      <th>38</th>\n",
       "      <td>138</td>\n",
       "      <td>1000</td>\n",
       "      <td>3</td>\n",
       "      <td>0.218430</td>\n",
       "      <td>9.697452</td>\n",
       "    </tr>\n",
       "    <tr>\n",
       "      <th>40</th>\n",
       "      <td>140</td>\n",
       "      <td>1000</td>\n",
       "      <td>3</td>\n",
       "      <td>0.000000</td>\n",
       "      <td>10.628047</td>\n",
       "    </tr>\n",
       "    <tr>\n",
       "      <th>45</th>\n",
       "      <td>145</td>\n",
       "      <td>1000</td>\n",
       "      <td>3</td>\n",
       "      <td>0.260203</td>\n",
       "      <td>11.228153</td>\n",
       "    </tr>\n",
       "    <tr>\n",
       "      <th>48</th>\n",
       "      <td>148</td>\n",
       "      <td>1000</td>\n",
       "      <td>3</td>\n",
       "      <td>0.000000</td>\n",
       "      <td>11.843233</td>\n",
       "    </tr>\n",
       "    <tr>\n",
       "      <th>51</th>\n",
       "      <td>151</td>\n",
       "      <td>1000</td>\n",
       "      <td>3</td>\n",
       "      <td>0.513748</td>\n",
       "      <td>12.589356</td>\n",
       "    </tr>\n",
       "    <tr>\n",
       "      <th>53</th>\n",
       "      <td>153</td>\n",
       "      <td>1000</td>\n",
       "      <td>3</td>\n",
       "      <td>0.000000</td>\n",
       "      <td>14.880702</td>\n",
       "    </tr>\n",
       "    <tr>\n",
       "      <th>55</th>\n",
       "      <td>155</td>\n",
       "      <td>1000</td>\n",
       "      <td>3</td>\n",
       "      <td>0.000000</td>\n",
       "      <td>15.539315</td>\n",
       "    </tr>\n",
       "    <tr>\n",
       "      <th>57</th>\n",
       "      <td>157</td>\n",
       "      <td>1000</td>\n",
       "      <td>3</td>\n",
       "      <td>0.000000</td>\n",
       "      <td>17.132854</td>\n",
       "    </tr>\n",
       "    <tr>\n",
       "      <th>59</th>\n",
       "      <td>159</td>\n",
       "      <td>1000</td>\n",
       "      <td>3</td>\n",
       "      <td>0.273996</td>\n",
       "      <td>17.624984</td>\n",
       "    </tr>\n",
       "    <tr>\n",
       "      <th>63</th>\n",
       "      <td>163</td>\n",
       "      <td>1000</td>\n",
       "      <td>3</td>\n",
       "      <td>0.124459</td>\n",
       "      <td>18.213170</td>\n",
       "    </tr>\n",
       "    <tr>\n",
       "      <th>65</th>\n",
       "      <td>165</td>\n",
       "      <td>1000</td>\n",
       "      <td>3</td>\n",
       "      <td>0.000000</td>\n",
       "      <td>18.418514</td>\n",
       "    </tr>\n",
       "    <tr>\n",
       "      <th>67</th>\n",
       "      <td>167</td>\n",
       "      <td>1000</td>\n",
       "      <td>3</td>\n",
       "      <td>0.000000</td>\n",
       "      <td>18.502308</td>\n",
       "    </tr>\n",
       "    <tr>\n",
       "      <th>69</th>\n",
       "      <td>169</td>\n",
       "      <td>1000</td>\n",
       "      <td>3</td>\n",
       "      <td>0.780872</td>\n",
       "      <td>19.981792</td>\n",
       "    </tr>\n",
       "    <tr>\n",
       "      <th>71</th>\n",
       "      <td>171</td>\n",
       "      <td>1000</td>\n",
       "      <td>3</td>\n",
       "      <td>0.000000</td>\n",
       "      <td>20.122792</td>\n",
       "    </tr>\n",
       "    <tr>\n",
       "      <th>73</th>\n",
       "      <td>173</td>\n",
       "      <td>1000</td>\n",
       "      <td>3</td>\n",
       "      <td>1.005556</td>\n",
       "      <td>21.349888</td>\n",
       "    </tr>\n",
       "    <tr>\n",
       "      <th>...</th>\n",
       "      <td>...</td>\n",
       "      <td>...</td>\n",
       "      <td>...</td>\n",
       "      <td>...</td>\n",
       "      <td>...</td>\n",
       "    </tr>\n",
       "    <tr>\n",
       "      <th>252</th>\n",
       "      <td>352</td>\n",
       "      <td>1000</td>\n",
       "      <td>3</td>\n",
       "      <td>0.032370</td>\n",
       "      <td>75.387827</td>\n",
       "    </tr>\n",
       "    <tr>\n",
       "      <th>254</th>\n",
       "      <td>354</td>\n",
       "      <td>1000</td>\n",
       "      <td>3</td>\n",
       "      <td>0.000000</td>\n",
       "      <td>77.260183</td>\n",
       "    </tr>\n",
       "    <tr>\n",
       "      <th>257</th>\n",
       "      <td>357</td>\n",
       "      <td>1000</td>\n",
       "      <td>3</td>\n",
       "      <td>0.365834</td>\n",
       "      <td>77.855596</td>\n",
       "    </tr>\n",
       "    <tr>\n",
       "      <th>260</th>\n",
       "      <td>360</td>\n",
       "      <td>1000</td>\n",
       "      <td>3</td>\n",
       "      <td>0.000000</td>\n",
       "      <td>78.436103</td>\n",
       "    </tr>\n",
       "    <tr>\n",
       "      <th>262</th>\n",
       "      <td>362</td>\n",
       "      <td>1000</td>\n",
       "      <td>3</td>\n",
       "      <td>0.000000</td>\n",
       "      <td>80.197196</td>\n",
       "    </tr>\n",
       "    <tr>\n",
       "      <th>264</th>\n",
       "      <td>364</td>\n",
       "      <td>1000</td>\n",
       "      <td>3</td>\n",
       "      <td>1.199114</td>\n",
       "      <td>81.547230</td>\n",
       "    </tr>\n",
       "    <tr>\n",
       "      <th>266</th>\n",
       "      <td>366</td>\n",
       "      <td>1000</td>\n",
       "      <td>3</td>\n",
       "      <td>0.312793</td>\n",
       "      <td>82.759517</td>\n",
       "    </tr>\n",
       "    <tr>\n",
       "      <th>268</th>\n",
       "      <td>368</td>\n",
       "      <td>1000</td>\n",
       "      <td>3</td>\n",
       "      <td>0.060407</td>\n",
       "      <td>83.107079</td>\n",
       "    </tr>\n",
       "    <tr>\n",
       "      <th>271</th>\n",
       "      <td>371</td>\n",
       "      <td>1000</td>\n",
       "      <td>3</td>\n",
       "      <td>0.296944</td>\n",
       "      <td>83.937744</td>\n",
       "    </tr>\n",
       "    <tr>\n",
       "      <th>273</th>\n",
       "      <td>373</td>\n",
       "      <td>1000</td>\n",
       "      <td>3</td>\n",
       "      <td>0.000000</td>\n",
       "      <td>85.149539</td>\n",
       "    </tr>\n",
       "    <tr>\n",
       "      <th>276</th>\n",
       "      <td>376</td>\n",
       "      <td>1000</td>\n",
       "      <td>3</td>\n",
       "      <td>0.000000</td>\n",
       "      <td>86.354934</td>\n",
       "    </tr>\n",
       "    <tr>\n",
       "      <th>279</th>\n",
       "      <td>379</td>\n",
       "      <td>1000</td>\n",
       "      <td>3</td>\n",
       "      <td>0.000000</td>\n",
       "      <td>87.594155</td>\n",
       "    </tr>\n",
       "    <tr>\n",
       "      <th>281</th>\n",
       "      <td>381</td>\n",
       "      <td>1000</td>\n",
       "      <td>3</td>\n",
       "      <td>0.000000</td>\n",
       "      <td>88.615203</td>\n",
       "    </tr>\n",
       "    <tr>\n",
       "      <th>284</th>\n",
       "      <td>384</td>\n",
       "      <td>1000</td>\n",
       "      <td>3</td>\n",
       "      <td>0.000000</td>\n",
       "      <td>89.126382</td>\n",
       "    </tr>\n",
       "    <tr>\n",
       "      <th>287</th>\n",
       "      <td>387</td>\n",
       "      <td>1000</td>\n",
       "      <td>3</td>\n",
       "      <td>0.000000</td>\n",
       "      <td>89.789593</td>\n",
       "    </tr>\n",
       "    <tr>\n",
       "      <th>289</th>\n",
       "      <td>389</td>\n",
       "      <td>1000</td>\n",
       "      <td>3</td>\n",
       "      <td>0.019089</td>\n",
       "      <td>89.820568</td>\n",
       "    </tr>\n",
       "    <tr>\n",
       "      <th>293</th>\n",
       "      <td>393</td>\n",
       "      <td>1000</td>\n",
       "      <td>3</td>\n",
       "      <td>0.000000</td>\n",
       "      <td>90.611872</td>\n",
       "    </tr>\n",
       "    <tr>\n",
       "      <th>297</th>\n",
       "      <td>397</td>\n",
       "      <td>1000</td>\n",
       "      <td>3</td>\n",
       "      <td>0.110876</td>\n",
       "      <td>91.101755</td>\n",
       "    </tr>\n",
       "    <tr>\n",
       "      <th>299</th>\n",
       "      <td>399</td>\n",
       "      <td>1000</td>\n",
       "      <td>3</td>\n",
       "      <td>0.000000</td>\n",
       "      <td>91.433765</td>\n",
       "    </tr>\n",
       "    <tr>\n",
       "      <th>302</th>\n",
       "      <td>402</td>\n",
       "      <td>1000</td>\n",
       "      <td>3</td>\n",
       "      <td>0.000000</td>\n",
       "      <td>91.966099</td>\n",
       "    </tr>\n",
       "    <tr>\n",
       "      <th>306</th>\n",
       "      <td>406</td>\n",
       "      <td>1000</td>\n",
       "      <td>3</td>\n",
       "      <td>0.000000</td>\n",
       "      <td>93.575846</td>\n",
       "    </tr>\n",
       "    <tr>\n",
       "      <th>308</th>\n",
       "      <td>408</td>\n",
       "      <td>1000</td>\n",
       "      <td>3</td>\n",
       "      <td>0.184770</td>\n",
       "      <td>93.891697</td>\n",
       "    </tr>\n",
       "    <tr>\n",
       "      <th>310</th>\n",
       "      <td>410</td>\n",
       "      <td>1000</td>\n",
       "      <td>3</td>\n",
       "      <td>0.007537</td>\n",
       "      <td>93.973402</td>\n",
       "    </tr>\n",
       "    <tr>\n",
       "      <th>314</th>\n",
       "      <td>414</td>\n",
       "      <td>1000</td>\n",
       "      <td>3</td>\n",
       "      <td>0.000000</td>\n",
       "      <td>95.292581</td>\n",
       "    </tr>\n",
       "    <tr>\n",
       "      <th>316</th>\n",
       "      <td>416</td>\n",
       "      <td>1000</td>\n",
       "      <td>3</td>\n",
       "      <td>0.000000</td>\n",
       "      <td>96.377294</td>\n",
       "    </tr>\n",
       "    <tr>\n",
       "      <th>319</th>\n",
       "      <td>419</td>\n",
       "      <td>1000</td>\n",
       "      <td>3</td>\n",
       "      <td>0.000000</td>\n",
       "      <td>96.653345</td>\n",
       "    </tr>\n",
       "    <tr>\n",
       "      <th>322</th>\n",
       "      <td>422</td>\n",
       "      <td>1000</td>\n",
       "      <td>3</td>\n",
       "      <td>0.000000</td>\n",
       "      <td>97.450135</td>\n",
       "    </tr>\n",
       "    <tr>\n",
       "      <th>325</th>\n",
       "      <td>425</td>\n",
       "      <td>1000</td>\n",
       "      <td>3</td>\n",
       "      <td>0.000000</td>\n",
       "      <td>98.157003</td>\n",
       "    </tr>\n",
       "    <tr>\n",
       "      <th>327</th>\n",
       "      <td>427</td>\n",
       "      <td>1000</td>\n",
       "      <td>3</td>\n",
       "      <td>0.000000</td>\n",
       "      <td>98.965233</td>\n",
       "    </tr>\n",
       "    <tr>\n",
       "      <th>329</th>\n",
       "      <td>429</td>\n",
       "      <td>1000</td>\n",
       "      <td>3</td>\n",
       "      <td>0.000000</td>\n",
       "      <td>99.911264</td>\n",
       "    </tr>\n",
       "  </tbody>\n",
       "</table>\n",
       "<p>129 rows × 5 columns</p>\n",
       "</div>"
      ],
      "text/plain": [
       "     event_id  sink_id  src_id  time_delta          t\n",
       "0         100     1000       3    0.000000   0.000000\n",
       "2         102     1000       3    0.443674   0.912943\n",
       "4         104     1000       3    0.000000   1.786014\n",
       "7         107     1000       3    0.776152   2.791629\n",
       "9         109     1000       3    0.000000   2.934560\n",
       "12        112     1000       3    0.000000   4.165810\n",
       "14        114     1000       3    0.000000   4.404497\n",
       "17        117     1000       3    0.014561   4.776461\n",
       "20        120     1000       3    0.025234   5.249647\n",
       "23        123     1000       3    0.122600   5.477785\n",
       "25        125     1000       3    0.042853   5.700521\n",
       "28        128     1000       3    0.000000   6.557156\n",
       "30        130     1000       3    0.141492   6.744117\n",
       "34        134     1000       3    0.238035   7.735346\n",
       "36        136     1000       3    0.000000   9.117361\n",
       "38        138     1000       3    0.218430   9.697452\n",
       "40        140     1000       3    0.000000  10.628047\n",
       "45        145     1000       3    0.260203  11.228153\n",
       "48        148     1000       3    0.000000  11.843233\n",
       "51        151     1000       3    0.513748  12.589356\n",
       "53        153     1000       3    0.000000  14.880702\n",
       "55        155     1000       3    0.000000  15.539315\n",
       "57        157     1000       3    0.000000  17.132854\n",
       "59        159     1000       3    0.273996  17.624984\n",
       "63        163     1000       3    0.124459  18.213170\n",
       "65        165     1000       3    0.000000  18.418514\n",
       "67        167     1000       3    0.000000  18.502308\n",
       "69        169     1000       3    0.780872  19.981792\n",
       "71        171     1000       3    0.000000  20.122792\n",
       "73        173     1000       3    1.005556  21.349888\n",
       "..        ...      ...     ...         ...        ...\n",
       "252       352     1000       3    0.032370  75.387827\n",
       "254       354     1000       3    0.000000  77.260183\n",
       "257       357     1000       3    0.365834  77.855596\n",
       "260       360     1000       3    0.000000  78.436103\n",
       "262       362     1000       3    0.000000  80.197196\n",
       "264       364     1000       3    1.199114  81.547230\n",
       "266       366     1000       3    0.312793  82.759517\n",
       "268       368     1000       3    0.060407  83.107079\n",
       "271       371     1000       3    0.296944  83.937744\n",
       "273       373     1000       3    0.000000  85.149539\n",
       "276       376     1000       3    0.000000  86.354934\n",
       "279       379     1000       3    0.000000  87.594155\n",
       "281       381     1000       3    0.000000  88.615203\n",
       "284       384     1000       3    0.000000  89.126382\n",
       "287       387     1000       3    0.000000  89.789593\n",
       "289       389     1000       3    0.019089  89.820568\n",
       "293       393     1000       3    0.000000  90.611872\n",
       "297       397     1000       3    0.110876  91.101755\n",
       "299       399     1000       3    0.000000  91.433765\n",
       "302       402     1000       3    0.000000  91.966099\n",
       "306       406     1000       3    0.000000  93.575846\n",
       "308       408     1000       3    0.184770  93.891697\n",
       "310       410     1000       3    0.007537  93.973402\n",
       "314       414     1000       3    0.000000  95.292581\n",
       "316       416     1000       3    0.000000  96.377294\n",
       "319       419     1000       3    0.000000  96.653345\n",
       "322       422     1000       3    0.000000  97.450135\n",
       "325       425     1000       3    0.000000  98.157003\n",
       "327       427     1000       3    0.000000  98.965233\n",
       "329       429     1000       3    0.000000  99.911264\n",
       "\n",
       "[129 rows x 5 columns]"
      ]
     },
     "execution_count": 15,
     "metadata": {},
     "output_type": "execute_result"
    }
   ],
   "source": [
    "df[df.src_id == 3]"
   ]
  },
  {
   "cell_type": "code",
   "execution_count": null,
   "metadata": {
    "collapsed": false
   },
   "outputs": [],
   "source": []
  },
  {
   "cell_type": "code",
   "execution_count": null,
   "metadata": {
    "collapsed": true
   },
   "outputs": [],
   "source": []
  },
  {
   "cell_type": "code",
   "execution_count": null,
   "metadata": {
    "collapsed": true
   },
   "outputs": [],
   "source": []
  },
  {
   "cell_type": "code",
   "execution_count": null,
   "metadata": {
    "collapsed": true
   },
   "outputs": [],
   "source": []
  },
  {
   "cell_type": "code",
   "execution_count": null,
   "metadata": {
    "collapsed": true
   },
   "outputs": [],
   "source": []
  },
  {
   "cell_type": "code",
   "execution_count": null,
   "metadata": {
    "collapsed": true
   },
   "outputs": [],
   "source": []
  },
  {
   "cell_type": "code",
   "execution_count": null,
   "metadata": {
    "collapsed": true
   },
   "outputs": [],
   "source": []
  },
  {
   "cell_type": "code",
   "execution_count": null,
   "metadata": {
    "collapsed": true
   },
   "outputs": [],
   "source": []
  },
  {
   "cell_type": "code",
   "execution_count": null,
   "metadata": {
    "collapsed": true
   },
   "outputs": [],
   "source": []
  },
  {
   "cell_type": "code",
   "execution_count": null,
   "metadata": {
    "collapsed": true
   },
   "outputs": [],
   "source": []
  },
  {
   "cell_type": "code",
   "execution_count": null,
   "metadata": {
    "collapsed": true
   },
   "outputs": [],
   "source": []
  },
  {
   "cell_type": "code",
   "execution_count": null,
   "metadata": {
    "collapsed": true
   },
   "outputs": [],
   "source": []
  },
  {
   "cell_type": "code",
   "execution_count": null,
   "metadata": {
    "collapsed": true
   },
   "outputs": [],
   "source": []
  },
  {
   "cell_type": "code",
   "execution_count": null,
   "metadata": {
    "collapsed": true
   },
   "outputs": [],
   "source": []
  },
  {
   "cell_type": "code",
   "execution_count": null,
   "metadata": {
    "collapsed": true
   },
   "outputs": [],
   "source": []
  },
  {
   "cell_type": "code",
   "execution_count": null,
   "metadata": {
    "collapsed": true
   },
   "outputs": [],
   "source": []
  },
  {
   "cell_type": "code",
   "execution_count": null,
   "metadata": {
    "collapsed": true
   },
   "outputs": [],
   "source": []
  },
  {
   "cell_type": "code",
   "execution_count": null,
   "metadata": {
    "collapsed": true
   },
   "outputs": [],
   "source": []
  },
  {
   "cell_type": "code",
   "execution_count": null,
   "metadata": {
    "collapsed": true
   },
   "outputs": [],
   "source": []
  },
  {
   "cell_type": "code",
   "execution_count": null,
   "metadata": {
    "collapsed": true
   },
   "outputs": [],
   "source": []
  },
  {
   "cell_type": "code",
   "execution_count": null,
   "metadata": {
    "collapsed": true
   },
   "outputs": [],
   "source": []
  },
  {
   "cell_type": "code",
   "execution_count": null,
   "metadata": {
    "collapsed": true
   },
   "outputs": [],
   "source": []
  },
  {
   "cell_type": "code",
   "execution_count": null,
   "metadata": {
    "collapsed": true
   },
   "outputs": [],
   "source": []
  },
  {
   "cell_type": "code",
   "execution_count": null,
   "metadata": {
    "collapsed": true
   },
   "outputs": [],
   "source": []
  },
  {
   "cell_type": "code",
   "execution_count": null,
   "metadata": {
    "collapsed": true
   },
   "outputs": [],
   "source": []
  },
  {
   "cell_type": "code",
   "execution_count": null,
   "metadata": {
    "collapsed": true
   },
   "outputs": [],
   "source": []
  },
  {
   "cell_type": "code",
   "execution_count": null,
   "metadata": {
    "collapsed": true
   },
   "outputs": [],
   "source": []
  },
  {
   "cell_type": "code",
   "execution_count": null,
   "metadata": {
    "collapsed": true
   },
   "outputs": [],
   "source": []
  },
  {
   "cell_type": "code",
   "execution_count": null,
   "metadata": {
    "collapsed": true
   },
   "outputs": [],
   "source": []
  },
  {
   "cell_type": "code",
   "execution_count": null,
   "metadata": {
    "collapsed": true
   },
   "outputs": [],
   "source": []
  },
  {
   "cell_type": "code",
   "execution_count": null,
   "metadata": {
    "collapsed": true
   },
   "outputs": [],
   "source": []
  },
  {
   "cell_type": "code",
   "execution_count": null,
   "metadata": {
    "collapsed": true
   },
   "outputs": [],
   "source": []
  }
 ],
 "metadata": {
  "kernelspec": {
   "display_name": "Python 2",
   "language": "python",
   "name": "python2"
  },
  "language_info": {
   "codemirror_mode": {
    "name": "ipython",
    "version": 2
   },
   "file_extension": ".py",
   "mimetype": "text/x-python",
   "name": "python",
   "nbconvert_exporter": "python",
   "pygments_lexer": "ipython2",
   "version": "2.7.11"
  }
 },
 "nbformat": 4,
 "nbformat_minor": 0
}

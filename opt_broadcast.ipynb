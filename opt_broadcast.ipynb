{
 "cells": [
  {
   "cell_type": "code",
   "execution_count": 8,
   "metadata": {
    "collapsed": false
   },
   "outputs": [
    {
     "name": "stderr",
     "output_type": "stream",
     "text": [
      "/home/utkarshu/miniconda3/envs/py35/lib/python3.5/site-packages/matplotlib/__init__.py:872: UserWarning: axes.color_cycle is deprecated and replaced with axes.prop_cycle; please use the latter.\n",
      "  warnings.warn(self.msg_depr % (key, alt_key))\n"
     ]
    },
    {
     "data": {
      "text/plain": [
       "<matplotlib.figure.Figure at 0x7fc81f2e7be0>"
      ]
     },
     "metadata": {},
     "output_type": "display_data"
    }
   ],
   "source": [
    "%matplotlib inline\n",
    "from matplotlib import pyplot as plt\n",
    "import seaborn as sns\n",
    "import numpy as np\n",
    "\n",
    "np.set_printoptions(suppress=True, precision=3)\n",
    "\n",
    "sns.set(style='ticks', palette='Set2')\n",
    "sns.despine()"
   ]
  },
  {
   "cell_type": "code",
   "execution_count": 9,
   "metadata": {
    "collapsed": false
   },
   "outputs": [],
   "source": [
    "%run -i options.py\n",
    "%run -i utils.py\n",
    "%run -i opt_model.py"
   ]
  },
  {
   "cell_type": "code",
   "execution_count": 398,
   "metadata": {
    "collapsed": true
   },
   "outputs": [],
   "source": [
    "from IPython.lib import deepreload"
   ]
  },
  {
   "cell_type": "code",
   "execution_count": 100,
   "metadata": {
    "collapsed": false
   },
   "outputs": [
    {
     "data": {
      "text/plain": [
       "24.2522515977514"
      ]
     },
     "execution_count": 100,
     "metadata": {},
     "output_type": "execute_result"
    }
   ],
   "source": [
    "sim_opts = SimOpts.std_poisson(world_seed=42, world_rate=1000.0)\n",
    "mgr = sim_opts.create_manager_with_opt(1)\n",
    "mgr.run()\n",
    "df = mgr.state.get_dataframe()\n",
    "u_int_opt(df, sim_opts=sim_opts)"
   ]
  },
  {
   "cell_type": "code",
   "execution_count": 102,
   "metadata": {
    "collapsed": false
   },
   "outputs": [
    {
     "data": {
      "image/png": "[encoded data removed]",
      "text/plain": [
       "<matplotlib.figure.Figure at 0x7fe76d91cc50>"
      ]
     },
     "metadata": {},
     "output_type": "display_data"
    }
   ],
   "source": [
    "rank_count = rank_of_src_in_df(df, 1)\n",
    "plt.step(rank_count.index, rank_count.mean(1), where='post')\n",
    "plt.xlabel('Time')\n",
    "plt.ylabel('r(t)')\n",
    "plt.tight_layout()\n",
    "format_axes(plt.gca())\n",
    "latexify(fig_width=3.16, largeFonts=True)"
   ]
  },
  {
   "cell_type": "code",
   "execution_count": 103,
   "metadata": {
    "collapsed": false
   },
   "outputs": [
    {
     "data": {
      "text/plain": [
       "[0.25177123510846161, 1.0]"
      ]
     },
     "execution_count": 103,
     "metadata": {},
     "output_type": "execute_result"
    }
   ],
   "source": [
    "[time_in_top_k(df, src_id=x, K=10, sim_opts=sim_opts) for x in sorted(df.src_id.unique())]"
   ]
  },
  {
   "cell_type": "code",
   "execution_count": 104,
   "metadata": {
    "collapsed": false
   },
   "outputs": [],
   "source": [
    "poisson_loss = calc_loss_poisson(df, u_const=u_int_opt(df, sim_opts=sim_opts), src_id=1, sim_opts=sim_opts)"
   ]
  },
  {
   "cell_type": "code",
   "execution_count": 105,
   "metadata": {
    "collapsed": false
   },
   "outputs": [
    {
     "data": {
      "image/png": "[encoded data removed]",
      "text/plain": [
       "<matplotlib.figure.Figure at 0x7fe76ece3828>"
      ]
     },
     "metadata": {},
     "output_type": "display_data"
    }
   ],
   "source": [
    "calc_loss_opt(df, sim_opts).plot()\n",
    "plt.tight_layout()\n",
    "format_axes(plt.gca())\n",
    "latexify(columns=1, largeFonts=True)"
   ]
  },
  {
   "cell_type": "markdown",
   "metadata": {
    "collapsed": true
   },
   "source": [
    "## Synthetic experiments"
   ]
  },
  {
   "cell_type": "code",
   "execution_count": 106,
   "metadata": {
    "collapsed": false
   },
   "outputs": [],
   "source": [
    "%run -i options.py\n",
    "%run -i utils.py\n",
    "%run -i opt_model.py"
   ]
  },
  {
   "cell_type": "code",
   "execution_count": 18,
   "metadata": {
    "collapsed": false
   },
   "outputs": [
    {
     "name": "stdout",
     "output_type": "stream",
     "text": [
      "Done within 75 iterations!\n",
      "Done within 696 iterations!\n",
      "Done within 5306 iterations!\n",
      "Done within 21661 iterations!\n",
      "Done within 27250 iterations!\n",
      "CPU times: user 15min 24s, sys: 323 ms, total: 15min 24s\n",
      "Wall time: 15min 25s\n"
     ]
    }
   ],
   "source": [
    "%%time\n",
    "sim_opts = SimOpts.std_poisson(world_seed=1 + 42, world_rate=10.0).update({ 'end_time': 100.0 })\n",
    "tmp_kdd = worker_kdd((1, 567.0, 10, sim_opts, None, None))\n",
    "tmp_poisson = worker_poisson((1, 567.0, sim_opts, None))\n",
    "# tmp_oracle = worker_oracle((1, 567.0, 956, sim_opts, None))\n",
    "# tmp_opt = worker_opt((1, sim_opts, None))"
   ]
  },
  {
   "cell_type": "code",
   "execution_count": 5,
   "metadata": {
    "collapsed": true
   },
   "outputs": [
    {
     "ename": "KeyboardInterrupt",
     "evalue": "",
     "output_type": "error",
     "traceback": [
      "\u001b[1;31m---------------------------------------------------------------------------\u001b[0m",
      "\u001b[1;31mKeyboardInterrupt\u001b[0m                         Traceback (most recent call last)",
      "\u001b[1;32m/NL/stackexchange/work/prog/broadcast-online/opt_model.py\u001b[0m in \u001b[0;36m<module>\u001b[1;34m()\u001b[0m\n\u001b[1;32m----> 1\u001b[1;33m \u001b[0mget_ipython\u001b[0m\u001b[1;33m(\u001b[0m\u001b[1;33m)\u001b[0m\u001b[1;33m.\u001b[0m\u001b[0mrun_cell_magic\u001b[0m\u001b[1;33m(\u001b[0m\u001b[1;34m'time'\u001b[0m\u001b[1;33m,\u001b[0m \u001b[1;34m''\u001b[0m\u001b[1;33m,\u001b[0m \u001b[1;34m\"sim_opts = SimOpts.std_piecewise_const(world_seed=1 + 42, \\n                                       world_rates=np.arange(10) * 1.0,\\n                                       world_change_times=np.arange(10) * 10.0\\n                                      ).update({ 'end_time': 100.0 })\\ntmp_kdd = worker_kdd((1, 567.0, 9, sim_opts, None, None))\\ntmp_poisson = worker_poisson((1, 567.0, sim_opts, None))\\ntmp_oracle = worker_oracle((1, 567.0, 956, sim_opts, None))\\ntmp_opt = worker_opt((1, sim_opts, None))\"\u001b[0m\u001b[1;33m)\u001b[0m\u001b[1;33m\u001b[0m\u001b[0m\n\u001b[0m",
      "\u001b[1;32m/home/utkarshu/miniconda3/envs/py35/lib/python3.5/site-packages/IPython/core/interactiveshell.py\u001b[0m in \u001b[0;36mrun_cell_magic\u001b[1;34m(self, magic_name, line, cell)\u001b[0m\n\u001b[0;32m   2118\u001b[0m             \u001b[0mmagic_arg_s\u001b[0m \u001b[1;33m=\u001b[0m \u001b[0mself\u001b[0m\u001b[1;33m.\u001b[0m\u001b[0mvar_expand\u001b[0m\u001b[1;33m(\u001b[0m\u001b[0mline\u001b[0m\u001b[1;33m,\u001b[0m \u001b[0mstack_depth\u001b[0m\u001b[1;33m)\u001b[0m\u001b[1;33m\u001b[0m\u001b[0m\n\u001b[0;32m   2119\u001b[0m             \u001b[1;32mwith\u001b[0m \u001b[0mself\u001b[0m\u001b[1;33m.\u001b[0m\u001b[0mbuiltin_trap\u001b[0m\u001b[1;33m:\u001b[0m\u001b[1;33m\u001b[0m\u001b[0m\n\u001b[1;32m-> 2120\u001b[1;33m                 \u001b[0mresult\u001b[0m \u001b[1;33m=\u001b[0m \u001b[0mfn\u001b[0m\u001b[1;33m(\u001b[0m\u001b[0mmagic_arg_s\u001b[0m\u001b[1;33m,\u001b[0m \u001b[0mcell\u001b[0m\u001b[1;33m)\u001b[0m\u001b[1;33m\u001b[0m\u001b[0m\n\u001b[0m\u001b[0;32m   2121\u001b[0m             \u001b[1;32mreturn\u001b[0m \u001b[0mresult\u001b[0m\u001b[1;33m\u001b[0m\u001b[0m\n\u001b[0;32m   2122\u001b[0m \u001b[1;33m\u001b[0m\u001b[0m\n",
      "\u001b[1;32m<decorator-gen-60>\u001b[0m in \u001b[0;36mtime\u001b[1;34m(self, line, cell, local_ns)\u001b[0m\n",
      "\u001b[1;32m/home/utkarshu/miniconda3/envs/py35/lib/python3.5/site-packages/IPython/core/magic.py\u001b[0m in \u001b[0;36m<lambda>\u001b[1;34m(f, *a, **k)\u001b[0m\n\u001b[0;32m    191\u001b[0m     \u001b[1;31m# but it's overkill for just that one bit of state.\u001b[0m\u001b[1;33m\u001b[0m\u001b[1;33m\u001b[0m\u001b[0m\n\u001b[0;32m    192\u001b[0m     \u001b[1;32mdef\u001b[0m \u001b[0mmagic_deco\u001b[0m\u001b[1;33m(\u001b[0m\u001b[0marg\u001b[0m\u001b[1;33m)\u001b[0m\u001b[1;33m:\u001b[0m\u001b[1;33m\u001b[0m\u001b[0m\n\u001b[1;32m--> 193\u001b[1;33m         \u001b[0mcall\u001b[0m \u001b[1;33m=\u001b[0m \u001b[1;32mlambda\u001b[0m \u001b[0mf\u001b[0m\u001b[1;33m,\u001b[0m \u001b[1;33m*\u001b[0m\u001b[0ma\u001b[0m\u001b[1;33m,\u001b[0m \u001b[1;33m**\u001b[0m\u001b[0mk\u001b[0m\u001b[1;33m:\u001b[0m \u001b[0mf\u001b[0m\u001b[1;33m(\u001b[0m\u001b[1;33m*\u001b[0m\u001b[0ma\u001b[0m\u001b[1;33m,\u001b[0m \u001b[1;33m**\u001b[0m\u001b[0mk\u001b[0m\u001b[1;33m)\u001b[0m\u001b[1;33m\u001b[0m\u001b[0m\n\u001b[0m\u001b[0;32m    194\u001b[0m \u001b[1;33m\u001b[0m\u001b[0m\n\u001b[0;32m    195\u001b[0m         \u001b[1;32mif\u001b[0m \u001b[0mcallable\u001b[0m\u001b[1;33m(\u001b[0m\u001b[0marg\u001b[0m\u001b[1;33m)\u001b[0m\u001b[1;33m:\u001b[0m\u001b[1;33m\u001b[0m\u001b[0m\n",
      "\u001b[1;32m/home/utkarshu/miniconda3/envs/py35/lib/python3.5/site-packages/IPython/core/magics/execution.py\u001b[0m in \u001b[0;36mtime\u001b[1;34m(self, line, cell, local_ns)\u001b[0m\n\u001b[0;32m   1175\u001b[0m         \u001b[1;32melse\u001b[0m\u001b[1;33m:\u001b[0m\u001b[1;33m\u001b[0m\u001b[0m\n\u001b[0;32m   1176\u001b[0m             \u001b[0mst\u001b[0m \u001b[1;33m=\u001b[0m \u001b[0mclock2\u001b[0m\u001b[1;33m(\u001b[0m\u001b[1;33m)\u001b[0m\u001b[1;33m\u001b[0m\u001b[0m\n\u001b[1;32m-> 1177\u001b[1;33m             \u001b[0mexec\u001b[0m\u001b[1;33m(\u001b[0m\u001b[0mcode\u001b[0m\u001b[1;33m,\u001b[0m \u001b[0mglob\u001b[0m\u001b[1;33m,\u001b[0m \u001b[0mlocal_ns\u001b[0m\u001b[1;33m)\u001b[0m\u001b[1;33m\u001b[0m\u001b[0m\n\u001b[0m\u001b[0;32m   1178\u001b[0m             \u001b[0mend\u001b[0m \u001b[1;33m=\u001b[0m \u001b[0mclock2\u001b[0m\u001b[1;33m(\u001b[0m\u001b[1;33m)\u001b[0m\u001b[1;33m\u001b[0m\u001b[0m\n\u001b[0;32m   1179\u001b[0m             \u001b[0mout\u001b[0m \u001b[1;33m=\u001b[0m \u001b[1;32mNone\u001b[0m\u001b[1;33m\u001b[0m\u001b[0m\n",
      "\u001b[1;32m/NL/stackexchange/work/prog/broadcast-online/opt_model.py\u001b[0m in \u001b[0;36m<module>\u001b[1;34m()\u001b[0m\n",
      "\u001b[1;32m/NL/stackexchange/work/prog/broadcast-online/opt_model.py\u001b[0m in \u001b[0;36mworker_kdd\u001b[1;34m(params)\u001b[0m\n\u001b[0;32m    679\u001b[0m \u001b[1;33m\u001b[0m\u001b[0m\n\u001b[0;32m    680\u001b[0m         kdd_opt, iters = Bopt.optimize(util=_util,\n\u001b[1;32m--> 681\u001b[1;33m                                 \u001b[0mutil_grad\u001b[0m\u001b[1;33m=\u001b[0m\u001b[0m_util_grad\u001b[0m\u001b[1;33m,\u001b[0m\u001b[1;33m\u001b[0m\u001b[0m\n\u001b[0m\u001b[0;32m    682\u001b[0m                                 \u001b[0mbudget\u001b[0m\u001b[1;33m=\u001b[0m\u001b[0mcapacity\u001b[0m\u001b[1;33m,\u001b[0m\u001b[1;33m\u001b[0m\u001b[0m\n\u001b[0;32m    683\u001b[0m                                 \u001b[0mupper_bounds\u001b[0m\u001b[1;33m=\u001b[0m\u001b[0mupper_bounds\u001b[0m\u001b[1;33m,\u001b[0m\u001b[1;33m\u001b[0m\u001b[0m\n",
      "\u001b[1;32m/NL/stackexchange/work/prog/broadcast_ref/broadcast/opt/optimizer.py\u001b[0m in \u001b[0;36moptimize\u001b[1;34m(util, util_grad, budget, upper_bounds, threshold, x0, verbose, with_iter)\u001b[0m\n\u001b[0;32m     99\u001b[0m             \u001b[1;32mreturn\u001b[0m \u001b[0mupper_bounds\u001b[0m\u001b[1;33m\u001b[0m\u001b[0m\n\u001b[0;32m    100\u001b[0m \u001b[1;33m\u001b[0m\u001b[0m\n\u001b[1;32m--> 101\u001b[1;33m     \u001b[0mopt_rates\u001b[0m \u001b[1;33m=\u001b[0m \u001b[0moptimize_base\u001b[0m\u001b[1;33m(\u001b[0m\u001b[0mutil\u001b[0m\u001b[1;33m,\u001b[0m \u001b[0mutil_grad\u001b[0m\u001b[1;33m,\u001b[0m \u001b[0mproj\u001b[0m\u001b[1;33m,\u001b[0m \u001b[0mx0\u001b[0m\u001b[1;33m,\u001b[0m \u001b[0mthreshold\u001b[0m\u001b[1;33m,\u001b[0m \u001b[0mverbose\u001b[0m\u001b[1;33m=\u001b[0m\u001b[0mverbose\u001b[0m\u001b[1;33m,\u001b[0m \u001b[0mwith_iter\u001b[0m\u001b[1;33m=\u001b[0m\u001b[0mwith_iter\u001b[0m\u001b[1;33m)\u001b[0m\u001b[1;33m\u001b[0m\u001b[0m\n\u001b[0m\u001b[0;32m    102\u001b[0m     \u001b[1;31m# delta = int(round(time.time() * 1000)) - start\u001b[0m\u001b[1;33m\u001b[0m\u001b[1;33m\u001b[0m\u001b[0m\n\u001b[0;32m    103\u001b[0m     \u001b[1;31m# sys.stderr.write('Total time: %d' % delta)\u001b[0m\u001b[1;33m\u001b[0m\u001b[1;33m\u001b[0m\u001b[0m\n",
      "\u001b[1;32m/NL/stackexchange/work/prog/broadcast_ref/broadcast/opt/optimizer.py\u001b[0m in \u001b[0;36moptimize_base\u001b[1;34m(util, grad, proj, x0, threshold, gamma, c, verbose, with_iter)\u001b[0m\n\u001b[0;32m     58\u001b[0m         \u001b[1;31m# if i % 10 == 0:\u001b[0m\u001b[1;33m\u001b[0m\u001b[1;33m\u001b[0m\u001b[0m\n\u001b[0;32m     59\u001b[0m         \u001b[1;31m#     print(x)\u001b[0m\u001b[1;33m\u001b[0m\u001b[1;33m\u001b[0m\u001b[0m\n\u001b[1;32m---> 60\u001b[1;33m         \u001b[0mg\u001b[0m \u001b[1;33m=\u001b[0m \u001b[0mgrad\u001b[0m\u001b[1;33m(\u001b[0m\u001b[0mx\u001b[0m\u001b[1;33m)\u001b[0m\u001b[1;33m\u001b[0m\u001b[0m\n\u001b[0m\u001b[0;32m     61\u001b[0m \u001b[1;33m\u001b[0m\u001b[0m\n\u001b[0;32m     62\u001b[0m         \u001b[0md\u001b[0m \u001b[1;33m=\u001b[0m \u001b[0mproj\u001b[0m\u001b[1;33m(\u001b[0m\u001b[0mx\u001b[0m \u001b[1;33m+\u001b[0m \u001b[0mg\u001b[0m \u001b[1;33m*\u001b[0m \u001b[1;36m1000.\u001b[0m\u001b[1;33m)\u001b[0m \u001b[1;33m-\u001b[0m \u001b[0mx\u001b[0m\u001b[1;33m\u001b[0m\u001b[0m\n",
      "\u001b[1;32m/NL/stackexchange/work/prog/broadcast-online/opt_model.py\u001b[0m in \u001b[0;36m_util_grad\u001b[1;34m(x)\u001b[0m\n\u001b[0;32m    667\u001b[0m                                              \u001b[0mfollower_conn_prob\u001b[0m\u001b[1;33m,\u001b[0m\u001b[1;33m\u001b[0m\u001b[0m\n\u001b[0;32m    668\u001b[0m                                              \u001b[0mfollower_weights\u001b[0m\u001b[1;33m,\u001b[0m\u001b[1;33m\u001b[0m\u001b[0m\n\u001b[1;32m--> 669\u001b[1;33m                                              k)\n\u001b[0m\u001b[0;32m    670\u001b[0m         \u001b[1;32mdef\u001b[0m \u001b[0m_util_grad\u001b[0m\u001b[1;33m(\u001b[0m\u001b[0mx\u001b[0m\u001b[1;33m)\u001b[0m\u001b[1;33m:\u001b[0m\u001b[1;33m\u001b[0m\u001b[0m\n\u001b[0;32m    671\u001b[0m             return Bopt.utils.weighted_top_k_grad(x,\n",
      "\u001b[1;31mKeyboardInterrupt\u001b[0m: "
     ]
    }
   ],
   "source": [
    "%%time\n",
    "sim_opts = SimOpts.std_piecewise_const(world_seed=1 + 42, \n",
    "                                       world_rates=np.arange(10) * 1.0,\n",
    "                                       world_change_times=np.arange(10) * 10.0\n",
    "                                      ).update({ 'end_time': 100.0 })\n",
    "tmp_kdd = worker_kdd((1, 567.0, 9, sim_opts, None, None))\n",
    "tmp_poisson = worker_poisson((1, 567.0, sim_opts, None))\n",
    "# tmp_oracle = worker_oracle((1, 567.0, 956, sim_opts, None))\n",
    "tmp_opt = worker_opt((1, sim_opts, None))"
   ]
  },
  {
   "cell_type": "code",
   "execution_count": 22,
   "metadata": {
    "collapsed": true
   },
   "outputs": [
    {
     "data": {
      "text/plain": [
       "({'avg_rank': 71.168424997482049,\n",
       "  'avg_rank_1': 71.168424997482049,\n",
       "  'avg_rank_10': 203.34746746143995,\n",
       "  'avg_rank_20': 208.60555404195742,\n",
       "  'avg_rank_3': 88.882515078230256,\n",
       "  'avg_rank_5': 138.87975916174446,\n",
       "  'avg_rank_k': 1,\n",
       "  'kdd_opt_1': array([ 35.553,  33.872,  41.65 ,  58.911,  61.168,  76.685,  78.884,\n",
       "          84.785,  95.492]),\n",
       "  'kdd_opt_10': array([ 385.379,   22.145,   22.145,   22.147,   22.151,   22.296,\n",
       "           22.42 ,   22.99 ,   25.327]),\n",
       "  'kdd_opt_20': array([ 388.172,   22.353,   22.353,   22.353,   22.353,   22.353,\n",
       "           22.353,   22.353,   22.353]),\n",
       "  'kdd_opt_3': array([ 163.163,   16.859,   23.384,   39.962,   42.334,   60.521,\n",
       "           63.277,   71.067,   86.432]),\n",
       "  'kdd_opt_5': array([ 306.464,   10.498,   13.798,   24.602,   26.293,   39.132,\n",
       "           41.16 ,   46.851,   58.203]),\n",
       "  'kdd_opt_iters_1': 284,\n",
       "  'kdd_opt_iters_10': 26815,\n",
       "  'kdd_opt_iters_20': 27311,\n",
       "  'kdd_opt_iters_3': 3988,\n",
       "  'kdd_opt_iters_5': 15615,\n",
       "  'r_2': 201.78194930382151,\n",
       "  'r_2_1': 201.78194930382151,\n",
       "  'r_2_10': 1330.3693220039302,\n",
       "  'r_2_20': 1441.6335398706383,\n",
       "  'r_2_3': 245.34967949082721,\n",
       "  'r_2_5': 576.60030859138988,\n",
       "  'r_2_k': 1,\n",
       "  's': 1.0,\n",
       "  'seed': 1,\n",
       "  'sim_opts': <__main__.SimOpts at 0x7fe7755d07f0>,\n",
       "  'top_1': 62.335189719601985,\n",
       "  'top_10': 96.902015904165268,\n",
       "  'top_20': 99.748343217878954,\n",
       "  'top_3': 88.712696911894994,\n",
       "  'top_5': 91.90263489170313,\n",
       "  'type': 'kdd',\n",
       "  'world_events': 430},\n",
       " {'avg_rank': 82.235780221212281,\n",
       "  'r_2': 267.71218956210504,\n",
       "  's': 1.0,\n",
       "  'seed': 1,\n",
       "  'sim_opts': <__main__.SimOpts at 0x7fe7755d07f0>,\n",
       "  'top_1': 61.408857339715361,\n",
       "  'top_10': 99.98856251826551,\n",
       "  'top_20': 99.98856251826551,\n",
       "  'top_3': 90.149622475671947,\n",
       "  'top_5': 96.651918261482578,\n",
       "  'type': 'Poisson',\n",
       "  'world_events': 430})"
      ]
     },
     "execution_count": 22,
     "metadata": {},
     "output_type": "execute_result"
    }
   ],
   "source": [
    "tmp_kdd, tmp_poisson #, tmp_oracle, tmp_opt"
   ]
  },
  {
   "cell_type": "code",
   "execution_count": 56,
   "metadata": {
    "collapsed": false
   },
   "outputs": [
    {
     "name": "stdout",
     "output_type": "stream",
     "text": [
      "CPU times: user 747 ms, sys: 0 ns, total: 747 ms\n",
      "Wall time: 745 ms\n"
     ]
    }
   ],
   "source": [
    "%%time\n",
    "sim_opts= SimOpts.std_hawkes(world_seed=1 + 42, world_lambda_0=1000.0, world_alpha=1.0, world_beta=10.0)\n",
    "mgr = sim_opts.create_manager_for_wall()\n",
    "mgr.run()"
   ]
  },
  {
   "cell_type": "code",
   "execution_count": 46,
   "metadata": {
    "collapsed": false
   },
   "outputs": [
    {
     "name": "stdout",
     "output_type": "stream",
     "text": [
      "CPU times: user 5.59 s, sys: 0 ns, total: 5.59 s\n",
      "Wall time: 5.59 s\n"
     ]
    }
   ],
   "source": [
    "%%time\n",
    "sim_opts = SimOpts.std_hawkes(world_seed=1 + 42, world_lambda_0=1000.0, world_alpha=1.0, world_beta=10.0)\n",
    "worker_top_k_kdd((1, 3, 100.0, 10, sim_opts, None, None))"
   ]
  },
  {
   "cell_type": "code",
   "execution_count": 3,
   "metadata": {
    "collapsed": true
   },
   "outputs": [
    {
     "ename": "NameError",
     "evalue": "name 'seed' is not defined",
     "output_type": "error",
     "traceback": [
      "\u001b[1;31m---------------------------------------------------------------------------\u001b[0m",
      "\u001b[1;31mNameError\u001b[0m                                 Traceback (most recent call last)",
      "\u001b[1;32m/NL/stackexchange/work/prog/broadcast-online/opt_model.py\u001b[0m in \u001b[0;36m<module>\u001b[1;34m()\u001b[0m\n\u001b[1;32m----> 1\u001b[1;33m \u001b[0mget_ipython\u001b[0m\u001b[1;33m(\u001b[0m\u001b[1;33m)\u001b[0m\u001b[1;33m.\u001b[0m\u001b[0mrun_cell_magic\u001b[0m\u001b[1;33m(\u001b[0m\u001b[1;34m'time'\u001b[0m\u001b[1;33m,\u001b[0m \u001b[1;34m''\u001b[0m\u001b[1;33m,\u001b[0m \u001b[1;34m\"import itertools as I\\nsim_opts = SimOpts(other_sources=[Poisson2(src_id=2, seed=seed, rate=1000.0)], \\n                   end_time=100.0, \\n                   src_id=1,\\n                   q_vec=q_vec,\\n                   s=s,\\n                   sink_ids=[1001],\\n                   edge_list=[(1, 1001), (2, 1001)])\\n\\nnum_cpus = mp.cpu_count()\\nwith mp.Pool(num_cpus - 2) as pool:\\n    N = 10\\n    K = 10\\n    seeds = range(0, N)\\n    seed_capacity = [None] * N\\n    opt_top_k_perf = [None] * N\\n    for idx, opt_dict in enumerate(pool.map(worker_top_k_opt,\\n                                            [(s, K, SimOpts.std_poisson(world_seed=s, world_rate=1000.0), None)\\n                                            for s in seeds])):\\n        seed_capacity[idx] = opt_dict['capacity']\\n        opt_top_k_perf[idx] = opt_dict['perf']\\n    \\n    poisson_top_k_perf = [None] * N\\n    for idx, poisson_dict in enumerate(pool.map(worker_top_k_poisson,\\n                                                [(s, K, seed_capacity[idx], \\n                                                  SimOpts.std_poisson(world_seed=s, world_rate=1000.0), None)\\n                                                 for idx, s in enumerate(seeds)])):\\n        poisson_top_k_perf[idx] = poisson_dict['perf']\"\u001b[0m\u001b[1;33m)\u001b[0m\u001b[1;33m\u001b[0m\u001b[0m\n\u001b[0m",
      "\u001b[1;32m/home/utkarshu/miniconda3/envs/py35/lib/python3.5/site-packages/IPython/core/interactiveshell.py\u001b[0m in \u001b[0;36mrun_cell_magic\u001b[1;34m(self, magic_name, line, cell)\u001b[0m\n\u001b[0;32m   2118\u001b[0m             \u001b[0mmagic_arg_s\u001b[0m \u001b[1;33m=\u001b[0m \u001b[0mself\u001b[0m\u001b[1;33m.\u001b[0m\u001b[0mvar_expand\u001b[0m\u001b[1;33m(\u001b[0m\u001b[0mline\u001b[0m\u001b[1;33m,\u001b[0m \u001b[0mstack_depth\u001b[0m\u001b[1;33m)\u001b[0m\u001b[1;33m\u001b[0m\u001b[0m\n\u001b[0;32m   2119\u001b[0m             \u001b[1;32mwith\u001b[0m \u001b[0mself\u001b[0m\u001b[1;33m.\u001b[0m\u001b[0mbuiltin_trap\u001b[0m\u001b[1;33m:\u001b[0m\u001b[1;33m\u001b[0m\u001b[0m\n\u001b[1;32m-> 2120\u001b[1;33m                 \u001b[0mresult\u001b[0m \u001b[1;33m=\u001b[0m \u001b[0mfn\u001b[0m\u001b[1;33m(\u001b[0m\u001b[0mmagic_arg_s\u001b[0m\u001b[1;33m,\u001b[0m \u001b[0mcell\u001b[0m\u001b[1;33m)\u001b[0m\u001b[1;33m\u001b[0m\u001b[0m\n\u001b[0m\u001b[0;32m   2121\u001b[0m             \u001b[1;32mreturn\u001b[0m \u001b[0mresult\u001b[0m\u001b[1;33m\u001b[0m\u001b[0m\n\u001b[0;32m   2122\u001b[0m \u001b[1;33m\u001b[0m\u001b[0m\n",
      "\u001b[1;32m<decorator-gen-60>\u001b[0m in \u001b[0;36mtime\u001b[1;34m(self, line, cell, local_ns)\u001b[0m\n",
      "\u001b[1;32m/home/utkarshu/miniconda3/envs/py35/lib/python3.5/site-packages/IPython/core/magic.py\u001b[0m in \u001b[0;36m<lambda>\u001b[1;34m(f, *a, **k)\u001b[0m\n\u001b[0;32m    191\u001b[0m     \u001b[1;31m# but it's overkill for just that one bit of state.\u001b[0m\u001b[1;33m\u001b[0m\u001b[1;33m\u001b[0m\u001b[0m\n\u001b[0;32m    192\u001b[0m     \u001b[1;32mdef\u001b[0m \u001b[0mmagic_deco\u001b[0m\u001b[1;33m(\u001b[0m\u001b[0marg\u001b[0m\u001b[1;33m)\u001b[0m\u001b[1;33m:\u001b[0m\u001b[1;33m\u001b[0m\u001b[0m\n\u001b[1;32m--> 193\u001b[1;33m         \u001b[0mcall\u001b[0m \u001b[1;33m=\u001b[0m \u001b[1;32mlambda\u001b[0m \u001b[0mf\u001b[0m\u001b[1;33m,\u001b[0m \u001b[1;33m*\u001b[0m\u001b[0ma\u001b[0m\u001b[1;33m,\u001b[0m \u001b[1;33m**\u001b[0m\u001b[0mk\u001b[0m\u001b[1;33m:\u001b[0m \u001b[0mf\u001b[0m\u001b[1;33m(\u001b[0m\u001b[1;33m*\u001b[0m\u001b[0ma\u001b[0m\u001b[1;33m,\u001b[0m \u001b[1;33m**\u001b[0m\u001b[0mk\u001b[0m\u001b[1;33m)\u001b[0m\u001b[1;33m\u001b[0m\u001b[0m\n\u001b[0m\u001b[0;32m    194\u001b[0m \u001b[1;33m\u001b[0m\u001b[0m\n\u001b[0;32m    195\u001b[0m         \u001b[1;32mif\u001b[0m \u001b[0mcallable\u001b[0m\u001b[1;33m(\u001b[0m\u001b[0marg\u001b[0m\u001b[1;33m)\u001b[0m\u001b[1;33m:\u001b[0m\u001b[1;33m\u001b[0m\u001b[0m\n",
      "\u001b[1;32m/home/utkarshu/miniconda3/envs/py35/lib/python3.5/site-packages/IPython/core/magics/execution.py\u001b[0m in \u001b[0;36mtime\u001b[1;34m(self, line, cell, local_ns)\u001b[0m\n\u001b[0;32m   1175\u001b[0m         \u001b[1;32melse\u001b[0m\u001b[1;33m:\u001b[0m\u001b[1;33m\u001b[0m\u001b[0m\n\u001b[0;32m   1176\u001b[0m             \u001b[0mst\u001b[0m \u001b[1;33m=\u001b[0m \u001b[0mclock2\u001b[0m\u001b[1;33m(\u001b[0m\u001b[1;33m)\u001b[0m\u001b[1;33m\u001b[0m\u001b[0m\n\u001b[1;32m-> 1177\u001b[1;33m             \u001b[0mexec\u001b[0m\u001b[1;33m(\u001b[0m\u001b[0mcode\u001b[0m\u001b[1;33m,\u001b[0m \u001b[0mglob\u001b[0m\u001b[1;33m,\u001b[0m \u001b[0mlocal_ns\u001b[0m\u001b[1;33m)\u001b[0m\u001b[1;33m\u001b[0m\u001b[0m\n\u001b[0m\u001b[0;32m   1178\u001b[0m             \u001b[0mend\u001b[0m \u001b[1;33m=\u001b[0m \u001b[0mclock2\u001b[0m\u001b[1;33m(\u001b[0m\u001b[1;33m)\u001b[0m\u001b[1;33m\u001b[0m\u001b[0m\n\u001b[0;32m   1179\u001b[0m             \u001b[0mout\u001b[0m \u001b[1;33m=\u001b[0m \u001b[1;32mNone\u001b[0m\u001b[1;33m\u001b[0m\u001b[0m\n",
      "\u001b[1;32m/NL/stackexchange/work/prog/broadcast-online/opt_model.py\u001b[0m in \u001b[0;36m<module>\u001b[1;34m()\u001b[0m\n",
      "\u001b[1;31mNameError\u001b[0m: name 'seed' is not defined"
     ]
    }
   ],
   "source": [
    "%%time\n",
    "import itertools as I\n",
    "sim_opts = SimOpts(other_sources=[Poisson2(src_id=2, seed=seed, rate=1000.0)], \n",
    "                   end_time=100.0, \n",
    "                   src_id=1,\n",
    "                   q_vec=q_vec,\n",
    "                   s=s,\n",
    "                   sink_ids=[1001],\n",
    "                   edge_list=[(1, 1001), (2, 1001)])\n",
    "\n",
    "with mp.Pool() as pool:\n",
    "    N = 10\n",
    "    K = 10\n",
    "    seeds = range(0, N)\n",
    "    seed_capacity = [None] * N\n",
    "    opt_top_k_perf = [None] * N\n",
    "    for idx, opt_dict in enumerate(pool.map(worker_top_k_opt,\n",
    "                                            [(s, K, SimOpts.std_poisson(world_seed=s, world_rate=1000.0), None)\n",
    "                                            for s in seeds])):\n",
    "        seed_capacity[idx] = opt_dict['capacity']\n",
    "        opt_top_k_perf[idx] = opt_dict['perf']\n",
    "    \n",
    "    poisson_top_k_perf = [None] * N\n",
    "    for idx, poisson_dict in enumerate(pool.map(worker_top_k_poisson,\n",
    "                                                [(s, K, seed_capacity[idx], \n",
    "                                                  SimOpts.std_poisson(world_seed=s, world_rate=1000.0), None)\n",
    "                                                 for idx, s in enumerate(seeds)])):\n",
    "        poisson_top_k_perf[idx] = poisson_dict['perf']"
   ]
  },
  {
   "cell_type": "markdown",
   "metadata": {},
   "source": [
    "# Inference new"
   ]
  },
  {
   "cell_type": "code",
   "execution_count": 205,
   "metadata": {
    "collapsed": true
   },
   "outputs": [],
   "source": [
    "%run -i opt_model.py"
   ]
  },
  {
   "cell_type": "code",
   "execution_count": 206,
   "metadata": {
    "collapsed": true
   },
   "outputs": [],
   "source": [
    "%run -i utils.py"
   ]
  },
  {
   "cell_type": "code",
   "execution_count": 207,
   "metadata": {
    "collapsed": false
   },
   "outputs": [
    {
     "data": {
      "text/plain": [
       "[1, 5]"
      ]
     },
     "execution_count": 207,
     "metadata": {},
     "output_type": "execute_result"
    }
   ],
   "source": [
    "Ks"
   ]
  },
  {
   "cell_type": "code",
   "execution_count": 208,
   "metadata": {
    "collapsed": false
   },
   "outputs": [
    {
     "data": {
      "text/plain": [
       "{'N': 10,\n",
       " 'T': 100.0,\n",
       " 'log_s_high': 7.0,\n",
       " 'log_s_low': -4.0,\n",
       " 'num_segments': 10,\n",
       " 'sim_opts_gen': <function __main__.<lambda>>,\n",
       " 'world_alpha': 1.0,\n",
       " 'world_beta': 10.0,\n",
       " 'world_rate': 10.0}"
      ]
     },
     "execution_count": 208,
     "metadata": {},
     "output_type": "execute_result"
    }
   ],
   "source": [
    "poisson_inf_opts._get_dict()"
   ]
  },
  {
   "cell_type": "code",
   "execution_count": 288,
   "metadata": {
    "collapsed": true
   },
   "outputs": [],
   "source": [
    "%run -i utils.py"
   ]
  },
  {
   "cell_type": "code",
   "execution_count": 289,
   "metadata": {
    "collapsed": false
   },
   "outputs": [
    {
     "name": "stdout",
     "output_type": "stream",
     "text": [
      "*** \u001b[31m2016-05-19 19:16:55.153966\u001b[0m Checkpoint: active_procs = 90, procs = [('Opt', 0), ('kdd', 90)]\n",
      "*** \u001b[31m2016-05-19 19:16:56.116184\u001b[0m Checkpoint: active_procs = 80, procs = [('Opt', 0), ('kdd', 80)]\n",
      "*** \u001b[31m2016-05-19 19:16:56.920064\u001b[0m Checkpoint: active_procs = 70, procs = [('Opt', 0), ('kdd', 70)]\n",
      "*** \u001b[31m2016-05-19 19:16:57.276536\u001b[0m Checkpoint: active_procs = 60, procs = [('Opt', 0), ('kdd', 60)]\n",
      "*** \u001b[31m2016-05-19 19:16:57.724872\u001b[0m Checkpoint: active_procs = 50, procs = [('Opt', 0), ('kdd', 50)]\n",
      "*** \u001b[31m2016-05-19 19:16:58.610404\u001b[0m Checkpoint: active_procs = 40, procs = [('Opt', 0), ('kdd', 40)]\n",
      "*** \u001b[31m2016-05-19 19:16:59.920095\u001b[0m Checkpoint: active_procs = 30, procs = [('Opt', 0), ('kdd', 30)]\n",
      "*** \u001b[31m2016-05-19 19:17:11.170155\u001b[0m Checkpoint: active_procs = 20, procs = [('Opt', 0), ('kdd', 20)]\n",
      "*** \u001b[31m2016-05-19 19:17:25.740024\u001b[0m Checkpoint: active_procs = 10, procs = [('Opt', 0), ('kdd', 10)]\n",
      "*** \u001b[31m2016-05-19 19:17:27.053146\u001b[0m Checkpoint: active_procs = 0, procs = [('Opt', 0), ('kdd', 0)]\n",
      "Cleaning up 47 processes\n",
      "CPU times: user 120 ms, sys: 300 ms, total: 420 ms\n",
      "Wall time: 33.4 s\n"
     ]
    },
    {
     "name": "stderr",
     "output_type": "stream",
     "text": [
      "utils.py:693: VisibleDeprecationWarning: using a non-integer number instead of an integer will result in an error in the future\n",
      "  follower_weights)\n",
      "utils.py:693: VisibleDeprecationWarning: using a non-integer number instead of an integer will result in an error in the future\n",
      "  follower_weights)\n",
      "utils.py:693: VisibleDeprecationWarning: using a non-integer number instead of an integer will result in an error in the future\n",
      "  follower_weights)\n",
      "utils.py:693: VisibleDeprecationWarning: using a non-integer number instead of an integer will result in an error in the future\n",
      "  follower_weights)\n",
      "utils.py:693: VisibleDeprecationWarning: using a non-integer number instead of an integer will result in an error in the future\n",
      "  follower_weights)\n",
      "utils.py:693: VisibleDeprecationWarning: using a non-integer number instead of an integer will result in an error in the future\n",
      "  follower_weights)\n",
      "utils.py:693: VisibleDeprecationWarning: using a non-integer number instead of an integer will result in an error in the future\n",
      "  follower_weights)\n",
      "utils.py:693: VisibleDeprecationWarning: using a non-integer number instead of an integer will result in an error in the future\n",
      "  follower_weights)\n",
      "utils.py:693: VisibleDeprecationWarning: using a non-integer number instead of an integer will result in an error in the future\n",
      "  follower_weights)\n",
      "utils.py:693: VisibleDeprecationWarning: using a non-integer number instead of an integer will result in an error in the future\n",
      "  follower_weights)\n",
      "utils.py:693: VisibleDeprecationWarning: using a non-integer number instead of an integer will result in an error in the future\n",
      "  follower_weights)\n",
      "utils.py:693: VisibleDeprecationWarning: using a non-integer number instead of an integer will result in an error in the future\n",
      "  follower_weights)\n",
      "utils.py:693: VisibleDeprecationWarning: using a non-integer number instead of an integer will result in an error in the future\n",
      "  follower_weights)\n",
      "utils.py:693: VisibleDeprecationWarning: using a non-integer number instead of an integer will result in an error in the future\n",
      "  follower_weights)\n",
      "utils.py:693: VisibleDeprecationWarning: using a non-integer number instead of an integer will result in an error in the future\n",
      "  follower_weights)\n",
      "utils.py:693: VisibleDeprecationWarning: using a non-integer number instead of an integer will result in an error in the future\n",
      "  follower_weights)\n",
      "utils.py:693: VisibleDeprecationWarning: using a non-integer number instead of an integer will result in an error in the future\n",
      "  follower_weights)\n",
      "utils.py:693: VisibleDeprecationWarning: using a non-integer number instead of an integer will result in an error in the future\n",
      "  follower_weights)\n",
      "utils.py:693: VisibleDeprecationWarning: using a non-integer number instead of an integer will result in an error in the future\n",
      "  follower_weights)\n",
      "utils.py:693: VisibleDeprecationWarning: using a non-integer number instead of an integer will result in an error in the future\n",
      "  follower_weights)\n",
      "utils.py:693: VisibleDeprecationWarning: using a non-integer number instead of an integer will result in an error in the future\n",
      "  follower_weights)\n",
      "utils.py:693: VisibleDeprecationWarning: using a non-integer number instead of an integer will result in an error in the future\n",
      "  follower_weights)\n",
      "utils.py:693: VisibleDeprecationWarning: using a non-integer number instead of an integer will result in an error in the future\n",
      "  follower_weights)\n",
      "utils.py:693: VisibleDeprecationWarning: using a non-integer number instead of an integer will result in an error in the future\n",
      "  follower_weights)\n",
      "utils.py:693: VisibleDeprecationWarning: using a non-integer number instead of an integer will result in an error in the future\n",
      "  follower_weights)\n",
      "utils.py:693: VisibleDeprecationWarning: using a non-integer number instead of an integer will result in an error in the future\n",
      "  follower_weights)\n",
      "utils.py:693: VisibleDeprecationWarning: using a non-integer number instead of an integer will result in an error in the future\n",
      "  follower_weights)\n",
      "utils.py:693: VisibleDeprecationWarning: using a non-integer number instead of an integer will result in an error in the future\n",
      "  follower_weights)\n",
      "utils.py:693: VisibleDeprecationWarning: using a non-integer number instead of an integer will result in an error in the future\n",
      "  follower_weights)\n",
      "utils.py:693: VisibleDeprecationWarning: using a non-integer number instead of an integer will result in an error in the future\n",
      "  follower_weights)\n",
      "utils.py:693: VisibleDeprecationWarning: using a non-integer number instead of an integer will result in an error in the future\n",
      "  follower_weights)\n",
      "utils.py:693: VisibleDeprecationWarning: using a non-integer number instead of an integer will result in an error in the future\n",
      "  follower_weights)\n",
      "utils.py:693: VisibleDeprecationWarning: using a non-integer number instead of an integer will result in an error in the future\n",
      "  follower_weights)\n",
      "utils.py:693: VisibleDeprecationWarning: using a non-integer number instead of an integer will result in an error in the future\n",
      "  follower_weights)\n",
      "utils.py:693: VisibleDeprecationWarning: using a non-integer number instead of an integer will result in an error in the future\n",
      "  follower_weights)\n",
      "utils.py:693: VisibleDeprecationWarning: using a non-integer number instead of an integer will result in an error in the future\n",
      "  follower_weights)\n",
      "utils.py:693: VisibleDeprecationWarning: using a non-integer number instead of an integer will result in an error in the future\n",
      "  follower_weights)\n",
      "utils.py:693: VisibleDeprecationWarning: using a non-integer number instead of an integer will result in an error in the future\n",
      "  follower_weights)\n",
      "utils.py:693: VisibleDeprecationWarning: using a non-integer number instead of an integer will result in an error in the future\n",
      "  follower_weights)\n",
      "utils.py:693: VisibleDeprecationWarning: using a non-integer number instead of an integer will result in an error in the future\n",
      "  follower_weights)\n",
      "utils.py:693: VisibleDeprecationWarning: using a non-integer number instead of an integer will result in an error in the future\n",
      "  follower_weights)\n",
      "utils.py:693: VisibleDeprecationWarning: using a non-integer number instead of an integer will result in an error in the future\n",
      "  follower_weights)\n",
      "utils.py:693: VisibleDeprecationWarning: using a non-integer number instead of an integer will result in an error in the future\n",
      "  follower_weights)\n",
      "utils.py:693: VisibleDeprecationWarning: using a non-integer number instead of an integer will result in an error in the future\n",
      "  follower_weights)\n",
      "utils.py:693: VisibleDeprecationWarning: using a non-integer number instead of an integer will result in an error in the future\n",
      "  follower_weights)\n",
      "utils.py:693: VisibleDeprecationWarning: using a non-integer number instead of an integer will result in an error in the future\n",
      "  follower_weights)\n",
      "utils.py:693: VisibleDeprecationWarning: using a non-integer number instead of an integer will result in an error in the future\n",
      "  follower_weights)\n"
     ]
    }
   ],
   "source": [
    "%%time\n",
    "poisson_res_2_kdd = run_inference_queue_kdd(opts=poisson_inf_opts)"
   ]
  },
  {
   "cell_type": "code",
   "execution_count": 290,
   "metadata": {
    "collapsed": false
   },
   "outputs": [
    {
     "data": {
      "text/plain": [
       "(200, 9)"
      ]
     },
     "execution_count": 290,
     "metadata": {},
     "output_type": "execute_result"
    }
   ],
   "source": [
    "poisson_res_2_kdd.df"
   ]
  },
  {
   "cell_type": "code",
   "execution_count": 292,
   "metadata": {
    "collapsed": false
   },
   "outputs": [
    {
     "name": "stdout",
     "output_type": "stream",
     "text": [
      "*** \u001b[31m2016-05-19 19:19:26.627315\u001b[0m Checkpoint: active_procs = 90, procs = [('Opt', 0), ('kdd', 90)]\n",
      "*** \u001b[31m2016-05-19 19:19:27.400135\u001b[0m Checkpoint: active_procs = 80, procs = [('Opt', 0), ('kdd', 80)]\n",
      "*** \u001b[31m2016-05-19 19:19:29.398553\u001b[0m Checkpoint: active_procs = 70, procs = [('Opt', 0), ('kdd', 70)]\n",
      "*** \u001b[31m2016-05-19 19:19:30.396026\u001b[0m Checkpoint: active_procs = 60, procs = [('Opt', 0), ('kdd', 60)]\n",
      "*** \u001b[31m2016-05-19 19:19:32.376623\u001b[0m Checkpoint: active_procs = 50, procs = [('Opt', 0), ('kdd', 50)]\n",
      "*** \u001b[31m2016-05-19 19:19:34.918548\u001b[0m Checkpoint: active_procs = 40, procs = [('Opt', 0), ('kdd', 40)]\n",
      "*** \u001b[31m2016-05-19 19:19:36.621382\u001b[0m Checkpoint: active_procs = 30, procs = [('Opt', 0), ('kdd', 30)]\n",
      "*** \u001b[31m2016-05-19 19:19:42.234012\u001b[0m Checkpoint: active_procs = 20, procs = [('Opt', 0), ('kdd', 20)]\n",
      "*** \u001b[31m2016-05-19 19:19:54.915135\u001b[0m Checkpoint: active_procs = 10, procs = [('Opt', 0), ('kdd', 10)]\n",
      "*** \u001b[31m2016-05-19 19:19:56.862946\u001b[0m Checkpoint: active_procs = 0, procs = [('Opt', 0), ('kdd', 0)]\n",
      "Cleaning up 47 processes\n",
      "CPU times: user 93.3 ms, sys: 317 ms, total: 410 ms\n",
      "Wall time: 37.3 s\n"
     ]
    },
    {
     "name": "stderr",
     "output_type": "stream",
     "text": [
      "utils.py:693: VisibleDeprecationWarning: using a non-integer number instead of an integer will result in an error in the future\n",
      "  follower_weights)\n",
      "utils.py:693: VisibleDeprecationWarning: using a non-integer number instead of an integer will result in an error in the future\n",
      "  follower_weights)\n",
      "utils.py:693: VisibleDeprecationWarning: using a non-integer number instead of an integer will result in an error in the future\n",
      "  follower_weights)\n",
      "utils.py:693: VisibleDeprecationWarning: using a non-integer number instead of an integer will result in an error in the future\n",
      "  follower_weights)\n",
      "utils.py:693: VisibleDeprecationWarning: using a non-integer number instead of an integer will result in an error in the future\n",
      "  follower_weights)\n",
      "utils.py:693: VisibleDeprecationWarning: using a non-integer number instead of an integer will result in an error in the future\n",
      "  follower_weights)\n",
      "utils.py:693: VisibleDeprecationWarning: using a non-integer number instead of an integer will result in an error in the future\n",
      "  follower_weights)\n",
      "utils.py:693: VisibleDeprecationWarning: using a non-integer number instead of an integer will result in an error in the future\n",
      "  follower_weights)\n",
      "utils.py:693: VisibleDeprecationWarning: using a non-integer number instead of an integer will result in an error in the future\n",
      "  follower_weights)\n",
      "utils.py:693: VisibleDeprecationWarning: using a non-integer number instead of an integer will result in an error in the future\n",
      "  follower_weights)\n",
      "utils.py:693: VisibleDeprecationWarning: using a non-integer number instead of an integer will result in an error in the future\n",
      "  follower_weights)\n",
      "utils.py:693: VisibleDeprecationWarning: using a non-integer number instead of an integer will result in an error in the future\n",
      "  follower_weights)\n",
      "utils.py:693: VisibleDeprecationWarning: using a non-integer number instead of an integer will result in an error in the future\n",
      "  follower_weights)\n",
      "utils.py:693: VisibleDeprecationWarning: using a non-integer number instead of an integer will result in an error in the future\n",
      "  follower_weights)\n",
      "utils.py:693: VisibleDeprecationWarning: using a non-integer number instead of an integer will result in an error in the future\n",
      "  follower_weights)\n",
      "utils.py:693: VisibleDeprecationWarning: using a non-integer number instead of an integer will result in an error in the future\n",
      "  follower_weights)\n",
      "utils.py:693: VisibleDeprecationWarning: using a non-integer number instead of an integer will result in an error in the future\n",
      "  follower_weights)\n",
      "utils.py:693: VisibleDeprecationWarning: using a non-integer number instead of an integer will result in an error in the future\n",
      "  follower_weights)\n",
      "utils.py:693: VisibleDeprecationWarning: using a non-integer number instead of an integer will result in an error in the future\n",
      "  follower_weights)\n",
      "utils.py:693: VisibleDeprecationWarning: using a non-integer number instead of an integer will result in an error in the future\n",
      "  follower_weights)\n",
      "utils.py:693: VisibleDeprecationWarning: using a non-integer number instead of an integer will result in an error in the future\n",
      "  follower_weights)\n",
      "utils.py:693: VisibleDeprecationWarning: using a non-integer number instead of an integer will result in an error in the future\n",
      "  follower_weights)\n",
      "utils.py:693: VisibleDeprecationWarning: using a non-integer number instead of an integer will result in an error in the future\n",
      "  follower_weights)\n",
      "utils.py:693: VisibleDeprecationWarning: using a non-integer number instead of an integer will result in an error in the future\n",
      "  follower_weights)\n",
      "utils.py:693: VisibleDeprecationWarning: using a non-integer number instead of an integer will result in an error in the future\n",
      "  follower_weights)\n",
      "utils.py:693: VisibleDeprecationWarning: using a non-integer number instead of an integer will result in an error in the future\n",
      "  follower_weights)\n",
      "utils.py:693: VisibleDeprecationWarning: using a non-integer number instead of an integer will result in an error in the future\n",
      "  follower_weights)\n",
      "utils.py:693: VisibleDeprecationWarning: using a non-integer number instead of an integer will result in an error in the future\n",
      "  follower_weights)\n",
      "utils.py:693: VisibleDeprecationWarning: using a non-integer number instead of an integer will result in an error in the future\n",
      "  follower_weights)\n",
      "utils.py:693: VisibleDeprecationWarning: using a non-integer number instead of an integer will result in an error in the future\n",
      "  follower_weights)\n",
      "utils.py:693: VisibleDeprecationWarning: using a non-integer number instead of an integer will result in an error in the future\n",
      "  follower_weights)\n",
      "utils.py:693: VisibleDeprecationWarning: using a non-integer number instead of an integer will result in an error in the future\n",
      "  follower_weights)\n",
      "utils.py:693: VisibleDeprecationWarning: using a non-integer number instead of an integer will result in an error in the future\n",
      "  follower_weights)\n",
      "utils.py:693: VisibleDeprecationWarning: using a non-integer number instead of an integer will result in an error in the future\n",
      "  follower_weights)\n",
      "utils.py:693: VisibleDeprecationWarning: using a non-integer number instead of an integer will result in an error in the future\n",
      "  follower_weights)\n",
      "utils.py:693: VisibleDeprecationWarning: using a non-integer number instead of an integer will result in an error in the future\n",
      "  follower_weights)\n",
      "utils.py:693: VisibleDeprecationWarning: using a non-integer number instead of an integer will result in an error in the future\n",
      "  follower_weights)\n",
      "utils.py:693: VisibleDeprecationWarning: using a non-integer number instead of an integer will result in an error in the future\n",
      "  follower_weights)\n",
      "utils.py:693: VisibleDeprecationWarning: using a non-integer number instead of an integer will result in an error in the future\n",
      "  follower_weights)\n",
      "utils.py:693: VisibleDeprecationWarning: using a non-integer number instead of an integer will result in an error in the future\n",
      "  follower_weights)\n",
      "utils.py:693: VisibleDeprecationWarning: using a non-integer number instead of an integer will result in an error in the future\n",
      "  follower_weights)\n",
      "utils.py:693: VisibleDeprecationWarning: using a non-integer number instead of an integer will result in an error in the future\n",
      "  follower_weights)\n",
      "utils.py:693: VisibleDeprecationWarning: using a non-integer number instead of an integer will result in an error in the future\n",
      "  follower_weights)\n",
      "utils.py:693: VisibleDeprecationWarning: using a non-integer number instead of an integer will result in an error in the future\n",
      "  follower_weights)\n",
      "utils.py:693: VisibleDeprecationWarning: using a non-integer number instead of an integer will result in an error in the future\n",
      "  follower_weights)\n",
      "utils.py:693: VisibleDeprecationWarning: using a non-integer number instead of an integer will result in an error in the future\n",
      "  follower_weights)\n",
      "utils.py:693: VisibleDeprecationWarning: using a non-integer number instead of an integer will result in an error in the future\n",
      "  follower_weights)\n"
     ]
    }
   ],
   "source": [
    "%%time\n",
    "hawkes_res_2_kdd = run_inference_queue_kdd(opts=hawkes_inf_opts)"
   ]
  },
  {
   "cell_type": "code",
   "execution_count": 293,
   "metadata": {
    "collapsed": true
   },
   "outputs": [],
   "source": [
    "poisson_res_2_old = poisson_res_2"
   ]
  },
  {
   "cell_type": "code",
   "execution_count": 306,
   "metadata": {
    "collapsed": true
   },
   "outputs": [],
   "source": [
    "poisson_res_2 = poisson_res_2_old"
   ]
  },
  {
   "cell_type": "code",
   "execution_count": 307,
   "metadata": {
    "collapsed": false
   },
   "outputs": [],
   "source": [
    "poisson_res_2 = poisson_res_2.set('df', pd.concat([poisson_res_2.df, poisson_res_2_kdd.df[poisson_res_2_kdd.df.type == 'kdd']]))"
   ]
  },
  {
   "cell_type": "code",
   "execution_count": 301,
   "metadata": {
    "collapsed": true
   },
   "outputs": [],
   "source": [
    "hawkes_res_2_old = hawkes_res_2"
   ]
  },
  {
   "cell_type": "code",
   "execution_count": 311,
   "metadata": {
    "collapsed": true
   },
   "outputs": [],
   "source": [
    "hawkes_res_2 = hawkes_res_2_old"
   ]
  },
  {
   "cell_type": "code",
   "execution_count": 312,
   "metadata": {
    "collapsed": false
   },
   "outputs": [],
   "source": [
    "hawkes_res_2 = hawkes_res_2.set('df', pd.concat([hawkes_res_2.df, hawkes_res_2_kdd.df[hawkes_res_2_kdd.df.type == 'kdd']]))"
   ]
  },
  {
   "cell_type": "code",
   "execution_count": 314,
   "metadata": {
    "collapsed": false
   },
   "outputs": [
    {
     "data": {
      "text/plain": [
       "(400, 9)"
      ]
     },
     "execution_count": 314,
     "metadata": {},
     "output_type": "execute_result"
    }
   ],
   "source": [
    "hawkes_res_2.df.shape"
   ]
  },
  {
   "cell_type": "code",
   "execution_count": null,
   "metadata": {
    "collapsed": false
   },
   "outputs": [
    {
     "name": "stdout",
     "output_type": "stream",
     "text": [
      "*** \u001b[31m2016-05-19 00:13:10.395255\u001b[0m Checkpoint: active_procs = 100, procs = [('Opt', 98), ('Oracle', 1), ('Poisson', 1)]\n",
      "*** \u001b[31m2016-05-19 00:13:10.459243\u001b[0m Checkpoint: active_procs = 110, procs = [('Opt', 88), ('Oracle', 11), ('Poisson', 11)]\n",
      "*** \u001b[31m2016-05-19 00:13:10.470540\u001b[0m Checkpoint: active_procs = 120, procs = [('Opt', 78), ('Oracle', 21), ('Poisson', 21)]\n",
      "*** \u001b[31m2016-05-19 00:13:10.491588\u001b[0m Checkpoint: active_procs = 130, procs = [('Opt', 68), ('Oracle', 31), ('Poisson', 31)]\n",
      "*** \u001b[31m2016-05-19 00:13:10.500869\u001b[0m Checkpoint: active_procs = 140, procs = [('Opt', 58), ('Oracle', 41), ('Poisson', 41)]\n",
      "*** \u001b[31m2016-05-19 00:13:10.539984\u001b[0m Checkpoint: active_procs = 150, procs = [('Opt', 48), ('Oracle', 51), ('Poisson', 51)]\n",
      "*** \u001b[31m2016-05-19 00:13:10.578868\u001b[0m Checkpoint: active_procs = 160, procs = [('Opt', 38), ('Oracle', 61), ('Poisson', 61)]\n",
      "*** \u001b[31m2016-05-19 00:13:10.645803\u001b[0m Checkpoint: active_procs = 170, procs = [('Opt', 28), ('Oracle', 71), ('Poisson', 71)]\n",
      "*** \u001b[31m2016-05-19 00:13:10.734330\u001b[0m Checkpoint: active_procs = 180, procs = [('Opt', 18), ('Oracle', 81), ('Poisson', 81)]\n",
      "*** \u001b[31m2016-05-19 00:13:10.847870\u001b[0m Checkpoint: active_procs = 190, procs = [('Opt', 8), ('Oracle', 92), ('Poisson', 90)]\n",
      "*** \u001b[31m2016-05-19 00:13:10.986929\u001b[0m Checkpoint: active_procs = 180, procs = [('Opt', 2), ('Oracle', 97), ('Poisson', 81)]\n",
      "*** \u001b[31m2016-05-19 00:13:11.007326\u001b[0m Checkpoint: active_procs = 180, procs = [('Opt', 1), ('Oracle', 98), ('Poisson', 81)]\n",
      "*** \u001b[31m2016-05-19 00:13:11.022815\u001b[0m Checkpoint: active_procs = 180, procs = [('Opt', 1), ('Oracle', 99), ('Poisson', 80)]\n",
      "*** \u001b[31m2016-05-19 00:13:11.134895\u001b[0m Checkpoint: active_procs = 170, procs = [('Opt', 0), ('Oracle', 100), ('Poisson', 70)]\n",
      "*** \u001b[31m2016-05-19 00:13:11.227210\u001b[0m Checkpoint: active_procs = 160, procs = [('Opt', 0), ('Oracle', 100), ('Poisson', 60)]\n",
      "*** \u001b[31m2016-05-19 00:13:31.413816\u001b[0m Checkpoint: active_procs = 150, procs = [('Opt', 0), ('Oracle', 98), ('Poisson', 52)]\n",
      "*** \u001b[31m2016-05-19 00:13:37.049494\u001b[0m Checkpoint: active_procs = 140, procs = [('Opt', 0), ('Oracle', 93), ('Poisson', 47)]\n",
      "*** \u001b[31m2016-05-19 00:13:40.374742\u001b[0m Checkpoint: active_procs = 130, procs = [('Opt', 0), ('Oracle', 88), ('Poisson', 42)]\n",
      "*** \u001b[31m2016-05-19 00:13:49.462128\u001b[0m Checkpoint: active_procs = 120, procs = [('Opt', 0), ('Oracle', 83), ('Poisson', 37)]\n",
      "*** \u001b[31m2016-05-19 00:13:52.102496\u001b[0m Checkpoint: active_procs = 110, procs = [('Opt', 0), ('Oracle', 78), ('Poisson', 32)]\n",
      "*** \u001b[31m2016-05-19 00:13:53.687851\u001b[0m Checkpoint: active_procs = 100, procs = [('Opt', 0), ('Oracle', 73), ('Poisson', 27)]\n",
      "*** \u001b[31m2016-05-19 00:13:56.346094\u001b[0m Checkpoint: active_procs = 90, procs = [('Opt', 0), ('Oracle', 68), ('Poisson', 22)]\n",
      "*** \u001b[31m2016-05-19 00:13:58.393248\u001b[0m Checkpoint: active_procs = 80, procs = [('Opt', 0), ('Oracle', 63), ('Poisson', 17)]\n",
      "*** \u001b[31m2016-05-19 00:14:03.833218\u001b[0m Checkpoint: active_procs = 70, procs = [('Opt', 0), ('Oracle', 58), ('Poisson', 12)]\n",
      "*** \u001b[31m2016-05-19 00:14:10.465362\u001b[0m Checkpoint: active_procs = 60, procs = [('Opt', 0), ('Oracle', 53), ('Poisson', 7)]\n",
      "*** \u001b[31m2016-05-19 00:14:38.377597\u001b[0m Checkpoint: active_procs = 50, procs = [('Opt', 0), ('Oracle', 48), ('Poisson', 2)]\n",
      "*** \u001b[31m2016-05-19 00:14:57.047432\u001b[0m Checkpoint: active_procs = 40, procs = [('Opt', 0), ('Oracle', 40), ('Poisson', 0)]\n",
      "*** \u001b[31m2016-05-19 00:15:16.674516\u001b[0m Checkpoint: active_procs = 30, procs = [('Opt', 0), ('Oracle', 30), ('Poisson', 0)]\n",
      "*** \u001b[31m2016-05-19 00:15:31.012625\u001b[0m Checkpoint: active_procs = 20, procs = [('Opt', 0), ('Oracle', 20), ('Poisson', 0)]\n",
      "*** \u001b[31m2016-05-19 00:15:48.788935\u001b[0m Checkpoint: active_procs = 10, procs = [('Opt', 0), ('Oracle', 10), ('Poisson', 0)]\n"
     ]
    }
   ],
   "source": [
    "%%time\n",
    "poisson_res_2 = run_inference_queue(opts=poisson_inf_opts)"
   ]
  },
  {
   "cell_type": "code",
   "execution_count": null,
   "metadata": {
    "collapsed": false
   },
   "outputs": [],
   "source": [
    "perf_opts.Ks"
   ]
  },
  {
   "cell_type": "code",
   "execution_count": null,
   "metadata": {
    "collapsed": false
   },
   "outputs": [],
   "source": [
    "poisson_res_2.raw_results[0]"
   ]
  },
  {
   "cell_type": "code",
   "execution_count": null,
   "metadata": {
    "collapsed": false
   },
   "outputs": [],
   "source": [
    "%%time\n",
    "hawkes_res_2 = run_inference_queue(opts=hawkes_inf_opts)"
   ]
  },
  {
   "cell_type": "code",
   "execution_count": null,
   "metadata": {
    "collapsed": false
   },
   "outputs": [],
   "source": [
    "%run -i utils.py\n",
    "%run -i opt_model.py"
   ]
  },
  {
   "cell_type": "code",
   "execution_count": null,
   "metadata": {
    "collapsed": false
   },
   "outputs": [],
   "source": [
    "%%time\n",
    "piecewise_res_2 = run_inference_queue(opts=piecewise_inf_opts)"
   ]
  },
  {
   "cell_type": "code",
   "execution_count": null,
   "metadata": {
    "collapsed": false
   },
   "outputs": [],
   "source": [
    "worker_kdd((9, (opt_mgr.state.get_dataframe().src_id == sim_opts.src_id).sum() * 1.0, 10, sim_opts, None, None))"
   ]
  },
  {
   "cell_type": "markdown",
   "metadata": {},
   "source": [
    "# Inference old method"
   ]
  },
  {
   "cell_type": "code",
   "execution_count": null,
   "metadata": {
    "collapsed": false
   },
   "outputs": [],
   "source": [
    "%%time\n",
    "poisson_res = run_inference(opts=poisson_inf_opts)"
   ]
  },
  {
   "cell_type": "code",
   "execution_count": null,
   "metadata": {
    "collapsed": false
   },
   "outputs": [],
   "source": [
    "%%time\n",
    "hawkes_res = run_inference(opts=hawkes_inf_opts)"
   ]
  },
  {
   "cell_type": "code",
   "execution_count": null,
   "metadata": {
    "collapsed": false
   },
   "outputs": [],
   "source": [
    "%%time\n",
    "piecewise_res = run_inference(opts=piecewise_inf_opts)"
   ]
  },
  {
   "cell_type": "code",
   "execution_count": 42,
   "metadata": {
    "collapsed": true
   },
   "outputs": [],
   "source": [
    "import pickle\n",
    "import seqfile"
   ]
  },
  {
   "cell_type": "code",
   "execution_count": 217,
   "metadata": {
    "collapsed": true
   },
   "outputs": [],
   "source": [
    "def strip_sim_opts_from_raw_results(d):\n",
    "    def rm_sim_opts(d_in):\n",
    "        return {k: v for k, v in d_in.items() if k != 'sim_opts'}\n",
    "    \n",
    "    return {k: (v if k != 'raw_results' else [rm_sim_opts(x) for x in v]) \n",
    "            for k, v in poisson_res._get_dict().items()}\n",
    "    "
   ]
  },
  {
   "cell_type": "code",
   "execution_count": 60,
   "metadata": {
    "collapsed": true
   },
   "outputs": [],
   "source": [
    "tmp = strip_sim_opts_from_raw_results(poisson_res._get_dict())"
   ]
  },
  {
   "cell_type": "code",
   "execution_count": 61,
   "metadata": {
    "collapsed": false
   },
   "outputs": [
    {
     "data": {
      "text/plain": [
       "dict_keys(['capacities', 'raw_results', 'df'])"
      ]
     },
     "execution_count": 61,
     "metadata": {},
     "output_type": "execute_result"
    }
   ],
   "source": [
    "tmp.keys()"
   ]
  },
  {
   "cell_type": "code",
   "execution_count": 62,
   "metadata": {
    "collapsed": false
   },
   "outputs": [
    {
     "data": {
      "text/plain": [
       "dict_keys(['world_events', 'capacity', 'seed', 'r_2', 'top_3', 'avg_rank', 'type', 's', 'num_events', 'top_5', 'top_1', 'top_20', 'top_10'])"
      ]
     },
     "execution_count": 62,
     "metadata": {},
     "output_type": "execute_result"
    }
   ],
   "source": [
    "tmp['raw_results'][1].keys()"
   ]
  },
  {
   "cell_type": "code",
   "execution_count": 218,
   "metadata": {
    "collapsed": false
   },
   "outputs": [
    {
     "name": "stdout",
     "output_type": "stream",
     "text": [
      "Wrote ./synthetic-5.pickle\n"
     ]
    }
   ],
   "source": [
    "import seqfile\n",
    "with open(seqfile.findNextFile(prefix='synthetic-', suffix='.pickle'), 'wb') as pickle_file:\n",
    "    pickle.dump({'poisson': strip_sim_opts_from_raw_results(poisson_res._get_dict()), \n",
    "                 'hawkes': strip_sim_opts_from_raw_results(hawkes_res._get_dict()), \n",
    "                 'piecewise': strip_sim_opts_from_raw_results(piecewise_res._get_dict())}, pickle_file)\n",
    "    print('Wrote {}'.format(pickle_file.name))"
   ]
  },
  {
   "cell_type": "code",
   "execution_count": 219,
   "metadata": {
    "collapsed": false
   },
   "outputs": [
    {
     "name": "stdout",
     "output_type": "stream",
     "text": [
      "Wrote ./synthetic-6.pickle\n"
     ]
    }
   ],
   "source": [
    "with open(seqfile.findNextFile(prefix='synthetic-', suffix='.pickle'), 'wb') as pickle_file:\n",
    "    pickle.dump({'poisson': strip_sim_opts_from_raw_results(poisson_res._get_dict()), \n",
    "                 'hawkes': strip_sim_opts_from_raw_results(hawkes_res._get_dict()), \n",
    "                 'piecewise': strip_sim_opts_from_raw_results(piecewise_res._get_dict())}, pickle_file)\n",
    "    print('Wrote {}'.format(pickle_file.name))"
   ]
  },
  {
   "cell_type": "code",
   "execution_count": 65,
   "metadata": {
    "collapsed": false
   },
   "outputs": [
    {
     "name": "stdout",
     "output_type": "stream",
     "text": [
      "Some variables are already defined. Are you sure you want to clobber them? [Y/n]n\n",
      "Cloberring averted.\n"
     ]
    }
   ],
   "source": [
    "defined = False\n",
    "try:\n",
    "    poisson_res, hawkes_res, piecewise_res\n",
    "    defined = True\n",
    "except NameError:\n",
    "    pass\n",
    "\n",
    "if defined:\n",
    "     confirmation = input('Some variables are already defined. Are you sure you want to clobber them? [Y/n]')\n",
    "    \n",
    "if confirmation.lower().startswith('y'):\n",
    "    with open('synthetic-wrong.pickle', 'rb') as pickle_file:\n",
    "        reloaded = pickle.load(pickle_file)\n",
    "\n",
    "    poisson_res = Options(**reloaded['poisson'])\n",
    "    hawkes_res = Options(**reloaded['hawkes'])\n",
    "    piecewise_res = Options(**reloaded['piecewise'])\n",
    "else:\n",
    "    print('Cloberring averted.')"
   ]
  },
  {
   "cell_type": "code",
   "execution_count": 66,
   "metadata": {
    "collapsed": false
   },
   "outputs": [
    {
     "data": {
      "text/plain": [
       "0.0"
      ]
     },
     "execution_count": 66,
     "metadata": {},
     "output_type": "execute_result"
    }
   ],
   "source": [
    "tmp = [x for x in poisson_res.raw_results if x['type'] == 'Opt']\n",
    "tmp2 = pd.DataFrame.from_records(tmp)\n",
    "np.sum(tmp2.capacity < tmp2.num_events) / tmp2.shape[0]"
   ]
  },
  {
   "cell_type": "code",
   "execution_count": 134,
   "metadata": {
    "collapsed": false
   },
   "outputs": [
    {
     "data": {
      "text/plain": [
       "(31781.458986215268, 31989)"
      ]
     },
     "execution_count": 134,
     "metadata": {},
     "output_type": "execute_result"
    }
   ],
   "source": [
    "np.sum(tmp2.capacity), np.sum(tmp2.num_events)"
   ]
  },
  {
   "cell_type": "code",
   "execution_count": 45,
   "metadata": {
    "collapsed": true
   },
   "outputs": [
    {
     "data": {
      "text/html": [
       "<div>\n",
       "<table border=\"1\" class=\"dataframe\">\n",
       "  <thead>\n",
       "    <tr style=\"text-align: right;\">\n",
       "      <th></th>\n",
       "      <th>capacity</th>\n",
       "      <th>num_events</th>\n",
       "      <th>perf</th>\n",
       "      <th>seed</th>\n",
       "      <th>sim_opts</th>\n",
       "      <th>type</th>\n",
       "    </tr>\n",
       "  </thead>\n",
       "  <tbody>\n",
       "    <tr>\n",
       "      <th>250</th>\n",
       "      <td>11.386027</td>\n",
       "      <td>15</td>\n",
       "      <td>0.057064</td>\n",
       "      <td>3</td>\n",
       "      <td>&lt;__main__.SimOpts object at 0x7fdd4ed00c18&gt;</td>\n",
       "      <td>Opt</td>\n",
       "    </tr>\n",
       "    <tr>\n",
       "      <th>156</th>\n",
       "      <td>12.239445</td>\n",
       "      <td>16</td>\n",
       "      <td>0.046731</td>\n",
       "      <td>7</td>\n",
       "      <td>&lt;__main__.SimOpts object at 0x7fdd53b8dda0&gt;</td>\n",
       "      <td>Opt</td>\n",
       "    </tr>\n",
       "    <tr>\n",
       "      <th>151</th>\n",
       "      <td>12.555923</td>\n",
       "      <td>15</td>\n",
       "      <td>0.039193</td>\n",
       "      <td>3</td>\n",
       "      <td>&lt;__main__.SimOpts object at 0x7fdd53b714e0&gt;</td>\n",
       "      <td>Opt</td>\n",
       "    </tr>\n",
       "    <tr>\n",
       "      <th>254</th>\n",
       "      <td>12.558445</td>\n",
       "      <td>16</td>\n",
       "      <td>0.057302</td>\n",
       "      <td>7</td>\n",
       "      <td>&lt;__main__.SimOpts object at 0x7fdd4ed24ba8&gt;</td>\n",
       "      <td>Opt</td>\n",
       "    </tr>\n",
       "    <tr>\n",
       "      <th>248</th>\n",
       "      <td>12.975326</td>\n",
       "      <td>16</td>\n",
       "      <td>0.040138</td>\n",
       "      <td>1</td>\n",
       "      <td>&lt;__main__.SimOpts object at 0x7fdd4ed00518&gt;</td>\n",
       "      <td>Opt</td>\n",
       "    </tr>\n",
       "    <tr>\n",
       "      <th>257</th>\n",
       "      <td>13.013955</td>\n",
       "      <td>16</td>\n",
       "      <td>0.047825</td>\n",
       "      <td>8</td>\n",
       "      <td>&lt;__main__.SimOpts object at 0x7fdd4ecc9668&gt;</td>\n",
       "      <td>Opt</td>\n",
       "    </tr>\n",
       "    <tr>\n",
       "      <th>29</th>\n",
       "      <td>13.038352</td>\n",
       "      <td>15</td>\n",
       "      <td>0.054903</td>\n",
       "      <td>2</td>\n",
       "      <td>&lt;__main__.SimOpts object at 0x7fdd56288358&gt;</td>\n",
       "      <td>Opt</td>\n",
       "    </tr>\n",
       "    <tr>\n",
       "      <th>57</th>\n",
       "      <td>13.038352</td>\n",
       "      <td>15</td>\n",
       "      <td>0.054903</td>\n",
       "      <td>2</td>\n",
       "      <td>&lt;__main__.SimOpts object at 0x7fdd540e2630&gt;</td>\n",
       "      <td>Opt</td>\n",
       "    </tr>\n",
       "    <tr>\n",
       "      <th>150</th>\n",
       "      <td>13.038352</td>\n",
       "      <td>15</td>\n",
       "      <td>0.054903</td>\n",
       "      <td>2</td>\n",
       "      <td>&lt;__main__.SimOpts object at 0x7fdd53bccda0&gt;</td>\n",
       "      <td>Opt</td>\n",
       "    </tr>\n",
       "    <tr>\n",
       "      <th>158</th>\n",
       "      <td>13.122530</td>\n",
       "      <td>17</td>\n",
       "      <td>0.052711</td>\n",
       "      <td>8</td>\n",
       "      <td>&lt;__main__.SimOpts object at 0x7fdd53b2b828&gt;</td>\n",
       "      <td>Opt</td>\n",
       "    </tr>\n",
       "  </tbody>\n",
       "</table>\n",
       "</div>"
      ],
      "text/plain": [
       "      capacity  num_events      perf  seed  \\\n",
       "250  11.386027          15  0.057064     3   \n",
       "156  12.239445          16  0.046731     7   \n",
       "151  12.555923          15  0.039193     3   \n",
       "254  12.558445          16  0.057302     7   \n",
       "248  12.975326          16  0.040138     1   \n",
       "257  13.013955          16  0.047825     8   \n",
       "29   13.038352          15  0.054903     2   \n",
       "57   13.038352          15  0.054903     2   \n",
       "150  13.038352          15  0.054903     2   \n",
       "158  13.122530          17  0.052711     8   \n",
       "\n",
       "                                        sim_opts type  \n",
       "250  <__main__.SimOpts object at 0x7fdd4ed00c18>  Opt  \n",
       "156  <__main__.SimOpts object at 0x7fdd53b8dda0>  Opt  \n",
       "151  <__main__.SimOpts object at 0x7fdd53b714e0>  Opt  \n",
       "254  <__main__.SimOpts object at 0x7fdd4ed24ba8>  Opt  \n",
       "248  <__main__.SimOpts object at 0x7fdd4ed00518>  Opt  \n",
       "257  <__main__.SimOpts object at 0x7fdd4ecc9668>  Opt  \n",
       "29   <__main__.SimOpts object at 0x7fdd56288358>  Opt  \n",
       "57   <__main__.SimOpts object at 0x7fdd540e2630>  Opt  \n",
       "150  <__main__.SimOpts object at 0x7fdd53bccda0>  Opt  \n",
       "158  <__main__.SimOpts object at 0x7fdd53b2b828>  Opt  "
      ]
     },
     "execution_count": 45,
     "metadata": {},
     "output_type": "execute_result"
    }
   ],
   "source": [
    "tmp2.sort_values('capacity').head(10)"
   ]
  },
  {
   "cell_type": "code",
   "execution_count": 88,
   "metadata": {
    "collapsed": false
   },
   "outputs": [],
   "source": [
    "tmp = poisson_res.df.pivot_table(index='s', columns='type', values='top_1', aggfunc=np.mean)"
   ]
  },
  {
   "cell_type": "code",
   "execution_count": 96,
   "metadata": {
    "collapsed": false
   },
   "outputs": [],
   "source": [
    "tmp = hawkes_res.df.pivot_table(index='s', columns='type', values='top_1', aggfunc=np.mean)"
   ]
  },
  {
   "cell_type": "code",
   "execution_count": 100,
   "metadata": {
    "collapsed": false
   },
   "outputs": [],
   "source": [
    "tmp = piecewise_res.df.pivot_table(index='s', columns='type', values='top_1', aggfunc=np.mean)"
   ]
  },
  {
   "cell_type": "code",
   "execution_count": 101,
   "metadata": {
    "collapsed": true
   },
   "outputs": [],
   "source": [
    "tmp['capacities'] = [np.mean([y for x, y in piecewise_res.capacities[s]]) for s in tmp.index]"
   ]
  },
  {
   "cell_type": "code",
   "execution_count": 102,
   "metadata": {
    "collapsed": false
   },
   "outputs": [],
   "source": [
    "tmp['Opt/Oracle'] = tmp['Opt'] / tmp['Oracle']"
   ]
  },
  {
   "cell_type": "code",
   "execution_count": 95,
   "metadata": {
    "collapsed": false
   },
   "outputs": [
    {
     "data": {
      "text/plain": [
       "{'avg_rank': 0.9964988963059922,\n",
       " 'broadcaster_events': 999,\n",
       " 'capacity': 999.0,\n",
       " 'num_events': 999,\n",
       " 'r_2': 1.0001418442513226,\n",
       " 's': 9.9999999999999995e-07,\n",
       " 'seed': 0,\n",
       " 'sim_opts': <__main__.SimOpts at 0x7fc808a01198>,\n",
       " 'top_1': 99.005322577666675,\n",
       " 'top_10': 100.0,\n",
       " 'top_20': 100.0,\n",
       " 'top_3': 100.0,\n",
       " 'top_5': 100.0,\n",
       " 'type': 'Opt',\n",
       " 'world_events': 1004}"
      ]
     },
     "execution_count": 95,
     "metadata": {},
     "output_type": "execute_result"
    }
   ],
   "source": [
    "poisson_res.raw_results[0]"
   ]
  },
  {
   "cell_type": "code",
   "execution_count": 67,
   "metadata": {
    "collapsed": false
   },
   "outputs": [
    {
     "data": {
      "text/plain": [
       "[(3, 730.0),\n",
       " (0, 747.0),\n",
       " (7, 746.0),\n",
       " (4, 773.0),\n",
       " (1, 711.0),\n",
       " (8, 737.0),\n",
       " (5, 771.0),\n",
       " (2, 792.0),\n",
       " (9, 770.0),\n",
       " (6, 720.0)]"
      ]
     },
     "execution_count": 67,
     "metadata": {},
     "output_type": "execute_result"
    }
   ],
   "source": [
    "piecewise_res.capacities[piecewise_res.df.s[0]]"
   ]
  },
  {
   "cell_type": "code",
   "execution_count": 94,
   "metadata": {
    "collapsed": true
   },
   "outputs": [],
   "source": [
    "tmp = [x for x in raw_results if x['type'] == 'kdd']"
   ]
  },
  {
   "cell_type": "code",
   "execution_count": 123,
   "metadata": {
    "collapsed": false
   },
   "outputs": [
    {
     "data": {
      "text/plain": [
       "{'kdd_opt': array([  64.382,   78.114,  101.586,  114.336,   76.14 ,   99.839,\n",
       "          85.668,  127.037,   64.294,   94.166]),\n",
       " 'perf': 0.84974391184022691,\n",
       " 's': 1e-08,\n",
       " 'seed': 9,\n",
       " 'type': 'kdd'}"
      ]
     },
     "execution_count": 123,
     "metadata": {},
     "output_type": "execute_result"
    }
   ],
   "source": [
    "idx = len(tmp) - 1\n",
    "tmp[idx]"
   ]
  },
  {
   "cell_type": "code",
   "execution_count": 124,
   "metadata": {
    "collapsed": false
   },
   "outputs": [
    {
     "data": {
      "text/plain": [
       "905.5634469866709"
      ]
     },
     "execution_count": 124,
     "metadata": {},
     "output_type": "execute_result"
    }
   ],
   "source": [
    "np.sum(tmp[idx]['kdd_opt'])"
   ]
  },
  {
   "cell_type": "code",
   "execution_count": 125,
   "metadata": {
    "collapsed": false
   },
   "outputs": [
    {
     "data": {
      "text/plain": [
       "<__main__.Manager at 0x7fe65fb089b0>"
      ]
     },
     "execution_count": 125,
     "metadata": {},
     "output_type": "execute_result"
    }
   ],
   "source": [
    "sim_opts = SimOpts.std_poisson(world_seed=tmp[idx]['seed'], world_rate=world_rate)\n",
    "mgr = sim_opts.create_manager_for_piecewise_const(tmp[idx]['seed'], np.arange(num_segments) * (T / num_segments), \n",
    "                                                  tmp[idx]['kdd_opt'] / (T / num_segments))\n",
    "mgr.run()"
   ]
  },
  {
   "cell_type": "code",
   "execution_count": 126,
   "metadata": {
    "collapsed": true
   },
   "outputs": [],
   "source": [
    "df = mgr.state.get_dataframe()"
   ]
  },
  {
   "cell_type": "code",
   "execution_count": 127,
   "metadata": {
    "collapsed": false
   },
   "outputs": [
    {
     "data": {
      "text/plain": [
       "(933, 5)"
      ]
     },
     "execution_count": 127,
     "metadata": {},
     "output_type": "execute_result"
    }
   ],
   "source": [
    "df[df.src_id == 1].shape"
   ]
  },
  {
   "cell_type": "code",
   "execution_count": 60,
   "metadata": {
    "collapsed": false
   },
   "outputs": [
    {
     "data": {
      "text/plain": [
       "array([ 6872.701,  9753.572,  8659.97 ,  7993.292,  5780.093,  5779.973,\n",
       "        5290.418,  9330.881,  8005.575,  8540.363])"
      ]
     },
     "execution_count": 60,
     "metadata": {},
     "output_type": "execute_result"
    }
   ],
   "source": [
    "world_changing_rates"
   ]
  },
  {
   "cell_type": "code",
   "execution_count": 170,
   "metadata": {
    "collapsed": true
   },
   "outputs": [],
   "source": [
    "%run -i utils.py\n",
    "%run -i opt_model.py"
   ]
  },
  {
   "cell_type": "code",
   "execution_count": 78,
   "metadata": {
    "collapsed": true
   },
   "outputs": [
    {
     "name": "stdout",
     "output_type": "stream",
     "text": [
      "*** \u001b[31m2016-05-06 23:17:36.775776\u001b[0m Checkpoint: s_lo = 0.5, s_hi = 1.0, num_events = 16 \n",
      "*** \u001b[31m2016-05-06 23:17:36.822124\u001b[0m Checkpoint: s_lo = 0.25, s_hi = 0.5, num_events = 19 \n",
      "*** \u001b[31m2016-05-06 23:17:36.865436\u001b[0m Checkpoint: s_lo = 0.125, s_hi = 0.25, num_events = 23 \n",
      "*** \u001b[31m2016-05-06 23:17:36.908808\u001b[0m Checkpoint: s_lo = 0.0625, s_hi = 0.125, num_events = 29 \n",
      "*** \u001b[31m2016-05-06 23:17:36.952059\u001b[0m Checkpoint: s_lo = 0.03125, s_hi = 0.0625, num_events = 38 \n",
      "*** \u001b[31m2016-05-06 23:17:36.995332\u001b[0m Checkpoint: s_lo = 0.015625, s_hi = 0.03125, num_events = 44 \n",
      "*** \u001b[31m2016-05-06 23:17:37.038704\u001b[0m Checkpoint: s_lo = 0.0078125, s_hi = 0.015625, num_events = 51 \n",
      "*** \u001b[31m2016-05-06 23:17:37.038984\u001b[0m Checkpoint: s_lo = 0.0078125, s_hi = 0.015625\n",
      "*** \u001b[31m2016-05-06 23:17:37.082146\u001b[0m Checkpoint: s_try = 0.01171875, events = 47, cost = 0.34094464338074343\n",
      "*** \u001b[31m2016-05-06 23:17:37.125737\u001b[0m Checkpoint: s_try = 0.009765625, events = 51, cost = 0.29237130465832506\n",
      "*** \u001b[31m2016-05-06 23:17:37.169080\u001b[0m Checkpoint: s_try = 0.0107421875, events = 48, cost = 0.31704464211326533\n",
      "*** \u001b[31m2016-05-06 23:17:37.212191\u001b[0m Checkpoint: s_try = 0.01025390625, events = 49, cost = 0.30502268182881753\n",
      "*** \u001b[31m2016-05-06 23:17:37.255744\u001b[0m Checkpoint: s_try = 0.010009765625, events = 51, cost = 0.29871896090832506\n",
      "*** \u001b[31m2016-05-06 23:17:37.299163\u001b[0m Checkpoint: s_try = 0.0101318359375, events = 51, cost = 0.30189278903332506\n",
      "*** \u001b[31m2016-05-06 23:17:37.342207\u001b[0m Checkpoint: s_try = 0.01019287109375, events = 51, cost = 0.30347970309582506\n",
      "*** \u001b[31m2016-05-06 23:17:37.385159\u001b[0m Checkpoint: s_try = 0.010223388671875, events = 49, cost = 0.30425974237569253\n",
      "*** \u001b[31m2016-05-06 23:17:37.428481\u001b[0m Checkpoint: s_try = 0.0102081298828125, events = 51, cost = 0.30387643161145006\n",
      "*** \u001b[31m2016-05-06 23:17:37.472165\u001b[0m Checkpoint: s_try = 0.01021575927734375, events = 49, cost = 0.3040690075124113\n",
      "*** \u001b[31m2016-05-06 23:17:37.515546\u001b[0m Checkpoint: s_try = 0.010211944580078125, events = 49, cost = 0.30397364008077066\n",
      "*** \u001b[31m2016-05-06 23:17:37.559016\u001b[0m Checkpoint: s_try = 0.010210037231445312, events = 50, cost = 0.30392549448428646\n",
      "CPU times: user 923 ms, sys: 0 ns, total: 923 ms\n",
      "Wall time: 921 ms\n"
     ]
    }
   ],
   "source": [
    "%%time\n",
    "sim_opts = SimOpts.std_piecewise_const(world_seed=1, \n",
    "                                       world_change_times=world_change_times,\n",
    "                                       world_rates=world_changing_rates  / 10.0)"
   ]
  },
  {
   "cell_type": "code",
   "execution_count": 172,
   "metadata": {
    "collapsed": true
   },
   "outputs": [
    {
     "name": "stdout",
     "output_type": "stream",
     "text": [
      "*** \u001b[31m2016-05-07 01:47:38.712765\u001b[0m Checkpoint: s_lo = 1.0, s_hi = 2.0, num_events = 59 \n",
      "*** \u001b[31m2016-05-07 01:47:43.295365\u001b[0m Checkpoint: s_lo = 2.0, s_hi = 4.0, num_events = 50 \n",
      "*** \u001b[31m2016-05-07 01:47:47.877662\u001b[0m Checkpoint: s_lo = 4.0, s_hi = 8.0, num_events = 38 \n",
      "*** \u001b[31m2016-05-07 01:47:47.877921\u001b[0m Checkpoint: s_lo = 4.0, s_hi = 8.0\n",
      "*** \u001b[31m2016-05-07 01:47:52.475038\u001b[0m Checkpoint: s_try = 6.0, events = 43, cost = 190.24351658547735\n",
      "*** \u001b[31m2016-05-07 01:47:57.100385\u001b[0m Checkpoint: s_try = 5.0, events = 44, cost = 167.86559770034106\n",
      "*** \u001b[31m2016-05-07 01:48:01.686475\u001b[0m Checkpoint: s_try = 4.5, events = 47, cost = 156.45216699162305\n",
      "*** \u001b[31m2016-05-07 01:48:06.268635\u001b[0m Checkpoint: s_try = 4.25, events = 48, cost = 150.4490239466958\n",
      "*** \u001b[31m2016-05-07 01:48:10.907890\u001b[0m Checkpoint: s_try = 4.125, events = 49, cost = 147.34170023154488\n",
      "*** \u001b[31m2016-05-07 01:48:15.692948\u001b[0m Checkpoint: s_try = 4.0625, events = 50, cost = 145.75934253252828\n"
     ]
    }
   ],
   "source": [
    "opt_oracle=find_opt_oracle(50.0, sim_opts, verbose=True)"
   ]
  },
  {
   "cell_type": "code",
   "execution_count": 159,
   "metadata": {
    "collapsed": true
   },
   "outputs": [
    {
     "name": "stdout",
     "output_type": "stream",
     "text": [
      "*** \u001b[31m2016-05-07 01:33:01.357070\u001b[0m Checkpoint: s_lo = 1.0, s_hi = 2.0, num_events = 59 \n",
      "*** \u001b[31m2016-05-07 01:33:06.003020\u001b[0m Checkpoint: s_lo = 2.0, s_hi = 4.0, num_events = 50 \n",
      "*** \u001b[31m2016-05-07 01:33:10.599267\u001b[0m Checkpoint: s_lo = 4.0, s_hi = 8.0, num_events = 38 \n",
      "*** \u001b[31m2016-05-07 01:33:10.599564\u001b[0m Checkpoint: s_lo = 4.0, s_hi = 8.0\n",
      "*** \u001b[31m2016-05-07 01:33:15.257199\u001b[0m Checkpoint: s_try = 6.0, events = 43, cost = 190.24351658547735\n",
      "*** \u001b[31m2016-05-07 01:33:19.922371\u001b[0m Checkpoint: s_try = 5.0, events = 44, cost = 167.86559770034106\n",
      "*** \u001b[31m2016-05-07 01:33:24.563932\u001b[0m Checkpoint: s_try = 4.5, events = 47, cost = 156.45216699162305\n",
      "*** \u001b[31m2016-05-07 01:33:29.190108\u001b[0m Checkpoint: s_try = 4.25, events = 48, cost = 150.4490239466958\n",
      "*** \u001b[31m2016-05-07 01:33:33.795787\u001b[0m Checkpoint: s_try = 4.125, events = 49, cost = 147.34170023154488\n",
      "*** \u001b[31m2016-05-07 01:33:38.633058\u001b[0m Checkpoint: s_try = 4.0625, events = 50, cost = 145.75934253252828\n"
     ]
    },
    {
     "data": {
      "text/plain": [
       "0.18739408117276624"
      ]
     },
     "execution_count": 159,
     "metadata": {},
     "output_type": "execute_result"
    }
   ],
   "source": [
    "find_opt_oracle_time_top_k(50.0, sim_opts=sim_opts, K=3, tol=1e-2, verbose=True)"
   ]
  },
  {
   "cell_type": "code",
   "execution_count": 193,
   "metadata": {
    "collapsed": false
   },
   "outputs": [
    {
     "data": {
      "text/plain": [
       "0.24397405812513501"
      ]
     },
     "execution_count": 193,
     "metadata": {},
     "output_type": "execute_result"
    }
   ],
   "source": [
    "oracle_df = opt_oracle['df']\n",
    "rb_mgr = sim_opts.create_manager_with_times(oracle_df.t[oracle_df.events == 1] + 1e-10)\n",
    "rb_mgr.run()\n",
    "df = rb_mgr.state.get_dataframe()\n",
    "time_in_top_k(rb_mgr.state.get_dataframe(), K=3, sim_opts=sim_opts) "
   ]
  },
  {
   "cell_type": "code",
   "execution_count": 197,
   "metadata": {
    "collapsed": false
   },
   "outputs": [],
   "source": [
    "oracle_rank_calc = rank_of_src_in_df(df=df, src_id=1)"
   ]
  },
  {
   "cell_type": "code",
   "execution_count": 166,
   "metadata": {
    "collapsed": false
   },
   "outputs": [
    {
     "data": {
      "text/plain": [
       "50"
      ]
     },
     "execution_count": 166,
     "metadata": {},
     "output_type": "execute_result"
    }
   ],
   "source": [
    "(df.src_id == 1).sum()"
   ]
  },
  {
   "cell_type": "code",
   "execution_count": 18,
   "metadata": {
    "collapsed": true
   },
   "outputs": [],
   "source": [
    "%run -i opt_model.py"
   ]
  },
  {
   "cell_type": "code",
   "execution_count": 39,
   "metadata": {
    "collapsed": false
   },
   "outputs": [
    {
     "name": "stdout",
     "output_type": "stream",
     "text": [
      "*** \u001b[31m2016-05-06 00:18:23.087473\u001b[0m Checkpoint: s_lo = 0.5, s_hi = 1.0, num_events = 94 \n",
      "*** \u001b[31m2016-05-06 00:18:28.610656\u001b[0m Checkpoint: s_lo = 0.25, s_hi = 0.5, num_events = 118 \n",
      "*** \u001b[31m2016-05-06 00:18:28.611289\u001b[0m Checkpoint: s_lo = 0.25, s_hi = 0.5\n",
      "*** \u001b[31m2016-05-06 00:18:34.356899\u001b[0m Checkpoint: s_try = 0.375, events = 104, cost = 28.115635566719792\n",
      "CPU times: user 23.5 s, sys: 43.3 ms, total: 23.5 s\n",
      "Wall time: 23.5 s\n"
     ]
    }
   ],
   "source": [
    "%%time\n",
    "s_opt = find_opt_oracle_s(100, sim_opt_gen(0).update({ 'end_time': 1.0 }), verbose=True)"
   ]
  },
  {
   "cell_type": "code",
   "execution_count": 164,
   "metadata": {
    "collapsed": false
   },
   "outputs": [
    {
     "name": "stdout",
     "output_type": "stream",
     "text": [
      "CPU times: user 4.97 s, sys: 0 ns, total: 4.97 s\n",
      "Wall time: 4.97 s\n"
     ]
    }
   ],
   "source": [
    "%%time\n",
    "oracle_df = get_oracle_df(sim_opt_gen(0).update({'end_time': 1.0, 's': s_opt}))"
   ]
  },
  {
   "cell_type": "code",
   "execution_count": 173,
   "metadata": {
    "collapsed": false
   },
   "outputs": [
    {
     "name": "stdout",
     "output_type": "stream",
     "text": [
      "*** \u001b[31m2016-05-04 22:40:15.523984\u001b[0m Checkpoint: s_lo = 0.5, s_hi = 1.0, num_events = 95 \n",
      "*** \u001b[31m2016-05-04 22:40:19.970286\u001b[0m Checkpoint: s_lo = 0.25, s_hi = 0.5, num_events = 120 \n",
      "*** \u001b[31m2016-05-04 22:40:19.970578\u001b[0m Checkpoint: s_lo = 0.25, s_hi = 0.5\n",
      "*** \u001b[31m2016-05-04 22:40:24.360491\u001b[0m Checkpoint: s_try = 0.375, events = 109, cost = 28.447623149728294\n"
     ]
    },
    {
     "data": {
      "text/plain": [
       "0.37156877786354015"
      ]
     },
     "execution_count": 173,
     "metadata": {},
     "output_type": "execute_result"
    }
   ],
   "source": [
    "find_opt_oracle_time_top_k(100, 3, lambda: sim_opt_gen(0).update({'s': s_opt, 'end_time': 1.0}), verbose=True)"
   ]
  },
  {
   "cell_type": "code",
   "execution_count": 129,
   "metadata": {
    "collapsed": false
   },
   "outputs": [
    {
     "name": "stdout",
     "output_type": "stream",
     "text": [
      "CPU times: user 0 ns, sys: 0 ns, total: 0 ns\n",
      "Wall time: 22.9 µs\n"
     ]
    },
    {
     "data": {
      "text/plain": [
       "582"
      ]
     },
     "execution_count": 129,
     "metadata": {},
     "output_type": "execute_result"
    }
   ],
   "source": [
    "%time\n",
    "o, _ = (sim_opt_gen(0).update({ 's': 1e-3, 'end_time': 1.0 }))\n",
    "o.events.sum()"
   ]
  },
  {
   "cell_type": "code",
   "execution_count": 130,
   "metadata": {
    "collapsed": false
   },
   "outputs": [
    {
     "name": "stdout",
     "output_type": "stream",
     "text": [
      "CPU times: user 0 ns, sys: 0 ns, total: 0 ns\n",
      "Wall time: 8.11 µs\n"
     ]
    },
    {
     "data": {
      "text/plain": [
       "17"
      ]
     },
     "execution_count": 130,
     "metadata": {},
     "output_type": "execute_result"
    }
   ],
   "source": [
    "%time\n",
    "o, _ = worker_s(sim_opt_gen(0).update({ 's': 100, 'end_time': 1.0 }))\n",
    "o.events.sum()"
   ]
  },
  {
   "cell_type": "code",
   "execution_count": 133,
   "metadata": {
    "collapsed": false
   },
   "outputs": [
    {
     "name": "stdout",
     "output_type": "stream",
     "text": [
      "*** \u001b[31m2016-05-04 20:05:22.158060\u001b[0m Checkpoint: s_lo = 0.5, s_hi = 1.0, num_tweets = 95 \n",
      "*** \u001b[31m2016-05-04 20:05:30.702477\u001b[0m Checkpoint: s_lo = 0.25, s_hi = 0.5, num_tweets = 120 \n",
      "*** \u001b[31m2016-05-04 20:05:30.702862\u001b[0m Checkpoint: s_lo = 0.25, s_hi = 0.5\n",
      "*** \u001b[31m2016-05-04 20:05:39.416810\u001b[0m Checkpoint: s_try = 0.375, events = 109, cost = 28.447623149728294\n",
      "CPU times: user 34.8 s, sys: 13.3 ms, total: 34.8 s\n",
      "Wall time: 34.9 s\n"
     ]
    }
   ],
   "source": [
    "%%time\n",
    "sim_opts_generator = lambda : sim_opt_gen(0).update({ 'end_time': 1.0 })\n",
    "s_try = find_ideal_s(100, sim_opts_generator)"
   ]
  },
  {
   "cell_type": "code",
   "execution_count": 19,
   "metadata": {
    "collapsed": true
   },
   "outputs": [
    {
     "ename": "KeyboardInterrupt",
     "evalue": "",
     "output_type": "error",
     "traceback": [
      "\u001b[1;31m---------------------------------------------------------------------------\u001b[0m",
      "\u001b[1;31mKeyboardInterrupt\u001b[0m                         Traceback (most recent call last)",
      "\u001b[1;32m/NL/stackexchange/work/prog/broadcast-online/opt_model.py\u001b[0m in \u001b[0;36m<module>\u001b[1;34m()\u001b[0m\n\u001b[1;32m----> 1\u001b[1;33m \u001b[0mget_ipython\u001b[0m\u001b[1;33m(\u001b[0m\u001b[1;33m)\u001b[0m\u001b[1;33m.\u001b[0m\u001b[0mrun_cell_magic\u001b[0m\u001b[1;33m(\u001b[0m\u001b[1;34m'time'\u001b[0m\u001b[1;33m,\u001b[0m \u001b[1;34m''\u001b[0m\u001b[1;33m,\u001b[0m \u001b[1;34m'sim_opts = sim_opt_gen(0)\\nwall_mgr = sim_opts.create_manager_for_wall()\\nwall_mgr.run()\\noracle_df = oracle_ranking(df=wall_mgr.state.get_dataframe(), \\n                           sim_opts=sim_opt_gen(1))'\u001b[0m\u001b[1;33m)\u001b[0m\u001b[1;33m\u001b[0m\u001b[0m\n\u001b[0m",
      "\u001b[1;32m/home/utkarshu/miniconda3/envs/py35/lib/python3.5/site-packages/IPython/core/interactiveshell.py\u001b[0m in \u001b[0;36mrun_cell_magic\u001b[1;34m(self, magic_name, line, cell)\u001b[0m\n\u001b[0;32m   2118\u001b[0m             \u001b[0mmagic_arg_s\u001b[0m \u001b[1;33m=\u001b[0m \u001b[0mself\u001b[0m\u001b[1;33m.\u001b[0m\u001b[0mvar_expand\u001b[0m\u001b[1;33m(\u001b[0m\u001b[0mline\u001b[0m\u001b[1;33m,\u001b[0m \u001b[0mstack_depth\u001b[0m\u001b[1;33m)\u001b[0m\u001b[1;33m\u001b[0m\u001b[0m\n\u001b[0;32m   2119\u001b[0m             \u001b[1;32mwith\u001b[0m \u001b[0mself\u001b[0m\u001b[1;33m.\u001b[0m\u001b[0mbuiltin_trap\u001b[0m\u001b[1;33m:\u001b[0m\u001b[1;33m\u001b[0m\u001b[0m\n\u001b[1;32m-> 2120\u001b[1;33m                 \u001b[0mresult\u001b[0m \u001b[1;33m=\u001b[0m \u001b[0mfn\u001b[0m\u001b[1;33m(\u001b[0m\u001b[0mmagic_arg_s\u001b[0m\u001b[1;33m,\u001b[0m \u001b[0mcell\u001b[0m\u001b[1;33m)\u001b[0m\u001b[1;33m\u001b[0m\u001b[0m\n\u001b[0m\u001b[0;32m   2121\u001b[0m             \u001b[1;32mreturn\u001b[0m \u001b[0mresult\u001b[0m\u001b[1;33m\u001b[0m\u001b[0m\n\u001b[0;32m   2122\u001b[0m \u001b[1;33m\u001b[0m\u001b[0m\n",
      "\u001b[1;32m<decorator-gen-60>\u001b[0m in \u001b[0;36mtime\u001b[1;34m(self, line, cell, local_ns)\u001b[0m\n",
      "\u001b[1;32m/home/utkarshu/miniconda3/envs/py35/lib/python3.5/site-packages/IPython/core/magic.py\u001b[0m in \u001b[0;36m<lambda>\u001b[1;34m(f, *a, **k)\u001b[0m\n\u001b[0;32m    191\u001b[0m     \u001b[1;31m# but it's overkill for just that one bit of state.\u001b[0m\u001b[1;33m\u001b[0m\u001b[1;33m\u001b[0m\u001b[0m\n\u001b[0;32m    192\u001b[0m     \u001b[1;32mdef\u001b[0m \u001b[0mmagic_deco\u001b[0m\u001b[1;33m(\u001b[0m\u001b[0marg\u001b[0m\u001b[1;33m)\u001b[0m\u001b[1;33m:\u001b[0m\u001b[1;33m\u001b[0m\u001b[0m\n\u001b[1;32m--> 193\u001b[1;33m         \u001b[0mcall\u001b[0m \u001b[1;33m=\u001b[0m \u001b[1;32mlambda\u001b[0m \u001b[0mf\u001b[0m\u001b[1;33m,\u001b[0m \u001b[1;33m*\u001b[0m\u001b[0ma\u001b[0m\u001b[1;33m,\u001b[0m \u001b[1;33m**\u001b[0m\u001b[0mk\u001b[0m\u001b[1;33m:\u001b[0m \u001b[0mf\u001b[0m\u001b[1;33m(\u001b[0m\u001b[1;33m*\u001b[0m\u001b[0ma\u001b[0m\u001b[1;33m,\u001b[0m \u001b[1;33m**\u001b[0m\u001b[0mk\u001b[0m\u001b[1;33m)\u001b[0m\u001b[1;33m\u001b[0m\u001b[0m\n\u001b[0m\u001b[0;32m    194\u001b[0m \u001b[1;33m\u001b[0m\u001b[0m\n\u001b[0;32m    195\u001b[0m         \u001b[1;32mif\u001b[0m \u001b[0mcallable\u001b[0m\u001b[1;33m(\u001b[0m\u001b[0marg\u001b[0m\u001b[1;33m)\u001b[0m\u001b[1;33m:\u001b[0m\u001b[1;33m\u001b[0m\u001b[0m\n",
      "\u001b[1;32m/home/utkarshu/miniconda3/envs/py35/lib/python3.5/site-packages/IPython/core/magics/execution.py\u001b[0m in \u001b[0;36mtime\u001b[1;34m(self, line, cell, local_ns)\u001b[0m\n\u001b[0;32m   1175\u001b[0m         \u001b[1;32melse\u001b[0m\u001b[1;33m:\u001b[0m\u001b[1;33m\u001b[0m\u001b[0m\n\u001b[0;32m   1176\u001b[0m             \u001b[0mst\u001b[0m \u001b[1;33m=\u001b[0m \u001b[0mclock2\u001b[0m\u001b[1;33m(\u001b[0m\u001b[1;33m)\u001b[0m\u001b[1;33m\u001b[0m\u001b[0m\n\u001b[1;32m-> 1177\u001b[1;33m             \u001b[0mexec\u001b[0m\u001b[1;33m(\u001b[0m\u001b[0mcode\u001b[0m\u001b[1;33m,\u001b[0m \u001b[0mglob\u001b[0m\u001b[1;33m,\u001b[0m \u001b[0mlocal_ns\u001b[0m\u001b[1;33m)\u001b[0m\u001b[1;33m\u001b[0m\u001b[0m\n\u001b[0m\u001b[0;32m   1178\u001b[0m             \u001b[0mend\u001b[0m \u001b[1;33m=\u001b[0m \u001b[0mclock2\u001b[0m\u001b[1;33m(\u001b[0m\u001b[1;33m)\u001b[0m\u001b[1;33m\u001b[0m\u001b[0m\n\u001b[0;32m   1179\u001b[0m             \u001b[0mout\u001b[0m \u001b[1;33m=\u001b[0m \u001b[1;32mNone\u001b[0m\u001b[1;33m\u001b[0m\u001b[0m\n",
      "\u001b[1;32m/NL/stackexchange/work/prog/broadcast-online/opt_model.py\u001b[0m in \u001b[0;36m<module>\u001b[1;34m()\u001b[0m\n",
      "\u001b[1;32m/NL/stackexchange/work/prog/broadcast-online/opt_model.py\u001b[0m in \u001b[0;36moracle_ranking\u001b[1;34m(df, sim_opts, omit_src_ids, follower_ids)\u001b[0m\n\u001b[0;32m    188\u001b[0m         \u001b[1;31m# This can be made parallel and vectorized\u001b[0m\u001b[1;33m\u001b[0m\u001b[1;33m\u001b[0m\u001b[0m\n\u001b[0;32m    189\u001b[0m         \u001b[1;32mfor\u001b[0m \u001b[0mr\u001b[0m \u001b[1;32min\u001b[0m \u001b[0mrange\u001b[0m\u001b[1;33m(\u001b[0m\u001b[0mn\u001b[0m \u001b[1;33m-\u001b[0m \u001b[1;36m1\u001b[0m\u001b[1;33m)\u001b[0m\u001b[1;33m:\u001b[0m\u001b[1;33m\u001b[0m\u001b[0m\n\u001b[1;32m--> 190\u001b[1;33m             J[r, k] = q_vec * w[k] * r ** 2 / 2 + min(J[0, k + 1] + s / 2.0,\n\u001b[0m\u001b[0;32m    191\u001b[0m                                                       J[r + 1, k + 1])\n\u001b[0;32m    192\u001b[0m \u001b[1;33m\u001b[0m\u001b[0m\n",
      "\u001b[1;31mKeyboardInterrupt\u001b[0m: "
     ]
    }
   ],
   "source": [
    "%%time\n",
    "sim_opts = sim_opt_gen(0)\n",
    "wall_mgr = sim_opts.create_manager_for_wall()\n",
    "wall_mgr.run()\n",
    "oracle_df = oracle_ranking(df=wall_mgr.state.get_dataframe(), \n",
    "                           sim_opts=sim_opt_gen(1))"
   ]
  },
  {
   "cell_type": "code",
   "execution_count": 19,
   "metadata": {
    "collapsed": true
   },
   "outputs": [
    {
     "ename": "KeyboardInterrupt",
     "evalue": "",
     "output_type": "error",
     "traceback": [
      "\u001b[1;31m---------------------------------------------------------------------------\u001b[0m",
      "\u001b[1;31mKeyboardInterrupt\u001b[0m                         Traceback (most recent call last)",
      "\u001b[1;32m/NL/stackexchange/work/prog/broadcast-online/opt_model.py\u001b[0m in \u001b[0;36m<module>\u001b[1;34m()\u001b[0m\n\u001b[1;32m----> 1\u001b[1;33m \u001b[0mget_ipython\u001b[0m\u001b[1;33m(\u001b[0m\u001b[1;33m)\u001b[0m\u001b[1;33m.\u001b[0m\u001b[0mrun_cell_magic\u001b[0m\u001b[1;33m(\u001b[0m\u001b[1;34m'time'\u001b[0m\u001b[1;33m,\u001b[0m \u001b[1;34m''\u001b[0m\u001b[1;33m,\u001b[0m \u001b[1;34m'sim_opts = sim_opt_gen(0)\\nwall_mgr = sim_opts.create_manager_for_wall()\\nwall_mgr.run()\\noracle_df = oracle_ranking(df=wall_mgr.state.get_dataframe(), \\n                           sim_opts=sim_opt_gen(1))'\u001b[0m\u001b[1;33m)\u001b[0m\u001b[1;33m\u001b[0m\u001b[0m\n\u001b[0m",
      "\u001b[1;32m/home/utkarshu/miniconda3/envs/py35/lib/python3.5/site-packages/IPython/core/interactiveshell.py\u001b[0m in \u001b[0;36mrun_cell_magic\u001b[1;34m(self, magic_name, line, cell)\u001b[0m\n\u001b[0;32m   2118\u001b[0m             \u001b[0mmagic_arg_s\u001b[0m \u001b[1;33m=\u001b[0m \u001b[0mself\u001b[0m\u001b[1;33m.\u001b[0m\u001b[0mvar_expand\u001b[0m\u001b[1;33m(\u001b[0m\u001b[0mline\u001b[0m\u001b[1;33m,\u001b[0m \u001b[0mstack_depth\u001b[0m\u001b[1;33m)\u001b[0m\u001b[1;33m\u001b[0m\u001b[0m\n\u001b[0;32m   2119\u001b[0m             \u001b[1;32mwith\u001b[0m \u001b[0mself\u001b[0m\u001b[1;33m.\u001b[0m\u001b[0mbuiltin_trap\u001b[0m\u001b[1;33m:\u001b[0m\u001b[1;33m\u001b[0m\u001b[0m\n\u001b[1;32m-> 2120\u001b[1;33m                 \u001b[0mresult\u001b[0m \u001b[1;33m=\u001b[0m \u001b[0mfn\u001b[0m\u001b[1;33m(\u001b[0m\u001b[0mmagic_arg_s\u001b[0m\u001b[1;33m,\u001b[0m \u001b[0mcell\u001b[0m\u001b[1;33m)\u001b[0m\u001b[1;33m\u001b[0m\u001b[0m\n\u001b[0m\u001b[0;32m   2121\u001b[0m             \u001b[1;32mreturn\u001b[0m \u001b[0mresult\u001b[0m\u001b[1;33m\u001b[0m\u001b[0m\n\u001b[0;32m   2122\u001b[0m \u001b[1;33m\u001b[0m\u001b[0m\n",
      "\u001b[1;32m<decorator-gen-60>\u001b[0m in \u001b[0;36mtime\u001b[1;34m(self, line, cell, local_ns)\u001b[0m\n",
      "\u001b[1;32m/home/utkarshu/miniconda3/envs/py35/lib/python3.5/site-packages/IPython/core/magic.py\u001b[0m in \u001b[0;36m<lambda>\u001b[1;34m(f, *a, **k)\u001b[0m\n\u001b[0;32m    191\u001b[0m     \u001b[1;31m# but it's overkill for just that one bit of state.\u001b[0m\u001b[1;33m\u001b[0m\u001b[1;33m\u001b[0m\u001b[0m\n\u001b[0;32m    192\u001b[0m     \u001b[1;32mdef\u001b[0m \u001b[0mmagic_deco\u001b[0m\u001b[1;33m(\u001b[0m\u001b[0marg\u001b[0m\u001b[1;33m)\u001b[0m\u001b[1;33m:\u001b[0m\u001b[1;33m\u001b[0m\u001b[0m\n\u001b[1;32m--> 193\u001b[1;33m         \u001b[0mcall\u001b[0m \u001b[1;33m=\u001b[0m \u001b[1;32mlambda\u001b[0m \u001b[0mf\u001b[0m\u001b[1;33m,\u001b[0m \u001b[1;33m*\u001b[0m\u001b[0ma\u001b[0m\u001b[1;33m,\u001b[0m \u001b[1;33m**\u001b[0m\u001b[0mk\u001b[0m\u001b[1;33m:\u001b[0m \u001b[0mf\u001b[0m\u001b[1;33m(\u001b[0m\u001b[1;33m*\u001b[0m\u001b[0ma\u001b[0m\u001b[1;33m,\u001b[0m \u001b[1;33m**\u001b[0m\u001b[0mk\u001b[0m\u001b[1;33m)\u001b[0m\u001b[1;33m\u001b[0m\u001b[0m\n\u001b[0m\u001b[0;32m    194\u001b[0m \u001b[1;33m\u001b[0m\u001b[0m\n\u001b[0;32m    195\u001b[0m         \u001b[1;32mif\u001b[0m \u001b[0mcallable\u001b[0m\u001b[1;33m(\u001b[0m\u001b[0marg\u001b[0m\u001b[1;33m)\u001b[0m\u001b[1;33m:\u001b[0m\u001b[1;33m\u001b[0m\u001b[0m\n",
      "\u001b[1;32m/home/utkarshu/miniconda3/envs/py35/lib/python3.5/site-packages/IPython/core/magics/execution.py\u001b[0m in \u001b[0;36mtime\u001b[1;34m(self, line, cell, local_ns)\u001b[0m\n\u001b[0;32m   1175\u001b[0m         \u001b[1;32melse\u001b[0m\u001b[1;33m:\u001b[0m\u001b[1;33m\u001b[0m\u001b[0m\n\u001b[0;32m   1176\u001b[0m             \u001b[0mst\u001b[0m \u001b[1;33m=\u001b[0m \u001b[0mclock2\u001b[0m\u001b[1;33m(\u001b[0m\u001b[1;33m)\u001b[0m\u001b[1;33m\u001b[0m\u001b[0m\n\u001b[1;32m-> 1177\u001b[1;33m             \u001b[0mexec\u001b[0m\u001b[1;33m(\u001b[0m\u001b[0mcode\u001b[0m\u001b[1;33m,\u001b[0m \u001b[0mglob\u001b[0m\u001b[1;33m,\u001b[0m \u001b[0mlocal_ns\u001b[0m\u001b[1;33m)\u001b[0m\u001b[1;33m\u001b[0m\u001b[0m\n\u001b[0m\u001b[0;32m   1178\u001b[0m             \u001b[0mend\u001b[0m \u001b[1;33m=\u001b[0m \u001b[0mclock2\u001b[0m\u001b[1;33m(\u001b[0m\u001b[1;33m)\u001b[0m\u001b[1;33m\u001b[0m\u001b[0m\n\u001b[0;32m   1179\u001b[0m             \u001b[0mout\u001b[0m \u001b[1;33m=\u001b[0m \u001b[1;32mNone\u001b[0m\u001b[1;33m\u001b[0m\u001b[0m\n",
      "\u001b[1;32m/NL/stackexchange/work/prog/broadcast-online/opt_model.py\u001b[0m in \u001b[0;36m<module>\u001b[1;34m()\u001b[0m\n",
      "\u001b[1;32m/NL/stackexchange/work/prog/broadcast-online/opt_model.py\u001b[0m in \u001b[0;36moracle_ranking\u001b[1;34m(df, sim_opts, omit_src_ids, follower_ids)\u001b[0m\n\u001b[0;32m    188\u001b[0m         \u001b[1;31m# This can be made parallel and vectorized\u001b[0m\u001b[1;33m\u001b[0m\u001b[1;33m\u001b[0m\u001b[0m\n\u001b[0;32m    189\u001b[0m         \u001b[1;32mfor\u001b[0m \u001b[0mr\u001b[0m \u001b[1;32min\u001b[0m \u001b[0mrange\u001b[0m\u001b[1;33m(\u001b[0m\u001b[0mn\u001b[0m \u001b[1;33m-\u001b[0m \u001b[1;36m1\u001b[0m\u001b[1;33m)\u001b[0m\u001b[1;33m:\u001b[0m\u001b[1;33m\u001b[0m\u001b[0m\n\u001b[1;32m--> 190\u001b[1;33m             J[r, k] = q_vec * w[k] * r ** 2 / 2 + min(J[0, k + 1] + s / 2.0,\n\u001b[0m\u001b[0;32m    191\u001b[0m                                                       J[r + 1, k + 1])\n\u001b[0;32m    192\u001b[0m \u001b[1;33m\u001b[0m\u001b[0m\n",
      "\u001b[1;31mKeyboardInterrupt\u001b[0m: "
     ]
    }
   ],
   "source": [
    "%%time\n",
    "sim_opts = sim_opt_gen(0)\n",
    "wall_mgr = sim_opts.create_manager_for_wall()\n",
    "wall_mgr.run()\n",
    "oracle_df = oracle_ranking(df=wall_mgr.state.get_dataframe(), \n",
    "                           sim_opts=sim_opt_gen(1))"
   ]
  },
  {
   "cell_type": "code",
   "execution_count": 334,
   "metadata": {
    "collapsed": false
   },
   "outputs": [],
   "source": [
    "@optioned(option_arg='opts')\n",
    "def rank_plot(res, field, file_name, title=None, with_std=True, save=False, log_y=True, legend=False, fig_width=None):\n",
    "    vals = res.df.pivot_table(index='s', columns='type', values=field, aggfunc=np.mean)\n",
    "    std  = res.df.pivot_table(index='s', columns='type', values=field, aggfunc=np.std)\n",
    "    \n",
    "    if title is None:\n",
    "        if field == 'avg_rank':\n",
    "            title = 'Avg. rank'\n",
    "        elif field == 'r_2':\n",
    "            title = r'$\\int r^2$dt'\n",
    "        else:\n",
    "            title = 'Unknown axis'\n",
    "            \n",
    "    if fig_width is None:\n",
    "        fig_width = 1.75\n",
    "        \n",
    "    latexify(fig_width=fig_width, largeFonts=False)\n",
    "    c1, c2, c3, c4 = sns.mpl_palette('Set2', 4)\n",
    "\n",
    "    X = [np.mean(res.capacities[s]) for s in vals.index]\n",
    "    plt.errorbar(X, vals.Opt, fmt='s-', yerr=std.Opt.values, label='Optimal',  color=c1, markersize=3, linewidth=0.75)\n",
    "    # plt.errorbar(X, vals.Poisson, fmt='o-', yerr=std.Poisson.values, label='Poisson', color=c2, markersize=3, linewidth=0.75)\n",
    "    plt.errorbar(X, vals.Oracle, fmt='d-', yerr=std.Oracle.values, label='Oracle', color=c3, markersize=3, linewidth=0.75)\n",
    "    plt.errorbar(X, vals.kdd, fmt='^-', yerr=std.kdd.values, label='Karimi', color=c4, markersize=3, linewidth=0.75)\n",
    "    \n",
    "    plt.xscale('log')\n",
    "    \n",
    "    if log_y:\n",
    "        plt.yscale('log')\n",
    "        plt.yticks([10 ** i for i in [0, 2, 4]])\n",
    "    \n",
    "    if legend:\n",
    "        plt.legend(loc=\"upper right\")\n",
    "        \n",
    "    # plt.ylabel(title)\n",
    "    plt.xlabel(r'Budget')\n",
    "    # plt.ylim(None, 105)\n",
    "    plt.xlim(4.5, None)\n",
    "    plt.tight_layout()\n",
    "    format_axes(plt.gca())\n",
    "    \n",
    "    if save:\n",
    "        plt.savefig(file_name, bbox_inches='tight', pad_inches=0)\n",
    "        \n",
    "    # plt.savefig('/NL/stackexchange/work/prog/papers/online-twitter-broadcast/nips2016/figures/capacity-poisson-oracle-opt.pdf')\n",
    "    # plt.savefig('/NL/stackexchange/work/prog/papers/online-twitter-broadcast/nips2016/figures/capacity-poisson-oracle-opt-kdd.pdf')"
   ]
  },
  {
   "cell_type": "code",
   "execution_count": 318,
   "metadata": {
    "collapsed": false
   },
   "outputs": [
    {
     "data": {
      "image/png": "[encoded data removed]",
      "text/plain": [
       "<matplotlib.figure.Figure at 0x7fc808bb07f0>"
      ]
     },
     "metadata": {},
     "output_type": "display_data"
    }
   ],
   "source": [
    "rank_plot(hawkes_res_2, 'avg_rank', None, log_y=True)"
   ]
  },
  {
   "cell_type": "code",
   "execution_count": 439,
   "metadata": {
    "collapsed": false
   },
   "outputs": [
    {
     "data": {
      "image/png": "[encoded data removed]",
      "text/plain": [
       "<matplotlib.figure.Figure at 0x7fc7e6dddcc0>"
      ]
     },
     "metadata": {},
     "output_type": "display_data"
    },
    {
     "data": {
      "text/plain": [
       "<matplotlib.figure.Figure at 0x7fc7fcf56400>"
      ]
     },
     "metadata": {},
     "output_type": "display_data"
    }
   ],
   "source": [
    "c1, c2, c3, c4 = sns.mpl_palette('Set2', 4)\n",
    "fig = plt.figure()\n",
    "figlegend = plt.figure(figsize=(4 * 2.0, 0.25))\n",
    "ax = fig.add_subplot(111)\n",
    "lines = [\n",
    "    ax.plot(range(10), np.random.randn(10), 's-', color=c2, markersize=3, label='RedQueen', linewidth=0.75)[0], \n",
    "    ax.plot(range(10), np.random.randn(10), 'd-', color=c3, markersize=3, label='Oracle', linewidth=0.75)[0],\n",
    "    ax.plot(range(10), np.random.randn(10), '^-', color=c4, markersize=3, label='Karimi', linewidth=0.75)[0]\n",
    "]\n",
    "figlegend.legend(tuple(lines), ('RedQueen', 'Oracle', 'Karimi'), 'center', ncol=3)\n",
    "figlegend.savefig('/NL/stackexchange/work/prog/papers/online-twitter-broadcast/nips2016/figures/legend.pdf', bbox_inches='tight', pad_inches=0)"
   ]
  },
  {
   "cell_type": "code",
   "execution_count": 259,
   "metadata": {
    "collapsed": true
   },
   "outputs": [],
   "source": [
    "figlegend.legend?"
   ]
  },
  {
   "cell_type": "code",
   "execution_count": 270,
   "metadata": {
    "collapsed": true
   },
   "outputs": [],
   "source": [
    "figlegend.savefig('test.pdf')"
   ]
  },
  {
   "cell_type": "code",
   "execution_count": 22,
   "metadata": {
    "collapsed": false
   },
   "outputs": [
    {
     "data": {
      "text/plain": [
       "Float64Index([1e-08, 1e-07, 1e-06, 1e-05, 0.0001, 0.001, 0.01, 0.1, 1.0, 10.0], dtype='float64', name='s')"
      ]
     },
     "execution_count": 22,
     "metadata": {},
     "output_type": "execute_result"
    }
   ],
   "source": [
    "hawkes_res.df.pivot_table(index='s', columns='type', values='r_2').index"
   ]
  },
  {
   "cell_type": "code",
   "execution_count": 168,
   "metadata": {
    "collapsed": false
   },
   "outputs": [
    {
     "data": {
      "text/html": [
       "<div>\n",
       "<table border=\"1\" class=\"dataframe\">\n",
       "  <thead>\n",
       "    <tr style=\"text-align: right;\">\n",
       "      <th>type</th>\n",
       "      <th>Opt</th>\n",
       "      <th>Oracle</th>\n",
       "      <th>Poisson</th>\n",
       "      <th>kdd</th>\n",
       "    </tr>\n",
       "    <tr>\n",
       "      <th>s</th>\n",
       "      <th></th>\n",
       "      <th></th>\n",
       "      <th></th>\n",
       "      <th></th>\n",
       "    </tr>\n",
       "  </thead>\n",
       "  <tbody>\n",
       "    <tr>\n",
       "      <th>1.000000e-08</th>\n",
       "      <td>0.004255</td>\n",
       "      <td>0.002257</td>\n",
       "      <td>0.377543</td>\n",
       "      <td>0.228007</td>\n",
       "    </tr>\n",
       "    <tr>\n",
       "      <th>1.000000e-07</th>\n",
       "      <td>0.013699</td>\n",
       "      <td>0.006435</td>\n",
       "      <td>0.708564</td>\n",
       "      <td>0.571351</td>\n",
       "    </tr>\n",
       "    <tr>\n",
       "      <th>1.000000e-06</th>\n",
       "      <td>0.058041</td>\n",
       "      <td>0.013762</td>\n",
       "      <td>1.468919</td>\n",
       "      <td>1.378015</td>\n",
       "    </tr>\n",
       "    <tr>\n",
       "      <th>1.000000e-05</th>\n",
       "      <td>0.229522</td>\n",
       "      <td>0.074677</td>\n",
       "      <td>4.076188</td>\n",
       "      <td>4.230126</td>\n",
       "    </tr>\n",
       "    <tr>\n",
       "      <th>1.000000e-04</th>\n",
       "      <td>0.866249</td>\n",
       "      <td>0.287207</td>\n",
       "      <td>9.320475</td>\n",
       "      <td>16.104886</td>\n",
       "    </tr>\n",
       "    <tr>\n",
       "      <th>1.000000e-03</th>\n",
       "      <td>3.766542</td>\n",
       "      <td>0.898753</td>\n",
       "      <td>25.476946</td>\n",
       "      <td>281.915090</td>\n",
       "    </tr>\n",
       "    <tr>\n",
       "      <th>1.000000e-02</th>\n",
       "      <td>16.224040</td>\n",
       "      <td>4.240223</td>\n",
       "      <td>87.953591</td>\n",
       "      <td>1259.529470</td>\n",
       "    </tr>\n",
       "    <tr>\n",
       "      <th>1.000000e-01</th>\n",
       "      <td>55.644573</td>\n",
       "      <td>20.417019</td>\n",
       "      <td>232.210492</td>\n",
       "      <td>2758.889224</td>\n",
       "    </tr>\n",
       "    <tr>\n",
       "      <th>1.000000e+00</th>\n",
       "      <td>218.081889</td>\n",
       "      <td>93.121546</td>\n",
       "      <td>1806.676547</td>\n",
       "      <td>10281.882413</td>\n",
       "    </tr>\n",
       "    <tr>\n",
       "      <th>1.000000e+01</th>\n",
       "      <td>430.028635</td>\n",
       "      <td>315.280360</td>\n",
       "      <td>2342.076609</td>\n",
       "      <td>60039.330064</td>\n",
       "    </tr>\n",
       "  </tbody>\n",
       "</table>\n",
       "</div>"
      ],
      "text/plain": [
       "type                 Opt      Oracle      Poisson           kdd\n",
       "s                                                              \n",
       "1.000000e-08    0.004255    0.002257     0.377543      0.228007\n",
       "1.000000e-07    0.013699    0.006435     0.708564      0.571351\n",
       "1.000000e-06    0.058041    0.013762     1.468919      1.378015\n",
       "1.000000e-05    0.229522    0.074677     4.076188      4.230126\n",
       "1.000000e-04    0.866249    0.287207     9.320475     16.104886\n",
       "1.000000e-03    3.766542    0.898753    25.476946    281.915090\n",
       "1.000000e-02   16.224040    4.240223    87.953591   1259.529470\n",
       "1.000000e-01   55.644573   20.417019   232.210492   2758.889224\n",
       "1.000000e+00  218.081889   93.121546  1806.676547  10281.882413\n",
       "1.000000e+01  430.028635  315.280360  2342.076609  60039.330064"
      ]
     },
     "execution_count": 168,
     "metadata": {},
     "output_type": "execute_result"
    }
   ],
   "source": [
    "hawkes_res_higher_beta.df.pivot_table(index='s', columns='type', values='r_2', aggfunc=np.std)"
   ]
  },
  {
   "cell_type": "code",
   "execution_count": 222,
   "metadata": {
    "collapsed": false
   },
   "outputs": [
    {
     "data": {
      "image/png": "[encoded data removed]",
      "text/plain": [
       "<matplotlib.figure.Figure at 0x7fc8031c0c18>"
      ]
     },
     "metadata": {},
     "output_type": "display_data"
    }
   ],
   "source": [
    "rank_plot(piecewise_res, 'avg_rank', None, legend=True, fig_width=8)"
   ]
  },
  {
   "cell_type": "code",
   "execution_count": 335,
   "metadata": {
    "collapsed": false
   },
   "outputs": [],
   "source": [
    "@optioned(option_arg='opts')\n",
    "def top_k_plot(res, field, file_name, K=None, with_std=True, save=False, legend=False, fig_width=None, largeFonts=False):\n",
    "    vals = res.df.pivot_table(index='s', columns='type', values=field, aggfunc='mean')\n",
    "    std  = res.df.pivot_table(index='s', columns='type', values=field, aggfunc=np.std)\n",
    "    \n",
    "    if K is None:\n",
    "        assert field.startswith('top_')\n",
    "        K = int(field[len('top_'):])\n",
    "\n",
    "    if fig_width is None:\n",
    "        fig_width = 1.75\n",
    "        \n",
    "    latexify(fig_width=fig_width, largeFonts=largeFonts)\n",
    "    c1, c2, c3, c4 = sns.mpl_palette('Set2', 4)\n",
    "\n",
    "    X = [np.mean(res.capacities[s]) for s in vals.index]\n",
    "    plt.errorbar(X, vals.Opt, fmt='s-', yerr=std.Opt.values, label='Optimal',  color=c1, markersize=3, linewidth=0.75)\n",
    "    # plt.errorbar(X, vals.Poisson, fmt='o-', yerr=std.Poisson.values, label='Poisson', color=c2, markersize=3, linewidth=0.75)\n",
    "    plt.errorbar(X, vals.Oracle, fmt='d-', yerr=std.Oracle.values, label='Oracle', color=c3, markersize=3, linewidth=0.75)\n",
    "    plt.errorbar(X, vals.kdd, fmt='^-', yerr=std.kdd.values, label='Karimi', color=c4, markersize=3, linewidth=0.75)\n",
    "    plt.xscale('log')\n",
    "    if legend:\n",
    "        plt.legend(loc=\"upper left\")\n",
    "    # plt.ylabel(r'$\\int {{I}}(r(t) < {})dt$'.format(K))\n",
    "    plt.xlabel(r'Budget')\n",
    "    plt.ylim(-5, 105)\n",
    "    plt.yticks([0, 50, 100])\n",
    "    plt.xlim(4.5, None)\n",
    "    plt.tight_layout()\n",
    "    format_axes(plt.gca())\n",
    "    if save:\n",
    "        plt.savefig(file_name, bbox_inches='tight', pad_inches=0)\n",
    "    # plt.savefig('/NL/stackexchange/work/prog/papers/online-twitter-broadcast/nips2016/figures/capacity-poisson-oracle-opt.pdf')\n",
    "    # plt.savefig('/NL/stackexchange/work/prog/papers/online-twitter-broadcast/nips2016/figures/capacity-poisson-oracle-opt-kdd.pdf')"
   ]
  },
  {
   "cell_type": "code",
   "execution_count": 183,
   "metadata": {
    "collapsed": false
   },
   "outputs": [
    {
     "data": {
      "text/html": [
       "<div>\n",
       "<table border=\"1\" class=\"dataframe\">\n",
       "  <thead>\n",
       "    <tr style=\"text-align: right;\">\n",
       "      <th>type</th>\n",
       "      <th>Opt</th>\n",
       "      <th>Oracle</th>\n",
       "      <th>Poisson</th>\n",
       "    </tr>\n",
       "    <tr>\n",
       "      <th>s</th>\n",
       "      <th></th>\n",
       "      <th></th>\n",
       "      <th></th>\n",
       "    </tr>\n",
       "  </thead>\n",
       "  <tbody>\n",
       "    <tr>\n",
       "      <th>0.000001</th>\n",
       "      <td>99.265603</td>\n",
       "      <td>99.887749</td>\n",
       "      <td>49.569384</td>\n",
       "    </tr>\n",
       "    <tr>\n",
       "      <th>0.000010</th>\n",
       "      <td>97.735429</td>\n",
       "      <td>99.869711</td>\n",
       "      <td>49.208997</td>\n",
       "    </tr>\n",
       "    <tr>\n",
       "      <th>0.000100</th>\n",
       "      <td>93.345349</td>\n",
       "      <td>99.660187</td>\n",
       "      <td>47.966030</td>\n",
       "    </tr>\n",
       "    <tr>\n",
       "      <th>0.001000</th>\n",
       "      <td>82.502168</td>\n",
       "      <td>98.137780</td>\n",
       "      <td>44.832798</td>\n",
       "    </tr>\n",
       "    <tr>\n",
       "      <th>0.010000</th>\n",
       "      <td>63.741640</td>\n",
       "      <td>90.497193</td>\n",
       "      <td>38.301633</td>\n",
       "    </tr>\n",
       "    <tr>\n",
       "      <th>0.100000</th>\n",
       "      <td>42.604444</td>\n",
       "      <td>69.574702</td>\n",
       "      <td>29.793909</td>\n",
       "    </tr>\n",
       "    <tr>\n",
       "      <th>1.000000</th>\n",
       "      <td>26.399126</td>\n",
       "      <td>45.733009</td>\n",
       "      <td>20.522375</td>\n",
       "    </tr>\n",
       "    <tr>\n",
       "      <th>10.000000</th>\n",
       "      <td>15.394732</td>\n",
       "      <td>29.057503</td>\n",
       "      <td>13.122382</td>\n",
       "    </tr>\n",
       "    <tr>\n",
       "      <th>100.000000</th>\n",
       "      <td>8.592110</td>\n",
       "      <td>17.542691</td>\n",
       "      <td>8.255395</td>\n",
       "    </tr>\n",
       "    <tr>\n",
       "      <th>1000.000000</th>\n",
       "      <td>5.210287</td>\n",
       "      <td>10.969606</td>\n",
       "      <td>5.399266</td>\n",
       "    </tr>\n",
       "  </tbody>\n",
       "</table>\n",
       "</div>"
      ],
      "text/plain": [
       "type               Opt     Oracle    Poisson\n",
       "s                                           \n",
       "0.000001     99.265603  99.887749  49.569384\n",
       "0.000010     97.735429  99.869711  49.208997\n",
       "0.000100     93.345349  99.660187  47.966030\n",
       "0.001000     82.502168  98.137780  44.832798\n",
       "0.010000     63.741640  90.497193  38.301633\n",
       "0.100000     42.604444  69.574702  29.793909\n",
       "1.000000     26.399126  45.733009  20.522375\n",
       "10.000000    15.394732  29.057503  13.122382\n",
       "100.000000    8.592110  17.542691   8.255395\n",
       "1000.000000   5.210287  10.969606   5.399266"
      ]
     },
     "execution_count": 183,
     "metadata": {},
     "output_type": "execute_result"
    }
   ],
   "source": [
    "piecewise_res.df.pivot_table(index='s', columns='type', values='top_1')"
   ]
  },
  {
   "cell_type": "code",
   "execution_count": 333,
   "metadata": {
    "collapsed": false
   },
   "outputs": [
    {
     "data": {
      "image/png": "[encoded data removed]",
      "text/plain": [
       "<matplotlib.figure.Figure at 0x7fc8033b1630>"
      ]
     },
     "metadata": {},
     "output_type": "display_data"
    }
   ],
   "source": [
    "top_k_plot(poisson_res_2, 'top_1', '/tmp/test.pdf', save=False, fig_width=5, largeFonts=True)"
   ]
  },
  {
   "cell_type": "code",
   "execution_count": 188,
   "metadata": {
    "collapsed": false
   },
   "outputs": [
    {
     "data": {
      "text/plain": [
       "Index(['avg_rank', 'num_events', 'r_2', 's', 'seed', 'top_1', 'type',\n",
       "       'world_events'],\n",
       "      dtype='object')"
      ]
     },
     "execution_count": 188,
     "metadata": {},
     "output_type": "execute_result"
    }
   ],
   "source": [
    "poisson_res_2.df.columns"
   ]
  },
  {
   "cell_type": "code",
   "execution_count": 250,
   "metadata": {
    "collapsed": false
   },
   "outputs": [
    {
     "data": {
      "text/html": [
       "<div>\n",
       "<table border=\"1\" class=\"dataframe\">\n",
       "  <thead>\n",
       "    <tr style=\"text-align: right;\">\n",
       "      <th></th>\n",
       "      <th>avg_rank</th>\n",
       "      <th>num_events</th>\n",
       "      <th>r_2</th>\n",
       "      <th>s</th>\n",
       "      <th>seed</th>\n",
       "      <th>top_1</th>\n",
       "      <th>top_5</th>\n",
       "      <th>world_events</th>\n",
       "    </tr>\n",
       "  </thead>\n",
       "  <tbody>\n",
       "    <tr>\n",
       "      <th>count</th>\n",
       "      <td>100.000000</td>\n",
       "      <td>100.000000</td>\n",
       "      <td>100.000000</td>\n",
       "      <td>100.000000</td>\n",
       "      <td>100.000000</td>\n",
       "      <td>100.000000</td>\n",
       "      <td>100.000000</td>\n",
       "      <td>100.000000</td>\n",
       "    </tr>\n",
       "    <tr>\n",
       "      <th>mean</th>\n",
       "      <td>3775.626447</td>\n",
       "      <td>271.450000</td>\n",
       "      <td>930276.062968</td>\n",
       "      <td>1063771.421300</td>\n",
       "      <td>4.500000</td>\n",
       "      <td>16.792321</td>\n",
       "      <td>45.866765</td>\n",
       "      <td>998.400000</td>\n",
       "    </tr>\n",
       "    <tr>\n",
       "      <th>std</th>\n",
       "      <td>6877.641685</td>\n",
       "      <td>318.522294</td>\n",
       "      <td>3746813.663833</td>\n",
       "      <td>2999066.878561</td>\n",
       "      <td>2.886751</td>\n",
       "      <td>17.185526</td>\n",
       "      <td>36.256616</td>\n",
       "      <td>24.631424</td>\n",
       "    </tr>\n",
       "    <tr>\n",
       "      <th>min</th>\n",
       "      <td>101.417892</td>\n",
       "      <td>0.000000</td>\n",
       "      <td>286.276565</td>\n",
       "      <td>0.000100</td>\n",
       "      <td>0.000000</td>\n",
       "      <td>0.000000</td>\n",
       "      <td>0.525209</td>\n",
       "      <td>956.000000</td>\n",
       "    </tr>\n",
       "    <tr>\n",
       "      <th>25%</th>\n",
       "      <td>205.294872</td>\n",
       "      <td>18.750000</td>\n",
       "      <td>1026.565139</td>\n",
       "      <td>0.027826</td>\n",
       "      <td>2.000000</td>\n",
       "      <td>1.726655</td>\n",
       "      <td>9.158226</td>\n",
       "      <td>980.000000</td>\n",
       "    </tr>\n",
       "    <tr>\n",
       "      <th>50%</th>\n",
       "      <td>937.210705</td>\n",
       "      <td>102.000000</td>\n",
       "      <td>17952.364853</td>\n",
       "      <td>68.448802</td>\n",
       "      <td>4.500000</td>\n",
       "      <td>8.554189</td>\n",
       "      <td>38.553385</td>\n",
       "      <td>993.500000</td>\n",
       "    </tr>\n",
       "    <tr>\n",
       "      <th>75%</th>\n",
       "      <td>4467.226670</td>\n",
       "      <td>494.750000</td>\n",
       "      <td>355991.808174</td>\n",
       "      <td>35938.136638</td>\n",
       "      <td>7.000000</td>\n",
       "      <td>32.230900</td>\n",
       "      <td>85.744226</td>\n",
       "      <td>1022.000000</td>\n",
       "    </tr>\n",
       "    <tr>\n",
       "      <th>max</th>\n",
       "      <td>51602.111467</td>\n",
       "      <td>963.000000</td>\n",
       "      <td>34894547.293472</td>\n",
       "      <td>10000000.000000</td>\n",
       "      <td>9.000000</td>\n",
       "      <td>49.635027</td>\n",
       "      <td>97.436874</td>\n",
       "      <td>1035.000000</td>\n",
       "    </tr>\n",
       "  </tbody>\n",
       "</table>\n",
       "</div>"
      ],
      "text/plain": [
       "           avg_rank  num_events              r_2                s        seed  \\\n",
       "count    100.000000  100.000000       100.000000       100.000000  100.000000   \n",
       "mean    3775.626447  271.450000    930276.062968   1063771.421300    4.500000   \n",
       "std     6877.641685  318.522294   3746813.663833   2999066.878561    2.886751   \n",
       "min      101.417892    0.000000       286.276565         0.000100    0.000000   \n",
       "25%      205.294872   18.750000      1026.565139         0.027826    2.000000   \n",
       "50%      937.210705  102.000000     17952.364853        68.448802    4.500000   \n",
       "75%     4467.226670  494.750000    355991.808174     35938.136638    7.000000   \n",
       "max    51602.111467  963.000000  34894547.293472  10000000.000000    9.000000   \n",
       "\n",
       "            top_1       top_5  world_events  \n",
       "count  100.000000  100.000000    100.000000  \n",
       "mean    16.792321   45.866765    998.400000  \n",
       "std     17.185526   36.256616     24.631424  \n",
       "min      0.000000    0.525209    956.000000  \n",
       "25%      1.726655    9.158226    980.000000  \n",
       "50%      8.554189   38.553385    993.500000  \n",
       "75%     32.230900   85.744226   1022.000000  \n",
       "max     49.635027   97.436874   1035.000000  "
      ]
     },
     "execution_count": 250,
     "metadata": {},
     "output_type": "execute_result"
    }
   ],
   "source": [
    "tmp = poisson_res_2.df\n",
    "tmp[tmp.type == 'Poisson'].describe()"
   ]
  },
  {
   "cell_type": "code",
   "execution_count": 251,
   "metadata": {
    "collapsed": false
   },
   "outputs": [
    {
     "data": {
      "text/html": [
       "<div>\n",
       "<table border=\"1\" class=\"dataframe\">\n",
       "  <thead>\n",
       "    <tr style=\"text-align: right;\">\n",
       "      <th></th>\n",
       "      <th>avg_rank</th>\n",
       "      <th>num_events</th>\n",
       "      <th>r_2</th>\n",
       "      <th>s</th>\n",
       "      <th>seed</th>\n",
       "      <th>top_1</th>\n",
       "      <th>top_5</th>\n",
       "      <th>world_events</th>\n",
       "    </tr>\n",
       "  </thead>\n",
       "  <tbody>\n",
       "    <tr>\n",
       "      <th>count</th>\n",
       "      <td>100.000000</td>\n",
       "      <td>100.000000</td>\n",
       "      <td>100.000000</td>\n",
       "      <td>100.000000</td>\n",
       "      <td>100.000000</td>\n",
       "      <td>100.000000</td>\n",
       "      <td>100.000000</td>\n",
       "      <td>100.000000</td>\n",
       "    </tr>\n",
       "    <tr>\n",
       "      <th>mean</th>\n",
       "      <td>4620.816542</td>\n",
       "      <td>301.930000</td>\n",
       "      <td>1435908.914914</td>\n",
       "      <td>1063771.421300</td>\n",
       "      <td>4.500000</td>\n",
       "      <td>16.515543</td>\n",
       "      <td>44.783209</td>\n",
       "      <td>1155.500000</td>\n",
       "    </tr>\n",
       "    <tr>\n",
       "      <th>std</th>\n",
       "      <td>8514.776225</td>\n",
       "      <td>360.750124</td>\n",
       "      <td>5029173.581471</td>\n",
       "      <td>2999066.878561</td>\n",
       "      <td>2.886751</td>\n",
       "      <td>17.136917</td>\n",
       "      <td>36.462044</td>\n",
       "      <td>33.881105</td>\n",
       "    </tr>\n",
       "    <tr>\n",
       "      <th>min</th>\n",
       "      <td>94.909487</td>\n",
       "      <td>0.000000</td>\n",
       "      <td>281.466563</td>\n",
       "      <td>0.000100</td>\n",
       "      <td>0.000000</td>\n",
       "      <td>0.000000</td>\n",
       "      <td>0.138730</td>\n",
       "      <td>1113.000000</td>\n",
       "    </tr>\n",
       "    <tr>\n",
       "      <th>25%</th>\n",
       "      <td>217.732407</td>\n",
       "      <td>20.500000</td>\n",
       "      <td>1139.069265</td>\n",
       "      <td>0.027826</td>\n",
       "      <td>2.000000</td>\n",
       "      <td>1.706495</td>\n",
       "      <td>9.025254</td>\n",
       "      <td>1126.000000</td>\n",
       "    </tr>\n",
       "    <tr>\n",
       "      <th>50%</th>\n",
       "      <td>1071.553104</td>\n",
       "      <td>111.500000</td>\n",
       "      <td>23536.617241</td>\n",
       "      <td>68.448802</td>\n",
       "      <td>4.500000</td>\n",
       "      <td>8.259371</td>\n",
       "      <td>36.931077</td>\n",
       "      <td>1147.000000</td>\n",
       "    </tr>\n",
       "    <tr>\n",
       "      <th>75%</th>\n",
       "      <td>4980.140291</td>\n",
       "      <td>529.500000</td>\n",
       "      <td>416858.523927</td>\n",
       "      <td>35938.136638</td>\n",
       "      <td>7.000000</td>\n",
       "      <td>30.852401</td>\n",
       "      <td>85.071333</td>\n",
       "      <td>1198.000000</td>\n",
       "    </tr>\n",
       "    <tr>\n",
       "      <th>max</th>\n",
       "      <td>56634.343917</td>\n",
       "      <td>1087.000000</td>\n",
       "      <td>42792074.660449</td>\n",
       "      <td>10000000.000000</td>\n",
       "      <td>9.000000</td>\n",
       "      <td>51.374306</td>\n",
       "      <td>97.641337</td>\n",
       "      <td>1207.000000</td>\n",
       "    </tr>\n",
       "  </tbody>\n",
       "</table>\n",
       "</div>"
      ],
      "text/plain": [
       "           avg_rank   num_events              r_2                s  \\\n",
       "count    100.000000   100.000000       100.000000       100.000000   \n",
       "mean    4620.816542   301.930000   1435908.914914   1063771.421300   \n",
       "std     8514.776225   360.750124   5029173.581471   2999066.878561   \n",
       "min       94.909487     0.000000       281.466563         0.000100   \n",
       "25%      217.732407    20.500000      1139.069265         0.027826   \n",
       "50%     1071.553104   111.500000     23536.617241        68.448802   \n",
       "75%     4980.140291   529.500000    416858.523927     35938.136638   \n",
       "max    56634.343917  1087.000000  42792074.660449  10000000.000000   \n",
       "\n",
       "             seed       top_1       top_5  world_events  \n",
       "count  100.000000  100.000000  100.000000    100.000000  \n",
       "mean     4.500000   16.515543   44.783209   1155.500000  \n",
       "std      2.886751   17.136917   36.462044     33.881105  \n",
       "min      0.000000    0.000000    0.138730   1113.000000  \n",
       "25%      2.000000    1.706495    9.025254   1126.000000  \n",
       "50%      4.500000    8.259371   36.931077   1147.000000  \n",
       "75%      7.000000   30.852401   85.071333   1198.000000  \n",
       "max      9.000000   51.374306   97.641337   1207.000000  "
      ]
     },
     "execution_count": 251,
     "metadata": {},
     "output_type": "execute_result"
    }
   ],
   "source": [
    "tmp = hawkes_res_2.df\n",
    "tmp[tmp.type == 'Poisson'].describe()"
   ]
  },
  {
   "cell_type": "code",
   "execution_count": 253,
   "metadata": {
    "collapsed": false
   },
   "outputs": [
    {
     "data": {
      "text/html": [
       "<div>\n",
       "<table border=\"1\" class=\"dataframe\">\n",
       "  <thead>\n",
       "    <tr style=\"text-align: right;\">\n",
       "      <th></th>\n",
       "      <th>avg_rank</th>\n",
       "      <th>num_events</th>\n",
       "      <th>r_2</th>\n",
       "      <th>s</th>\n",
       "      <th>seed</th>\n",
       "      <th>top_1</th>\n",
       "      <th>top_5</th>\n",
       "      <th>world_events</th>\n",
       "    </tr>\n",
       "  </thead>\n",
       "  <tbody>\n",
       "    <tr>\n",
       "      <th>count</th>\n",
       "      <td>100.000000</td>\n",
       "      <td>100.000000</td>\n",
       "      <td>100.000000</td>\n",
       "      <td>100.000000</td>\n",
       "      <td>100.000000</td>\n",
       "      <td>100.000000</td>\n",
       "      <td>100.000000</td>\n",
       "      <td>100.000000</td>\n",
       "    </tr>\n",
       "    <tr>\n",
       "      <th>mean</th>\n",
       "      <td>2999.325583</td>\n",
       "      <td>220.010000</td>\n",
       "      <td>565300.529805</td>\n",
       "      <td>1063771.421300</td>\n",
       "      <td>4.500000</td>\n",
       "      <td>18.048286</td>\n",
       "      <td>48.686186</td>\n",
       "      <td>754.700000</td>\n",
       "    </tr>\n",
       "    <tr>\n",
       "      <th>std</th>\n",
       "      <td>5323.113679</td>\n",
       "      <td>249.077023</td>\n",
       "      <td>2132068.274656</td>\n",
       "      <td>2999066.878561</td>\n",
       "      <td>2.886751</td>\n",
       "      <td>17.429374</td>\n",
       "      <td>35.935099</td>\n",
       "      <td>25.085913</td>\n",
       "    </tr>\n",
       "    <tr>\n",
       "      <th>min</th>\n",
       "      <td>93.517316</td>\n",
       "      <td>0.000000</td>\n",
       "      <td>245.415447</td>\n",
       "      <td>0.000100</td>\n",
       "      <td>0.000000</td>\n",
       "      <td>0.000000</td>\n",
       "      <td>0.565336</td>\n",
       "      <td>715.000000</td>\n",
       "    </tr>\n",
       "    <tr>\n",
       "      <th>25%</th>\n",
       "      <td>184.210533</td>\n",
       "      <td>18.000000</td>\n",
       "      <td>865.050901</td>\n",
       "      <td>0.027826</td>\n",
       "      <td>2.000000</td>\n",
       "      <td>2.726000</td>\n",
       "      <td>12.729771</td>\n",
       "      <td>736.000000</td>\n",
       "    </tr>\n",
       "    <tr>\n",
       "      <th>50%</th>\n",
       "      <td>763.677975</td>\n",
       "      <td>93.500000</td>\n",
       "      <td>13713.628282</td>\n",
       "      <td>68.448802</td>\n",
       "      <td>4.500000</td>\n",
       "      <td>11.058082</td>\n",
       "      <td>45.657781</td>\n",
       "      <td>749.000000</td>\n",
       "    </tr>\n",
       "    <tr>\n",
       "      <th>75%</th>\n",
       "      <td>3559.701735</td>\n",
       "      <td>412.500000</td>\n",
       "      <td>210573.253905</td>\n",
       "      <td>35938.136638</td>\n",
       "      <td>7.000000</td>\n",
       "      <td>34.647645</td>\n",
       "      <td>88.574192</td>\n",
       "      <td>776.000000</td>\n",
       "    </tr>\n",
       "    <tr>\n",
       "      <th>max</th>\n",
       "      <td>39128.203550</td>\n",
       "      <td>743.000000</td>\n",
       "      <td>19743325.457668</td>\n",
       "      <td>10000000.000000</td>\n",
       "      <td>9.000000</td>\n",
       "      <td>50.042244</td>\n",
       "      <td>98.029689</td>\n",
       "      <td>799.000000</td>\n",
       "    </tr>\n",
       "  </tbody>\n",
       "</table>\n",
       "</div>"
      ],
      "text/plain": [
       "           avg_rank  num_events              r_2                s        seed  \\\n",
       "count    100.000000  100.000000       100.000000       100.000000  100.000000   \n",
       "mean    2999.325583  220.010000    565300.529805   1063771.421300    4.500000   \n",
       "std     5323.113679  249.077023   2132068.274656   2999066.878561    2.886751   \n",
       "min       93.517316    0.000000       245.415447         0.000100    0.000000   \n",
       "25%      184.210533   18.000000       865.050901         0.027826    2.000000   \n",
       "50%      763.677975   93.500000     13713.628282        68.448802    4.500000   \n",
       "75%     3559.701735  412.500000    210573.253905     35938.136638    7.000000   \n",
       "max    39128.203550  743.000000  19743325.457668  10000000.000000    9.000000   \n",
       "\n",
       "            top_1       top_5  world_events  \n",
       "count  100.000000  100.000000    100.000000  \n",
       "mean    18.048286   48.686186    754.700000  \n",
       "std     17.429374   35.935099     25.085913  \n",
       "min      0.000000    0.565336    715.000000  \n",
       "25%      2.726000   12.729771    736.000000  \n",
       "50%     11.058082   45.657781    749.000000  \n",
       "75%     34.647645   88.574192    776.000000  \n",
       "max     50.042244   98.029689    799.000000  "
      ]
     },
     "execution_count": 253,
     "metadata": {},
     "output_type": "execute_result"
    }
   ],
   "source": [
    "tmp = piecewise_res_2.df\n",
    "tmp[tmp.type == 'Poisson'].describe()"
   ]
  },
  {
   "cell_type": "code",
   "execution_count": null,
   "metadata": {
    "collapsed": true
   },
   "outputs": [],
   "source": []
  },
  {
   "cell_type": "code",
   "execution_count": 249,
   "metadata": {
    "collapsed": false
   },
   "outputs": [
    {
     "data": {
      "image/png": "[encoded data removed]",
      "text/plain": [
       "<matplotlib.figure.Figure at 0x7fc80888d198>"
      ]
     },
     "metadata": {},
     "output_type": "display_data"
    }
   ],
   "source": [
    "top_k_plot(hawkes_res_2, 'top_1', None)"
   ]
  },
  {
   "cell_type": "code",
   "execution_count": 252,
   "metadata": {
    "collapsed": false
   },
   "outputs": [
    {
     "data": {
      "image/png": "[encoded data removed]",
      "text/plain": [
       "<matplotlib.figure.Figure at 0x7fc8398b79e8>"
      ]
     },
     "metadata": {},
     "output_type": "display_data"
    }
   ],
   "source": [
    "top_k_plot(piecewise_res_2, 'top_1', '/tmp/test.pdf', save=False)"
   ]
  },
  {
   "cell_type": "markdown",
   "metadata": {
    "collapsed": true
   },
   "source": [
    "## Plots"
   ]
  },
  {
   "cell_type": "code",
   "execution_count": null,
   "metadata": {
    "collapsed": true
   },
   "outputs": [],
   "source": [
    "import os\n",
    "# base = '/NL/stackexchange/work/prog/papers/online-twitter-broadcast/nips2016/figures/'"
   ]
  },
  {
   "cell_type": "code",
   "execution_count": null,
   "metadata": {
    "collapsed": false
   },
   "outputs": [],
   "source": [
    "poisson_res.raw_results[0]"
   ]
  },
  {
   "cell_type": "code",
   "execution_count": 336,
   "metadata": {
    "collapsed": false
   },
   "outputs": [
    {
     "name": "stdout",
     "output_type": "stream",
     "text": [
      "CPU times: user 15.4 s, sys: 2.33 s, total: 17.7 s\n",
      "Wall time: 26.9 s\n"
     ]
    }
   ],
   "source": [
    "%%time\n",
    "plot_base = '/NL/stackexchange/work/prog/papers/online-twitter-broadcast/nips2016/figures/'\n",
    "for name, res in [('poisson', poisson_res_2), ('hawkes', hawkes_res_2)]: # , ('piecewise', piecewise_res_2)]:\n",
    "    file_name = os.path.join(plot_base, 'avg-rank-{}-wall.pdf'.format(name))\n",
    "    rank_plot(res, 'avg_rank', file_name, save=True)\n",
    "    plt.close()\n",
    "    \n",
    "    file_name = os.path.join(plot_base, 'r2-{}-wall.pdf'.format(name))\n",
    "    rank_plot(res, 'r_2', file_name, save=True)\n",
    "    plt.close()\n",
    "    \n",
    "    file_name = os.path.join(plot_base, 'r2-{}-wall-linear.pdf'.format(name))\n",
    "    rank_plot(res, 'r_2', file_name, save=True, log_y=False)\n",
    "    plt.close()\n",
    "    \n",
    "    file_name = os.path.join(plot_base, 'avg-rank-{}-wall-linear.pdf'.format(name))\n",
    "    rank_plot(res, 'avg_rank', file_name, save=True, log_y=False)\n",
    "    plt.close()\n",
    "    \n",
    "    for k in [1]:\n",
    "        file_name = os.path.join(plot_base, 'top-{}-{}-wall.pdf'.format(k, name))\n",
    "        top_k_plot(res, 'top_{}'.format(k), file_name, save=True)\n",
    "        plt.close()"
   ]
  },
  {
   "cell_type": "code",
   "execution_count": null,
   "metadata": {
    "collapsed": true
   },
   "outputs": [],
   "source": []
  },
  {
   "cell_type": "code",
   "execution_count": 146,
   "metadata": {
    "collapsed": false
   },
   "outputs": [
    {
     "data": {
      "text/plain": [
       "2.0"
      ]
     },
     "execution_count": 146,
     "metadata": {},
     "output_type": "execute_result"
    }
   ],
   "source": [
    "simulation_opts.world_beta"
   ]
  },
  {
   "cell_type": "code",
   "execution_count": 79,
   "metadata": {
    "collapsed": true
   },
   "outputs": [],
   "source": [
    "%run -i opt_model.py"
   ]
  },
  {
   "cell_type": "code",
   "execution_count": 33,
   "metadata": {
    "collapsed": false
   },
   "outputs": [
    {
     "name": "stdout",
     "output_type": "stream",
     "text": [
      "CPU times: user 0 ns, sys: 0 ns, total: 0 ns\n",
      "Wall time: 52.9 µs\n"
     ]
    }
   ],
   "source": [
    "%%time\n",
    "def plot_intensity(sim_opts, name):\n",
    "    wall_mgr = sim_opts.create_manager_for_wall()\n",
    "    wall_mgr.run()\n",
    "    assert len(wall_mgr.sources) == 1\n",
    "    broadcaster = wall_mgr.sources[0]\n",
    "    X = np.linspace(start=0, stop=sim_opts.end_time, num=100)\n",
    "    Y = [broadcaster.get_rate(t) for t in X]\n",
    "    latexify(columns=1, largeFonts=False)\n",
    "    plt.plot(X, Y)\n",
    "    plt.xlabel('Time')\n",
    "    plt.ylabel(r'$\\lambda(t)$')\n",
    "    plt.title('Sample intensity of {} wall'.format(name))\n",
    "    plt.tight_layout()\n",
    "    format_axes(plt.gca())"
   ]
  },
  {
   "cell_type": "code",
   "execution_count": 34,
   "metadata": {
    "collapsed": false
   },
   "outputs": [
    {
     "name": "stdout",
     "output_type": "stream",
     "text": [
      "CPU times: user 2.45 s, sys: 457 ms, total: 2.91 s\n",
      "Wall time: 7.08 s\n"
     ]
    },
    {
     "data": {
      "image/png": "[encoded data removed]",
      "text/plain": [
       "<matplotlib.figure.Figure at 0x7fc80364c400>"
      ]
     },
     "metadata": {},
     "output_type": "display_data"
    }
   ],
   "source": [
    "%%time\n",
    "plot_intensity(SimOpts.std_hawkes(world_seed=1, \n",
    "                                  world_beta=10, \n",
    "                                  world_alpha=1, \n",
    "                                  world_lambda_0=1000).update({'end_time': 2}),\n",
    "               'Hawkes')"
   ]
  },
  {
   "cell_type": "code",
   "execution_count": 236,
   "metadata": {
    "collapsed": false
   },
   "outputs": [
    {
     "data": {
      "image/png": "[encoded data removed]",
      "text/plain": [
       "<matplotlib.figure.Figure at 0x7fc802d966a0>"
      ]
     },
     "metadata": {},
     "output_type": "display_data"
    }
   ],
   "source": [
    "plot_intensity(hawkes_inf_opts.sim_opts_gen(5), 'Hawkes')\n",
    "plt.savefig(os.path.join(plot_base, 'hawkes_intensity.pdf'), bbox_inches='tight', pad_inches=0)"
   ]
  },
  {
   "cell_type": "code",
   "execution_count": 237,
   "metadata": {
    "collapsed": false
   },
   "outputs": [
    {
     "data": {
      "image/png": "[encoded data removed]",
      "text/plain": [
       "<matplotlib.figure.Figure at 0x7fc802599c88>"
      ]
     },
     "metadata": {},
     "output_type": "display_data"
    }
   ],
   "source": [
    "plot_intensity(piecewise_inf_opts.sim_opts_gen(5), 'Piecewise constant')\n",
    "plt.savefig(os.path.join(plot_base, 'piecewise_const_intenstiy.pdf'),  bbox_inches='tight', pad_inches=0)"
   ]
  },
  {
   "cell_type": "code",
   "execution_count": null,
   "metadata": {
    "collapsed": true
   },
   "outputs": [],
   "source": []
  },
  {
   "cell_type": "code",
   "execution_count": null,
   "metadata": {
    "collapsed": true
   },
   "outputs": [],
   "source": []
  },
  {
   "cell_type": "code",
   "execution_count": null,
   "metadata": {
    "collapsed": true
   },
   "outputs": [],
   "source": []
  },
  {
   "cell_type": "code",
   "execution_count": null,
   "metadata": {
    "collapsed": true
   },
   "outputs": [],
   "source": []
  },
  {
   "cell_type": "code",
   "execution_count": null,
   "metadata": {
    "collapsed": true
   },
   "outputs": [],
   "source": []
  },
  {
   "cell_type": "code",
   "execution_count": null,
   "metadata": {
    "collapsed": true
   },
   "outputs": [],
   "source": []
  },
  {
   "cell_type": "code",
   "execution_count": null,
   "metadata": {
    "collapsed": true
   },
   "outputs": [],
   "source": []
  },
  {
   "cell_type": "code",
   "execution_count": null,
   "metadata": {
    "collapsed": true
   },
   "outputs": [],
   "source": []
  },
  {
   "cell_type": "code",
   "execution_count": null,
   "metadata": {
    "collapsed": true
   },
   "outputs": [],
   "source": []
  },
  {
   "cell_type": "code",
   "execution_count": null,
   "metadata": {
    "collapsed": true
   },
   "outputs": [],
   "source": []
  },
  {
   "cell_type": "code",
   "execution_count": null,
   "metadata": {
    "collapsed": true
   },
   "outputs": [],
   "source": []
  },
  {
   "cell_type": "code",
   "execution_count": 194,
   "metadata": {
    "collapsed": false
   },
   "outputs": [],
   "source": [
    "%run -i utils.py"
   ]
  },
  {
   "cell_type": "code",
   "execution_count": 195,
   "metadata": {
    "collapsed": false
   },
   "outputs": [],
   "source": [
    "sim_opts = SimOpts.std_hawkes(world_seed=101, world_lambda_0=0\n",
    "wall_mgr = sim_opts.create_manager_for_wall()\n",
    "wall_mgr.run()\n",
    "df = wall_mgr.state.get_dataframe()"
   ]
  },
  {
   "cell_type": "code",
   "execution_count": 196,
   "metadata": {
    "collapsed": false
   },
   "outputs": [
    {
     "name": "stdout",
     "output_type": "stream",
     "text": [
      "CPU times: user 5.42 s, sys: 3.33 ms, total: 5.42 s\n",
      "Wall time: 5.42 s\n"
     ]
    }
   ],
   "source": [
    "%time or_new, J_new = oracle_ranking_new(df=df, sim_opts=sim_opts)"
   ]
  },
  {
   "cell_type": "code",
   "execution_count": 197,
   "metadata": {
    "collapsed": false
   },
   "outputs": [
    {
     "name": "stdout",
     "output_type": "stream",
     "text": [
      "CPU times: user 4.91 s, sys: 3.33 ms, total: 4.91 s\n",
      "Wall time: 4.91 s\n"
     ]
    }
   ],
   "source": [
    "%time or_old, J_old = oracle_ranking(df=df, sim_opts=sim_opts)"
   ]
  },
  {
   "cell_type": "markdown",
   "metadata": {
    "collapsed": true
   },
   "source": [
    "## Compare against Mohammed's method"
   ]
  },
  {
   "cell_type": "code",
   "execution_count": null,
   "metadata": {
    "collapsed": true
   },
   "outputs": [],
   "source": []
  },
  {
   "cell_type": "code",
   "execution_count": 47,
   "metadata": {
    "collapsed": false
   },
   "outputs": [],
   "source": [
    "import broadcast.data as Bdata\n",
    "import broadcast.opt.optimizer as Bopt"
   ]
  },
  {
   "cell_type": "code",
   "execution_count": 127,
   "metadata": {
    "collapsed": false
   },
   "outputs": [
    {
     "data": {
      "text/plain": [
       "<module 'broadcast.opt.optimizer' from '/NL/stackexchange/work/prog/broadcast_ref/broadcast/opt/optimizer.py'>"
      ]
     },
     "execution_count": 127,
     "metadata": {},
     "output_type": "execute_result"
    }
   ],
   "source": [
    "reload(Bopt)"
   ]
  },
  {
   "cell_type": "code",
   "execution_count": 162,
   "metadata": {
    "collapsed": false
   },
   "outputs": [
    {
     "name": "stdout",
     "output_type": "stream",
     "text": [
      "Done within 5 iterations!\n"
     ]
    }
   ],
   "source": [
    "world_rate = 1.0\n",
    "num_segments = 10\n",
    "K = 1\n",
    "T = 1000.0\n",
    "\n",
    "rs = np.random.RandomState(42)\n",
    "low_high_ratio = 0.75\n",
    "world_rates = rs.uniform(low=world_rate * (1 - low_high_ratio),\n",
    "                         high=world_rate * (1 + low_high_ratio), \n",
    "                         size=num_segments)\n",
    "\n",
    "# wall_mgr = (SimOpts.std_poisson(world_rate=world_rate, world_seed=0)\n",
    "sim_opts = (SimOpts.std_piecewise_const(world_seed=1, world_rates=world_rates, \n",
    "                                        world_change_times=np.arange(num_segments) / num_segments * T)\n",
    "            .update({ 'end_time': T }))\n",
    "wall_mgr = sim_opts.create_manager_for_wall()\n",
    "wall_mgr.run()\n",
    "\n",
    "wall_df = wall_mgr.state.get_dataframe()\n",
    "wall_intensities = wall_df.groupby((wall_df.t.values / T * num_segments).astype(int)).size() / (T / num_segments)\n",
    "# wall_intensities = np.asarray([1000] * num_segments)\n",
    "# wall_intensities = world_rates\n",
    "\n",
    "follower_wall_intensities = np.array([wall_intensities])\n",
    "follower_conn_prob = np.array([[1.0] * num_segments])\n",
    "follower_weights = np.array([1.0])\n",
    "\n",
    "def _util(x):\n",
    "    return Bopt.utils.weighted_top_k(x, follower_wall_intensities, follower_conn_prob, follower_weights, K)\n",
    "\n",
    "def _util_grad(x):\n",
    "    return Bopt.utils.weighted_top_k_grad(x, follower_wall_intensities, follower_conn_prob, follower_weights, K)\n",
    "\n",
    "x0 = np.ones(num_segments)\n",
    "budget = 100.0\n",
    "upper_bounds = np.array([1e6] * num_segments)\n",
    "threshold=0.005 # Relative tolerance for convergence\n",
    "\n",
    "kdd_opt = Bopt.optimize(util=_util, \n",
    "                        util_grad=_util_grad, \n",
    "                        budget=budget, \n",
    "                        upper_bounds=upper_bounds, \n",
    "                        threshold=threshold, \n",
    "                        x0=x0, verbose=True)"
   ]
  },
  {
   "cell_type": "code",
   "execution_count": 154,
   "metadata": {
    "collapsed": false
   },
   "outputs": [
    {
     "data": {
      "text/plain": [
       "array([ 0.812,  1.676,  1.348,  1.148,  0.484,  0.484,  0.337,  1.549,\n",
       "        1.152,  1.312])"
      ]
     },
     "execution_count": 154,
     "metadata": {},
     "output_type": "execute_result"
    }
   ],
   "source": [
    "world_rates"
   ]
  },
  {
   "cell_type": "code",
   "execution_count": 147,
   "metadata": {
    "collapsed": false
   },
   "outputs": [
    {
     "data": {
      "text/plain": [
       "array([ 53.055,   6.363,   6.315,   5.989,   3.975,   3.839,   2.812,\n",
       "         6.408,   5.859,   5.384])"
      ]
     },
     "execution_count": 147,
     "metadata": {},
     "output_type": "execute_result"
    }
   ],
   "source": [
    "kdd_opt"
   ]
  },
  {
   "cell_type": "code",
   "execution_count": 142,
   "metadata": {
    "collapsed": false
   },
   "outputs": [
    {
     "data": {
      "text/plain": [
       "9.0479951229125444"
      ]
     },
     "execution_count": 142,
     "metadata": {},
     "output_type": "execute_result"
    }
   ],
   "source": [
    "Bopt.utils.weighted_top_k(kdd_opt, follower_wall_intensities, follower_conn_prob, follower_weights, K)"
   ]
  },
  {
   "cell_type": "code",
   "execution_count": 137,
   "metadata": {
    "collapsed": false
   },
   "outputs": [
    {
     "data": {
      "text/plain": [
       "{'avg_rank': 10491.437269802806,\n",
       " 'avg_rank_1': 10491.437269802806,\n",
       " 'avg_rank_10': 61242.581748687509,\n",
       " 'avg_rank_20': 226590.96318318188,\n",
       " 'avg_rank_3': 13302.994162979969,\n",
       " 'avg_rank_5': 22690.897577060408,\n",
       " 'avg_rank_k': 1,\n",
       " 'kdd_opt_1': array([ 13.507,  11.172,  10.674,  10.245,   8.124,   8.024,   7.241,\n",
       "         10.954,  10.151,   9.908]),\n",
       " 'kdd_opt_10': array([ 87.022,   0.006,   2.713,   2.477,   1.292,   0.941,   0.945,\n",
       "          2.587,   2.014,   0.004]),\n",
       " 'kdd_opt_20': array([ 97.737,   0.007,   0.198,   0.394,   0.415,   0.416,   0.409,\n",
       "          0.371,   0.049,   0.005]),\n",
       " 'kdd_opt_3': array([ 36.915,   8.616,   8.249,   7.699,   5.296,   5.278,   4.345,\n",
       "          8.673,   7.624,   7.307]),\n",
       " 'kdd_opt_5': array([ 62.766,   4.773,   5.279,   4.714,   3.126,   3.145,   2.251,\n",
       "          5.331,   4.932,   3.682]),\n",
       " 'kdd_opt_iters_1': 5,\n",
       " 'kdd_opt_iters_10': 400,\n",
       " 'kdd_opt_iters_20': 480,\n",
       " 'kdd_opt_iters_3': 89,\n",
       " 'kdd_opt_iters_5': 234,\n",
       " 'r_2': 232479.11339480593,\n",
       " 'r_2_1': 232479.11339480593,\n",
       " 'r_2_10': 7446676.3657229822,\n",
       " 'r_2_20': 82912814.738168776,\n",
       " 'r_2_3': 443281.06305695965,\n",
       " 'r_2_5': 1063048.2991718631,\n",
       " 'r_2_k': 1,\n",
       " 's': 1.0,\n",
       " 'seed': 0,\n",
       " 'sim_opts': <__main__.SimOpts at 0x7fe7745dfac8>,\n",
       " 'top_1': 42.41191174800305,\n",
       " 'top_10': 208.8323772962332,\n",
       " 'top_20': 155.10799609149058,\n",
       " 'top_3': 211.93002047798115,\n",
       " 'top_5': 239.45177094304819,\n",
       " 'type': 'kdd',\n",
       " 'world_events': 1020}"
      ]
     },
     "execution_count": 137,
     "metadata": {},
     "output_type": "execute_result"
    }
   ],
   "source": [
    "worker_kdd((0, 100.0, 10, sim_opts, world_rates, None))"
   ]
  },
  {
   "cell_type": "code",
   "execution_count": 155,
   "metadata": {
    "collapsed": false
   },
   "outputs": [
    {
     "data": {
      "text/plain": [
       "array([ 0.812,  1.676,  1.348,  1.148,  0.484,  0.484,  0.337,  1.549,\n",
       "        1.152,  1.312])"
      ]
     },
     "execution_count": 155,
     "metadata": {},
     "output_type": "execute_result"
    }
   ],
   "source": [
    "wall_intensities"
   ]
  },
  {
   "cell_type": "code",
   "execution_count": 150,
   "metadata": {
    "collapsed": false
   },
   "outputs": [
    {
     "data": {
      "text/plain": [
       "0    0.70\n",
       "1    1.68\n",
       "2    1.43\n",
       "3    1.11\n",
       "4    0.55\n",
       "5    0.59\n",
       "6    0.42\n",
       "7    1.38\n",
       "8    1.10\n",
       "9    1.39\n",
       "dtype: float64"
      ]
     },
     "execution_count": 150,
     "metadata": {},
     "output_type": "execute_result"
    }
   ],
   "source": [
    "wall_intensities"
   ]
  },
  {
   "cell_type": "code",
   "execution_count": 120,
   "metadata": {
    "collapsed": false
   },
   "outputs": [
    {
     "data": {
      "text/plain": [
       "100.0"
      ]
     },
     "execution_count": 120,
     "metadata": {},
     "output_type": "execute_result"
    }
   ],
   "source": [
    "kdd_opt"
   ]
  },
  {
   "cell_type": "code",
   "execution_count": 78,
   "metadata": {
    "collapsed": false
   },
   "outputs": [
    {
     "data": {
      "text/plain": [
       "100.0"
      ]
     },
     "execution_count": 78,
     "metadata": {},
     "output_type": "execute_result"
    }
   ],
   "source": [
    "sum(kdd_opt)"
   ]
  },
  {
   "cell_type": "code",
   "execution_count": 79,
   "metadata": {
    "collapsed": true
   },
   "outputs": [],
   "source": [
    "sim_opts = SimOpts.std_piecewise_const(world_seed=0, world_change_times=np.arange(num_segments) * (T / num_segments), \n",
    "                                       world_rates=kdd_opt * 10)"
   ]
  },
  {
   "cell_type": "code",
   "execution_count": 80,
   "metadata": {
    "collapsed": true
   },
   "outputs": [],
   "source": [
    "wall_mgr = sim_opts.create_manager_for_wall()"
   ]
  },
  {
   "cell_type": "code",
   "execution_count": 81,
   "metadata": {
    "collapsed": false
   },
   "outputs": [
    {
     "data": {
      "text/plain": [
       "<__main__.Manager at 0x7fe65f8f4518>"
      ]
     },
     "execution_count": 81,
     "metadata": {},
     "output_type": "execute_result"
    }
   ],
   "source": [
    "wall_mgr.run()"
   ]
  },
  {
   "cell_type": "code",
   "execution_count": 82,
   "metadata": {
    "collapsed": true
   },
   "outputs": [],
   "source": [
    "df = wall_mgr.state.get_dataframe()"
   ]
  },
  {
   "cell_type": "code",
   "execution_count": null,
   "metadata": {
    "collapsed": true
   },
   "outputs": [],
   "source": []
  },
  {
   "cell_type": "code",
   "execution_count": 74,
   "metadata": {
    "collapsed": false
   },
   "outputs": [
    {
     "data": {
      "text/plain": [
       "array([ 5.218,  5.289,  5.68 ,  6.028,  6.668,  6.818,  7.742,  7.782,\n",
       "        7.805,  7.917,  7.992,  8.7  ])"
      ]
     },
     "execution_count": 74,
     "metadata": {},
     "output_type": "execute_result"
    }
   ],
   "source": [
    "df.t.values * 10"
   ]
  },
  {
   "cell_type": "code",
   "execution_count": 85,
   "metadata": {
    "collapsed": false
   },
   "outputs": [
    {
     "data": {
      "text/plain": [
       "0     2\n",
       "5    33\n",
       "6     7\n",
       "7    38\n",
       "8    14\n",
       "dtype: int64"
      ]
     },
     "execution_count": 85,
     "metadata": {},
     "output_type": "execute_result"
    }
   ],
   "source": [
    "df.t.groupby((df.t.values * 10).astype(int)).size()"
   ]
  },
  {
   "cell_type": "code",
   "execution_count": 161,
   "metadata": {
    "collapsed": false
   },
   "outputs": [
    {
     "data": {
      "text/plain": [
       "1030.2051039290122"
      ]
     },
     "execution_count": 161,
     "metadata": {},
     "output_type": "execute_result"
    }
   ],
   "source": [
    "np.sum(world_rates * (T / num_segments))"
   ]
  },
  {
   "cell_type": "code",
   "execution_count": 163,
   "metadata": {
    "collapsed": false
   },
   "outputs": [
    {
     "data": {
      "text/plain": [
       "1035.0"
      ]
     },
     "execution_count": 163,
     "metadata": {},
     "output_type": "execute_result"
    }
   ],
   "source": [
    "np.sum(wall_intensities * (T / num_segments))"
   ]
  },
  {
   "cell_type": "code",
   "execution_count": null,
   "metadata": {
    "collapsed": true
   },
   "outputs": [],
   "source": [
    "#pc_wall_mgr = SimOpts.std_piecewise_const(world_seed=1, world_change_times)"
   ]
  },
  {
   "cell_type": "code",
   "execution_count": 323,
   "metadata": {
    "collapsed": true
   },
   "outputs": [],
   "source": [
    "df = poisson_res_2.df"
   ]
  },
  {
   "cell_type": "code",
   "execution_count": 327,
   "metadata": {
    "collapsed": false
   },
   "outputs": [
    {
     "data": {
      "text/html": [
       "<div>\n",
       "<table border=\"1\" class=\"dataframe\">\n",
       "  <thead>\n",
       "    <tr style=\"text-align: right;\">\n",
       "      <th>type</th>\n",
       "      <th>Opt</th>\n",
       "      <th>Oracle</th>\n",
       "      <th>Poisson</th>\n",
       "      <th>kdd</th>\n",
       "    </tr>\n",
       "    <tr>\n",
       "      <th>s</th>\n",
       "      <th></th>\n",
       "      <th></th>\n",
       "      <th></th>\n",
       "      <th></th>\n",
       "    </tr>\n",
       "  </thead>\n",
       "  <tbody>\n",
       "    <tr>\n",
       "      <th>0.000100</th>\n",
       "      <td>91.364467</td>\n",
       "      <td>99.530182</td>\n",
       "      <td>47.734702</td>\n",
       "      <td>47.548313</td>\n",
       "    </tr>\n",
       "    <tr>\n",
       "      <th>0.001668</th>\n",
       "      <td>74.431284</td>\n",
       "      <td>95.823468</td>\n",
       "      <td>42.211243</td>\n",
       "      <td>42.247671</td>\n",
       "    </tr>\n",
       "    <tr>\n",
       "      <th>0.027826</th>\n",
       "      <td>48.361404</td>\n",
       "      <td>77.298801</td>\n",
       "      <td>32.127741</td>\n",
       "      <td>32.245158</td>\n",
       "    </tr>\n",
       "    <tr>\n",
       "      <th>0.464159</th>\n",
       "      <td>26.834463</td>\n",
       "      <td>47.551197</td>\n",
       "      <td>20.918398</td>\n",
       "      <td>20.817688</td>\n",
       "    </tr>\n",
       "    <tr>\n",
       "      <th>7.742637</th>\n",
       "      <td>14.073225</td>\n",
       "      <td>26.895195</td>\n",
       "      <td>12.083601</td>\n",
       "      <td>12.077850</td>\n",
       "    </tr>\n",
       "    <tr>\n",
       "      <th>129.154967</th>\n",
       "      <td>7.127160</td>\n",
       "      <td>14.792741</td>\n",
       "      <td>6.289259</td>\n",
       "      <td>6.210012</td>\n",
       "    </tr>\n",
       "    <tr>\n",
       "      <th>2154.434690</th>\n",
       "      <td>3.614960</td>\n",
       "      <td>8.241672</td>\n",
       "      <td>3.605528</td>\n",
       "      <td>3.610374</td>\n",
       "    </tr>\n",
       "    <tr>\n",
       "      <th>35938.136638</th>\n",
       "      <td>1.749342</td>\n",
       "      <td>4.215994</td>\n",
       "      <td>1.675942</td>\n",
       "      <td>1.849785</td>\n",
       "    </tr>\n",
       "    <tr>\n",
       "      <th>599484.250319</th>\n",
       "      <td>0.874652</td>\n",
       "      <td>2.175858</td>\n",
       "      <td>0.831468</td>\n",
       "      <td>0.878096</td>\n",
       "    </tr>\n",
       "    <tr>\n",
       "      <th>10000000.000000</th>\n",
       "      <td>0.559112</td>\n",
       "      <td>1.400753</td>\n",
       "      <td>0.445333</td>\n",
       "      <td>0.476600</td>\n",
       "    </tr>\n",
       "  </tbody>\n",
       "</table>\n",
       "</div>"
      ],
      "text/plain": [
       "type                   Opt     Oracle    Poisson        kdd\n",
       "s                                                          \n",
       "0.000100         91.364467  99.530182  47.734702  47.548313\n",
       "0.001668         74.431284  95.823468  42.211243  42.247671\n",
       "0.027826         48.361404  77.298801  32.127741  32.245158\n",
       "0.464159         26.834463  47.551197  20.918398  20.817688\n",
       "7.742637         14.073225  26.895195  12.083601  12.077850\n",
       "129.154967        7.127160  14.792741   6.289259   6.210012\n",
       "2154.434690       3.614960   8.241672   3.605528   3.610374\n",
       "35938.136638      1.749342   4.215994   1.675942   1.849785\n",
       "599484.250319     0.874652   2.175858   0.831468   0.878096\n",
       "10000000.000000   0.559112   1.400753   0.445333   0.476600"
      ]
     },
     "execution_count": 327,
     "metadata": {},
     "output_type": "execute_result"
    }
   ],
   "source": [
    "df.pivot_table(index='s', values='top_1', columns='type', aggfunc=np.mean)"
   ]
  },
  {
   "cell_type": "code",
   "execution_count": 326,
   "metadata": {
    "collapsed": false
   },
   "outputs": [
    {
     "data": {
      "text/html": [
       "<div>\n",
       "<table border=\"1\" class=\"dataframe\">\n",
       "  <thead>\n",
       "    <tr style=\"text-align: right;\">\n",
       "      <th>type</th>\n",
       "      <th>Opt</th>\n",
       "      <th>Oracle</th>\n",
       "      <th>Poisson</th>\n",
       "      <th>kdd</th>\n",
       "    </tr>\n",
       "    <tr>\n",
       "      <th>s</th>\n",
       "      <th></th>\n",
       "      <th></th>\n",
       "      <th></th>\n",
       "      <th></th>\n",
       "    </tr>\n",
       "  </thead>\n",
       "  <tbody>\n",
       "    <tr>\n",
       "      <th>0.000100</th>\n",
       "      <td>0.327185</td>\n",
       "      <td>0.114165</td>\n",
       "      <td>1.594643</td>\n",
       "      <td>1.262253</td>\n",
       "    </tr>\n",
       "    <tr>\n",
       "      <th>0.001668</th>\n",
       "      <td>0.735968</td>\n",
       "      <td>0.310643</td>\n",
       "      <td>1.473769</td>\n",
       "      <td>1.634483</td>\n",
       "    </tr>\n",
       "    <tr>\n",
       "      <th>0.027826</th>\n",
       "      <td>0.994214</td>\n",
       "      <td>1.228987</td>\n",
       "      <td>1.667879</td>\n",
       "      <td>1.215967</td>\n",
       "    </tr>\n",
       "    <tr>\n",
       "      <th>0.464159</th>\n",
       "      <td>1.055291</td>\n",
       "      <td>1.663420</td>\n",
       "      <td>1.262969</td>\n",
       "      <td>1.473501</td>\n",
       "    </tr>\n",
       "    <tr>\n",
       "      <th>7.742637</th>\n",
       "      <td>1.185131</td>\n",
       "      <td>1.439466</td>\n",
       "      <td>1.416186</td>\n",
       "      <td>1.258427</td>\n",
       "    </tr>\n",
       "    <tr>\n",
       "      <th>129.154967</th>\n",
       "      <td>0.656280</td>\n",
       "      <td>1.413249</td>\n",
       "      <td>0.762736</td>\n",
       "      <td>0.815361</td>\n",
       "    </tr>\n",
       "    <tr>\n",
       "      <th>2154.434690</th>\n",
       "      <td>0.981349</td>\n",
       "      <td>0.770348</td>\n",
       "      <td>0.568365</td>\n",
       "      <td>0.562886</td>\n",
       "    </tr>\n",
       "    <tr>\n",
       "      <th>35938.136638</th>\n",
       "      <td>0.695556</td>\n",
       "      <td>0.691490</td>\n",
       "      <td>0.439283</td>\n",
       "      <td>0.637002</td>\n",
       "    </tr>\n",
       "    <tr>\n",
       "      <th>599484.250319</th>\n",
       "      <td>0.342350</td>\n",
       "      <td>0.516736</td>\n",
       "      <td>0.480644</td>\n",
       "      <td>0.349610</td>\n",
       "    </tr>\n",
       "    <tr>\n",
       "      <th>10000000.000000</th>\n",
       "      <td>0.184342</td>\n",
       "      <td>0.521750</td>\n",
       "      <td>0.328897</td>\n",
       "      <td>0.269072</td>\n",
       "    </tr>\n",
       "  </tbody>\n",
       "</table>\n",
       "</div>"
      ],
      "text/plain": [
       "type                  Opt    Oracle   Poisson       kdd\n",
       "s                                                      \n",
       "0.000100         0.327185  0.114165  1.594643  1.262253\n",
       "0.001668         0.735968  0.310643  1.473769  1.634483\n",
       "0.027826         0.994214  1.228987  1.667879  1.215967\n",
       "0.464159         1.055291  1.663420  1.262969  1.473501\n",
       "7.742637         1.185131  1.439466  1.416186  1.258427\n",
       "129.154967       0.656280  1.413249  0.762736  0.815361\n",
       "2154.434690      0.981349  0.770348  0.568365  0.562886\n",
       "35938.136638     0.695556  0.691490  0.439283  0.637002\n",
       "599484.250319    0.342350  0.516736  0.480644  0.349610\n",
       "10000000.000000  0.184342  0.521750  0.328897  0.269072"
      ]
     },
     "execution_count": 326,
     "metadata": {},
     "output_type": "execute_result"
    }
   ],
   "source": [
    "df.pivot_table(index='s', values='top_1', columns='type', aggfunc=np.std)"
   ]
  },
  {
   "cell_type": "code",
   "execution_count": null,
   "metadata": {
    "collapsed": true
   },
   "outputs": [],
   "source": []
  },
  {
   "cell_type": "code",
   "execution_count": null,
   "metadata": {
    "collapsed": true
   },
   "outputs": [],
   "source": []
  },
  {
   "cell_type": "code",
   "execution_count": null,
   "metadata": {
    "collapsed": true
   },
   "outputs": [],
   "source": []
  },
  {
   "cell_type": "code",
   "execution_count": null,
   "metadata": {
    "collapsed": true
   },
   "outputs": [],
   "source": []
  },
  {
   "cell_type": "code",
   "execution_count": null,
   "metadata": {
    "collapsed": true
   },
   "outputs": [],
   "source": []
  },
  {
   "cell_type": "code",
   "execution_count": null,
   "metadata": {
    "collapsed": true
   },
   "outputs": [],
   "source": []
  },
  {
   "cell_type": "code",
   "execution_count": null,
   "metadata": {
    "collapsed": true
   },
   "outputs": [],
   "source": []
  },
  {
   "cell_type": "code",
   "execution_count": null,
   "metadata": {
    "collapsed": true
   },
   "outputs": [],
   "source": []
  },
  {
   "cell_type": "code",
   "execution_count": null,
   "metadata": {
    "collapsed": true
   },
   "outputs": [],
   "source": []
  },
  {
   "cell_type": "code",
   "execution_count": null,
   "metadata": {
    "collapsed": true
   },
   "outputs": [],
   "source": []
  },
  {
   "cell_type": "code",
   "execution_count": null,
   "metadata": {
    "collapsed": true
   },
   "outputs": [],
   "source": []
  },
  {
   "cell_type": "markdown",
   "metadata": {
    "collapsed": true
   },
   "source": [
    "## Find the q_vec which provides a certain capacity"
   ]
  },
  {
   "cell_type": "code",
   "execution_count": 134,
   "metadata": {
    "collapsed": true
   },
   "outputs": [],
   "source": [
    "%run -i opt_model.py"
   ]
  },
  {
   "cell_type": "code",
   "execution_count": 227,
   "metadata": {
    "collapsed": false
   },
   "outputs": [
    {
     "name": "stdout",
     "output_type": "stream",
     "text": [
      "CPU times: user 110 ms, sys: 157 ms, total: 267 ms\n",
      "Wall time: 2min 48s\n"
     ]
    }
   ],
   "source": [
    "%%time\n",
    "sim_opts = SimOpts(**{ \n",
    "        'src_id': 1,\n",
    "        'end_time': 100.0,\n",
    "        'q_vec': np.asarray([1.0]),\n",
    "        'other_sources': [Poisson(src_id=2, seed=1, rate=10000.0)],\n",
    "        's': 1.0,\n",
    "        'sink_ids': [1001],\n",
    "        'edge_list': [(1, 1001), (2, 1001)]\n",
    "    })\n",
    "# tmp = calc_q_capacity_iter(sim_opts)\n",
    "tmp3_poisson_1 = calc_q_capacity_iter(sim_opts)"
   ]
  },
  {
   "cell_type": "code",
   "execution_count": 228,
   "metadata": {
    "collapsed": false
   },
   "outputs": [
    {
     "data": {
      "text/plain": [
       "7967.1629870452907"
      ]
     },
     "execution_count": 228,
     "metadata": {},
     "output_type": "execute_result"
    }
   ],
   "source": [
    "tmp3_poisson_1.mean()"
   ]
  },
  {
   "cell_type": "code",
   "execution_count": 229,
   "metadata": {
    "collapsed": true
   },
   "outputs": [],
   "source": [
    "%run -i opt_model.py"
   ]
  },
  {
   "cell_type": "code",
   "execution_count": 230,
   "metadata": {
    "collapsed": false
   },
   "outputs": [
    {
     "name": "stdout",
     "output_type": "stream",
     "text": [
      "CPU times: user 83.3 ms, sys: 113 ms, total: 197 ms\n",
      "Wall time: 2min 7s\n"
     ]
    }
   ],
   "source": [
    "%%time\n",
    "sim_opts = SimOpts(**{ \n",
    "        'src_id': 1,\n",
    "        'end_time': 100.0,\n",
    "        'q_vec': np.asarray([1.0]),\n",
    "        'other_sources': [Poisson2(src_id=2, seed=1, rate=10000.0)],\n",
    "        's': 1.0,\n",
    "        'sink_ids': [1001],\n",
    "        'edge_list': [(1, 1001), (2, 1001)]\n",
    "    })\n",
    "# tmp = calc_q_capacity_iter(sim_opts)\n",
    "tmp3_poisson_2 = calc_q_capacity_iter(sim_opts)"
   ]
  },
  {
   "cell_type": "code",
   "execution_count": 231,
   "metadata": {
    "collapsed": false
   },
   "outputs": [
    {
     "data": {
      "text/plain": [
       "7960.4575864000271"
      ]
     },
     "execution_count": 231,
     "metadata": {},
     "output_type": "execute_result"
    }
   ],
   "source": [
    "tmp3_poisson_2.mean()"
   ]
  },
  {
   "cell_type": "code",
   "execution_count": 174,
   "metadata": {
    "collapsed": false
   },
   "outputs": [
    {
     "data": {
      "text/plain": [
       "1.4617278497435535"
      ]
     },
     "execution_count": 174,
     "metadata": {},
     "output_type": "execute_result"
    }
   ],
   "source": [
    "np.random.uniform(10)"
   ]
  },
  {
   "cell_type": "code",
   "execution_count": 153,
   "metadata": {
    "collapsed": false
   },
   "outputs": [
    {
     "data": {
      "text/plain": [
       "0.99971767328613059"
      ]
     },
     "execution_count": 153,
     "metadata": {},
     "output_type": "execute_result"
    }
   ],
   "source": [
    "tmp2"
   ]
  },
  {
   "cell_type": "code",
   "execution_count": 97,
   "metadata": {
    "collapsed": false
   },
   "outputs": [
    {
     "name": "stdout",
     "output_type": "stream",
     "text": [
      "CPU times: user 40 ms, sys: 367 ms, total: 407 ms\n",
      "Wall time: 16.7 s\n"
     ]
    }
   ],
   "source": [
    "%%time\n",
    "tmp2 = calc_q_capacity_iter(sim_opts, parallel=True)"
   ]
  },
  {
   "cell_type": "code",
   "execution_count": 98,
   "metadata": {
    "collapsed": false
   },
   "outputs": [
    {
     "data": {
      "text/plain": [
       "array([ 2511.25097053,  2496.03117259,  2485.56253613,  2491.14835052,\n",
       "        2498.94430075,  2519.40042709,  2505.5330253 ,  2495.03242928,\n",
       "        2514.54890424,  2540.22786683])"
      ]
     },
     "execution_count": 98,
     "metadata": {},
     "output_type": "execute_result"
    }
   ],
   "source": [
    "tmp2"
   ]
  },
  {
   "cell_type": "code",
   "execution_count": 99,
   "metadata": {
    "collapsed": false
   },
   "outputs": [
    {
     "data": {
      "text/plain": [
       "array([ 2508.61413281,  2524.15419948,  2520.59906929,  2516.93533233,\n",
       "        2552.68473306,  2484.32193195,  2501.59290153,  2490.1465022 ,\n",
       "        2481.68386686,  2460.78773208])"
      ]
     },
     "execution_count": 99,
     "metadata": {},
     "output_type": "execute_result"
    }
   ],
   "source": [
    "tmp"
   ]
  },
  {
   "cell_type": "code",
   "execution_count": 102,
   "metadata": {
    "collapsed": false
   },
   "outputs": [
    {
     "data": {
      "text/plain": [
       "2504.1520401572761"
      ]
     },
     "execution_count": 102,
     "metadata": {},
     "output_type": "execute_result"
    }
   ],
   "source": [
    "tmp3.mean()"
   ]
  },
  {
   "cell_type": "code",
   "execution_count": 103,
   "metadata": {
    "collapsed": true
   },
   "outputs": [],
   "source": [
    "tmp4 = calc_q_capacity_iter(sim_opts.update({ 's': 2.0 }), parallel=True)"
   ]
  },
  {
   "cell_type": "code",
   "execution_count": 104,
   "metadata": {
    "collapsed": false
   },
   "outputs": [
    {
     "data": {
      "text/plain": [
       "2110.2250458304434"
      ]
     },
     "execution_count": 104,
     "metadata": {},
     "output_type": "execute_result"
    }
   ],
   "source": [
    "tmp4.mean()"
   ]
  },
  {
   "cell_type": "code",
   "execution_count": 145,
   "metadata": {
    "collapsed": false
   },
   "outputs": [],
   "source": [
    "%run -i utils.py"
   ]
  },
  {
   "cell_type": "code",
   "execution_count": 238,
   "metadata": {
    "collapsed": true
   },
   "outputs": [],
   "source": [
    "sim_opts = SimOpts(**{ \n",
    "        'src_id': 1,\n",
    "        'end_time': 100.0,\n",
    "        'q_vec': np.asarray([1.0]),\n",
    "        # 'other_sources': [Poisson2(src_id=2, seed=1, rate=10000.0)],\n",
    "        'other_sources': [Poisson(src_id=2, seed=1, rate=10000.0)],\n",
    "        's': 1.0,\n",
    "        'sink_ids': [1001],\n",
    "        'edge_list': [(1, 1001), (2, 1001)]\n",
    "    })"
   ]
  },
  {
   "cell_type": "code",
   "execution_count": 148,
   "metadata": {
    "collapsed": false
   },
   "outputs": [
    {
     "name": "stdout",
     "output_type": "stream",
     "text": [
      "*** \u001b[31m2016-05-04 21:59:44.864163\u001b[0m Checkpoint: Initial capacity = 769.0321811055888\n",
      "*** \u001b[31m2016-05-04 22:00:06.321337\u001b[0m Checkpoint: s_hi = 4096.0, s_lo = 2048.0\n",
      "*** \u001b[31m2016-05-04 22:00:07.986757\u001b[0m Checkpoint: new_capacity = 106.16027670602416, s = 3072.0\n",
      "*** \u001b[31m2016-05-04 22:00:09.666732\u001b[0m Checkpoint: new_capacity = 101.194622540465, s = 3584.0\n",
      "*** \u001b[31m2016-05-04 22:00:11.336612\u001b[0m Checkpoint: new_capacity = 99.42532014279948, s = 3840.0\n",
      "CPU times: user 210 ms, sys: 2.12 s, total: 2.33 s\n",
      "Wall time: 28.5 s\n"
     ]
    }
   ],
   "source": [
    "%%time\n",
    "s_opt = sweep_s(lambda: SimOpts.std_poisson(world_seed=1, world_rate=100.0), capacity_cap=100.0, verbose=True)"
   ]
  },
  {
   "cell_type": "code",
   "execution_count": 149,
   "metadata": {
    "collapsed": false
   },
   "outputs": [
    {
     "data": {
      "text/plain": [
       "3840.0"
      ]
     },
     "execution_count": 149,
     "metadata": {},
     "output_type": "execute_result"
    }
   ],
   "source": [
    "s_opt"
   ]
  },
  {
   "cell_type": "code",
   "execution_count": 239,
   "metadata": {
    "collapsed": false
   },
   "outputs": [
    {
     "name": "stdout",
     "output_type": "stream",
     "text": [
      "*** \u001b[31m2016-05-02 00:12:20.257822\u001b[0m Checkpoint: Initial capacity = 7967.162987045291\n",
      "*** \u001b[31m2016-05-02 00:44:22.309096\u001b[0m Checkpoint: s_hi = 0.0009765625, s_lo = 0.00048828125\n",
      "*** \u001b[31m2016-05-02 00:46:56.892996\u001b[0m Checkpoint: new_capacity = 47736.13035565209, s = 0.000732421875\n",
      "*** \u001b[31m2016-05-02 00:49:32.194914\u001b[0m Checkpoint: new_capacity = 49913.7414199194, s = 0.0006103515625\n",
      "*** \u001b[31m2016-05-02 00:52:06.251847\u001b[0m Checkpoint: new_capacity = 51218.96161754592, s = 0.00054931640625\n",
      "*** \u001b[31m2016-05-02 00:54:41.662719\u001b[0m Checkpoint: new_capacity = 50540.20193159806, s = 0.000579833984375\n",
      "*** \u001b[31m2016-05-02 00:57:16.650763\u001b[0m Checkpoint: new_capacity = 50224.656253556066, s = 0.0005950927734375\n",
      "CPU times: user 1.96 s, sys: 2.18 s, total: 4.14 s\n",
      "Wall time: 47min 44s\n"
     ]
    }
   ],
   "source": [
    "%%time\n",
    "# This is with Poisson: Took ~ 47min, 44s\n",
    "s_opt = sweep_s(sim_opts, 50000.0, verbose=True)"
   ]
  },
  {
   "cell_type": "code",
   "execution_count": 233,
   "metadata": {
    "collapsed": false
   },
   "outputs": [
    {
     "name": "stdout",
     "output_type": "stream",
     "text": [
      "*** \u001b[31m2016-05-01 22:57:44.982005\u001b[0m Checkpoint: Initial capacity = 7960.457586400027\n",
      "*** \u001b[31m2016-05-01 23:21:25.507846\u001b[0m Checkpoint: s_hi = 0.0009765625, s_lo = 0.00048828125\n",
      "*** \u001b[31m2016-05-01 23:23:19.044300\u001b[0m Checkpoint: new_capacity = 47686.2063074488, s = 0.000732421875\n",
      "*** \u001b[31m2016-05-01 23:25:12.821979\u001b[0m Checkpoint: new_capacity = 49871.05306762598, s = 0.0006103515625\n",
      "*** \u001b[31m2016-05-01 23:27:08.958602\u001b[0m Checkpoint: new_capacity = 51169.0749459018, s = 0.00054931640625\n",
      "*** \u001b[31m2016-05-01 23:29:03.197845\u001b[0m Checkpoint: new_capacity = 50501.14818392287, s = 0.000579833984375\n",
      "*** \u001b[31m2016-05-01 23:30:57.014591\u001b[0m Checkpoint: new_capacity = 50177.111303157675, s = 0.0005950927734375\n",
      "CPU times: user 1.58 s, sys: 2.26 s, total: 3.84 s\n",
      "Wall time: 35min 24s\n"
     ]
    }
   ],
   "source": [
    "%%time\n",
    "# This was with Poisson2: Took ~ 35min, 24s\n",
    "s_opt = sweep_s(sim_opts, 50000.0, verbose=True)"
   ]
  },
  {
   "cell_type": "code",
   "execution_count": 135,
   "metadata": {
    "collapsed": false
   },
   "outputs": [
    {
     "data": {
      "text/plain": [
       "2.5033950805664062e-06"
      ]
     },
     "execution_count": 135,
     "metadata": {},
     "output_type": "execute_result"
    }
   ],
   "source": [
    "s_opt"
   ]
  },
  {
   "cell_type": "code",
   "execution_count": 132,
   "metadata": {
    "collapsed": false
   },
   "outputs": [
    {
     "data": {
      "text/plain": [
       "2.503393943698029e-06"
      ]
     },
     "execution_count": 132,
     "metadata": {},
     "output_type": "execute_result"
    }
   ],
   "source": [
    "s_opt"
   ]
  },
  {
   "cell_type": "code",
   "execution_count": null,
   "metadata": {
    "collapsed": true
   },
   "outputs": [],
   "source": []
  },
  {
   "cell_type": "code",
   "execution_count": 201,
   "metadata": {
    "collapsed": false
   },
   "outputs": [],
   "source": [
    "def foo(T):\n",
    "    rs = np.random.RandomState(42)\n",
    "    t, dt = 0, 0\n",
    "    n = 0\n",
    "    while t + dt < T:\n",
    "        t = t + dt\n",
    "        n += 1\n",
    "        dt = rs.exponential(1 / 1000.0)\n",
    "    return t, n\n",
    "\n",
    "def bar(T):\n",
    "    rs = np.random.RandomState(42)\n",
    "    n = rs.poisson(1000.0 * T)\n",
    "    last_time = sorted(rs.uniform(high=T, size=n))[-1]\n",
    "    return last_time, n\n"
   ]
  },
  {
   "cell_type": "code",
   "execution_count": 204,
   "metadata": {
    "collapsed": false
   },
   "outputs": [
    {
     "name": "stdout",
     "output_type": "stream",
     "text": [
      "1 loop, best of 3: 394 ms per loop\n"
     ]
    }
   ],
   "source": [
    "%timeit tmp1 = foo(1000)"
   ]
  },
  {
   "cell_type": "code",
   "execution_count": 205,
   "metadata": {
    "collapsed": false
   },
   "outputs": [
    {
     "name": "stdout",
     "output_type": "stream",
     "text": [
      "1 loop, best of 3: 829 ms per loop\n"
     ]
    }
   ],
   "source": [
    "%timeit tmp2 = bar(1000)"
   ]
  },
  {
   "cell_type": "code",
   "execution_count": 206,
   "metadata": {
    "collapsed": false
   },
   "outputs": [
    {
     "data": {
      "text/plain": [
       "((999.999833196945, 998932), (999.99831486095445, 999640))"
      ]
     },
     "execution_count": 206,
     "metadata": {},
     "output_type": "execute_result"
    }
   ],
   "source": [
    "foo(1000), bar(1000)"
   ]
  },
  {
   "cell_type": "code",
   "execution_count": null,
   "metadata": {
    "collapsed": true
   },
   "outputs": [],
   "source": []
  },
  {
   "cell_type": "code",
   "execution_count": 245,
   "metadata": {
    "collapsed": true
   },
   "outputs": [
    {
     "ename": "KeyboardInterrupt",
     "evalue": "",
     "output_type": "error",
     "traceback": [
      "\u001b[1;31m---------------------------------------------------------------------------\u001b[0m",
      "\u001b[1;31mIndexError\u001b[0m                                Traceback (most recent call last)",
      "\u001b[1;32m/home/utkarshu/miniconda3/envs/py35/lib/python3.5/multiprocessing/pool.py\u001b[0m in \u001b[0;36mnext\u001b[1;34m(self, timeout)\u001b[0m\n\u001b[0;32m    679\u001b[0m             \u001b[1;32mtry\u001b[0m\u001b[1;33m:\u001b[0m\u001b[1;33m\u001b[0m\u001b[0m\n\u001b[1;32m--> 680\u001b[1;33m                 \u001b[0mitem\u001b[0m \u001b[1;33m=\u001b[0m \u001b[0mself\u001b[0m\u001b[1;33m.\u001b[0m\u001b[0m_items\u001b[0m\u001b[1;33m.\u001b[0m\u001b[0mpopleft\u001b[0m\u001b[1;33m(\u001b[0m\u001b[1;33m)\u001b[0m\u001b[1;33m\u001b[0m\u001b[0m\n\u001b[0m\u001b[0;32m    681\u001b[0m             \u001b[1;32mexcept\u001b[0m \u001b[0mIndexError\u001b[0m\u001b[1;33m:\u001b[0m\u001b[1;33m\u001b[0m\u001b[0m\n",
      "\u001b[1;31mIndexError\u001b[0m: pop from an empty deque",
      "\nDuring handling of the above exception, another exception occurred:\n",
      "\u001b[1;31mKeyboardInterrupt\u001b[0m                         Traceback (most recent call last)",
      "\u001b[1;32m/NL/stackexchange/work/prog/broadcast-online/opt_model.py\u001b[0m in \u001b[0;36m<module>\u001b[1;34m()\u001b[0m\n\u001b[1;32m----> 1\u001b[1;33m \u001b[0mget_ipython\u001b[0m\u001b[1;33m(\u001b[0m\u001b[1;33m)\u001b[0m\u001b[1;33m.\u001b[0m\u001b[0mrun_cell_magic\u001b[0m\u001b[1;33m(\u001b[0m\u001b[1;34m'time'\u001b[0m\u001b[1;33m,\u001b[0m \u001b[1;34m''\u001b[0m\u001b[1;33m,\u001b[0m \u001b[1;34m'import itertools as I\\n\\ndef worker(param):\\n    return np.sum(range(param * 10000000))\\n\\ndef foo(params):\\n    start, stop = params\\n    total = 0\\n    with mp.Pool() as pool:\\n        for s in pool.imap_unordered(worker, range(start, stop)):\\n            total += s\\n    return start, stop, total\\n\\n# Does not work with \\'Pool\\' class because \"daemonic processes are not allowed to have children\"\\nwith mp.pool.ThreadPool() as pool:\\n    for start, stop, t in pool.imap_unordered(foo, zip(range(1, 10), range(100, 110))):\\n        print(\\'start, stop, t = \\', start, stop, t)\\n        \\n        \\n        '\u001b[0m\u001b[1;33m)\u001b[0m\u001b[1;33m\u001b[0m\u001b[0m\n\u001b[0m",
      "\u001b[1;32m/home/utkarshu/miniconda3/envs/py35/lib/python3.5/site-packages/IPython/core/interactiveshell.py\u001b[0m in \u001b[0;36mrun_cell_magic\u001b[1;34m(self, magic_name, line, cell)\u001b[0m\n\u001b[0;32m   2118\u001b[0m             \u001b[0mmagic_arg_s\u001b[0m \u001b[1;33m=\u001b[0m \u001b[0mself\u001b[0m\u001b[1;33m.\u001b[0m\u001b[0mvar_expand\u001b[0m\u001b[1;33m(\u001b[0m\u001b[0mline\u001b[0m\u001b[1;33m,\u001b[0m \u001b[0mstack_depth\u001b[0m\u001b[1;33m)\u001b[0m\u001b[1;33m\u001b[0m\u001b[0m\n\u001b[0;32m   2119\u001b[0m             \u001b[1;32mwith\u001b[0m \u001b[0mself\u001b[0m\u001b[1;33m.\u001b[0m\u001b[0mbuiltin_trap\u001b[0m\u001b[1;33m:\u001b[0m\u001b[1;33m\u001b[0m\u001b[0m\n\u001b[1;32m-> 2120\u001b[1;33m                 \u001b[0mresult\u001b[0m \u001b[1;33m=\u001b[0m \u001b[0mfn\u001b[0m\u001b[1;33m(\u001b[0m\u001b[0mmagic_arg_s\u001b[0m\u001b[1;33m,\u001b[0m \u001b[0mcell\u001b[0m\u001b[1;33m)\u001b[0m\u001b[1;33m\u001b[0m\u001b[0m\n\u001b[0m\u001b[0;32m   2121\u001b[0m             \u001b[1;32mreturn\u001b[0m \u001b[0mresult\u001b[0m\u001b[1;33m\u001b[0m\u001b[0m\n\u001b[0;32m   2122\u001b[0m \u001b[1;33m\u001b[0m\u001b[0m\n",
      "\u001b[1;32m<decorator-gen-60>\u001b[0m in \u001b[0;36mtime\u001b[1;34m(self, line, cell, local_ns)\u001b[0m\n",
      "\u001b[1;32m/home/utkarshu/miniconda3/envs/py35/lib/python3.5/site-packages/IPython/core/magic.py\u001b[0m in \u001b[0;36m<lambda>\u001b[1;34m(f, *a, **k)\u001b[0m\n\u001b[0;32m    191\u001b[0m     \u001b[1;31m# but it's overkill for just that one bit of state.\u001b[0m\u001b[1;33m\u001b[0m\u001b[1;33m\u001b[0m\u001b[0m\n\u001b[0;32m    192\u001b[0m     \u001b[1;32mdef\u001b[0m \u001b[0mmagic_deco\u001b[0m\u001b[1;33m(\u001b[0m\u001b[0marg\u001b[0m\u001b[1;33m)\u001b[0m\u001b[1;33m:\u001b[0m\u001b[1;33m\u001b[0m\u001b[0m\n\u001b[1;32m--> 193\u001b[1;33m         \u001b[0mcall\u001b[0m \u001b[1;33m=\u001b[0m \u001b[1;32mlambda\u001b[0m \u001b[0mf\u001b[0m\u001b[1;33m,\u001b[0m \u001b[1;33m*\u001b[0m\u001b[0ma\u001b[0m\u001b[1;33m,\u001b[0m \u001b[1;33m**\u001b[0m\u001b[0mk\u001b[0m\u001b[1;33m:\u001b[0m \u001b[0mf\u001b[0m\u001b[1;33m(\u001b[0m\u001b[1;33m*\u001b[0m\u001b[0ma\u001b[0m\u001b[1;33m,\u001b[0m \u001b[1;33m**\u001b[0m\u001b[0mk\u001b[0m\u001b[1;33m)\u001b[0m\u001b[1;33m\u001b[0m\u001b[0m\n\u001b[0m\u001b[0;32m    194\u001b[0m \u001b[1;33m\u001b[0m\u001b[0m\n\u001b[0;32m    195\u001b[0m         \u001b[1;32mif\u001b[0m \u001b[0mcallable\u001b[0m\u001b[1;33m(\u001b[0m\u001b[0marg\u001b[0m\u001b[1;33m)\u001b[0m\u001b[1;33m:\u001b[0m\u001b[1;33m\u001b[0m\u001b[0m\n",
      "\u001b[1;32m/home/utkarshu/miniconda3/envs/py35/lib/python3.5/site-packages/IPython/core/magics/execution.py\u001b[0m in \u001b[0;36mtime\u001b[1;34m(self, line, cell, local_ns)\u001b[0m\n\u001b[0;32m   1175\u001b[0m         \u001b[1;32melse\u001b[0m\u001b[1;33m:\u001b[0m\u001b[1;33m\u001b[0m\u001b[0m\n\u001b[0;32m   1176\u001b[0m             \u001b[0mst\u001b[0m \u001b[1;33m=\u001b[0m \u001b[0mclock2\u001b[0m\u001b[1;33m(\u001b[0m\u001b[1;33m)\u001b[0m\u001b[1;33m\u001b[0m\u001b[0m\n\u001b[1;32m-> 1177\u001b[1;33m             \u001b[0mexec\u001b[0m\u001b[1;33m(\u001b[0m\u001b[0mcode\u001b[0m\u001b[1;33m,\u001b[0m \u001b[0mglob\u001b[0m\u001b[1;33m,\u001b[0m \u001b[0mlocal_ns\u001b[0m\u001b[1;33m)\u001b[0m\u001b[1;33m\u001b[0m\u001b[0m\n\u001b[0m\u001b[0;32m   1178\u001b[0m             \u001b[0mend\u001b[0m \u001b[1;33m=\u001b[0m \u001b[0mclock2\u001b[0m\u001b[1;33m(\u001b[0m\u001b[1;33m)\u001b[0m\u001b[1;33m\u001b[0m\u001b[0m\n\u001b[0;32m   1179\u001b[0m             \u001b[0mout\u001b[0m \u001b[1;33m=\u001b[0m \u001b[1;32mNone\u001b[0m\u001b[1;33m\u001b[0m\u001b[0m\n",
      "\u001b[1;32m/NL/stackexchange/work/prog/broadcast-online/opt_model.py\u001b[0m in \u001b[0;36m<module>\u001b[1;34m()\u001b[0m\n",
      "\u001b[1;32m/home/utkarshu/miniconda3/envs/py35/lib/python3.5/multiprocessing/pool.py\u001b[0m in \u001b[0;36mnext\u001b[1;34m(self, timeout)\u001b[0m\n\u001b[0;32m    682\u001b[0m                 \u001b[1;32mif\u001b[0m \u001b[0mself\u001b[0m\u001b[1;33m.\u001b[0m\u001b[0m_index\u001b[0m \u001b[1;33m==\u001b[0m \u001b[0mself\u001b[0m\u001b[1;33m.\u001b[0m\u001b[0m_length\u001b[0m\u001b[1;33m:\u001b[0m\u001b[1;33m\u001b[0m\u001b[0m\n\u001b[0;32m    683\u001b[0m                     \u001b[1;32mraise\u001b[0m \u001b[0mStopIteration\u001b[0m\u001b[1;33m\u001b[0m\u001b[0m\n\u001b[1;32m--> 684\u001b[1;33m                 \u001b[0mself\u001b[0m\u001b[1;33m.\u001b[0m\u001b[0m_cond\u001b[0m\u001b[1;33m.\u001b[0m\u001b[0mwait\u001b[0m\u001b[1;33m(\u001b[0m\u001b[0mtimeout\u001b[0m\u001b[1;33m)\u001b[0m\u001b[1;33m\u001b[0m\u001b[0m\n\u001b[0m\u001b[0;32m    685\u001b[0m                 \u001b[1;32mtry\u001b[0m\u001b[1;33m:\u001b[0m\u001b[1;33m\u001b[0m\u001b[0m\n\u001b[0;32m    686\u001b[0m                     \u001b[0mitem\u001b[0m \u001b[1;33m=\u001b[0m \u001b[0mself\u001b[0m\u001b[1;33m.\u001b[0m\u001b[0m_items\u001b[0m\u001b[1;33m.\u001b[0m\u001b[0mpopleft\u001b[0m\u001b[1;33m(\u001b[0m\u001b[1;33m)\u001b[0m\u001b[1;33m\u001b[0m\u001b[0m\n",
      "\u001b[1;32m/home/utkarshu/miniconda3/envs/py35/lib/python3.5/threading.py\u001b[0m in \u001b[0;36mwait\u001b[1;34m(self, timeout)\u001b[0m\n\u001b[0;32m    291\u001b[0m         \u001b[1;32mtry\u001b[0m\u001b[1;33m:\u001b[0m    \u001b[1;31m# restore state no matter what (e.g., KeyboardInterrupt)\u001b[0m\u001b[1;33m\u001b[0m\u001b[0m\n\u001b[0;32m    292\u001b[0m             \u001b[1;32mif\u001b[0m \u001b[0mtimeout\u001b[0m \u001b[1;32mis\u001b[0m \u001b[1;32mNone\u001b[0m\u001b[1;33m:\u001b[0m\u001b[1;33m\u001b[0m\u001b[0m\n\u001b[1;32m--> 293\u001b[1;33m                 \u001b[0mwaiter\u001b[0m\u001b[1;33m.\u001b[0m\u001b[0macquire\u001b[0m\u001b[1;33m(\u001b[0m\u001b[1;33m)\u001b[0m\u001b[1;33m\u001b[0m\u001b[0m\n\u001b[0m\u001b[0;32m    294\u001b[0m                 \u001b[0mgotit\u001b[0m \u001b[1;33m=\u001b[0m \u001b[1;32mTrue\u001b[0m\u001b[1;33m\u001b[0m\u001b[0m\n\u001b[0;32m    295\u001b[0m             \u001b[1;32melse\u001b[0m\u001b[1;33m:\u001b[0m\u001b[1;33m\u001b[0m\u001b[0m\n",
      "\u001b[1;31mKeyboardInterrupt\u001b[0m: "
     ]
    }
   ],
   "source": [
    "%%time\n",
    "import itertools as I\n",
    "\n",
    "def worker(param):\n",
    "    return np.sum(range(param * 10000000))\n",
    "\n",
    "def foo(params):\n",
    "    start, stop = params\n",
    "    total = 0\n",
    "    with mp.Pool() as pool:\n",
    "        for s in pool.imap_unordered(worker, range(start, stop)):\n",
    "            total += s\n",
    "    return start, stop, total\n",
    "\n",
    "# Does not work with 'Pool' class because \"daemonic processes are not allowed to have children\"\n",
    "with mp.pool.ThreadPool() as pool:\n",
    "    for start, stop, t in pool.imap_unordered(foo, zip(range(1, 10), range(100, 110))):\n",
    "        print('start, stop, t = ', start, stop, t)\n",
    "        \n",
    "        \n",
    "        "
   ]
  },
  {
   "cell_type": "code",
   "execution_count": null,
   "metadata": {
    "collapsed": true
   },
   "outputs": [],
   "source": []
  },
  {
   "cell_type": "code",
   "execution_count": null,
   "metadata": {
    "collapsed": true
   },
   "outputs": [],
   "source": []
  },
  {
   "cell_type": "code",
   "execution_count": null,
   "metadata": {
    "collapsed": true
   },
   "outputs": [],
   "source": []
  },
  {
   "cell_type": "code",
   "execution_count": null,
   "metadata": {
    "collapsed": true
   },
   "outputs": [],
   "source": []
  },
  {
   "cell_type": "markdown",
   "metadata": {
    "collapsed": true
   },
   "source": [
    "## Extracting data for Mohammad"
   ]
  },
  {
   "cell_type": "code",
   "execution_count": null,
   "metadata": {
    "collapsed": true
   },
   "outputs": [],
   "source": [
    "num_segments = 10\n"
   ]
  },
  {
   "cell_type": "code",
   "execution_count": null,
   "metadata": {
    "collapsed": true
   },
   "outputs": [],
   "source": []
  },
  {
   "cell_type": "code",
   "execution_count": null,
   "metadata": {
    "collapsed": true
   },
   "outputs": [],
   "source": []
  },
  {
   "cell_type": "code",
   "execution_count": null,
   "metadata": {
    "collapsed": true
   },
   "outputs": [],
   "source": []
  },
  {
   "cell_type": "code",
   "execution_count": null,
   "metadata": {
    "collapsed": true
   },
   "outputs": [],
   "source": []
  },
  {
   "cell_type": "code",
   "execution_count": null,
   "metadata": {
    "collapsed": true
   },
   "outputs": [],
   "source": []
  },
  {
   "cell_type": "code",
   "execution_count": null,
   "metadata": {
    "collapsed": true
   },
   "outputs": [],
   "source": []
  },
  {
   "cell_type": "code",
   "execution_count": null,
   "metadata": {
    "collapsed": true
   },
   "outputs": [],
   "source": []
  },
  {
   "cell_type": "code",
   "execution_count": null,
   "metadata": {
    "collapsed": true
   },
   "outputs": [],
   "source": []
  },
  {
   "cell_type": "code",
   "execution_count": null,
   "metadata": {
    "collapsed": true
   },
   "outputs": [],
   "source": []
  },
  {
   "cell_type": "code",
   "execution_count": null,
   "metadata": {
    "collapsed": true
   },
   "outputs": [],
   "source": []
  },
  {
   "cell_type": "code",
   "execution_count": null,
   "metadata": {
    "collapsed": true
   },
   "outputs": [],
   "source": []
  },
  {
   "cell_type": "markdown",
   "metadata": {
    "collapsed": true
   },
   "source": [
    "## `s_init` heuristic"
   ]
  },
  {
   "cell_type": "code",
   "execution_count": 187,
   "metadata": {
    "collapsed": true
   },
   "outputs": [],
   "source": [
    "%run -i utils.py\n",
    "%run -i opt_model.py"
   ]
  },
  {
   "cell_type": "code",
   "execution_count": 287,
   "metadata": {
    "collapsed": true
   },
   "outputs": [],
   "source": [
    "sim_opts = SimOpts.std_poisson(world_seed=1, world_rate=500)"
   ]
  },
  {
   "cell_type": "code",
   "execution_count": 288,
   "metadata": {
    "collapsed": false
   },
   "outputs": [
    {
     "name": "stdout",
     "output_type": "stream",
     "text": [
      "*** \u001b[31m2016-05-13 16:06:06.308683\u001b[0m Checkpoint: Initial capacity = 16.682815756349004, target capacity = 10\n",
      "*** \u001b[31m2016-05-13 16:06:06.515228\u001b[0m Checkpoint: s = 2.0, capcity = 14.461590479654564\n",
      "*** \u001b[31m2016-05-13 16:06:06.711105\u001b[0m Checkpoint: s = 4.0, capcity = 12.150333853228608\n",
      "*** \u001b[31m2016-05-13 16:06:06.903814\u001b[0m Checkpoint: s = 8.0, capcity = 10.439782962439807\n",
      "*** \u001b[31m2016-05-13 16:06:07.116908\u001b[0m Checkpoint: s = 16.0, capcity = 8.877513076274898\n",
      "*** \u001b[31m2016-05-13 16:06:07.118326\u001b[0m Checkpoint: s_hi = 16.0, s_lo = 8.0\n",
      "*** \u001b[31m2016-05-13 16:06:07.335871\u001b[0m Checkpoint: new_capacity = 9.554880390811231, s = 12.0\n"
     ]
    },
    {
     "data": {
      "text/plain": [
       "12.0"
      ]
     },
     "execution_count": 288,
     "metadata": {},
     "output_type": "execute_result"
    }
   ],
   "source": [
    "sweep_s(lambda: sim_opts, 10, verbose=True, dynamic=True)"
   ]
  },
  {
   "cell_type": "code",
   "execution_count": 289,
   "metadata": {
    "collapsed": false
   },
   "outputs": [
    {
     "data": {
      "text/plain": [
       "<__main__.Manager at 0x7fe76eb27780>"
      ]
     },
     "execution_count": 289,
     "metadata": {},
     "output_type": "execute_result"
    }
   ],
   "source": [
    "opt_mgr = sim_opts.update({ 's': 0.375 }).create_manager_with_opt(seed=1)\n",
    "opt_mgr.run_dynamic()"
   ]
  },
  {
   "cell_type": "code",
   "execution_count": 290,
   "metadata": {
    "collapsed": true
   },
   "outputs": [],
   "source": [
    "opt_df = opt_mgr.state.get_dataframe()"
   ]
  },
  {
   "cell_type": "code",
   "execution_count": 291,
   "metadata": {
    "collapsed": false
   },
   "outputs": [
    {
     "data": {
      "text/html": [
       "<div>\n",
       "<table border=\"1\" class=\"dataframe\">\n",
       "  <thead>\n",
       "    <tr style=\"text-align: right;\">\n",
       "      <th></th>\n",
       "      <th>event_id</th>\n",
       "      <th>sink_id</th>\n",
       "      <th>src_id</th>\n",
       "      <th>t</th>\n",
       "      <th>time_delta</th>\n",
       "    </tr>\n",
       "  </thead>\n",
       "  <tbody>\n",
       "    <tr>\n",
       "      <th>0</th>\n",
       "      <td>100</td>\n",
       "      <td>1001</td>\n",
       "      <td>1</td>\n",
       "      <td>0.000000</td>\n",
       "      <td>0.000000</td>\n",
       "    </tr>\n",
       "    <tr>\n",
       "      <th>4</th>\n",
       "      <td>104</td>\n",
       "      <td>1001</td>\n",
       "      <td>1</td>\n",
       "      <td>0.002940</td>\n",
       "      <td>0.000070</td>\n",
       "    </tr>\n",
       "    <tr>\n",
       "      <th>32</th>\n",
       "      <td>132</td>\n",
       "      <td>1001</td>\n",
       "      <td>1</td>\n",
       "      <td>0.035653</td>\n",
       "      <td>0.001081</td>\n",
       "    </tr>\n",
       "    <tr>\n",
       "      <th>49</th>\n",
       "      <td>149</td>\n",
       "      <td>1001</td>\n",
       "      <td>1</td>\n",
       "      <td>0.077264</td>\n",
       "      <td>0.005290</td>\n",
       "    </tr>\n",
       "    <tr>\n",
       "      <th>60</th>\n",
       "      <td>160</td>\n",
       "      <td>1001</td>\n",
       "      <td>1</td>\n",
       "      <td>0.104315</td>\n",
       "      <td>0.001089</td>\n",
       "    </tr>\n",
       "    <tr>\n",
       "      <th>89</th>\n",
       "      <td>189</td>\n",
       "      <td>1001</td>\n",
       "      <td>1</td>\n",
       "      <td>0.155652</td>\n",
       "      <td>0.002980</td>\n",
       "    </tr>\n",
       "    <tr>\n",
       "      <th>105</th>\n",
       "      <td>205</td>\n",
       "      <td>1001</td>\n",
       "      <td>1</td>\n",
       "      <td>0.190397</td>\n",
       "      <td>0.001760</td>\n",
       "    </tr>\n",
       "    <tr>\n",
       "      <th>118</th>\n",
       "      <td>218</td>\n",
       "      <td>1001</td>\n",
       "      <td>1</td>\n",
       "      <td>0.214218</td>\n",
       "      <td>0.002258</td>\n",
       "    </tr>\n",
       "    <tr>\n",
       "      <th>137</th>\n",
       "      <td>237</td>\n",
       "      <td>1001</td>\n",
       "      <td>1</td>\n",
       "      <td>0.258508</td>\n",
       "      <td>0.001389</td>\n",
       "    </tr>\n",
       "    <tr>\n",
       "      <th>149</th>\n",
       "      <td>249</td>\n",
       "      <td>1001</td>\n",
       "      <td>1</td>\n",
       "      <td>0.275824</td>\n",
       "      <td>0.005616</td>\n",
       "    </tr>\n",
       "    <tr>\n",
       "      <th>160</th>\n",
       "      <td>260</td>\n",
       "      <td>1001</td>\n",
       "      <td>1</td>\n",
       "      <td>0.310070</td>\n",
       "      <td>0.007738</td>\n",
       "    </tr>\n",
       "    <tr>\n",
       "      <th>184</th>\n",
       "      <td>284</td>\n",
       "      <td>1001</td>\n",
       "      <td>1</td>\n",
       "      <td>0.354171</td>\n",
       "      <td>0.005273</td>\n",
       "    </tr>\n",
       "    <tr>\n",
       "      <th>207</th>\n",
       "      <td>307</td>\n",
       "      <td>1001</td>\n",
       "      <td>1</td>\n",
       "      <td>0.413325</td>\n",
       "      <td>0.002514</td>\n",
       "    </tr>\n",
       "    <tr>\n",
       "      <th>215</th>\n",
       "      <td>315</td>\n",
       "      <td>1001</td>\n",
       "      <td>1</td>\n",
       "      <td>0.422783</td>\n",
       "      <td>0.001675</td>\n",
       "    </tr>\n",
       "    <tr>\n",
       "      <th>237</th>\n",
       "      <td>337</td>\n",
       "      <td>1001</td>\n",
       "      <td>1</td>\n",
       "      <td>0.465730</td>\n",
       "      <td>0.000020</td>\n",
       "    </tr>\n",
       "    <tr>\n",
       "      <th>257</th>\n",
       "      <td>357</td>\n",
       "      <td>1001</td>\n",
       "      <td>1</td>\n",
       "      <td>0.521879</td>\n",
       "      <td>0.002528</td>\n",
       "    </tr>\n",
       "    <tr>\n",
       "      <th>268</th>\n",
       "      <td>368</td>\n",
       "      <td>1001</td>\n",
       "      <td>1</td>\n",
       "      <td>0.538687</td>\n",
       "      <td>0.000060</td>\n",
       "    </tr>\n",
       "    <tr>\n",
       "      <th>335</th>\n",
       "      <td>435</td>\n",
       "      <td>1001</td>\n",
       "      <td>1</td>\n",
       "      <td>0.655294</td>\n",
       "      <td>0.001156</td>\n",
       "    </tr>\n",
       "    <tr>\n",
       "      <th>360</th>\n",
       "      <td>460</td>\n",
       "      <td>1001</td>\n",
       "      <td>1</td>\n",
       "      <td>0.706507</td>\n",
       "      <td>0.002990</td>\n",
       "    </tr>\n",
       "    <tr>\n",
       "      <th>386</th>\n",
       "      <td>486</td>\n",
       "      <td>1001</td>\n",
       "      <td>1</td>\n",
       "      <td>0.753274</td>\n",
       "      <td>0.000518</td>\n",
       "    </tr>\n",
       "    <tr>\n",
       "      <th>396</th>\n",
       "      <td>496</td>\n",
       "      <td>1001</td>\n",
       "      <td>1</td>\n",
       "      <td>0.782481</td>\n",
       "      <td>0.008607</td>\n",
       "    </tr>\n",
       "    <tr>\n",
       "      <th>422</th>\n",
       "      <td>522</td>\n",
       "      <td>1001</td>\n",
       "      <td>1</td>\n",
       "      <td>0.824248</td>\n",
       "      <td>0.000238</td>\n",
       "    </tr>\n",
       "    <tr>\n",
       "      <th>434</th>\n",
       "      <td>534</td>\n",
       "      <td>1001</td>\n",
       "      <td>1</td>\n",
       "      <td>0.847236</td>\n",
       "      <td>0.000407</td>\n",
       "    </tr>\n",
       "    <tr>\n",
       "      <th>453</th>\n",
       "      <td>553</td>\n",
       "      <td>1001</td>\n",
       "      <td>1</td>\n",
       "      <td>0.884253</td>\n",
       "      <td>0.000947</td>\n",
       "    </tr>\n",
       "    <tr>\n",
       "      <th>472</th>\n",
       "      <td>572</td>\n",
       "      <td>1001</td>\n",
       "      <td>1</td>\n",
       "      <td>0.909667</td>\n",
       "      <td>0.000031</td>\n",
       "    </tr>\n",
       "    <tr>\n",
       "      <th>511</th>\n",
       "      <td>611</td>\n",
       "      <td>1001</td>\n",
       "      <td>1</td>\n",
       "      <td>0.978686</td>\n",
       "      <td>0.001927</td>\n",
       "    </tr>\n",
       "    <tr>\n",
       "      <th>514</th>\n",
       "      <td>614</td>\n",
       "      <td>1001</td>\n",
       "      <td>1</td>\n",
       "      <td>0.988569</td>\n",
       "      <td>0.005752</td>\n",
       "    </tr>\n",
       "  </tbody>\n",
       "</table>\n",
       "</div>"
      ],
      "text/plain": [
       "     event_id  sink_id  src_id         t  time_delta\n",
       "0         100     1001       1  0.000000    0.000000\n",
       "4         104     1001       1  0.002940    0.000070\n",
       "32        132     1001       1  0.035653    0.001081\n",
       "49        149     1001       1  0.077264    0.005290\n",
       "60        160     1001       1  0.104315    0.001089\n",
       "89        189     1001       1  0.155652    0.002980\n",
       "105       205     1001       1  0.190397    0.001760\n",
       "118       218     1001       1  0.214218    0.002258\n",
       "137       237     1001       1  0.258508    0.001389\n",
       "149       249     1001       1  0.275824    0.005616\n",
       "160       260     1001       1  0.310070    0.007738\n",
       "184       284     1001       1  0.354171    0.005273\n",
       "207       307     1001       1  0.413325    0.002514\n",
       "215       315     1001       1  0.422783    0.001675\n",
       "237       337     1001       1  0.465730    0.000020\n",
       "257       357     1001       1  0.521879    0.002528\n",
       "268       368     1001       1  0.538687    0.000060\n",
       "335       435     1001       1  0.655294    0.001156\n",
       "360       460     1001       1  0.706507    0.002990\n",
       "386       486     1001       1  0.753274    0.000518\n",
       "396       496     1001       1  0.782481    0.008607\n",
       "422       522     1001       1  0.824248    0.000238\n",
       "434       534     1001       1  0.847236    0.000407\n",
       "453       553     1001       1  0.884253    0.000947\n",
       "472       572     1001       1  0.909667    0.000031\n",
       "511       611     1001       1  0.978686    0.001927\n",
       "514       614     1001       1  0.988569    0.005752"
      ]
     },
     "execution_count": 291,
     "metadata": {},
     "output_type": "execute_result"
    }
   ],
   "source": [
    "opt_df[opt_df.src_id == sim_opts.src_id]"
   ]
  },
  {
   "cell_type": "code",
   "execution_count": 292,
   "metadata": {
    "collapsed": true
   },
   "outputs": [],
   "source": [
    "wall_mgr = sim_opts.create_manager_for_wall()"
   ]
  },
  {
   "cell_type": "code",
   "execution_count": 293,
   "metadata": {
    "collapsed": false
   },
   "outputs": [
    {
     "data": {
      "text/plain": [
       "<__main__.Manager at 0x7fe76cf71898>"
      ]
     },
     "execution_count": 293,
     "metadata": {},
     "output_type": "execute_result"
    }
   ],
   "source": [
    "wall_mgr.run_dynamic()"
   ]
  },
  {
   "cell_type": "code",
   "execution_count": 294,
   "metadata": {
    "collapsed": true
   },
   "outputs": [],
   "source": [
    "df = wall_mgr.state.get_dataframe()"
   ]
  },
  {
   "cell_type": "code",
   "execution_count": 295,
   "metadata": {
    "collapsed": false
   },
   "outputs": [],
   "source": [
    "r_t = rank_of_src_in_df(df, src_id=-1)"
   ]
  },
  {
   "cell_type": "code",
   "execution_count": 296,
   "metadata": {
    "collapsed": false
   },
   "outputs": [
    {
     "data": {
      "text/plain": [
       "495.0"
      ]
     },
     "execution_count": 296,
     "metadata": {},
     "output_type": "execute_result"
    }
   ],
   "source": [
    "r_t.mean(1).iloc[-1]"
   ]
  },
  {
   "cell_type": "code",
   "execution_count": 297,
   "metadata": {
    "collapsed": false
   },
   "outputs": [
    {
     "data": {
      "text/plain": [
       "(495, 5)"
      ]
     },
     "execution_count": 297,
     "metadata": {},
     "output_type": "execute_result"
    }
   ],
   "source": [
    "df.shape"
   ]
  },
  {
   "cell_type": "code",
   "execution_count": 298,
   "metadata": {
    "collapsed": false
   },
   "outputs": [
    {
     "data": {
      "text/plain": [
       "6.7826577479581491"
      ]
     },
     "execution_count": 298,
     "metadata": {},
     "output_type": "execute_result"
    }
   ],
   "source": [
    "(4 * (r_t.iloc[-1].mean() ** 2) * (sim_opts.end_time) ** 2) / (np.pi * np.pi * (10 + 1) ** 4) "
   ]
  },
  {
   "cell_type": "code",
   "execution_count": null,
   "metadata": {
    "collapsed": true
   },
   "outputs": [],
   "source": []
  },
  {
   "cell_type": "code",
   "execution_count": 60,
   "metadata": {
    "collapsed": false
   },
   "outputs": [
    {
     "data": {
      "text/plain": [
       "{'avg_rank': 954.00681957353299,\n",
       " 'broadcaster_events': 49,\n",
       " 'num_events': 49,\n",
       " 'r0_num_events': 49,\n",
       " 'r_2': 13966.614080745609,\n",
       " 's': 1000.0,\n",
       " 'seed': 2,\n",
       " 'sim_opts': <__main__.SimOpts at 0x7fc80895c358>,\n",
       " 'top_1': 9.5668178314961985,\n",
       " 'top_10': 52.303469506298647,\n",
       " 'top_20': 90.47790271111036,\n",
       " 'top_3': 20.567177074149754,\n",
       " 'top_5': 30.583811352029109,\n",
       " 'type': 'Oracle',\n",
       " 'world_events': 1198}"
      ]
     },
     "execution_count": 60,
     "metadata": {},
     "output_type": "execute_result"
    }
   ],
   "source": [
    "hawkes_res.raw_results[-1\n",
    "                      ]"
   ]
  },
  {
   "cell_type": "code",
   "execution_count": 58,
   "metadata": {
    "collapsed": false
   },
   "outputs": [
    {
     "data": {
      "text/plain": [
       "[]"
      ]
     },
     "execution_count": 58,
     "metadata": {},
     "output_type": "execute_result"
    }
   ],
   "source": [
    "[x['best_avg_k'] for x in hawkes_res.raw_results if x['type'] == 'KDD']"
   ]
  },
  {
   "cell_type": "code",
   "execution_count": null,
   "metadata": {
    "collapsed": true
   },
   "outputs": [],
   "source": []
  },
  {
   "cell_type": "markdown",
   "metadata": {},
   "source": [
    "# Run for user 52885404"
   ]
  },
  {
   "cell_type": "code",
   "execution_count": 338,
   "metadata": {
    "collapsed": false
   },
   "outputs": [
    {
     "data": {
      "text/plain": [
       "'/NL/ghtorrent/work/opt-broadcast'"
      ]
     },
     "execution_count": 338,
     "metadata": {},
     "output_type": "execute_result"
    }
   ],
   "source": [
    "base"
   ]
  },
  {
   "cell_type": "code",
   "execution_count": 396,
   "metadata": {
    "collapsed": true
   },
   "outputs": [],
   "source": [
    "user_id = 20712572"
   ]
  },
  {
   "cell_type": "code",
   "execution_count": 397,
   "metadata": {
    "collapsed": false
   },
   "outputs": [],
   "source": [
    "# user_id = 35652801 s_opt = 3211150360.2065687\n",
    "# s_opt = 155655.86986992834 for user_id = 52885404\n",
    "user_raw = pickle.load(open(os.path.join(base, 'user-{}.pickle'.format(user_id)), 'rb'))"
   ]
  },
  {
   "cell_type": "code",
   "execution_count": 398,
   "metadata": {
    "collapsed": true
   },
   "outputs": [],
   "source": [
    "user_result = revert_to_sim_opts(user_raw)"
   ]
  },
  {
   "cell_type": "code",
   "execution_count": 399,
   "metadata": {
    "collapsed": false
   },
   "outputs": [
    {
     "data": {
      "text/plain": [
       "dict_keys(['user_event_times', 'scaled_period', 'num_user_events', 'sim_opts_dict', 'user_id'])"
      ]
     },
     "execution_count": 399,
     "metadata": {},
     "output_type": "execute_result"
    }
   ],
   "source": [
    "user_raw.keys()"
   ]
  },
  {
   "cell_type": "code",
   "execution_count": 400,
   "metadata": {
    "collapsed": true
   },
   "outputs": [],
   "source": [
    "sim_opts = user_result['sim_opts']"
   ]
  },
  {
   "cell_type": "code",
   "execution_count": 401,
   "metadata": {
    "collapsed": false
   },
   "outputs": [
    {
     "data": {
      "text/plain": [
       "dict_keys(['user_event_times', 'scaled_period', 'num_user_events', 'sim_opts_dict', 'user_id'])"
      ]
     },
     "execution_count": 401,
     "metadata": {},
     "output_type": "execute_result"
    }
   ],
   "source": [
    "user_raw.keys()"
   ]
  },
  {
   "cell_type": "code",
   "execution_count": 402,
   "metadata": {
    "collapsed": false
   },
   "outputs": [
    {
     "name": "stdout",
     "output_type": "stream",
     "text": [
      "*** \u001b[31m2016-05-19 22:42:01.776325\u001b[0m Checkpoint: s_init = 23432203434.13262\n",
      "*** \u001b[31m2016-05-19 22:43:03.950811\u001b[0m Checkpoint: Initial capacity = 28.884668978252176, target capacity = 30, s_init = 23432203434.13262\n",
      "*** \u001b[31m2016-05-19 22:44:04.378174\u001b[0m Checkpoint: s = 11716101717.06631, capcity = 35.039623937742554\n",
      "*** \u001b[31m2016-05-19 22:44:04.379748\u001b[0m Checkpoint: s_hi = 23432203434.13262, s_lo = 11716101717.06631\n",
      "*** \u001b[31m2016-05-19 22:45:05.713041\u001b[0m Checkpoint: new_capacity = 31.287997490987454, s = 17574152575.599464\n",
      "*** \u001b[31m2016-05-19 22:46:07.081210\u001b[0m Checkpoint: new_capacity = 29.89889301925127, s = 20503178004.866043\n"
     ]
    }
   ],
   "source": [
    "s_opt = sweep_s(sim_opts, user_raw['num_user_events'], verbose=True)"
   ]
  },
  {
   "cell_type": "code",
   "execution_count": 404,
   "metadata": {
    "collapsed": false
   },
   "outputs": [
    {
     "data": {
      "text/plain": [
       "20503178004.866043"
      ]
     },
     "execution_count": 404,
     "metadata": {},
     "output_type": "execute_result"
    }
   ],
   "source": [
    "s_opt"
   ]
  },
  {
   "cell_type": "code",
   "execution_count": 405,
   "metadata": {
    "collapsed": true
   },
   "outputs": [],
   "source": [
    "opt_mgr = sim_opts.update({'s': s_opt}).create_manager_with_opt(seed=1)"
   ]
  },
  {
   "cell_type": "code",
   "execution_count": 406,
   "metadata": {
    "collapsed": false
   },
   "outputs": [
    {
     "name": "stdout",
     "output_type": "stream",
     "text": [
      "CPU times: user 31.1 s, sys: 1.79 s, total: 32.9 s\n",
      "Wall time: 32.9 s\n"
     ]
    },
    {
     "data": {
      "text/plain": [
       "<__main__.Manager at 0x7fc7ff51f2e8>"
      ]
     },
     "execution_count": 406,
     "metadata": {},
     "output_type": "execute_result"
    }
   ],
   "source": [
    "%%time\n",
    "opt_mgr.run_dynamic()"
   ]
  },
  {
   "cell_type": "code",
   "execution_count": 407,
   "metadata": {
    "collapsed": true
   },
   "outputs": [],
   "source": [
    "df_opt = opt_mgr.state.get_dataframe()"
   ]
  },
  {
   "cell_type": "code",
   "execution_count": 411,
   "metadata": {
    "collapsed": false
   },
   "outputs": [
    {
     "data": {
      "text/plain": [
       "(20712572, 20712572)"
      ]
     },
     "execution_count": 411,
     "metadata": {},
     "output_type": "execute_result"
    }
   ],
   "source": [
    "user_id, sim_opts.src_id"
   ]
  },
  {
   "cell_type": "code",
   "execution_count": 409,
   "metadata": {
    "collapsed": false
   },
   "outputs": [],
   "source": [
    "real_mgr = sim_opts.update({'s': s_opt}).create_manager_with_times(event_times=user_result['user_event_times'])"
   ]
  },
  {
   "cell_type": "code",
   "execution_count": 410,
   "metadata": {
    "collapsed": false
   },
   "outputs": [
    {
     "name": "stdout",
     "output_type": "stream",
     "text": [
      "CPU times: user 7.12 s, sys: 487 ms, total: 7.61 s\n",
      "Wall time: 7.61 s\n"
     ]
    },
    {
     "data": {
      "text/plain": [
       "<__main__.Manager at 0x7fc7b0c61550>"
      ]
     },
     "execution_count": 410,
     "metadata": {},
     "output_type": "execute_result"
    }
   ],
   "source": [
    "%%time\n",
    "real_mgr.run_dynamic()"
   ]
  },
  {
   "cell_type": "code",
   "execution_count": 412,
   "metadata": {
    "collapsed": true
   },
   "outputs": [],
   "source": [
    "df_real = real_mgr.state.get_dataframe()"
   ]
  },
  {
   "cell_type": "code",
   "execution_count": 456,
   "metadata": {
    "collapsed": false
   },
   "outputs": [
    {
     "data": {
      "text/plain": [
       "32"
      ]
     },
     "execution_count": 456,
     "metadata": {},
     "output_type": "execute_result"
    }
   ],
   "source": [
    "df_opt.event_id[df_opt.src_id == user_id].nunique()"
   ]
  },
  {
   "cell_type": "code",
   "execution_count": 455,
   "metadata": {
    "collapsed": false
   },
   "outputs": [
    {
     "data": {
      "text/plain": [
       "30"
      ]
     },
     "execution_count": 455,
     "metadata": {},
     "output_type": "execute_result"
    }
   ],
   "source": [
    "df_real.event_id[df_real.src_id == user_id].nunique()"
   ]
  },
  {
   "cell_type": "code",
   "execution_count": 446,
   "metadata": {
    "collapsed": true
   },
   "outputs": [],
   "source": [
    "%run -i utils.py"
   ]
  },
  {
   "cell_type": "code",
   "execution_count": 447,
   "metadata": {
    "collapsed": false
   },
   "outputs": [
    {
     "name": "stdout",
     "output_type": "stream",
     "text": [
      "Done within 9 iterations!\n",
      "CPU times: user 21.8 s, sys: 2.23 s, total: 24 s\n",
      "Wall time: 22.2 s\n"
     ]
    },
    {
     "name": "stderr",
     "output_type": "stream",
     "text": [
      "utils.py:696: VisibleDeprecationWarning: using a non-integer number instead of an integer will result in an error in the future\n",
      "  follower_weights)\n"
     ]
    }
   ],
   "source": [
    "%%time\n",
    "# seed, capacity, num_segments, sim_opts, world_changing_rates, queue = params\n",
    "kdd_perf = worker_kdd((1, user_result['num_user_events'] * 1.0, 60, sim_opts, None, None), verbose=True, Ks=[1])"
   ]
  },
  {
   "cell_type": "code",
   "execution_count": 450,
   "metadata": {
    "collapsed": false
   },
   "outputs": [],
   "source": [
    "kdd_opt = kdd_perf['kdd_opt_1']"
   ]
  },
  {
   "cell_type": "code",
   "execution_count": null,
   "metadata": {
    "collapsed": true
   },
   "outputs": [],
   "source": [
    "kdd_mgr = sim_opts.create_manager_with_piecewise_const(seed=1, change_times = np.arange(60) / 60 * sim_opts. )"
   ]
  },
  {
   "cell_type": "code",
   "execution_count": 413,
   "metadata": {
    "collapsed": true
   },
   "outputs": [],
   "source": [
    "r_opt = rank_of_src_in_df(df_opt, user_id).mean(1)"
   ]
  },
  {
   "cell_type": "code",
   "execution_count": 414,
   "metadata": {
    "collapsed": true
   },
   "outputs": [],
   "source": [
    "r_real = rank_of_src_in_df(df_real, user_id).mean(1)"
   ]
  },
  {
   "cell_type": "code",
   "execution_count": 415,
   "metadata": {
    "collapsed": false
   },
   "outputs": [
    {
     "data": {
      "text/plain": [
       "(606525,)"
      ]
     },
     "execution_count": 415,
     "metadata": {},
     "output_type": "execute_result"
    }
   ],
   "source": [
    "r_opt.shape"
   ]
  },
  {
   "cell_type": "code",
   "execution_count": 433,
   "metadata": {
    "collapsed": false
   },
   "outputs": [],
   "source": [
    "r_opt_sampled = pd.concat([r_opt[::200], r_opt[r_opt == 0]]).sort_index()"
   ]
  },
  {
   "cell_type": "code",
   "execution_count": 454,
   "metadata": {
    "collapsed": false
   },
   "outputs": [
    {
     "data": {
      "text/plain": [
       "32"
      ]
     },
     "execution_count": 454,
     "metadata": {},
     "output_type": "execute_result"
    }
   ],
   "source": [
    "np.sum(r_opt == 0)"
   ]
  },
  {
   "cell_type": "code",
   "execution_count": 460,
   "metadata": {
    "collapsed": false
   },
   "outputs": [
    {
     "data": {
      "text/plain": [
       "array([  251.906,   441.235,   455.121,   886.766,  1413.65 ,  1429.583,\n",
       "        1700.907,  2508.858,  2509.022,  2706.411,  3645.805,  3648.546,\n",
       "        3993.621,  4269.935,  4305.957,  4306.243,  4309.272,  4313.168,\n",
       "        4325.23 ,  4662.313,  5412.7  ,  5415.166,  5790.916,  5791.006,\n",
       "        5799.317,  5809.817,  6078.444,  6099.087,  6207.644,  6854.717])"
      ]
     },
     "execution_count": 460,
     "metadata": {},
     "output_type": "execute_result"
    }
   ],
   "source": [
    "df_real.t[df_real.src_id == user_id].unique()"
   ]
  },
  {
   "cell_type": "code",
   "execution_count": 469,
   "metadata": {
    "collapsed": false
   },
   "outputs": [
    {
     "data": {
      "text/plain": [
       "t\n",
       "886.762619    775.066667\n",
       "886.766353      0.016667\n",
       "dtype: float64"
      ]
     },
     "execution_count": 469,
     "metadata": {},
     "output_type": "execute_result"
    }
   ],
   "source": [
    "r_real[(886.76 <= r_real.index) & (r_real.index <= 886.77)]"
   ]
  },
  {
   "cell_type": "code",
   "execution_count": 462,
   "metadata": {
    "collapsed": false
   },
   "outputs": [
    {
     "data": {
      "text/plain": [
       "Float64Index([ 251.90598865, 441.235439068, 455.120594385, 1413.64994026,\n",
       "              1700.90725806, 2508.85790024, 2509.02217742, 3645.80533154,\n",
       "              3993.62119176,  4269.9354092, 4305.95691458, 4306.24253286,\n",
       "              4309.27232676, 4313.16830944,  4325.2296147, 4662.31332139,\n",
       "              5412.69974612, 5415.16577061, 5790.91621864, 5791.00582437,\n",
       "              5799.31675627, 5809.81742832, 6207.64448925, 6854.71736858],\n",
       "             dtype='float64', name='t')"
      ]
     },
     "execution_count": 462,
     "metadata": {},
     "output_type": "execute_result"
    }
   ],
   "source": [
    "r_real[(r_real == 0)].index"
   ]
  },
  {
   "cell_type": "code",
   "execution_count": 434,
   "metadata": {
    "collapsed": true
   },
   "outputs": [],
   "source": [
    "r_real_sampled = pd.concat([r_real[::200], r_real[r_real == 0]]).sort_index()"
   ]
  },
  {
   "cell_type": "code",
   "execution_count": 440,
   "metadata": {
    "collapsed": true
   },
   "outputs": [],
   "source": [
    "c1, c2 = sns.mpl_palette('Set2', 2)"
   ]
  },
  {
   "cell_type": "code",
   "execution_count": 573,
   "metadata": {
    "collapsed": false
   },
   "outputs": [
    {
     "data": {
      "image/png": "[encoded data removed]",
      "text/plain": [
       "<matplotlib.figure.Figure at 0x7fc79c172080>"
      ]
     },
     "metadata": {},
     "output_type": "display_data"
    }
   ],
   "source": [
    "latexify(fig_width=1.75, largeFonts=False)\n",
    "# plt.figure(figsize=(8,6))\n",
    "# plt.plot(60 * r_opt_sampled.index / 10000, r_opt_sampled.values, color=c1, linewidth=0.75)\n",
    "one_month = r_opt_sampled.index <= 5000.0\n",
    "ymin, ymax = 0, 3000\n",
    "\n",
    "plt.fill_between(60 * r_opt_sampled.index[one_month] / 10000, r_opt_sampled.values[one_month], color=c1,\n",
    "                 label='$r(t)$',\n",
    "                 alpha=0.5)\n",
    "\n",
    "tweet_times = df_opt[(df_opt.src_id == user_id)].t.unique()\n",
    "one_month_df = tweet_times < 5000.0\n",
    "num_tweets = np.sum(one_month_df)\n",
    "\n",
    "# plt.vlines(tweet_times[one_month_df] * 60 / 10000, ymin=0, ymax=1200, color=c2, linewidth=0.5)\n",
    "plt.step(tweet_times[one_month_df] * 60 / 10000.0, np.arange(num_tweets) / num_tweets * ymax, \n",
    "         label='$N(t)$',\n",
    "         color=c2, linewidth=1.0)\n",
    "\n",
    "# plt.legend(loc=\"upper left\")\n",
    "plt.legend(bbox_to_anchor=(0.5, 1.2), bbox_transform=plt.gca().transAxes)\n",
    "\n",
    "plt.yticks([0, 1500, 3000])\n",
    "plt.xticks([3, 15, 27], ['01/06', '15/06', '31/06'])\n",
    "plt.tight_layout()\n",
    "format_axes(plt.gca())\n",
    "# plt.savefig(os.path.join(plot_base, 'opt-data-counting.pdf'), bbox_inches='tight', pad_inches=0)"
   ]
  },
  {
   "cell_type": "code",
   "execution_count": 520,
   "metadata": {
    "collapsed": false
   },
   "outputs": [
    {
     "data": {
      "image/png": "[encoded data removed]",
      "text/plain": [
       "<matplotlib.figure.Figure at 0x7fc7a4b72780>"
      ]
     },
     "metadata": {},
     "output_type": "display_data"
    }
   ],
   "source": [
    "latexify(fig_width=1.75, largeFonts=False)\n",
    "# plt.figure(figsize=(8,6))\n",
    "# plt.plot(60 * r_opt_sampled.index / 10000, r_opt_sampled.values, color=c1, linewidth=0.75)\n",
    "one_month = r_opt_sampled.index <= 5000.0\n",
    "plt.fill_between(60 * r_opt_sampled.index[one_month] / 10000, r_opt_sampled.values[one_month], color=c1, alpha=0.5)\n",
    "\n",
    "tweet_times = df_opt[(df_opt.src_id == user_id)].t.unique()\n",
    "one_month_df = tweet_times < 5000.0\n",
    "ymin, ymax = 0, 1200\n",
    "plt.vlines(tweet_times[one_month_df] * 60 / 10000, ymin=0, ymax=1200, color=c2, linewidth=0.5)\n",
    "plt.yticks([0, 600, 1200])\n",
    "plt.xticks([3, 15, 27], ['01/06', '15/06', '31/06'])\n",
    "plt.tight_layout()\n",
    "format_axes(plt.gca())\n",
    "# plt.savefig(os.path.join(plot_base, 'opt-data-ranks.pdf'), bbox_inches='tight', pad_inches=0)"
   ]
  },
  {
   "cell_type": "code",
   "execution_count": 518,
   "metadata": {
    "collapsed": false
   },
   "outputs": [
    {
     "data": {
      "text/plain": [
       "20"
      ]
     },
     "execution_count": 518,
     "metadata": {},
     "output_type": "execute_result"
    }
   ],
   "source": [
    "np.sum(one_month_df)"
   ]
  },
  {
   "cell_type": "code",
   "execution_count": 574,
   "metadata": {
    "collapsed": false
   },
   "outputs": [
    {
     "data": {
      "image/png": "[encoded data removed]",
      "text/plain": [
       "<matplotlib.figure.Figure at 0x7fc79c14d9e8>"
      ]
     },
     "metadata": {},
     "output_type": "display_data"
    }
   ],
   "source": [
    "latexify(fig_width=1.75, largeFonts=False)\n",
    "# plt.figure(figsize=(8,6))\n",
    "# plt.plot(60 * r_opt_sampled.index / 10000, r_opt_sampled.values, color=c1, linewidth=0.75)\n",
    "one_month = r_real_sampled.index <= 5000.0\n",
    "plt.fill_between(60 * r_real_sampled.index[one_month] / 10000, r_real_sampled.values[one_month], \n",
    "                 label='$r(t)$', color=c1, alpha=0.5)\n",
    "\n",
    "tweet_times = df_real[(df_real.src_id == user_id)].t.unique()\n",
    "one_month_df = tweet_times < 5000.0\n",
    "num_tweets = np.sum(one_month_df)\n",
    "ymin, ymax = 0, 3000\n",
    "# plt.vlines(tweet_times[one_month_df] * 60 / 10000, ymin=0, ymax=1200, color=c2, linewidth=0.5)\n",
    "plt.step(tweet_times[one_month_df] * 60 / 10000.0, np.arange(num_tweets) / num_tweets * ymax, color=c2,\n",
    "         label='$N(t)$',\n",
    "         linewidth=1.0)\n",
    "\n",
    "plt.yticks([0, 1500, 3000])\n",
    "plt.xticks([3, 15, 27], ['01/06', '15/06', '31/06'])\n",
    "# leg = plt.legend(loc=\"upper left\")\n",
    "\n",
    "# Get the bounding box of the original legend\n",
    "# bb = leg.legendPatch.get_bbox().inverse_transformed(plt.gca().transAxes)\n",
    "# leg.legendPatch.\n",
    "plt.legend(bbox_to_anchor=(0.5, 1.2), bbox_transform=plt.gca().transAxes)\n",
    "\n",
    "plt.tight_layout()\n",
    "format_axes(plt.gca())\n",
    "# plt.savefig(os.path.join(plot_base, 'real-data-counting.pdf'), bbox_inches='tight', pad_inches=0)"
   ]
  },
  {
   "cell_type": "code",
   "execution_count": 562,
   "metadata": {
    "collapsed": false
   },
   "outputs": [
    {
     "data": {
      "text/plain": [
       "Bbox([[-0.16129032258064516, -0.16129032258064516], [-0.15104966717869944, -0.14472059407322177]])"
      ]
     },
     "execution_count": 562,
     "metadata": {},
     "output_type": "execute_result"
    }
   ],
   "source": [
    "bb"
   ]
  },
  {
   "cell_type": "code",
   "execution_count": 521,
   "metadata": {
    "collapsed": false
   },
   "outputs": [
    {
     "data": {
      "image/png": "[encoded data removed]",
      "text/plain": [
       "<matplotlib.figure.Figure at 0x7fc7a46367b8>"
      ]
     },
     "metadata": {},
     "output_type": "display_data"
    }
   ],
   "source": [
    "latexify(fig_width=1.75, largeFonts=False)\n",
    "# plt.figure(figsize=(8,6))\n",
    "# plt.plot(60 * r_real_sampled.index / 10000, r_real_sampled.values)\n",
    "one_month = r_real_sampled.index <= 5000.0\n",
    "plt.fill_between(60 * r_real_sampled.index[one_month] / 10000, r_real_sampled.values[one_month], color=c1, alpha=0.5)\n",
    "\n",
    "tweet_times = df_real[(df_real.src_id == sim_opts.src_id)].t.unique()\n",
    "one_month_df = tweet_times < 5000.0\n",
    "plt.vlines(tweet_times[one_month_df] * 60 / 10000.0, ymin=0, ymax=3000, color=c2, linewidth=0.5)\n",
    "plt.tight_layout()\n",
    "plt.yticks([0, 1500, 3000]) # , [0, r'$10^3$', r'$3\\times 10^3$'])\n",
    "plt.xticks([3, 15, 27], ['01/06', '15/06', '31/06'])\n",
    "format_axes(plt.gca())\n",
    "# plt.savefig(os.path.join(plot_base, 'real-data-ranks.pdf'), bbox_inches='tight', pad_inches=0)"
   ]
  },
  {
   "cell_type": "code",
   "execution_count": 516,
   "metadata": {
    "collapsed": false
   },
   "outputs": [
    {
     "data": {
      "text/plain": [
       "20"
      ]
     },
     "execution_count": 516,
     "metadata": {},
     "output_type": "execute_result"
    }
   ],
   "source": [
    "np.sum(one_month_df)"
   ]
  },
  {
   "cell_type": "code",
   "execution_count": 437,
   "metadata": {
    "collapsed": false
   },
   "outputs": [
    {
     "data": {
      "text/plain": [
       "[<matplotlib.lines.Line2D at 0x7fc7fd985748>]"
      ]
     },
     "execution_count": 437,
     "metadata": {},
     "output_type": "execute_result"
    },
    {
     "data": {
      "image/png": "[encoded data removed]",
      "text/plain": [
       "<matplotlib.figure.Figure at 0x7fc7fdc4a3c8>"
      ]
     },
     "metadata": {},
     "output_type": "display_data"
    }
   ],
   "source": [
    "latexify(fig_width=2.0, largeFonts=True)\n",
    "plt.figure(figsize=(8,6))\n",
    "plt.plot(60 * r_real_sampled.index / 10000, r_real_sampled.values)"
   ]
  },
  {
   "cell_type": "code",
   "execution_count": null,
   "metadata": {
    "collapsed": true
   },
   "outputs": [],
   "source": []
  },
  {
   "cell_type": "code",
   "execution_count": 546,
   "metadata": {
    "collapsed": false
   },
   "outputs": [
    {
     "data": {
      "text/plain": [
       "422.95381261988513"
      ]
     },
     "execution_count": 546,
     "metadata": {},
     "output_type": "execute_result"
    }
   ],
   "source": [
    "average_rank(df_opt, sim_opts=sim_opts) / sim_opts.end_time"
   ]
  },
  {
   "cell_type": "code",
   "execution_count": 547,
   "metadata": {
    "collapsed": false
   },
   "outputs": [
    {
     "data": {
      "text/plain": [
       "1387.4009282506947"
      ]
     },
     "execution_count": 547,
     "metadata": {},
     "output_type": "execute_result"
    }
   ],
   "source": [
    "average_rank(df_real, sim_opts=sim_opts) / sim_opts.end_time"
   ]
  },
  {
   "cell_type": "code",
   "execution_count": null,
   "metadata": {
    "collapsed": true
   },
   "outputs": [],
   "source": []
  },
  {
   "cell_type": "code",
   "execution_count": null,
   "metadata": {
    "collapsed": true
   },
   "outputs": [],
   "source": []
  },
  {
   "cell_type": "code",
   "execution_count": null,
   "metadata": {
    "collapsed": true
   },
   "outputs": [],
   "source": []
  },
  {
   "cell_type": "code",
   "execution_count": null,
   "metadata": {
    "collapsed": true
   },
   "outputs": [],
   "source": []
  },
  {
   "cell_type": "code",
   "execution_count": null,
   "metadata": {
    "collapsed": true
   },
   "outputs": [],
   "source": []
  },
  {
   "cell_type": "code",
   "execution_count": null,
   "metadata": {
    "collapsed": true
   },
   "outputs": [],
   "source": []
  },
  {
   "cell_type": "code",
   "execution_count": null,
   "metadata": {
    "collapsed": true
   },
   "outputs": [],
   "source": []
  }
 ],
 "metadata": {
  "kernelspec": {
   "display_name": "Python 3",
   "language": "python",
   "name": "python3"
  },
  "language_info": {
   "codemirror_mode": {
    "name": "ipython",
    "version": 3
   },
   "file_extension": ".py",
   "mimetype": "text/x-python",
   "name": "python",
   "nbconvert_exporter": "python",
   "pygments_lexer": "ipython3",
   "version": "3.5.1"
  }
 },
 "nbformat": 4,
 "nbformat_minor": 0
}

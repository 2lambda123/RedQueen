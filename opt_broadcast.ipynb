{
 "cells": [
  {
   "cell_type": "code",
   "execution_count": 119,
   "metadata": {
    "collapsed": false
   },
   "outputs": [],
   "source": [
    "%run -i opt_model.py"
   ]
  },
  {
   "cell_type": "code",
   "execution_count": 73,
   "metadata": {
    "collapsed": true
   },
   "outputs": [
    {
     "name": "stderr",
     "output_type": "stream",
     "text": [
      "returned t_delta = -0.70347493783175 < 0, set to 0 instead.\n",
      "returned t_delta = -0.12213105245918321 < 0, set to 0 instead.\n",
      "returned t_delta = -0.33803529002725297 < 0, set to 0 instead.\n",
      "returned t_delta = -0.03607620241669007 < 0, set to 0 instead.\n",
      "returned t_delta = -0.19146880277971334 < 0, set to 0 instead.\n",
      "returned t_delta = -0.43657462238437894 < 0, set to 0 instead.\n",
      "returned t_delta = -0.08819832360195612 < 0, set to 0 instead.\n",
      "returned t_delta = -0.2891079019521632 < 0, set to 0 instead.\n",
      "returned t_delta = -1.4936580139576723 < 0, set to 0 instead.\n",
      "returned t_delta = -0.008027176538622172 < 0, set to 0 instead.\n",
      "returned t_delta = -0.3349115535350773 < 0, set to 0 instead.\n",
      "returned t_delta = -1.3895493537704748 < 0, set to 0 instead.\n",
      "returned t_delta = -0.5578138185681976 < 0, set to 0 instead.\n",
      "returned t_delta = -1.555400754326051 < 0, set to 0 instead.\n",
      "returned t_delta = -0.0453411046956127 < 0, set to 0 instead.\n",
      "returned t_delta = -0.01442285597097026 < 0, set to 0 instead.\n",
      "returned t_delta = -0.13546239915728364 < 0, set to 0 instead.\n",
      "returned t_delta = -0.070896020933219 < 0, set to 0 instead.\n",
      "returned t_delta = -0.10476577845499335 < 0, set to 0 instead.\n",
      "returned t_delta = -0.7179009139102348 < 0, set to 0 instead.\n",
      "returned t_delta = -0.2824983314910767 < 0, set to 0 instead.\n",
      "returned t_delta = -0.14307276337554953 < 0, set to 0 instead.\n",
      "returned t_delta = -0.13430748445454554 < 0, set to 0 instead.\n",
      "returned t_delta = -0.09783498043574923 < 0, set to 0 instead.\n",
      "returned t_delta = -0.24760575526427075 < 0, set to 0 instead.\n",
      "returned t_delta = -0.16883928352404354 < 0, set to 0 instead.\n",
      "returned t_delta = -0.20971609120751467 < 0, set to 0 instead.\n",
      "returned t_delta = -0.03637150422817115 < 0, set to 0 instead.\n",
      "returned t_delta = -0.6045425296547151 < 0, set to 0 instead.\n",
      "returned t_delta = -0.5520374668839025 < 0, set to 0 instead.\n",
      "returned t_delta = -0.5871957677929132 < 0, set to 0 instead.\n",
      "returned t_delta = -0.5327974268796254 < 0, set to 0 instead.\n",
      "returned t_delta = -0.2505961935236698 < 0, set to 0 instead.\n",
      "returned t_delta = -0.5196606554417684 < 0, set to 0 instead.\n",
      "returned t_delta = -0.36055956104681286 < 0, set to 0 instead.\n",
      "returned t_delta = -0.33894519649060584 < 0, set to 0 instead.\n",
      "returned t_delta = -0.5160780876738542 < 0, set to 0 instead.\n",
      "returned t_delta = -0.21044341733575322 < 0, set to 0 instead.\n",
      "returned t_delta = -0.22057000250482872 < 0, set to 0 instead.\n",
      "returned t_delta = -0.06036655349695508 < 0, set to 0 instead.\n",
      "returned t_delta = -0.26336801098361207 < 0, set to 0 instead.\n",
      "returned t_delta = -0.003825600833756937 < 0, set to 0 instead.\n",
      "returned t_delta = -0.8056988267546927 < 0, set to 0 instead.\n",
      "returned t_delta = -0.8848513176876693 < 0, set to 0 instead.\n",
      "returned t_delta = -0.2121146398633158 < 0, set to 0 instead.\n",
      "returned t_delta = -0.10813669197113285 < 0, set to 0 instead.\n",
      "returned t_delta = -0.0758731372084327 < 0, set to 0 instead.\n",
      "returned t_delta = -0.5176223274606855 < 0, set to 0 instead.\n",
      "returned t_delta = -0.8548754716398292 < 0, set to 0 instead.\n",
      "returned t_delta = -0.21561468627777458 < 0, set to 0 instead.\n",
      "returned t_delta = -0.18281825797083684 < 0, set to 0 instead.\n",
      "returned t_delta = -0.6446992523108008 < 0, set to 0 instead.\n",
      "returned t_delta = -0.352463814533138 < 0, set to 0 instead.\n",
      "returned t_delta = -1.0586194971592846 < 0, set to 0 instead.\n",
      "returned t_delta = -0.09513938599529581 < 0, set to 0 instead.\n",
      "returned t_delta = -1.03869921948818 < 0, set to 0 instead.\n",
      "returned t_delta = -0.4876008276296204 < 0, set to 0 instead.\n",
      "returned t_delta = -0.41302105565831937 < 0, set to 0 instead.\n",
      "returned t_delta = -0.43681020254696534 < 0, set to 0 instead.\n",
      "returned t_delta = -0.5582129946476897 < 0, set to 0 instead.\n",
      "returned t_delta = -0.07947143302030213 < 0, set to 0 instead.\n",
      "returned t_delta = -0.2720637595493969 < 0, set to 0 instead.\n",
      "returned t_delta = -0.21485366519085858 < 0, set to 0 instead.\n",
      "returned t_delta = -0.27084338614812964 < 0, set to 0 instead.\n",
      "returned t_delta = -0.15148031316276445 < 0, set to 0 instead.\n",
      "returned t_delta = -0.36045932845530615 < 0, set to 0 instead.\n",
      "returned t_delta = -0.23148760736968654 < 0, set to 0 instead.\n",
      "returned t_delta = -0.8863043117480203 < 0, set to 0 instead.\n",
      "returned t_delta = -0.1401496319187885 < 0, set to 0 instead.\n",
      "returned t_delta = -0.2570954734649149 < 0, set to 0 instead.\n",
      "returned t_delta = -0.02925695500890413 < 0, set to 0 instead.\n",
      "returned t_delta = -0.26419261639928493 < 0, set to 0 instead.\n"
     ]
    }
   ],
   "source": [
    "m.run_till(100)"
   ]
  },
  {
   "cell_type": "code",
   "execution_count": 74,
   "metadata": {
    "collapsed": false
   },
   "outputs": [
    {
     "data": {
      "text/plain": [
       "116"
      ]
     },
     "execution_count": 74,
     "metadata": {},
     "output_type": "execute_result"
    }
   ],
   "source": [
    "sum(1 for ev in m.state.sinks[1000] if ev.src_id == 1)"
   ]
  },
  {
   "cell_type": "code",
   "execution_count": 75,
   "metadata": {
    "collapsed": false
   },
   "outputs": [
    {
     "data": {
      "text/plain": [
       "84"
      ]
     },
     "execution_count": 75,
     "metadata": {},
     "output_type": "execute_result"
    }
   ],
   "source": [
    "sum(1 for ev in m.state.sinks[1000] if ev.src_id == 2)"
   ]
  },
  {
   "cell_type": "code",
   "execution_count": 76,
   "metadata": {
    "collapsed": false
   },
   "outputs": [
    {
     "data": {
      "text/plain": [
       "128"
      ]
     },
     "execution_count": 76,
     "metadata": {},
     "output_type": "execute_result"
    }
   ],
   "source": [
    "sum(1 for ev in m.state.sinks[1000] if ev.src_id == 3)"
   ]
  },
  {
   "cell_type": "code",
   "execution_count": 77,
   "metadata": {
    "collapsed": false
   },
   "outputs": [
    {
     "data": {
      "text/plain": [
       "0.24773098950115746"
      ]
     },
     "execution_count": 77,
     "metadata": {},
     "output_type": "execute_result"
    }
   ],
   "source": [
    "np.random.rand()"
   ]
  },
  {
   "cell_type": "code",
   "execution_count": 120,
   "metadata": {
    "collapsed": true
   },
   "outputs": [],
   "source": [
    "m2 = Manager([1000], [Poisson(1), Hawkes(2), Opt(3)])"
   ]
  },
  {
   "cell_type": "code",
   "execution_count": 121,
   "metadata": {
    "collapsed": true
   },
   "outputs": [
    {
     "name": "stderr",
     "output_type": "stream",
     "text": [
      "returned t_delta = -0.70347493783175 < 0, set to 0 instead.\n",
      "returned t_delta = -0.12213105245918321 < 0, set to 0 instead.\n",
      "returned t_delta = -0.33803529002725297 < 0, set to 0 instead.\n",
      "returned t_delta = -0.03607620241669007 < 0, set to 0 instead.\n",
      "returned t_delta = -0.40788230608510023 < 0, set to 0 instead.\n",
      "returned t_delta = -1.279237283061815 < 0, set to 0 instead.\n",
      "returned t_delta = -0.24704811780943103 < 0, set to 0 instead.\n",
      "returned t_delta = -0.2194684516867884 < 0, set to 0 instead.\n",
      "returned t_delta = -1.3802919353697352 < 0, set to 0 instead.\n",
      "returned t_delta = -0.5659569719177977 < 0, set to 0 instead.\n",
      "returned t_delta = -1.5472576009764492 < 0, set to 0 instead.\n",
      "returned t_delta = -0.053445729107927775 < 0, set to 0 instead.\n",
      "returned t_delta = -0.006318231558655185 < 0, set to 0 instead.\n",
      "returned t_delta = -0.13546239915728364 < 0, set to 0 instead.\n",
      "returned t_delta = -0.070896020933219 < 0, set to 0 instead.\n",
      "returned t_delta = -0.10476577845499335 < 0, set to 0 instead.\n",
      "returned t_delta = -0.7179009139102348 < 0, set to 0 instead.\n",
      "returned t_delta = -0.2906001800668605 < 0, set to 0 instead.\n",
      "returned t_delta = -0.1430727629802675 < 0, set to 0 instead.\n",
      "returned t_delta = -0.1262056362740438 < 0, set to 0 instead.\n",
      "returned t_delta = -0.09783498043574923 < 0, set to 0 instead.\n",
      "returned t_delta = -0.24760575526427075 < 0, set to 0 instead.\n",
      "returned t_delta = -0.16883928352404354 < 0, set to 0 instead.\n",
      "returned t_delta = -0.21781793895515378 < 0, set to 0 instead.\n",
      "returned t_delta = -0.036371504219410156 < 0, set to 0 instead.\n",
      "returned t_delta = -0.596440681915837 < 0, set to 0 instead.\n",
      "returned t_delta = -0.5601393146225888 < 0, set to 0 instead.\n",
      "returned t_delta = -0.5871957677928918 < 0, set to 0 instead.\n",
      "returned t_delta = -0.5327974268796112 < 0, set to 0 instead.\n",
      "returned t_delta = -0.2505961935236698 < 0, set to 0 instead.\n",
      "returned t_delta = -0.5196606554417684 < 0, set to 0 instead.\n",
      "returned t_delta = -0.36055956104681286 < 0, set to 0 instead.\n",
      "returned t_delta = -0.33894519649060584 < 0, set to 0 instead.\n",
      "returned t_delta = -0.5079762399352106 < 0, set to 0 instead.\n",
      "returned t_delta = -0.21044341733575322 < 0, set to 0 instead.\n",
      "returned t_delta = -0.22057000250482872 < 0, set to 0 instead.\n",
      "returned t_delta = -0.06846840123559872 < 0, set to 0 instead.\n",
      "returned t_delta = -0.2552661632449684 < 0, set to 0 instead.\n",
      "returned t_delta = -0.011927448572400579 < 0, set to 0 instead.\n",
      "returned t_delta = -0.7975969790160491 < 0, set to 0 instead.\n",
      "returned t_delta = -0.8848513176876693 < 0, set to 0 instead.\n",
      "returned t_delta = -0.2121146398633158 < 0, set to 0 instead.\n",
      "returned t_delta = -0.11623853970977649 < 0, set to 0 instead.\n",
      "returned t_delta = -0.06777128946978905 < 0, set to 0 instead.\n",
      "returned t_delta = -0.5257241751993362 < 0, set to 0 instead.\n",
      "returned t_delta = -0.8467736239011856 < 0, set to 0 instead.\n",
      "returned t_delta = -0.21561468627777458 < 0, set to 0 instead.\n",
      "returned t_delta = -0.18281825797083684 < 0, set to 0 instead.\n",
      "returned t_delta = -0.6528011000494445 < 0, set to 0 instead.\n",
      "returned t_delta = -0.3443619667944944 < 0, set to 0 instead.\n",
      "returned t_delta = -1.0586194971592846 < 0, set to 0 instead.\n",
      "returned t_delta = -0.10324123373393945 < 0, set to 0 instead.\n",
      "returned t_delta = -1.0305973717495363 < 0, set to 0 instead.\n",
      "returned t_delta = -0.49570267536826407 < 0, set to 0 instead.\n",
      "returned t_delta = -0.4049192079196757 < 0, set to 0 instead.\n",
      "returned t_delta = -0.444912050285609 < 0, set to 0 instead.\n",
      "returned t_delta = -0.5501111469090461 < 0, set to 0 instead.\n",
      "returned t_delta = -0.07947143302030213 < 0, set to 0 instead.\n",
      "returned t_delta = -0.2720637595493969 < 0, set to 0 instead.\n",
      "returned t_delta = -0.21485366519085858 < 0, set to 0 instead.\n",
      "returned t_delta = -0.2789452338867733 < 0, set to 0 instead.\n",
      "returned t_delta = -0.1433784654241208 < 0, set to 0 instead.\n",
      "returned t_delta = -0.3685611761939498 < 0, set to 0 instead.\n",
      "returned t_delta = -0.2233857596310429 < 0, set to 0 instead.\n",
      "returned t_delta = -0.8944061594866639 < 0, set to 0 instead.\n",
      "returned t_delta = -0.13204778418014484 < 0, set to 0 instead.\n",
      "returned t_delta = -0.2570954734649149 < 0, set to 0 instead.\n",
      "returned t_delta = -0.03735880274754777 < 0, set to 0 instead.\n",
      "returned t_delta = -0.26419261639928493 < 0, set to 0 instead.\n",
      "returned t_delta = -0.5060163427143181 < 0, set to 0 instead.\n"
     ]
    }
   ],
   "source": [
    "m2.run_till(100);"
   ]
  },
  {
   "cell_type": "code",
   "execution_count": 122,
   "metadata": {
    "collapsed": false
   },
   "outputs": [],
   "source": [
    "df = m2.state.get_dataframe()"
   ]
  },
  {
   "cell_type": "code",
   "execution_count": 125,
   "metadata": {
    "collapsed": true
   },
   "outputs": [],
   "source": [
    "df['t'] = np.cumsum(df['time_delta'])"
   ]
  },
  {
   "cell_type": "code",
   "execution_count": 126,
   "metadata": {
    "collapsed": false
   },
   "outputs": [
    {
     "data": {
      "text/html": [
       "<div>\n",
       "<table border=\"1\" class=\"dataframe\">\n",
       "  <thead>\n",
       "    <tr style=\"text-align: right;\">\n",
       "      <th></th>\n",
       "      <th>event_id</th>\n",
       "      <th>sink_id</th>\n",
       "      <th>src_id</th>\n",
       "      <th>time_delta</th>\n",
       "      <th>t</th>\n",
       "    </tr>\n",
       "  </thead>\n",
       "  <tbody>\n",
       "    <tr>\n",
       "      <th>0</th>\n",
       "      <td>100</td>\n",
       "      <td>1000</td>\n",
       "      <td>3</td>\n",
       "      <td>0.000000</td>\n",
       "      <td>0.000000</td>\n",
       "    </tr>\n",
       "    <tr>\n",
       "      <th>1</th>\n",
       "      <td>101</td>\n",
       "      <td>1000</td>\n",
       "      <td>1</td>\n",
       "      <td>0.469268</td>\n",
       "      <td>0.469268</td>\n",
       "    </tr>\n",
       "    <tr>\n",
       "      <th>2</th>\n",
       "      <td>102</td>\n",
       "      <td>1000</td>\n",
       "      <td>3</td>\n",
       "      <td>0.443674</td>\n",
       "      <td>0.912943</td>\n",
       "    </tr>\n",
       "    <tr>\n",
       "      <th>3</th>\n",
       "      <td>103</td>\n",
       "      <td>1000</td>\n",
       "      <td>1</td>\n",
       "      <td>0.873071</td>\n",
       "      <td>1.786014</td>\n",
       "    </tr>\n",
       "    <tr>\n",
       "      <th>4</th>\n",
       "      <td>104</td>\n",
       "      <td>1000</td>\n",
       "      <td>3</td>\n",
       "      <td>0.000000</td>\n",
       "      <td>1.786014</td>\n",
       "    </tr>\n",
       "  </tbody>\n",
       "</table>\n",
       "</div>"
      ],
      "text/plain": [
       "   event_id  sink_id  src_id  time_delta         t\n",
       "0       100     1000       3    0.000000  0.000000\n",
       "1       101     1000       1    0.469268  0.469268\n",
       "2       102     1000       3    0.443674  0.912943\n",
       "3       103     1000       1    0.873071  1.786014\n",
       "4       104     1000       3    0.000000  1.786014"
      ]
     },
     "execution_count": 126,
     "metadata": {},
     "output_type": "execute_result"
    }
   ],
   "source": [
    "df.head()"
   ]
  },
  {
   "cell_type": "code",
   "execution_count": null,
   "metadata": {
    "collapsed": false
   },
   "outputs": [],
   "source": []
  },
  {
   "cell_type": "code",
   "execution_count": null,
   "metadata": {
    "collapsed": true
   },
   "outputs": [],
   "source": []
  },
  {
   "cell_type": "code",
   "execution_count": null,
   "metadata": {
    "collapsed": true
   },
   "outputs": [],
   "source": []
  },
  {
   "cell_type": "code",
   "execution_count": null,
   "metadata": {
    "collapsed": true
   },
   "outputs": [],
   "source": []
  },
  {
   "cell_type": "code",
   "execution_count": null,
   "metadata": {
    "collapsed": true
   },
   "outputs": [],
   "source": []
  },
  {
   "cell_type": "code",
   "execution_count": null,
   "metadata": {
    "collapsed": true
   },
   "outputs": [],
   "source": []
  },
  {
   "cell_type": "code",
   "execution_count": null,
   "metadata": {
    "collapsed": true
   },
   "outputs": [],
   "source": []
  },
  {
   "cell_type": "code",
   "execution_count": null,
   "metadata": {
    "collapsed": true
   },
   "outputs": [],
   "source": []
  },
  {
   "cell_type": "code",
   "execution_count": null,
   "metadata": {
    "collapsed": true
   },
   "outputs": [],
   "source": []
  },
  {
   "cell_type": "code",
   "execution_count": null,
   "metadata": {
    "collapsed": true
   },
   "outputs": [],
   "source": []
  },
  {
   "cell_type": "code",
   "execution_count": null,
   "metadata": {
    "collapsed": true
   },
   "outputs": [],
   "source": []
  },
  {
   "cell_type": "code",
   "execution_count": null,
   "metadata": {
    "collapsed": true
   },
   "outputs": [],
   "source": []
  },
  {
   "cell_type": "code",
   "execution_count": null,
   "metadata": {
    "collapsed": true
   },
   "outputs": [],
   "source": []
  },
  {
   "cell_type": "code",
   "execution_count": null,
   "metadata": {
    "collapsed": true
   },
   "outputs": [],
   "source": []
  },
  {
   "cell_type": "code",
   "execution_count": null,
   "metadata": {
    "collapsed": true
   },
   "outputs": [],
   "source": []
  },
  {
   "cell_type": "code",
   "execution_count": null,
   "metadata": {
    "collapsed": true
   },
   "outputs": [],
   "source": []
  },
  {
   "cell_type": "code",
   "execution_count": null,
   "metadata": {
    "collapsed": true
   },
   "outputs": [],
   "source": []
  },
  {
   "cell_type": "code",
   "execution_count": null,
   "metadata": {
    "collapsed": true
   },
   "outputs": [],
   "source": []
  },
  {
   "cell_type": "code",
   "execution_count": null,
   "metadata": {
    "collapsed": true
   },
   "outputs": [],
   "source": []
  },
  {
   "cell_type": "code",
   "execution_count": null,
   "metadata": {
    "collapsed": true
   },
   "outputs": [],
   "source": []
  },
  {
   "cell_type": "code",
   "execution_count": null,
   "metadata": {
    "collapsed": true
   },
   "outputs": [],
   "source": []
  },
  {
   "cell_type": "code",
   "execution_count": null,
   "metadata": {
    "collapsed": true
   },
   "outputs": [],
   "source": []
  },
  {
   "cell_type": "code",
   "execution_count": null,
   "metadata": {
    "collapsed": true
   },
   "outputs": [],
   "source": []
  },
  {
   "cell_type": "code",
   "execution_count": null,
   "metadata": {
    "collapsed": true
   },
   "outputs": [],
   "source": []
  },
  {
   "cell_type": "code",
   "execution_count": null,
   "metadata": {
    "collapsed": true
   },
   "outputs": [],
   "source": []
  },
  {
   "cell_type": "code",
   "execution_count": null,
   "metadata": {
    "collapsed": true
   },
   "outputs": [],
   "source": []
  },
  {
   "cell_type": "code",
   "execution_count": null,
   "metadata": {
    "collapsed": true
   },
   "outputs": [],
   "source": []
  },
  {
   "cell_type": "code",
   "execution_count": null,
   "metadata": {
    "collapsed": true
   },
   "outputs": [],
   "source": []
  },
  {
   "cell_type": "code",
   "execution_count": null,
   "metadata": {
    "collapsed": true
   },
   "outputs": [],
   "source": []
  },
  {
   "cell_type": "code",
   "execution_count": null,
   "metadata": {
    "collapsed": true
   },
   "outputs": [],
   "source": []
  },
  {
   "cell_type": "code",
   "execution_count": null,
   "metadata": {
    "collapsed": true
   },
   "outputs": [],
   "source": []
  },
  {
   "cell_type": "code",
   "execution_count": null,
   "metadata": {
    "collapsed": true
   },
   "outputs": [],
   "source": []
  }
 ],
 "metadata": {
  "kernelspec": {
   "display_name": "Python 3",
   "language": "python",
   "name": "python3"
  },
  "language_info": {
   "codemirror_mode": {
    "name": "ipython",
    "version": 3
   },
   "file_extension": ".py",
   "mimetype": "text/x-python",
   "name": "python",
   "nbconvert_exporter": "python",
   "pygments_lexer": "ipython3",
   "version": "3.5.1"
  }
 },
 "nbformat": 4,
 "nbformat_minor": 0
}
